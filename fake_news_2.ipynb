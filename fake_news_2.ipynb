{
 "cells": [
  {
   "cell_type": "code",
   "execution_count": 72,
   "id": "60fefaa2",
   "metadata": {},
   "outputs": [
    {
     "data": {
      "text/html": [
       "<div>\n",
       "<style scoped>\n",
       "    .dataframe tbody tr th:only-of-type {\n",
       "        vertical-align: middle;\n",
       "    }\n",
       "\n",
       "    .dataframe tbody tr th {\n",
       "        vertical-align: top;\n",
       "    }\n",
       "\n",
       "    .dataframe thead th {\n",
       "        text-align: right;\n",
       "    }\n",
       "</style>\n",
       "<table border=\"1\" class=\"dataframe\">\n",
       "  <thead>\n",
       "    <tr style=\"text-align: right;\">\n",
       "      <th></th>\n",
       "      <th>author</th>\n",
       "      <th>published</th>\n",
       "      <th>title</th>\n",
       "      <th>text</th>\n",
       "      <th>language</th>\n",
       "      <th>site_url</th>\n",
       "      <th>main_img_url</th>\n",
       "      <th>type</th>\n",
       "      <th>label</th>\n",
       "      <th>title_without_stopwords</th>\n",
       "      <th>text_without_stopwords</th>\n",
       "      <th>hasImage</th>\n",
       "    </tr>\n",
       "  </thead>\n",
       "  <tbody>\n",
       "    <tr>\n",
       "      <th>0</th>\n",
       "      <td>Barracuda Brigade</td>\n",
       "      <td>2016-10-26T21:41:00.000+03:00</td>\n",
       "      <td>muslims busted they stole millions in govt ben...</td>\n",
       "      <td>print they should pay all the back all the mon...</td>\n",
       "      <td>english</td>\n",
       "      <td>100percentfedup.com</td>\n",
       "      <td>http://bb4sp.com/wp-content/uploads/2016/10/Fu...</td>\n",
       "      <td>bias</td>\n",
       "      <td>Real</td>\n",
       "      <td>muslims busted stole millions govt benefits</td>\n",
       "      <td>print pay back money plus interest entire fami...</td>\n",
       "      <td>1.0</td>\n",
       "    </tr>\n",
       "    <tr>\n",
       "      <th>1</th>\n",
       "      <td>reasoning with facts</td>\n",
       "      <td>2016-10-29T08:47:11.259+03:00</td>\n",
       "      <td>re why did attorney general loretta lynch plea...</td>\n",
       "      <td>why did attorney general loretta lynch plead t...</td>\n",
       "      <td>english</td>\n",
       "      <td>100percentfedup.com</td>\n",
       "      <td>http://bb4sp.com/wp-content/uploads/2016/10/Fu...</td>\n",
       "      <td>bias</td>\n",
       "      <td>Real</td>\n",
       "      <td>attorney general loretta lynch plead fifth</td>\n",
       "      <td>attorney general loretta lynch plead fifth bar...</td>\n",
       "      <td>1.0</td>\n",
       "    </tr>\n",
       "    <tr>\n",
       "      <th>2</th>\n",
       "      <td>Barracuda Brigade</td>\n",
       "      <td>2016-10-31T01:41:49.479+02:00</td>\n",
       "      <td>breaking weiner cooperating with fbi on hillar...</td>\n",
       "      <td>red state  \\r\\nfox news sunday reported this m...</td>\n",
       "      <td>english</td>\n",
       "      <td>100percentfedup.com</td>\n",
       "      <td>http://bb4sp.com/wp-content/uploads/2016/10/Fu...</td>\n",
       "      <td>bias</td>\n",
       "      <td>Real</td>\n",
       "      <td>breaking weiner cooperating fbi hillary email ...</td>\n",
       "      <td>red state fox news sunday reported morning ant...</td>\n",
       "      <td>1.0</td>\n",
       "    </tr>\n",
       "    <tr>\n",
       "      <th>3</th>\n",
       "      <td>Fed Up</td>\n",
       "      <td>2016-11-01T05:22:00.000+02:00</td>\n",
       "      <td>pin drop speech by father of daughter kidnappe...</td>\n",
       "      <td>email kayla mueller was a prisoner and torture...</td>\n",
       "      <td>english</td>\n",
       "      <td>100percentfedup.com</td>\n",
       "      <td>http://100percentfedup.com/wp-content/uploads/...</td>\n",
       "      <td>bias</td>\n",
       "      <td>Real</td>\n",
       "      <td>pin drop speech father daughter kidnapped kill...</td>\n",
       "      <td>email kayla mueller prisoner tortured isis cha...</td>\n",
       "      <td>1.0</td>\n",
       "    </tr>\n",
       "    <tr>\n",
       "      <th>4</th>\n",
       "      <td>Fed Up</td>\n",
       "      <td>2016-11-01T21:56:00.000+02:00</td>\n",
       "      <td>fantastic trumps  point plan to reform healthc...</td>\n",
       "      <td>email healthcare reform to make america great ...</td>\n",
       "      <td>english</td>\n",
       "      <td>100percentfedup.com</td>\n",
       "      <td>http://100percentfedup.com/wp-content/uploads/...</td>\n",
       "      <td>bias</td>\n",
       "      <td>Real</td>\n",
       "      <td>fantastic trumps point plan reform healthcare ...</td>\n",
       "      <td>email healthcare reform make america great sin...</td>\n",
       "      <td>1.0</td>\n",
       "    </tr>\n",
       "  </tbody>\n",
       "</table>\n",
       "</div>"
      ],
      "text/plain": [
       "                 author                      published  \\\n",
       "0     Barracuda Brigade  2016-10-26T21:41:00.000+03:00   \n",
       "1  reasoning with facts  2016-10-29T08:47:11.259+03:00   \n",
       "2     Barracuda Brigade  2016-10-31T01:41:49.479+02:00   \n",
       "3                Fed Up  2016-11-01T05:22:00.000+02:00   \n",
       "4                Fed Up  2016-11-01T21:56:00.000+02:00   \n",
       "\n",
       "                                               title  \\\n",
       "0  muslims busted they stole millions in govt ben...   \n",
       "1  re why did attorney general loretta lynch plea...   \n",
       "2  breaking weiner cooperating with fbi on hillar...   \n",
       "3  pin drop speech by father of daughter kidnappe...   \n",
       "4  fantastic trumps  point plan to reform healthc...   \n",
       "\n",
       "                                                text language  \\\n",
       "0  print they should pay all the back all the mon...  english   \n",
       "1  why did attorney general loretta lynch plead t...  english   \n",
       "2  red state  \\r\\nfox news sunday reported this m...  english   \n",
       "3  email kayla mueller was a prisoner and torture...  english   \n",
       "4  email healthcare reform to make america great ...  english   \n",
       "\n",
       "              site_url                                       main_img_url  \\\n",
       "0  100percentfedup.com  http://bb4sp.com/wp-content/uploads/2016/10/Fu...   \n",
       "1  100percentfedup.com  http://bb4sp.com/wp-content/uploads/2016/10/Fu...   \n",
       "2  100percentfedup.com  http://bb4sp.com/wp-content/uploads/2016/10/Fu...   \n",
       "3  100percentfedup.com  http://100percentfedup.com/wp-content/uploads/...   \n",
       "4  100percentfedup.com  http://100percentfedup.com/wp-content/uploads/...   \n",
       "\n",
       "   type label                            title_without_stopwords  \\\n",
       "0  bias  Real        muslims busted stole millions govt benefits   \n",
       "1  bias  Real         attorney general loretta lynch plead fifth   \n",
       "2  bias  Real  breaking weiner cooperating fbi hillary email ...   \n",
       "3  bias  Real  pin drop speech father daughter kidnapped kill...   \n",
       "4  bias  Real  fantastic trumps point plan reform healthcare ...   \n",
       "\n",
       "                              text_without_stopwords  hasImage  \n",
       "0  print pay back money plus interest entire fami...       1.0  \n",
       "1  attorney general loretta lynch plead fifth bar...       1.0  \n",
       "2  red state fox news sunday reported morning ant...       1.0  \n",
       "3  email kayla mueller prisoner tortured isis cha...       1.0  \n",
       "4  email healthcare reform make america great sin...       1.0  "
      ]
     },
     "execution_count": 72,
     "metadata": {},
     "output_type": "execute_result"
    }
   ],
   "source": [
    "import pandas as pd\n",
    "\n",
    "news = pd.read_csv('news_articles.csv')\n",
    "news = news[news['language'] == 'english']\n",
    "\n",
    "news.head()"
   ]
  },
  {
   "cell_type": "markdown",
   "id": "0c142f8e",
   "metadata": {},
   "source": [
    "Remove unimportant columns and add a length column. Typically articles below a certain length threshold are very\n",
    "unlikely to actually be articles. Let's remove observations with text below a certain length."
   ]
  },
  {
   "cell_type": "code",
   "execution_count": 73,
   "id": "ca976e8c",
   "metadata": {},
   "outputs": [
    {
     "data": {
      "text/html": [
       "<div>\n",
       "<style scoped>\n",
       "    .dataframe tbody tr th:only-of-type {\n",
       "        vertical-align: middle;\n",
       "    }\n",
       "\n",
       "    .dataframe tbody tr th {\n",
       "        vertical-align: top;\n",
       "    }\n",
       "\n",
       "    .dataframe thead th {\n",
       "        text-align: right;\n",
       "    }\n",
       "</style>\n",
       "<table border=\"1\" class=\"dataframe\">\n",
       "  <thead>\n",
       "    <tr style=\"text-align: right;\">\n",
       "      <th></th>\n",
       "      <th>published</th>\n",
       "      <th>title</th>\n",
       "      <th>text</th>\n",
       "      <th>type</th>\n",
       "      <th>label</th>\n",
       "      <th>length</th>\n",
       "    </tr>\n",
       "  </thead>\n",
       "  <tbody>\n",
       "    <tr>\n",
       "      <th>1</th>\n",
       "      <td>2016-10-29T08:47:11.259+03:00</td>\n",
       "      <td>re why did attorney general loretta lynch plea...</td>\n",
       "      <td>why did attorney general loretta lynch plead t...</td>\n",
       "      <td>bias</td>\n",
       "      <td>Real</td>\n",
       "      <td>1724</td>\n",
       "    </tr>\n",
       "    <tr>\n",
       "      <th>2</th>\n",
       "      <td>2016-10-31T01:41:49.479+02:00</td>\n",
       "      <td>breaking weiner cooperating with fbi on hillar...</td>\n",
       "      <td>red state  \\r\\nfox news sunday reported this m...</td>\n",
       "      <td>bias</td>\n",
       "      <td>Real</td>\n",
       "      <td>1326</td>\n",
       "    </tr>\n",
       "    <tr>\n",
       "      <th>4</th>\n",
       "      <td>2016-11-01T21:56:00.000+02:00</td>\n",
       "      <td>fantastic trumps  point plan to reform healthc...</td>\n",
       "      <td>email healthcare reform to make america great ...</td>\n",
       "      <td>bias</td>\n",
       "      <td>Real</td>\n",
       "      <td>2052</td>\n",
       "    </tr>\n",
       "    <tr>\n",
       "      <th>5</th>\n",
       "      <td>2016-11-02T16:31:28.550+02:00</td>\n",
       "      <td>hillary goes absolutely berserk on protester a...</td>\n",
       "      <td>print hillary goes absolutely berserk she expl...</td>\n",
       "      <td>bias</td>\n",
       "      <td>Real</td>\n",
       "      <td>1165</td>\n",
       "    </tr>\n",
       "    <tr>\n",
       "      <th>6</th>\n",
       "      <td>2016-11-04T19:40:00.000+02:00</td>\n",
       "      <td>breaking nypd ready to make arrests in weiner ...</td>\n",
       "      <td>breaking nypd ready to make arrests in weiner ...</td>\n",
       "      <td>bias</td>\n",
       "      <td>Real</td>\n",
       "      <td>5653</td>\n",
       "    </tr>\n",
       "  </tbody>\n",
       "</table>\n",
       "</div>"
      ],
      "text/plain": [
       "                       published  \\\n",
       "1  2016-10-29T08:47:11.259+03:00   \n",
       "2  2016-10-31T01:41:49.479+02:00   \n",
       "4  2016-11-01T21:56:00.000+02:00   \n",
       "5  2016-11-02T16:31:28.550+02:00   \n",
       "6  2016-11-04T19:40:00.000+02:00   \n",
       "\n",
       "                                               title  \\\n",
       "1  re why did attorney general loretta lynch plea...   \n",
       "2  breaking weiner cooperating with fbi on hillar...   \n",
       "4  fantastic trumps  point plan to reform healthc...   \n",
       "5  hillary goes absolutely berserk on protester a...   \n",
       "6  breaking nypd ready to make arrests in weiner ...   \n",
       "\n",
       "                                                text  type label  length  \n",
       "1  why did attorney general loretta lynch plead t...  bias  Real    1724  \n",
       "2  red state  \\r\\nfox news sunday reported this m...  bias  Real    1326  \n",
       "4  email healthcare reform to make america great ...  bias  Real    2052  \n",
       "5  print hillary goes absolutely berserk she expl...  bias  Real    1165  \n",
       "6  breaking nypd ready to make arrests in weiner ...  bias  Real    5653  "
      ]
     },
     "execution_count": 73,
     "metadata": {},
     "output_type": "execute_result"
    }
   ],
   "source": [
    "# remove all columns except publication data, title, text, type, and label\n",
    "news = news[['published', 'title', 'text', 'type', 'label']].dropna().reset_index(drop=True)\n",
    "\n",
    "# add a length feature\n",
    "news['length']  = news['text'].str.len()\n",
    "\n",
    "# remove observation with text below a certain length\n",
    "news = news.loc[news['length'] >= 500]\n",
    "\n",
    "og_news = news.copy()\n",
    "\n",
    "news.head()"
   ]
  },
  {
   "cell_type": "markdown",
   "id": "fe200a31",
   "metadata": {},
   "source": [
    "Create histogram to examine number of articles with 'Real' vs 'Fake' labels."
   ]
  },
  {
   "cell_type": "code",
   "execution_count": 74,
   "id": "b69c13ba",
   "metadata": {},
   "outputs": [
    {
     "data": {
      "application/vnd.plotly.v1+json": {
       "config": {
        "plotlyServerURL": "https://plot.ly"
       },
       "data": [
        {
         "alignmentgroup": "True",
         "bingroup": "x",
         "hovertemplate": "label=%{x}<br>count=%{y}<extra></extra>",
         "legendgroup": "",
         "marker": {
          "color": "#636efa",
          "pattern": {
           "shape": ""
          }
         },
         "name": "",
         "offsetgroup": "",
         "orientation": "v",
         "showlegend": false,
         "type": "histogram",
         "x": [
          "Real",
          "Real",
          "Real",
          "Real",
          "Real",
          "Real",
          "Real",
          "Real",
          "Real",
          "Real",
          "Real",
          "Real",
          "Real",
          "Real",
          "Real",
          "Real",
          "Real",
          "Real",
          "Real",
          "Real",
          "Real",
          "Fake",
          "Fake",
          "Fake",
          "Fake",
          "Fake",
          "Fake",
          "Fake",
          "Fake",
          "Fake",
          "Fake",
          "Fake",
          "Fake",
          "Fake",
          "Fake",
          "Fake",
          "Fake",
          "Fake",
          "Fake",
          "Fake",
          "Fake",
          "Fake",
          "Fake",
          "Fake",
          "Fake",
          "Fake",
          "Fake",
          "Fake",
          "Fake",
          "Fake",
          "Fake",
          "Fake",
          "Fake",
          "Fake",
          "Fake",
          "Fake",
          "Fake",
          "Fake",
          "Fake",
          "Fake",
          "Fake",
          "Fake",
          "Fake",
          "Fake",
          "Fake",
          "Fake",
          "Fake",
          "Fake",
          "Fake",
          "Fake",
          "Fake",
          "Fake",
          "Fake",
          "Fake",
          "Fake",
          "Fake",
          "Fake",
          "Fake",
          "Fake",
          "Fake",
          "Fake",
          "Fake",
          "Fake",
          "Fake",
          "Fake",
          "Fake",
          "Fake",
          "Fake",
          "Fake",
          "Fake",
          "Fake",
          "Fake",
          "Fake",
          "Fake",
          "Fake",
          "Fake",
          "Fake",
          "Fake",
          "Fake",
          "Fake",
          "Fake",
          "Fake",
          "Fake",
          "Fake",
          "Fake",
          "Fake",
          "Fake",
          "Fake",
          "Fake",
          "Fake",
          "Fake",
          "Fake",
          "Fake",
          "Fake",
          "Fake",
          "Fake",
          "Fake",
          "Fake",
          "Fake",
          "Fake",
          "Fake",
          "Fake",
          "Fake",
          "Fake",
          "Fake",
          "Fake",
          "Fake",
          "Fake",
          "Fake",
          "Fake",
          "Fake",
          "Fake",
          "Fake",
          "Fake",
          "Fake",
          "Fake",
          "Fake",
          "Fake",
          "Fake",
          "Fake",
          "Fake",
          "Fake",
          "Fake",
          "Fake",
          "Fake",
          "Real",
          "Real",
          "Real",
          "Real",
          "Real",
          "Real",
          "Real",
          "Real",
          "Real",
          "Real",
          "Real",
          "Real",
          "Real",
          "Real",
          "Real",
          "Real",
          "Real",
          "Real",
          "Real",
          "Real",
          "Fake",
          "Fake",
          "Fake",
          "Fake",
          "Fake",
          "Fake",
          "Fake",
          "Fake",
          "Fake",
          "Fake",
          "Fake",
          "Fake",
          "Fake",
          "Fake",
          "Fake",
          "Fake",
          "Fake",
          "Fake",
          "Fake",
          "Fake",
          "Fake",
          "Fake",
          "Fake",
          "Fake",
          "Fake",
          "Fake",
          "Fake",
          "Fake",
          "Fake",
          "Fake",
          "Fake",
          "Fake",
          "Fake",
          "Fake",
          "Fake",
          "Fake",
          "Fake",
          "Fake",
          "Fake",
          "Fake",
          "Fake",
          "Fake",
          "Fake",
          "Fake",
          "Fake",
          "Fake",
          "Fake",
          "Fake",
          "Fake",
          "Fake",
          "Fake",
          "Fake",
          "Fake",
          "Fake",
          "Fake",
          "Fake",
          "Fake",
          "Fake",
          "Fake",
          "Fake",
          "Fake",
          "Fake",
          "Fake",
          "Fake",
          "Fake",
          "Fake",
          "Fake",
          "Fake",
          "Fake",
          "Fake",
          "Fake",
          "Fake",
          "Fake",
          "Fake",
          "Fake",
          "Fake",
          "Fake",
          "Fake",
          "Fake",
          "Fake",
          "Fake",
          "Fake",
          "Fake",
          "Fake",
          "Fake",
          "Fake",
          "Fake",
          "Fake",
          "Fake",
          "Fake",
          "Fake",
          "Fake",
          "Fake",
          "Fake",
          "Fake",
          "Fake",
          "Fake",
          "Fake",
          "Fake",
          "Fake",
          "Fake",
          "Fake",
          "Fake",
          "Fake",
          "Fake",
          "Fake",
          "Fake",
          "Fake",
          "Fake",
          "Fake",
          "Fake",
          "Fake",
          "Fake",
          "Fake",
          "Fake",
          "Fake",
          "Fake",
          "Fake",
          "Fake",
          "Fake",
          "Fake",
          "Fake",
          "Fake",
          "Fake",
          "Fake",
          "Fake",
          "Fake",
          "Fake",
          "Fake",
          "Fake",
          "Fake",
          "Fake",
          "Fake",
          "Fake",
          "Fake",
          "Fake",
          "Fake",
          "Fake",
          "Fake",
          "Fake",
          "Fake",
          "Fake",
          "Fake",
          "Fake",
          "Fake",
          "Fake",
          "Fake",
          "Fake",
          "Fake",
          "Fake",
          "Fake",
          "Fake",
          "Fake",
          "Fake",
          "Fake",
          "Fake",
          "Fake",
          "Fake",
          "Fake",
          "Fake",
          "Fake",
          "Fake",
          "Fake",
          "Fake",
          "Fake",
          "Fake",
          "Fake",
          "Fake",
          "Fake",
          "Fake",
          "Fake",
          "Fake",
          "Fake",
          "Fake",
          "Fake",
          "Fake",
          "Fake",
          "Fake",
          "Fake",
          "Fake",
          "Fake",
          "Fake",
          "Fake",
          "Fake",
          "Fake",
          "Fake",
          "Fake",
          "Fake",
          "Fake",
          "Fake",
          "Fake",
          "Fake",
          "Fake",
          "Fake",
          "Fake",
          "Fake",
          "Fake",
          "Fake",
          "Fake",
          "Fake",
          "Fake",
          "Fake",
          "Fake",
          "Fake",
          "Fake",
          "Fake",
          "Fake",
          "Fake",
          "Fake",
          "Fake",
          "Fake",
          "Fake",
          "Fake",
          "Fake",
          "Fake",
          "Fake",
          "Fake",
          "Fake",
          "Fake",
          "Fake",
          "Fake",
          "Fake",
          "Fake",
          "Fake",
          "Fake",
          "Fake",
          "Fake",
          "Fake",
          "Fake",
          "Fake",
          "Fake",
          "Fake",
          "Fake",
          "Fake",
          "Fake",
          "Fake",
          "Fake",
          "Fake",
          "Fake",
          "Fake",
          "Fake",
          "Fake",
          "Fake",
          "Fake",
          "Fake",
          "Fake",
          "Fake",
          "Fake",
          "Fake",
          "Fake",
          "Fake",
          "Fake",
          "Fake",
          "Fake",
          "Fake",
          "Fake",
          "Fake",
          "Fake",
          "Fake",
          "Fake",
          "Fake",
          "Fake",
          "Fake",
          "Fake",
          "Fake",
          "Fake",
          "Fake",
          "Fake",
          "Fake",
          "Fake",
          "Fake",
          "Fake",
          "Fake",
          "Fake",
          "Fake",
          "Fake",
          "Fake",
          "Fake",
          "Fake",
          "Fake",
          "Fake",
          "Fake",
          "Fake",
          "Fake",
          "Fake",
          "Fake",
          "Fake",
          "Fake",
          "Fake",
          "Fake",
          "Fake",
          "Fake",
          "Fake",
          "Fake",
          "Fake",
          "Fake",
          "Fake",
          "Fake",
          "Fake",
          "Fake",
          "Fake",
          "Fake",
          "Fake",
          "Fake",
          "Fake",
          "Fake",
          "Fake",
          "Fake",
          "Fake",
          "Fake",
          "Fake",
          "Fake",
          "Fake",
          "Fake",
          "Fake",
          "Fake",
          "Fake",
          "Fake",
          "Fake",
          "Fake",
          "Fake",
          "Fake",
          "Fake",
          "Fake",
          "Fake",
          "Fake",
          "Fake",
          "Fake",
          "Fake",
          "Fake",
          "Fake",
          "Fake",
          "Fake",
          "Fake",
          "Fake",
          "Fake",
          "Fake",
          "Fake",
          "Fake",
          "Fake",
          "Fake",
          "Fake",
          "Fake",
          "Fake",
          "Fake",
          "Fake",
          "Fake",
          "Fake",
          "Fake",
          "Fake",
          "Fake",
          "Fake",
          "Fake",
          "Fake",
          "Fake",
          "Fake",
          "Fake",
          "Fake",
          "Fake",
          "Fake",
          "Fake",
          "Fake",
          "Fake",
          "Fake",
          "Fake",
          "Fake",
          "Fake",
          "Fake",
          "Fake",
          "Fake",
          "Fake",
          "Fake",
          "Fake",
          "Fake",
          "Real",
          "Real",
          "Real",
          "Real",
          "Real",
          "Real",
          "Real",
          "Real",
          "Real",
          "Real",
          "Real",
          "Real",
          "Real",
          "Real",
          "Real",
          "Real",
          "Real",
          "Real",
          "Real",
          "Real",
          "Real",
          "Real",
          "Real",
          "Real",
          "Real",
          "Real",
          "Real",
          "Real",
          "Real",
          "Real",
          "Fake",
          "Fake",
          "Fake",
          "Fake",
          "Fake",
          "Fake",
          "Fake",
          "Fake",
          "Real",
          "Real",
          "Real",
          "Real",
          "Real",
          "Real",
          "Real",
          "Real",
          "Real",
          "Real",
          "Real",
          "Real",
          "Real",
          "Real",
          "Real",
          "Real",
          "Real",
          "Real",
          "Real",
          "Real",
          "Real",
          "Real",
          "Real",
          "Real",
          "Real",
          "Real",
          "Real",
          "Real",
          "Real",
          "Real",
          "Fake",
          "Fake",
          "Fake",
          "Fake",
          "Fake",
          "Fake",
          "Fake",
          "Fake",
          "Fake",
          "Fake",
          "Fake",
          "Fake",
          "Fake",
          "Fake",
          "Fake",
          "Fake",
          "Fake",
          "Fake",
          "Fake",
          "Fake",
          "Fake",
          "Fake",
          "Fake",
          "Fake",
          "Fake",
          "Fake",
          "Fake",
          "Fake",
          "Fake",
          "Fake",
          "Fake",
          "Fake",
          "Fake",
          "Fake",
          "Fake",
          "Fake",
          "Fake",
          "Fake",
          "Fake",
          "Fake",
          "Fake",
          "Fake",
          "Fake",
          "Fake",
          "Fake",
          "Fake",
          "Fake",
          "Fake",
          "Fake",
          "Fake",
          "Fake",
          "Fake",
          "Fake",
          "Fake",
          "Fake",
          "Fake",
          "Fake",
          "Fake",
          "Fake",
          "Fake",
          "Fake",
          "Fake",
          "Fake",
          "Fake",
          "Fake",
          "Fake",
          "Fake",
          "Fake",
          "Fake",
          "Fake",
          "Fake",
          "Fake",
          "Fake",
          "Fake",
          "Fake",
          "Fake",
          "Fake",
          "Fake",
          "Fake",
          "Fake",
          "Fake",
          "Fake",
          "Fake",
          "Fake",
          "Fake",
          "Fake",
          "Fake",
          "Fake",
          "Fake",
          "Fake",
          "Fake",
          "Real",
          "Real",
          "Real",
          "Real",
          "Real",
          "Real",
          "Real",
          "Real",
          "Real",
          "Real",
          "Real",
          "Real",
          "Real",
          "Real",
          "Real",
          "Real",
          "Real",
          "Real",
          "Real",
          "Real",
          "Real",
          "Real",
          "Real",
          "Real",
          "Real",
          "Real",
          "Real",
          "Real",
          "Real",
          "Real",
          "Real",
          "Real",
          "Real",
          "Real",
          "Real",
          "Real",
          "Real",
          "Real",
          "Real",
          "Real",
          "Real",
          "Real",
          "Real",
          "Real",
          "Real",
          "Real",
          "Real",
          "Real",
          "Real",
          "Real",
          "Real",
          "Real",
          "Real",
          "Real",
          "Real",
          "Real",
          "Real",
          "Real",
          "Real",
          "Real",
          "Real",
          "Real",
          "Real",
          "Real",
          "Real",
          "Real",
          "Real",
          "Real",
          "Real",
          "Real",
          "Real",
          "Real",
          "Real",
          "Real",
          "Real",
          "Real",
          "Real",
          "Real",
          "Real",
          "Real",
          "Real",
          "Real",
          "Real",
          "Real",
          "Real",
          "Real",
          "Real",
          "Real",
          "Real",
          "Real",
          "Real",
          "Real",
          "Real",
          "Real",
          "Real",
          "Real",
          "Real",
          "Real",
          "Real",
          "Fake",
          "Fake",
          "Fake",
          "Fake",
          "Fake",
          "Fake",
          "Fake",
          "Fake",
          "Fake",
          "Fake",
          "Fake",
          "Fake",
          "Fake",
          "Fake",
          "Fake",
          "Fake",
          "Fake",
          "Fake",
          "Fake",
          "Fake",
          "Fake",
          "Fake",
          "Fake",
          "Fake",
          "Fake",
          "Fake",
          "Fake",
          "Fake",
          "Fake",
          "Fake",
          "Fake",
          "Fake",
          "Fake",
          "Fake",
          "Fake",
          "Fake",
          "Fake",
          "Fake",
          "Fake",
          "Fake",
          "Fake",
          "Fake",
          "Fake",
          "Fake",
          "Fake",
          "Fake",
          "Fake",
          "Fake",
          "Fake",
          "Fake",
          "Fake",
          "Fake",
          "Fake",
          "Fake",
          "Fake",
          "Fake",
          "Fake",
          "Fake",
          "Fake",
          "Fake",
          "Fake",
          "Fake",
          "Fake",
          "Fake",
          "Fake",
          "Fake",
          "Fake",
          "Fake",
          "Fake",
          "Fake",
          "Fake",
          "Fake",
          "Fake",
          "Fake",
          "Fake",
          "Fake",
          "Fake",
          "Fake",
          "Fake",
          "Fake",
          "Fake",
          "Fake",
          "Fake",
          "Fake",
          "Fake",
          "Fake",
          "Fake",
          "Fake",
          "Fake",
          "Fake",
          "Fake",
          "Fake",
          "Fake",
          "Fake",
          "Fake",
          "Fake",
          "Fake",
          "Fake",
          "Fake",
          "Fake",
          "Fake",
          "Fake",
          "Fake",
          "Fake",
          "Fake",
          "Fake",
          "Fake",
          "Fake",
          "Fake",
          "Fake",
          "Fake",
          "Fake",
          "Fake",
          "Fake",
          "Fake",
          "Fake",
          "Fake",
          "Fake",
          "Fake",
          "Fake",
          "Fake",
          "Fake",
          "Fake",
          "Fake",
          "Fake",
          "Fake",
          "Fake",
          "Fake",
          "Fake",
          "Fake",
          "Fake",
          "Fake",
          "Fake",
          "Fake",
          "Fake",
          "Fake",
          "Fake",
          "Fake",
          "Fake",
          "Fake",
          "Fake",
          "Fake",
          "Fake",
          "Fake",
          "Fake",
          "Fake",
          "Fake",
          "Fake",
          "Fake",
          "Fake",
          "Fake",
          "Fake",
          "Fake",
          "Fake",
          "Fake",
          "Fake",
          "Fake",
          "Fake",
          "Fake",
          "Fake",
          "Fake",
          "Fake",
          "Fake",
          "Fake",
          "Fake",
          "Fake",
          "Fake",
          "Fake",
          "Fake",
          "Fake",
          "Fake",
          "Fake",
          "Fake",
          "Fake",
          "Fake",
          "Fake",
          "Fake",
          "Fake",
          "Fake",
          "Fake",
          "Fake",
          "Fake",
          "Fake",
          "Fake",
          "Fake",
          "Fake",
          "Fake",
          "Fake",
          "Fake",
          "Fake",
          "Fake",
          "Fake",
          "Fake",
          "Fake",
          "Fake",
          "Fake",
          "Fake",
          "Fake",
          "Fake",
          "Fake",
          "Fake",
          "Fake",
          "Fake",
          "Fake",
          "Fake",
          "Fake",
          "Fake",
          "Fake",
          "Fake",
          "Fake",
          "Fake",
          "Fake",
          "Fake",
          "Fake",
          "Fake",
          "Fake",
          "Fake",
          "Fake",
          "Fake",
          "Fake",
          "Fake",
          "Fake",
          "Fake",
          "Fake",
          "Fake",
          "Fake",
          "Fake",
          "Fake",
          "Fake",
          "Fake",
          "Fake",
          "Fake",
          "Fake",
          "Fake",
          "Fake",
          "Fake",
          "Fake",
          "Fake",
          "Fake",
          "Fake",
          "Fake",
          "Fake",
          "Fake",
          "Fake",
          "Fake",
          "Fake",
          "Fake",
          "Fake",
          "Fake",
          "Fake",
          "Fake",
          "Fake",
          "Fake",
          "Fake",
          "Fake",
          "Fake",
          "Fake",
          "Fake",
          "Real",
          "Real",
          "Real",
          "Real",
          "Real",
          "Real",
          "Real",
          "Real",
          "Real",
          "Real",
          "Real",
          "Real",
          "Real",
          "Real",
          "Real",
          "Real",
          "Real",
          "Real",
          "Real",
          "Real",
          "Real",
          "Real",
          "Real",
          "Real",
          "Real",
          "Real",
          "Real",
          "Real",
          "Real",
          "Real",
          "Real",
          "Real",
          "Real",
          "Real",
          "Real",
          "Real",
          "Real",
          "Real",
          "Real",
          "Real",
          "Real",
          "Real",
          "Real",
          "Real",
          "Real",
          "Real",
          "Real",
          "Real",
          "Real",
          "Real",
          "Real",
          "Real",
          "Real",
          "Real",
          "Real",
          "Real",
          "Real",
          "Real",
          "Real",
          "Real",
          "Real",
          "Real",
          "Real",
          "Real",
          "Real",
          "Real",
          "Real",
          "Real",
          "Real",
          "Real",
          "Real",
          "Real",
          "Real",
          "Real",
          "Real",
          "Real",
          "Real",
          "Real",
          "Real",
          "Real",
          "Real",
          "Real",
          "Real",
          "Real",
          "Real",
          "Real",
          "Real",
          "Real",
          "Real",
          "Real",
          "Real",
          "Real",
          "Real",
          "Real",
          "Real",
          "Real",
          "Real",
          "Real",
          "Real",
          "Real",
          "Real",
          "Real",
          "Real",
          "Real",
          "Real",
          "Real",
          "Real",
          "Real",
          "Real",
          "Real",
          "Real",
          "Real",
          "Real",
          "Real",
          "Real",
          "Real",
          "Real",
          "Real",
          "Real",
          "Real",
          "Real",
          "Real",
          "Real",
          "Real",
          "Real",
          "Real",
          "Real",
          "Real",
          "Real",
          "Real",
          "Real",
          "Real",
          "Real",
          "Real",
          "Real",
          "Real",
          "Real",
          "Real",
          "Real",
          "Real",
          "Real",
          "Real",
          "Real",
          "Real",
          "Real",
          "Real",
          "Real",
          "Real",
          "Real",
          "Real",
          "Real",
          "Real",
          "Real",
          "Real",
          "Real",
          "Real",
          "Real",
          "Real",
          "Real",
          "Real",
          "Real",
          "Real",
          "Real",
          "Real",
          "Real",
          "Real",
          "Real",
          "Real",
          "Real",
          "Real",
          "Real",
          "Real",
          "Real",
          "Real",
          "Real",
          "Real",
          "Real",
          "Real",
          "Real",
          "Real",
          "Real",
          "Real",
          "Real",
          "Real",
          "Real",
          "Real",
          "Real",
          "Real",
          "Real",
          "Real",
          "Real",
          "Real",
          "Real",
          "Real",
          "Fake",
          "Fake",
          "Fake",
          "Fake",
          "Fake",
          "Fake",
          "Fake",
          "Fake",
          "Fake",
          "Fake",
          "Fake",
          "Fake",
          "Fake",
          "Fake",
          "Fake",
          "Fake",
          "Fake",
          "Fake",
          "Fake",
          "Fake",
          "Fake",
          "Fake",
          "Fake",
          "Fake",
          "Fake",
          "Fake",
          "Fake",
          "Fake",
          "Fake",
          "Fake",
          "Fake",
          "Fake",
          "Fake",
          "Fake",
          "Fake",
          "Fake",
          "Fake",
          "Fake",
          "Fake",
          "Fake",
          "Fake",
          "Fake",
          "Fake",
          "Fake",
          "Fake",
          "Fake",
          "Fake",
          "Fake",
          "Fake",
          "Fake",
          "Fake",
          "Fake",
          "Fake",
          "Fake",
          "Fake",
          "Fake",
          "Fake",
          "Fake",
          "Fake",
          "Fake",
          "Fake",
          "Fake",
          "Fake",
          "Fake",
          "Fake",
          "Fake",
          "Fake",
          "Fake",
          "Fake",
          "Fake",
          "Fake",
          "Fake",
          "Fake",
          "Fake",
          "Fake",
          "Fake",
          "Fake",
          "Fake",
          "Fake",
          "Real",
          "Fake",
          "Real",
          "Real",
          "Real",
          "Real",
          "Real",
          "Real",
          "Real",
          "Real",
          "Real",
          "Real",
          "Real",
          "Real",
          "Real",
          "Real",
          "Real",
          "Real",
          "Real",
          "Real",
          "Real",
          "Real",
          "Real",
          "Real",
          "Real",
          "Real",
          "Real",
          "Real",
          "Real",
          "Real",
          "Real",
          "Real",
          "Real",
          "Real",
          "Real",
          "Real",
          "Real",
          "Real",
          "Real",
          "Real",
          "Real",
          "Real",
          "Real",
          "Real",
          "Real",
          "Real",
          "Real",
          "Real",
          "Real",
          "Real",
          "Real",
          "Real",
          "Real",
          "Real",
          "Real",
          "Real",
          "Real",
          "Real",
          "Real",
          "Real",
          "Real",
          "Real",
          "Real",
          "Real",
          "Real",
          "Real",
          "Real",
          "Real",
          "Real",
          "Real",
          "Real",
          "Real",
          "Real",
          "Real",
          "Real",
          "Real",
          "Real",
          "Real",
          "Real",
          "Real",
          "Real",
          "Real",
          "Real",
          "Real",
          "Real",
          "Real",
          "Real",
          "Real",
          "Real",
          "Real",
          "Real",
          "Real",
          "Real",
          "Real",
          "Real",
          "Real",
          "Real",
          "Real",
          "Real",
          "Fake",
          "Fake",
          "Fake",
          "Fake",
          "Fake",
          "Fake",
          "Fake",
          "Fake",
          "Fake",
          "Fake",
          "Fake",
          "Fake",
          "Fake",
          "Fake",
          "Fake",
          "Fake",
          "Fake",
          "Fake",
          "Fake",
          "Fake",
          "Fake",
          "Fake",
          "Fake",
          "Fake",
          "Fake",
          "Fake",
          "Fake",
          "Fake",
          "Fake",
          "Fake",
          "Real",
          "Real",
          "Real",
          "Real",
          "Real",
          "Real",
          "Real",
          "Real",
          "Real",
          "Real",
          "Real",
          "Real",
          "Real",
          "Real",
          "Real",
          "Real",
          "Real",
          "Real",
          "Real",
          "Real",
          "Real",
          "Real",
          "Real",
          "Real",
          "Real",
          "Real",
          "Real",
          "Real",
          "Real",
          "Real",
          "Real",
          "Real",
          "Real",
          "Real",
          "Real",
          "Real",
          "Real",
          "Real",
          "Real",
          "Real",
          "Real",
          "Real",
          "Real",
          "Real",
          "Real",
          "Fake",
          "Fake",
          "Fake",
          "Fake",
          "Fake",
          "Fake",
          "Fake",
          "Fake",
          "Fake",
          "Fake",
          "Fake",
          "Fake",
          "Real",
          "Real",
          "Real",
          "Real",
          "Real",
          "Real",
          "Real",
          "Real",
          "Real",
          "Real",
          "Real",
          "Real",
          "Real",
          "Real",
          "Real",
          "Real",
          "Real",
          "Real",
          "Real",
          "Real",
          "Real",
          "Real",
          "Real",
          "Real",
          "Real",
          "Real",
          "Real",
          "Real",
          "Real",
          "Real",
          "Real",
          "Real",
          "Real",
          "Real",
          "Real",
          "Real",
          "Real",
          "Real",
          "Real",
          "Real",
          "Real",
          "Real",
          "Real",
          "Real",
          "Real",
          "Real",
          "Real",
          "Real",
          "Real",
          "Real",
          "Real",
          "Real",
          "Real",
          "Real"
         ],
         "xaxis": "x",
         "yaxis": "y"
        }
       ],
       "layout": {
        "barmode": "relative",
        "legend": {
         "tracegroupgap": 0
        },
        "margin": {
         "t": 60
        },
        "template": {
         "data": {
          "bar": [
           {
            "error_x": {
             "color": "#2a3f5f"
            },
            "error_y": {
             "color": "#2a3f5f"
            },
            "marker": {
             "line": {
              "color": "#E5ECF6",
              "width": 0.5
             },
             "pattern": {
              "fillmode": "overlay",
              "size": 10,
              "solidity": 0.2
             }
            },
            "type": "bar"
           }
          ],
          "barpolar": [
           {
            "marker": {
             "line": {
              "color": "#E5ECF6",
              "width": 0.5
             },
             "pattern": {
              "fillmode": "overlay",
              "size": 10,
              "solidity": 0.2
             }
            },
            "type": "barpolar"
           }
          ],
          "carpet": [
           {
            "aaxis": {
             "endlinecolor": "#2a3f5f",
             "gridcolor": "white",
             "linecolor": "white",
             "minorgridcolor": "white",
             "startlinecolor": "#2a3f5f"
            },
            "baxis": {
             "endlinecolor": "#2a3f5f",
             "gridcolor": "white",
             "linecolor": "white",
             "minorgridcolor": "white",
             "startlinecolor": "#2a3f5f"
            },
            "type": "carpet"
           }
          ],
          "choropleth": [
           {
            "colorbar": {
             "outlinewidth": 0,
             "ticks": ""
            },
            "type": "choropleth"
           }
          ],
          "contour": [
           {
            "colorbar": {
             "outlinewidth": 0,
             "ticks": ""
            },
            "colorscale": [
             [
              0,
              "#0d0887"
             ],
             [
              0.1111111111111111,
              "#46039f"
             ],
             [
              0.2222222222222222,
              "#7201a8"
             ],
             [
              0.3333333333333333,
              "#9c179e"
             ],
             [
              0.4444444444444444,
              "#bd3786"
             ],
             [
              0.5555555555555556,
              "#d8576b"
             ],
             [
              0.6666666666666666,
              "#ed7953"
             ],
             [
              0.7777777777777778,
              "#fb9f3a"
             ],
             [
              0.8888888888888888,
              "#fdca26"
             ],
             [
              1,
              "#f0f921"
             ]
            ],
            "type": "contour"
           }
          ],
          "contourcarpet": [
           {
            "colorbar": {
             "outlinewidth": 0,
             "ticks": ""
            },
            "type": "contourcarpet"
           }
          ],
          "heatmap": [
           {
            "colorbar": {
             "outlinewidth": 0,
             "ticks": ""
            },
            "colorscale": [
             [
              0,
              "#0d0887"
             ],
             [
              0.1111111111111111,
              "#46039f"
             ],
             [
              0.2222222222222222,
              "#7201a8"
             ],
             [
              0.3333333333333333,
              "#9c179e"
             ],
             [
              0.4444444444444444,
              "#bd3786"
             ],
             [
              0.5555555555555556,
              "#d8576b"
             ],
             [
              0.6666666666666666,
              "#ed7953"
             ],
             [
              0.7777777777777778,
              "#fb9f3a"
             ],
             [
              0.8888888888888888,
              "#fdca26"
             ],
             [
              1,
              "#f0f921"
             ]
            ],
            "type": "heatmap"
           }
          ],
          "heatmapgl": [
           {
            "colorbar": {
             "outlinewidth": 0,
             "ticks": ""
            },
            "colorscale": [
             [
              0,
              "#0d0887"
             ],
             [
              0.1111111111111111,
              "#46039f"
             ],
             [
              0.2222222222222222,
              "#7201a8"
             ],
             [
              0.3333333333333333,
              "#9c179e"
             ],
             [
              0.4444444444444444,
              "#bd3786"
             ],
             [
              0.5555555555555556,
              "#d8576b"
             ],
             [
              0.6666666666666666,
              "#ed7953"
             ],
             [
              0.7777777777777778,
              "#fb9f3a"
             ],
             [
              0.8888888888888888,
              "#fdca26"
             ],
             [
              1,
              "#f0f921"
             ]
            ],
            "type": "heatmapgl"
           }
          ],
          "histogram": [
           {
            "marker": {
             "pattern": {
              "fillmode": "overlay",
              "size": 10,
              "solidity": 0.2
             }
            },
            "type": "histogram"
           }
          ],
          "histogram2d": [
           {
            "colorbar": {
             "outlinewidth": 0,
             "ticks": ""
            },
            "colorscale": [
             [
              0,
              "#0d0887"
             ],
             [
              0.1111111111111111,
              "#46039f"
             ],
             [
              0.2222222222222222,
              "#7201a8"
             ],
             [
              0.3333333333333333,
              "#9c179e"
             ],
             [
              0.4444444444444444,
              "#bd3786"
             ],
             [
              0.5555555555555556,
              "#d8576b"
             ],
             [
              0.6666666666666666,
              "#ed7953"
             ],
             [
              0.7777777777777778,
              "#fb9f3a"
             ],
             [
              0.8888888888888888,
              "#fdca26"
             ],
             [
              1,
              "#f0f921"
             ]
            ],
            "type": "histogram2d"
           }
          ],
          "histogram2dcontour": [
           {
            "colorbar": {
             "outlinewidth": 0,
             "ticks": ""
            },
            "colorscale": [
             [
              0,
              "#0d0887"
             ],
             [
              0.1111111111111111,
              "#46039f"
             ],
             [
              0.2222222222222222,
              "#7201a8"
             ],
             [
              0.3333333333333333,
              "#9c179e"
             ],
             [
              0.4444444444444444,
              "#bd3786"
             ],
             [
              0.5555555555555556,
              "#d8576b"
             ],
             [
              0.6666666666666666,
              "#ed7953"
             ],
             [
              0.7777777777777778,
              "#fb9f3a"
             ],
             [
              0.8888888888888888,
              "#fdca26"
             ],
             [
              1,
              "#f0f921"
             ]
            ],
            "type": "histogram2dcontour"
           }
          ],
          "mesh3d": [
           {
            "colorbar": {
             "outlinewidth": 0,
             "ticks": ""
            },
            "type": "mesh3d"
           }
          ],
          "parcoords": [
           {
            "line": {
             "colorbar": {
              "outlinewidth": 0,
              "ticks": ""
             }
            },
            "type": "parcoords"
           }
          ],
          "pie": [
           {
            "automargin": true,
            "type": "pie"
           }
          ],
          "scatter": [
           {
            "fillpattern": {
             "fillmode": "overlay",
             "size": 10,
             "solidity": 0.2
            },
            "type": "scatter"
           }
          ],
          "scatter3d": [
           {
            "line": {
             "colorbar": {
              "outlinewidth": 0,
              "ticks": ""
             }
            },
            "marker": {
             "colorbar": {
              "outlinewidth": 0,
              "ticks": ""
             }
            },
            "type": "scatter3d"
           }
          ],
          "scattercarpet": [
           {
            "marker": {
             "colorbar": {
              "outlinewidth": 0,
              "ticks": ""
             }
            },
            "type": "scattercarpet"
           }
          ],
          "scattergeo": [
           {
            "marker": {
             "colorbar": {
              "outlinewidth": 0,
              "ticks": ""
             }
            },
            "type": "scattergeo"
           }
          ],
          "scattergl": [
           {
            "marker": {
             "colorbar": {
              "outlinewidth": 0,
              "ticks": ""
             }
            },
            "type": "scattergl"
           }
          ],
          "scattermapbox": [
           {
            "marker": {
             "colorbar": {
              "outlinewidth": 0,
              "ticks": ""
             }
            },
            "type": "scattermapbox"
           }
          ],
          "scatterpolar": [
           {
            "marker": {
             "colorbar": {
              "outlinewidth": 0,
              "ticks": ""
             }
            },
            "type": "scatterpolar"
           }
          ],
          "scatterpolargl": [
           {
            "marker": {
             "colorbar": {
              "outlinewidth": 0,
              "ticks": ""
             }
            },
            "type": "scatterpolargl"
           }
          ],
          "scatterternary": [
           {
            "marker": {
             "colorbar": {
              "outlinewidth": 0,
              "ticks": ""
             }
            },
            "type": "scatterternary"
           }
          ],
          "surface": [
           {
            "colorbar": {
             "outlinewidth": 0,
             "ticks": ""
            },
            "colorscale": [
             [
              0,
              "#0d0887"
             ],
             [
              0.1111111111111111,
              "#46039f"
             ],
             [
              0.2222222222222222,
              "#7201a8"
             ],
             [
              0.3333333333333333,
              "#9c179e"
             ],
             [
              0.4444444444444444,
              "#bd3786"
             ],
             [
              0.5555555555555556,
              "#d8576b"
             ],
             [
              0.6666666666666666,
              "#ed7953"
             ],
             [
              0.7777777777777778,
              "#fb9f3a"
             ],
             [
              0.8888888888888888,
              "#fdca26"
             ],
             [
              1,
              "#f0f921"
             ]
            ],
            "type": "surface"
           }
          ],
          "table": [
           {
            "cells": {
             "fill": {
              "color": "#EBF0F8"
             },
             "line": {
              "color": "white"
             }
            },
            "header": {
             "fill": {
              "color": "#C8D4E3"
             },
             "line": {
              "color": "white"
             }
            },
            "type": "table"
           }
          ]
         },
         "layout": {
          "annotationdefaults": {
           "arrowcolor": "#2a3f5f",
           "arrowhead": 0,
           "arrowwidth": 1
          },
          "autotypenumbers": "strict",
          "coloraxis": {
           "colorbar": {
            "outlinewidth": 0,
            "ticks": ""
           }
          },
          "colorscale": {
           "diverging": [
            [
             0,
             "#8e0152"
            ],
            [
             0.1,
             "#c51b7d"
            ],
            [
             0.2,
             "#de77ae"
            ],
            [
             0.3,
             "#f1b6da"
            ],
            [
             0.4,
             "#fde0ef"
            ],
            [
             0.5,
             "#f7f7f7"
            ],
            [
             0.6,
             "#e6f5d0"
            ],
            [
             0.7,
             "#b8e186"
            ],
            [
             0.8,
             "#7fbc41"
            ],
            [
             0.9,
             "#4d9221"
            ],
            [
             1,
             "#276419"
            ]
           ],
           "sequential": [
            [
             0,
             "#0d0887"
            ],
            [
             0.1111111111111111,
             "#46039f"
            ],
            [
             0.2222222222222222,
             "#7201a8"
            ],
            [
             0.3333333333333333,
             "#9c179e"
            ],
            [
             0.4444444444444444,
             "#bd3786"
            ],
            [
             0.5555555555555556,
             "#d8576b"
            ],
            [
             0.6666666666666666,
             "#ed7953"
            ],
            [
             0.7777777777777778,
             "#fb9f3a"
            ],
            [
             0.8888888888888888,
             "#fdca26"
            ],
            [
             1,
             "#f0f921"
            ]
           ],
           "sequentialminus": [
            [
             0,
             "#0d0887"
            ],
            [
             0.1111111111111111,
             "#46039f"
            ],
            [
             0.2222222222222222,
             "#7201a8"
            ],
            [
             0.3333333333333333,
             "#9c179e"
            ],
            [
             0.4444444444444444,
             "#bd3786"
            ],
            [
             0.5555555555555556,
             "#d8576b"
            ],
            [
             0.6666666666666666,
             "#ed7953"
            ],
            [
             0.7777777777777778,
             "#fb9f3a"
            ],
            [
             0.8888888888888888,
             "#fdca26"
            ],
            [
             1,
             "#f0f921"
            ]
           ]
          },
          "colorway": [
           "#636efa",
           "#EF553B",
           "#00cc96",
           "#ab63fa",
           "#FFA15A",
           "#19d3f3",
           "#FF6692",
           "#B6E880",
           "#FF97FF",
           "#FECB52"
          ],
          "font": {
           "color": "#2a3f5f"
          },
          "geo": {
           "bgcolor": "white",
           "lakecolor": "white",
           "landcolor": "#E5ECF6",
           "showlakes": true,
           "showland": true,
           "subunitcolor": "white"
          },
          "hoverlabel": {
           "align": "left"
          },
          "hovermode": "closest",
          "mapbox": {
           "style": "light"
          },
          "paper_bgcolor": "white",
          "plot_bgcolor": "#E5ECF6",
          "polar": {
           "angularaxis": {
            "gridcolor": "white",
            "linecolor": "white",
            "ticks": ""
           },
           "bgcolor": "#E5ECF6",
           "radialaxis": {
            "gridcolor": "white",
            "linecolor": "white",
            "ticks": ""
           }
          },
          "scene": {
           "xaxis": {
            "backgroundcolor": "#E5ECF6",
            "gridcolor": "white",
            "gridwidth": 2,
            "linecolor": "white",
            "showbackground": true,
            "ticks": "",
            "zerolinecolor": "white"
           },
           "yaxis": {
            "backgroundcolor": "#E5ECF6",
            "gridcolor": "white",
            "gridwidth": 2,
            "linecolor": "white",
            "showbackground": true,
            "ticks": "",
            "zerolinecolor": "white"
           },
           "zaxis": {
            "backgroundcolor": "#E5ECF6",
            "gridcolor": "white",
            "gridwidth": 2,
            "linecolor": "white",
            "showbackground": true,
            "ticks": "",
            "zerolinecolor": "white"
           }
          },
          "shapedefaults": {
           "line": {
            "color": "#2a3f5f"
           }
          },
          "ternary": {
           "aaxis": {
            "gridcolor": "white",
            "linecolor": "white",
            "ticks": ""
           },
           "baxis": {
            "gridcolor": "white",
            "linecolor": "white",
            "ticks": ""
           },
           "bgcolor": "#E5ECF6",
           "caxis": {
            "gridcolor": "white",
            "linecolor": "white",
            "ticks": ""
           }
          },
          "title": {
           "x": 0.05
          },
          "xaxis": {
           "automargin": true,
           "gridcolor": "white",
           "linecolor": "white",
           "ticks": "",
           "title": {
            "standoff": 15
           },
           "zerolinecolor": "white",
           "zerolinewidth": 2
          },
          "yaxis": {
           "automargin": true,
           "gridcolor": "white",
           "linecolor": "white",
           "ticks": "",
           "title": {
            "standoff": 15
           },
           "zerolinecolor": "white",
           "zerolinewidth": 2
          }
         }
        },
        "xaxis": {
         "anchor": "y",
         "domain": [
          0,
          1
         ],
         "title": {
          "text": "label"
         }
        },
        "yaxis": {
         "anchor": "x",
         "domain": [
          0,
          1
         ],
         "title": {
          "text": "count"
         }
        }
       }
      },
      "text/html": [
       "<div>                            <div id=\"0d5dee8c-1c8d-4f19-9576-b695dcab1343\" class=\"plotly-graph-div\" style=\"height:525px; width:100%;\"></div>            <script type=\"text/javascript\">                require([\"plotly\"], function(Plotly) {                    window.PLOTLYENV=window.PLOTLYENV || {};                                    if (document.getElementById(\"0d5dee8c-1c8d-4f19-9576-b695dcab1343\")) {                    Plotly.newPlot(                        \"0d5dee8c-1c8d-4f19-9576-b695dcab1343\",                        [{\"alignmentgroup\":\"True\",\"bingroup\":\"x\",\"hovertemplate\":\"label=%{x}<br>count=%{y}<extra></extra>\",\"legendgroup\":\"\",\"marker\":{\"color\":\"#636efa\",\"pattern\":{\"shape\":\"\"}},\"name\":\"\",\"offsetgroup\":\"\",\"orientation\":\"v\",\"showlegend\":false,\"x\":[\"Real\",\"Real\",\"Real\",\"Real\",\"Real\",\"Real\",\"Real\",\"Real\",\"Real\",\"Real\",\"Real\",\"Real\",\"Real\",\"Real\",\"Real\",\"Real\",\"Real\",\"Real\",\"Real\",\"Real\",\"Real\",\"Fake\",\"Fake\",\"Fake\",\"Fake\",\"Fake\",\"Fake\",\"Fake\",\"Fake\",\"Fake\",\"Fake\",\"Fake\",\"Fake\",\"Fake\",\"Fake\",\"Fake\",\"Fake\",\"Fake\",\"Fake\",\"Fake\",\"Fake\",\"Fake\",\"Fake\",\"Fake\",\"Fake\",\"Fake\",\"Fake\",\"Fake\",\"Fake\",\"Fake\",\"Fake\",\"Fake\",\"Fake\",\"Fake\",\"Fake\",\"Fake\",\"Fake\",\"Fake\",\"Fake\",\"Fake\",\"Fake\",\"Fake\",\"Fake\",\"Fake\",\"Fake\",\"Fake\",\"Fake\",\"Fake\",\"Fake\",\"Fake\",\"Fake\",\"Fake\",\"Fake\",\"Fake\",\"Fake\",\"Fake\",\"Fake\",\"Fake\",\"Fake\",\"Fake\",\"Fake\",\"Fake\",\"Fake\",\"Fake\",\"Fake\",\"Fake\",\"Fake\",\"Fake\",\"Fake\",\"Fake\",\"Fake\",\"Fake\",\"Fake\",\"Fake\",\"Fake\",\"Fake\",\"Fake\",\"Fake\",\"Fake\",\"Fake\",\"Fake\",\"Fake\",\"Fake\",\"Fake\",\"Fake\",\"Fake\",\"Fake\",\"Fake\",\"Fake\",\"Fake\",\"Fake\",\"Fake\",\"Fake\",\"Fake\",\"Fake\",\"Fake\",\"Fake\",\"Fake\",\"Fake\",\"Fake\",\"Fake\",\"Fake\",\"Fake\",\"Fake\",\"Fake\",\"Fake\",\"Fake\",\"Fake\",\"Fake\",\"Fake\",\"Fake\",\"Fake\",\"Fake\",\"Fake\",\"Fake\",\"Fake\",\"Fake\",\"Fake\",\"Fake\",\"Fake\",\"Fake\",\"Fake\",\"Fake\",\"Fake\",\"Fake\",\"Real\",\"Real\",\"Real\",\"Real\",\"Real\",\"Real\",\"Real\",\"Real\",\"Real\",\"Real\",\"Real\",\"Real\",\"Real\",\"Real\",\"Real\",\"Real\",\"Real\",\"Real\",\"Real\",\"Real\",\"Fake\",\"Fake\",\"Fake\",\"Fake\",\"Fake\",\"Fake\",\"Fake\",\"Fake\",\"Fake\",\"Fake\",\"Fake\",\"Fake\",\"Fake\",\"Fake\",\"Fake\",\"Fake\",\"Fake\",\"Fake\",\"Fake\",\"Fake\",\"Fake\",\"Fake\",\"Fake\",\"Fake\",\"Fake\",\"Fake\",\"Fake\",\"Fake\",\"Fake\",\"Fake\",\"Fake\",\"Fake\",\"Fake\",\"Fake\",\"Fake\",\"Fake\",\"Fake\",\"Fake\",\"Fake\",\"Fake\",\"Fake\",\"Fake\",\"Fake\",\"Fake\",\"Fake\",\"Fake\",\"Fake\",\"Fake\",\"Fake\",\"Fake\",\"Fake\",\"Fake\",\"Fake\",\"Fake\",\"Fake\",\"Fake\",\"Fake\",\"Fake\",\"Fake\",\"Fake\",\"Fake\",\"Fake\",\"Fake\",\"Fake\",\"Fake\",\"Fake\",\"Fake\",\"Fake\",\"Fake\",\"Fake\",\"Fake\",\"Fake\",\"Fake\",\"Fake\",\"Fake\",\"Fake\",\"Fake\",\"Fake\",\"Fake\",\"Fake\",\"Fake\",\"Fake\",\"Fake\",\"Fake\",\"Fake\",\"Fake\",\"Fake\",\"Fake\",\"Fake\",\"Fake\",\"Fake\",\"Fake\",\"Fake\",\"Fake\",\"Fake\",\"Fake\",\"Fake\",\"Fake\",\"Fake\",\"Fake\",\"Fake\",\"Fake\",\"Fake\",\"Fake\",\"Fake\",\"Fake\",\"Fake\",\"Fake\",\"Fake\",\"Fake\",\"Fake\",\"Fake\",\"Fake\",\"Fake\",\"Fake\",\"Fake\",\"Fake\",\"Fake\",\"Fake\",\"Fake\",\"Fake\",\"Fake\",\"Fake\",\"Fake\",\"Fake\",\"Fake\",\"Fake\",\"Fake\",\"Fake\",\"Fake\",\"Fake\",\"Fake\",\"Fake\",\"Fake\",\"Fake\",\"Fake\",\"Fake\",\"Fake\",\"Fake\",\"Fake\",\"Fake\",\"Fake\",\"Fake\",\"Fake\",\"Fake\",\"Fake\",\"Fake\",\"Fake\",\"Fake\",\"Fake\",\"Fake\",\"Fake\",\"Fake\",\"Fake\",\"Fake\",\"Fake\",\"Fake\",\"Fake\",\"Fake\",\"Fake\",\"Fake\",\"Fake\",\"Fake\",\"Fake\",\"Fake\",\"Fake\",\"Fake\",\"Fake\",\"Fake\",\"Fake\",\"Fake\",\"Fake\",\"Fake\",\"Fake\",\"Fake\",\"Fake\",\"Fake\",\"Fake\",\"Fake\",\"Fake\",\"Fake\",\"Fake\",\"Fake\",\"Fake\",\"Fake\",\"Fake\",\"Fake\",\"Fake\",\"Fake\",\"Fake\",\"Fake\",\"Fake\",\"Fake\",\"Fake\",\"Fake\",\"Fake\",\"Fake\",\"Fake\",\"Fake\",\"Fake\",\"Fake\",\"Fake\",\"Fake\",\"Fake\",\"Fake\",\"Fake\",\"Fake\",\"Fake\",\"Fake\",\"Fake\",\"Fake\",\"Fake\",\"Fake\",\"Fake\",\"Fake\",\"Fake\",\"Fake\",\"Fake\",\"Fake\",\"Fake\",\"Fake\",\"Fake\",\"Fake\",\"Fake\",\"Fake\",\"Fake\",\"Fake\",\"Fake\",\"Fake\",\"Fake\",\"Fake\",\"Fake\",\"Fake\",\"Fake\",\"Fake\",\"Fake\",\"Fake\",\"Fake\",\"Fake\",\"Fake\",\"Fake\",\"Fake\",\"Fake\",\"Fake\",\"Fake\",\"Fake\",\"Fake\",\"Fake\",\"Fake\",\"Fake\",\"Fake\",\"Fake\",\"Fake\",\"Fake\",\"Fake\",\"Fake\",\"Fake\",\"Fake\",\"Fake\",\"Fake\",\"Fake\",\"Fake\",\"Fake\",\"Fake\",\"Fake\",\"Fake\",\"Fake\",\"Fake\",\"Fake\",\"Fake\",\"Fake\",\"Fake\",\"Fake\",\"Fake\",\"Fake\",\"Fake\",\"Fake\",\"Fake\",\"Fake\",\"Fake\",\"Fake\",\"Fake\",\"Fake\",\"Fake\",\"Fake\",\"Fake\",\"Fake\",\"Fake\",\"Fake\",\"Fake\",\"Fake\",\"Fake\",\"Fake\",\"Fake\",\"Fake\",\"Fake\",\"Fake\",\"Fake\",\"Fake\",\"Fake\",\"Fake\",\"Fake\",\"Fake\",\"Fake\",\"Fake\",\"Fake\",\"Fake\",\"Fake\",\"Fake\",\"Fake\",\"Fake\",\"Fake\",\"Fake\",\"Fake\",\"Fake\",\"Fake\",\"Fake\",\"Fake\",\"Fake\",\"Fake\",\"Fake\",\"Fake\",\"Fake\",\"Fake\",\"Fake\",\"Fake\",\"Fake\",\"Fake\",\"Fake\",\"Fake\",\"Fake\",\"Fake\",\"Fake\",\"Fake\",\"Fake\",\"Fake\",\"Fake\",\"Fake\",\"Fake\",\"Fake\",\"Fake\",\"Fake\",\"Fake\",\"Fake\",\"Fake\",\"Fake\",\"Fake\",\"Fake\",\"Fake\",\"Fake\",\"Fake\",\"Fake\",\"Fake\",\"Fake\",\"Fake\",\"Fake\",\"Fake\",\"Fake\",\"Fake\",\"Fake\",\"Fake\",\"Fake\",\"Fake\",\"Fake\",\"Fake\",\"Fake\",\"Fake\",\"Fake\",\"Fake\",\"Fake\",\"Fake\",\"Fake\",\"Fake\",\"Fake\",\"Real\",\"Real\",\"Real\",\"Real\",\"Real\",\"Real\",\"Real\",\"Real\",\"Real\",\"Real\",\"Real\",\"Real\",\"Real\",\"Real\",\"Real\",\"Real\",\"Real\",\"Real\",\"Real\",\"Real\",\"Real\",\"Real\",\"Real\",\"Real\",\"Real\",\"Real\",\"Real\",\"Real\",\"Real\",\"Real\",\"Fake\",\"Fake\",\"Fake\",\"Fake\",\"Fake\",\"Fake\",\"Fake\",\"Fake\",\"Real\",\"Real\",\"Real\",\"Real\",\"Real\",\"Real\",\"Real\",\"Real\",\"Real\",\"Real\",\"Real\",\"Real\",\"Real\",\"Real\",\"Real\",\"Real\",\"Real\",\"Real\",\"Real\",\"Real\",\"Real\",\"Real\",\"Real\",\"Real\",\"Real\",\"Real\",\"Real\",\"Real\",\"Real\",\"Real\",\"Fake\",\"Fake\",\"Fake\",\"Fake\",\"Fake\",\"Fake\",\"Fake\",\"Fake\",\"Fake\",\"Fake\",\"Fake\",\"Fake\",\"Fake\",\"Fake\",\"Fake\",\"Fake\",\"Fake\",\"Fake\",\"Fake\",\"Fake\",\"Fake\",\"Fake\",\"Fake\",\"Fake\",\"Fake\",\"Fake\",\"Fake\",\"Fake\",\"Fake\",\"Fake\",\"Fake\",\"Fake\",\"Fake\",\"Fake\",\"Fake\",\"Fake\",\"Fake\",\"Fake\",\"Fake\",\"Fake\",\"Fake\",\"Fake\",\"Fake\",\"Fake\",\"Fake\",\"Fake\",\"Fake\",\"Fake\",\"Fake\",\"Fake\",\"Fake\",\"Fake\",\"Fake\",\"Fake\",\"Fake\",\"Fake\",\"Fake\",\"Fake\",\"Fake\",\"Fake\",\"Fake\",\"Fake\",\"Fake\",\"Fake\",\"Fake\",\"Fake\",\"Fake\",\"Fake\",\"Fake\",\"Fake\",\"Fake\",\"Fake\",\"Fake\",\"Fake\",\"Fake\",\"Fake\",\"Fake\",\"Fake\",\"Fake\",\"Fake\",\"Fake\",\"Fake\",\"Fake\",\"Fake\",\"Fake\",\"Fake\",\"Fake\",\"Fake\",\"Fake\",\"Fake\",\"Fake\",\"Real\",\"Real\",\"Real\",\"Real\",\"Real\",\"Real\",\"Real\",\"Real\",\"Real\",\"Real\",\"Real\",\"Real\",\"Real\",\"Real\",\"Real\",\"Real\",\"Real\",\"Real\",\"Real\",\"Real\",\"Real\",\"Real\",\"Real\",\"Real\",\"Real\",\"Real\",\"Real\",\"Real\",\"Real\",\"Real\",\"Real\",\"Real\",\"Real\",\"Real\",\"Real\",\"Real\",\"Real\",\"Real\",\"Real\",\"Real\",\"Real\",\"Real\",\"Real\",\"Real\",\"Real\",\"Real\",\"Real\",\"Real\",\"Real\",\"Real\",\"Real\",\"Real\",\"Real\",\"Real\",\"Real\",\"Real\",\"Real\",\"Real\",\"Real\",\"Real\",\"Real\",\"Real\",\"Real\",\"Real\",\"Real\",\"Real\",\"Real\",\"Real\",\"Real\",\"Real\",\"Real\",\"Real\",\"Real\",\"Real\",\"Real\",\"Real\",\"Real\",\"Real\",\"Real\",\"Real\",\"Real\",\"Real\",\"Real\",\"Real\",\"Real\",\"Real\",\"Real\",\"Real\",\"Real\",\"Real\",\"Real\",\"Real\",\"Real\",\"Real\",\"Real\",\"Real\",\"Real\",\"Real\",\"Real\",\"Fake\",\"Fake\",\"Fake\",\"Fake\",\"Fake\",\"Fake\",\"Fake\",\"Fake\",\"Fake\",\"Fake\",\"Fake\",\"Fake\",\"Fake\",\"Fake\",\"Fake\",\"Fake\",\"Fake\",\"Fake\",\"Fake\",\"Fake\",\"Fake\",\"Fake\",\"Fake\",\"Fake\",\"Fake\",\"Fake\",\"Fake\",\"Fake\",\"Fake\",\"Fake\",\"Fake\",\"Fake\",\"Fake\",\"Fake\",\"Fake\",\"Fake\",\"Fake\",\"Fake\",\"Fake\",\"Fake\",\"Fake\",\"Fake\",\"Fake\",\"Fake\",\"Fake\",\"Fake\",\"Fake\",\"Fake\",\"Fake\",\"Fake\",\"Fake\",\"Fake\",\"Fake\",\"Fake\",\"Fake\",\"Fake\",\"Fake\",\"Fake\",\"Fake\",\"Fake\",\"Fake\",\"Fake\",\"Fake\",\"Fake\",\"Fake\",\"Fake\",\"Fake\",\"Fake\",\"Fake\",\"Fake\",\"Fake\",\"Fake\",\"Fake\",\"Fake\",\"Fake\",\"Fake\",\"Fake\",\"Fake\",\"Fake\",\"Fake\",\"Fake\",\"Fake\",\"Fake\",\"Fake\",\"Fake\",\"Fake\",\"Fake\",\"Fake\",\"Fake\",\"Fake\",\"Fake\",\"Fake\",\"Fake\",\"Fake\",\"Fake\",\"Fake\",\"Fake\",\"Fake\",\"Fake\",\"Fake\",\"Fake\",\"Fake\",\"Fake\",\"Fake\",\"Fake\",\"Fake\",\"Fake\",\"Fake\",\"Fake\",\"Fake\",\"Fake\",\"Fake\",\"Fake\",\"Fake\",\"Fake\",\"Fake\",\"Fake\",\"Fake\",\"Fake\",\"Fake\",\"Fake\",\"Fake\",\"Fake\",\"Fake\",\"Fake\",\"Fake\",\"Fake\",\"Fake\",\"Fake\",\"Fake\",\"Fake\",\"Fake\",\"Fake\",\"Fake\",\"Fake\",\"Fake\",\"Fake\",\"Fake\",\"Fake\",\"Fake\",\"Fake\",\"Fake\",\"Fake\",\"Fake\",\"Fake\",\"Fake\",\"Fake\",\"Fake\",\"Fake\",\"Fake\",\"Fake\",\"Fake\",\"Fake\",\"Fake\",\"Fake\",\"Fake\",\"Fake\",\"Fake\",\"Fake\",\"Fake\",\"Fake\",\"Fake\",\"Fake\",\"Fake\",\"Fake\",\"Fake\",\"Fake\",\"Fake\",\"Fake\",\"Fake\",\"Fake\",\"Fake\",\"Fake\",\"Fake\",\"Fake\",\"Fake\",\"Fake\",\"Fake\",\"Fake\",\"Fake\",\"Fake\",\"Fake\",\"Fake\",\"Fake\",\"Fake\",\"Fake\",\"Fake\",\"Fake\",\"Fake\",\"Fake\",\"Fake\",\"Fake\",\"Fake\",\"Fake\",\"Fake\",\"Fake\",\"Fake\",\"Fake\",\"Fake\",\"Fake\",\"Fake\",\"Fake\",\"Fake\",\"Fake\",\"Fake\",\"Fake\",\"Fake\",\"Fake\",\"Fake\",\"Fake\",\"Fake\",\"Fake\",\"Fake\",\"Fake\",\"Fake\",\"Fake\",\"Fake\",\"Fake\",\"Fake\",\"Fake\",\"Fake\",\"Fake\",\"Fake\",\"Fake\",\"Fake\",\"Fake\",\"Fake\",\"Fake\",\"Fake\",\"Fake\",\"Fake\",\"Fake\",\"Fake\",\"Fake\",\"Fake\",\"Fake\",\"Fake\",\"Fake\",\"Fake\",\"Fake\",\"Fake\",\"Fake\",\"Fake\",\"Fake\",\"Fake\",\"Fake\",\"Fake\",\"Fake\",\"Fake\",\"Fake\",\"Fake\",\"Fake\",\"Fake\",\"Fake\",\"Fake\",\"Fake\",\"Fake\",\"Fake\",\"Real\",\"Real\",\"Real\",\"Real\",\"Real\",\"Real\",\"Real\",\"Real\",\"Real\",\"Real\",\"Real\",\"Real\",\"Real\",\"Real\",\"Real\",\"Real\",\"Real\",\"Real\",\"Real\",\"Real\",\"Real\",\"Real\",\"Real\",\"Real\",\"Real\",\"Real\",\"Real\",\"Real\",\"Real\",\"Real\",\"Real\",\"Real\",\"Real\",\"Real\",\"Real\",\"Real\",\"Real\",\"Real\",\"Real\",\"Real\",\"Real\",\"Real\",\"Real\",\"Real\",\"Real\",\"Real\",\"Real\",\"Real\",\"Real\",\"Real\",\"Real\",\"Real\",\"Real\",\"Real\",\"Real\",\"Real\",\"Real\",\"Real\",\"Real\",\"Real\",\"Real\",\"Real\",\"Real\",\"Real\",\"Real\",\"Real\",\"Real\",\"Real\",\"Real\",\"Real\",\"Real\",\"Real\",\"Real\",\"Real\",\"Real\",\"Real\",\"Real\",\"Real\",\"Real\",\"Real\",\"Real\",\"Real\",\"Real\",\"Real\",\"Real\",\"Real\",\"Real\",\"Real\",\"Real\",\"Real\",\"Real\",\"Real\",\"Real\",\"Real\",\"Real\",\"Real\",\"Real\",\"Real\",\"Real\",\"Real\",\"Real\",\"Real\",\"Real\",\"Real\",\"Real\",\"Real\",\"Real\",\"Real\",\"Real\",\"Real\",\"Real\",\"Real\",\"Real\",\"Real\",\"Real\",\"Real\",\"Real\",\"Real\",\"Real\",\"Real\",\"Real\",\"Real\",\"Real\",\"Real\",\"Real\",\"Real\",\"Real\",\"Real\",\"Real\",\"Real\",\"Real\",\"Real\",\"Real\",\"Real\",\"Real\",\"Real\",\"Real\",\"Real\",\"Real\",\"Real\",\"Real\",\"Real\",\"Real\",\"Real\",\"Real\",\"Real\",\"Real\",\"Real\",\"Real\",\"Real\",\"Real\",\"Real\",\"Real\",\"Real\",\"Real\",\"Real\",\"Real\",\"Real\",\"Real\",\"Real\",\"Real\",\"Real\",\"Real\",\"Real\",\"Real\",\"Real\",\"Real\",\"Real\",\"Real\",\"Real\",\"Real\",\"Real\",\"Real\",\"Real\",\"Real\",\"Real\",\"Real\",\"Real\",\"Real\",\"Real\",\"Real\",\"Real\",\"Real\",\"Real\",\"Real\",\"Real\",\"Real\",\"Real\",\"Real\",\"Real\",\"Real\",\"Real\",\"Real\",\"Real\",\"Fake\",\"Fake\",\"Fake\",\"Fake\",\"Fake\",\"Fake\",\"Fake\",\"Fake\",\"Fake\",\"Fake\",\"Fake\",\"Fake\",\"Fake\",\"Fake\",\"Fake\",\"Fake\",\"Fake\",\"Fake\",\"Fake\",\"Fake\",\"Fake\",\"Fake\",\"Fake\",\"Fake\",\"Fake\",\"Fake\",\"Fake\",\"Fake\",\"Fake\",\"Fake\",\"Fake\",\"Fake\",\"Fake\",\"Fake\",\"Fake\",\"Fake\",\"Fake\",\"Fake\",\"Fake\",\"Fake\",\"Fake\",\"Fake\",\"Fake\",\"Fake\",\"Fake\",\"Fake\",\"Fake\",\"Fake\",\"Fake\",\"Fake\",\"Fake\",\"Fake\",\"Fake\",\"Fake\",\"Fake\",\"Fake\",\"Fake\",\"Fake\",\"Fake\",\"Fake\",\"Fake\",\"Fake\",\"Fake\",\"Fake\",\"Fake\",\"Fake\",\"Fake\",\"Fake\",\"Fake\",\"Fake\",\"Fake\",\"Fake\",\"Fake\",\"Fake\",\"Fake\",\"Fake\",\"Fake\",\"Fake\",\"Fake\",\"Real\",\"Fake\",\"Real\",\"Real\",\"Real\",\"Real\",\"Real\",\"Real\",\"Real\",\"Real\",\"Real\",\"Real\",\"Real\",\"Real\",\"Real\",\"Real\",\"Real\",\"Real\",\"Real\",\"Real\",\"Real\",\"Real\",\"Real\",\"Real\",\"Real\",\"Real\",\"Real\",\"Real\",\"Real\",\"Real\",\"Real\",\"Real\",\"Real\",\"Real\",\"Real\",\"Real\",\"Real\",\"Real\",\"Real\",\"Real\",\"Real\",\"Real\",\"Real\",\"Real\",\"Real\",\"Real\",\"Real\",\"Real\",\"Real\",\"Real\",\"Real\",\"Real\",\"Real\",\"Real\",\"Real\",\"Real\",\"Real\",\"Real\",\"Real\",\"Real\",\"Real\",\"Real\",\"Real\",\"Real\",\"Real\",\"Real\",\"Real\",\"Real\",\"Real\",\"Real\",\"Real\",\"Real\",\"Real\",\"Real\",\"Real\",\"Real\",\"Real\",\"Real\",\"Real\",\"Real\",\"Real\",\"Real\",\"Real\",\"Real\",\"Real\",\"Real\",\"Real\",\"Real\",\"Real\",\"Real\",\"Real\",\"Real\",\"Real\",\"Real\",\"Real\",\"Real\",\"Real\",\"Real\",\"Real\",\"Fake\",\"Fake\",\"Fake\",\"Fake\",\"Fake\",\"Fake\",\"Fake\",\"Fake\",\"Fake\",\"Fake\",\"Fake\",\"Fake\",\"Fake\",\"Fake\",\"Fake\",\"Fake\",\"Fake\",\"Fake\",\"Fake\",\"Fake\",\"Fake\",\"Fake\",\"Fake\",\"Fake\",\"Fake\",\"Fake\",\"Fake\",\"Fake\",\"Fake\",\"Fake\",\"Real\",\"Real\",\"Real\",\"Real\",\"Real\",\"Real\",\"Real\",\"Real\",\"Real\",\"Real\",\"Real\",\"Real\",\"Real\",\"Real\",\"Real\",\"Real\",\"Real\",\"Real\",\"Real\",\"Real\",\"Real\",\"Real\",\"Real\",\"Real\",\"Real\",\"Real\",\"Real\",\"Real\",\"Real\",\"Real\",\"Real\",\"Real\",\"Real\",\"Real\",\"Real\",\"Real\",\"Real\",\"Real\",\"Real\",\"Real\",\"Real\",\"Real\",\"Real\",\"Real\",\"Real\",\"Fake\",\"Fake\",\"Fake\",\"Fake\",\"Fake\",\"Fake\",\"Fake\",\"Fake\",\"Fake\",\"Fake\",\"Fake\",\"Fake\",\"Real\",\"Real\",\"Real\",\"Real\",\"Real\",\"Real\",\"Real\",\"Real\",\"Real\",\"Real\",\"Real\",\"Real\",\"Real\",\"Real\",\"Real\",\"Real\",\"Real\",\"Real\",\"Real\",\"Real\",\"Real\",\"Real\",\"Real\",\"Real\",\"Real\",\"Real\",\"Real\",\"Real\",\"Real\",\"Real\",\"Real\",\"Real\",\"Real\",\"Real\",\"Real\",\"Real\",\"Real\",\"Real\",\"Real\",\"Real\",\"Real\",\"Real\",\"Real\",\"Real\",\"Real\",\"Real\",\"Real\",\"Real\",\"Real\",\"Real\",\"Real\",\"Real\",\"Real\",\"Real\"],\"xaxis\":\"x\",\"yaxis\":\"y\",\"type\":\"histogram\"}],                        {\"template\":{\"data\":{\"histogram2dcontour\":[{\"type\":\"histogram2dcontour\",\"colorbar\":{\"outlinewidth\":0,\"ticks\":\"\"},\"colorscale\":[[0.0,\"#0d0887\"],[0.1111111111111111,\"#46039f\"],[0.2222222222222222,\"#7201a8\"],[0.3333333333333333,\"#9c179e\"],[0.4444444444444444,\"#bd3786\"],[0.5555555555555556,\"#d8576b\"],[0.6666666666666666,\"#ed7953\"],[0.7777777777777778,\"#fb9f3a\"],[0.8888888888888888,\"#fdca26\"],[1.0,\"#f0f921\"]]}],\"choropleth\":[{\"type\":\"choropleth\",\"colorbar\":{\"outlinewidth\":0,\"ticks\":\"\"}}],\"histogram2d\":[{\"type\":\"histogram2d\",\"colorbar\":{\"outlinewidth\":0,\"ticks\":\"\"},\"colorscale\":[[0.0,\"#0d0887\"],[0.1111111111111111,\"#46039f\"],[0.2222222222222222,\"#7201a8\"],[0.3333333333333333,\"#9c179e\"],[0.4444444444444444,\"#bd3786\"],[0.5555555555555556,\"#d8576b\"],[0.6666666666666666,\"#ed7953\"],[0.7777777777777778,\"#fb9f3a\"],[0.8888888888888888,\"#fdca26\"],[1.0,\"#f0f921\"]]}],\"heatmap\":[{\"type\":\"heatmap\",\"colorbar\":{\"outlinewidth\":0,\"ticks\":\"\"},\"colorscale\":[[0.0,\"#0d0887\"],[0.1111111111111111,\"#46039f\"],[0.2222222222222222,\"#7201a8\"],[0.3333333333333333,\"#9c179e\"],[0.4444444444444444,\"#bd3786\"],[0.5555555555555556,\"#d8576b\"],[0.6666666666666666,\"#ed7953\"],[0.7777777777777778,\"#fb9f3a\"],[0.8888888888888888,\"#fdca26\"],[1.0,\"#f0f921\"]]}],\"heatmapgl\":[{\"type\":\"heatmapgl\",\"colorbar\":{\"outlinewidth\":0,\"ticks\":\"\"},\"colorscale\":[[0.0,\"#0d0887\"],[0.1111111111111111,\"#46039f\"],[0.2222222222222222,\"#7201a8\"],[0.3333333333333333,\"#9c179e\"],[0.4444444444444444,\"#bd3786\"],[0.5555555555555556,\"#d8576b\"],[0.6666666666666666,\"#ed7953\"],[0.7777777777777778,\"#fb9f3a\"],[0.8888888888888888,\"#fdca26\"],[1.0,\"#f0f921\"]]}],\"contourcarpet\":[{\"type\":\"contourcarpet\",\"colorbar\":{\"outlinewidth\":0,\"ticks\":\"\"}}],\"contour\":[{\"type\":\"contour\",\"colorbar\":{\"outlinewidth\":0,\"ticks\":\"\"},\"colorscale\":[[0.0,\"#0d0887\"],[0.1111111111111111,\"#46039f\"],[0.2222222222222222,\"#7201a8\"],[0.3333333333333333,\"#9c179e\"],[0.4444444444444444,\"#bd3786\"],[0.5555555555555556,\"#d8576b\"],[0.6666666666666666,\"#ed7953\"],[0.7777777777777778,\"#fb9f3a\"],[0.8888888888888888,\"#fdca26\"],[1.0,\"#f0f921\"]]}],\"surface\":[{\"type\":\"surface\",\"colorbar\":{\"outlinewidth\":0,\"ticks\":\"\"},\"colorscale\":[[0.0,\"#0d0887\"],[0.1111111111111111,\"#46039f\"],[0.2222222222222222,\"#7201a8\"],[0.3333333333333333,\"#9c179e\"],[0.4444444444444444,\"#bd3786\"],[0.5555555555555556,\"#d8576b\"],[0.6666666666666666,\"#ed7953\"],[0.7777777777777778,\"#fb9f3a\"],[0.8888888888888888,\"#fdca26\"],[1.0,\"#f0f921\"]]}],\"mesh3d\":[{\"type\":\"mesh3d\",\"colorbar\":{\"outlinewidth\":0,\"ticks\":\"\"}}],\"scatter\":[{\"fillpattern\":{\"fillmode\":\"overlay\",\"size\":10,\"solidity\":0.2},\"type\":\"scatter\"}],\"parcoords\":[{\"type\":\"parcoords\",\"line\":{\"colorbar\":{\"outlinewidth\":0,\"ticks\":\"\"}}}],\"scatterpolargl\":[{\"type\":\"scatterpolargl\",\"marker\":{\"colorbar\":{\"outlinewidth\":0,\"ticks\":\"\"}}}],\"bar\":[{\"error_x\":{\"color\":\"#2a3f5f\"},\"error_y\":{\"color\":\"#2a3f5f\"},\"marker\":{\"line\":{\"color\":\"#E5ECF6\",\"width\":0.5},\"pattern\":{\"fillmode\":\"overlay\",\"size\":10,\"solidity\":0.2}},\"type\":\"bar\"}],\"scattergeo\":[{\"type\":\"scattergeo\",\"marker\":{\"colorbar\":{\"outlinewidth\":0,\"ticks\":\"\"}}}],\"scatterpolar\":[{\"type\":\"scatterpolar\",\"marker\":{\"colorbar\":{\"outlinewidth\":0,\"ticks\":\"\"}}}],\"histogram\":[{\"marker\":{\"pattern\":{\"fillmode\":\"overlay\",\"size\":10,\"solidity\":0.2}},\"type\":\"histogram\"}],\"scattergl\":[{\"type\":\"scattergl\",\"marker\":{\"colorbar\":{\"outlinewidth\":0,\"ticks\":\"\"}}}],\"scatter3d\":[{\"type\":\"scatter3d\",\"line\":{\"colorbar\":{\"outlinewidth\":0,\"ticks\":\"\"}},\"marker\":{\"colorbar\":{\"outlinewidth\":0,\"ticks\":\"\"}}}],\"scattermapbox\":[{\"type\":\"scattermapbox\",\"marker\":{\"colorbar\":{\"outlinewidth\":0,\"ticks\":\"\"}}}],\"scatterternary\":[{\"type\":\"scatterternary\",\"marker\":{\"colorbar\":{\"outlinewidth\":0,\"ticks\":\"\"}}}],\"scattercarpet\":[{\"type\":\"scattercarpet\",\"marker\":{\"colorbar\":{\"outlinewidth\":0,\"ticks\":\"\"}}}],\"carpet\":[{\"aaxis\":{\"endlinecolor\":\"#2a3f5f\",\"gridcolor\":\"white\",\"linecolor\":\"white\",\"minorgridcolor\":\"white\",\"startlinecolor\":\"#2a3f5f\"},\"baxis\":{\"endlinecolor\":\"#2a3f5f\",\"gridcolor\":\"white\",\"linecolor\":\"white\",\"minorgridcolor\":\"white\",\"startlinecolor\":\"#2a3f5f\"},\"type\":\"carpet\"}],\"table\":[{\"cells\":{\"fill\":{\"color\":\"#EBF0F8\"},\"line\":{\"color\":\"white\"}},\"header\":{\"fill\":{\"color\":\"#C8D4E3\"},\"line\":{\"color\":\"white\"}},\"type\":\"table\"}],\"barpolar\":[{\"marker\":{\"line\":{\"color\":\"#E5ECF6\",\"width\":0.5},\"pattern\":{\"fillmode\":\"overlay\",\"size\":10,\"solidity\":0.2}},\"type\":\"barpolar\"}],\"pie\":[{\"automargin\":true,\"type\":\"pie\"}]},\"layout\":{\"autotypenumbers\":\"strict\",\"colorway\":[\"#636efa\",\"#EF553B\",\"#00cc96\",\"#ab63fa\",\"#FFA15A\",\"#19d3f3\",\"#FF6692\",\"#B6E880\",\"#FF97FF\",\"#FECB52\"],\"font\":{\"color\":\"#2a3f5f\"},\"hovermode\":\"closest\",\"hoverlabel\":{\"align\":\"left\"},\"paper_bgcolor\":\"white\",\"plot_bgcolor\":\"#E5ECF6\",\"polar\":{\"bgcolor\":\"#E5ECF6\",\"angularaxis\":{\"gridcolor\":\"white\",\"linecolor\":\"white\",\"ticks\":\"\"},\"radialaxis\":{\"gridcolor\":\"white\",\"linecolor\":\"white\",\"ticks\":\"\"}},\"ternary\":{\"bgcolor\":\"#E5ECF6\",\"aaxis\":{\"gridcolor\":\"white\",\"linecolor\":\"white\",\"ticks\":\"\"},\"baxis\":{\"gridcolor\":\"white\",\"linecolor\":\"white\",\"ticks\":\"\"},\"caxis\":{\"gridcolor\":\"white\",\"linecolor\":\"white\",\"ticks\":\"\"}},\"coloraxis\":{\"colorbar\":{\"outlinewidth\":0,\"ticks\":\"\"}},\"colorscale\":{\"sequential\":[[0.0,\"#0d0887\"],[0.1111111111111111,\"#46039f\"],[0.2222222222222222,\"#7201a8\"],[0.3333333333333333,\"#9c179e\"],[0.4444444444444444,\"#bd3786\"],[0.5555555555555556,\"#d8576b\"],[0.6666666666666666,\"#ed7953\"],[0.7777777777777778,\"#fb9f3a\"],[0.8888888888888888,\"#fdca26\"],[1.0,\"#f0f921\"]],\"sequentialminus\":[[0.0,\"#0d0887\"],[0.1111111111111111,\"#46039f\"],[0.2222222222222222,\"#7201a8\"],[0.3333333333333333,\"#9c179e\"],[0.4444444444444444,\"#bd3786\"],[0.5555555555555556,\"#d8576b\"],[0.6666666666666666,\"#ed7953\"],[0.7777777777777778,\"#fb9f3a\"],[0.8888888888888888,\"#fdca26\"],[1.0,\"#f0f921\"]],\"diverging\":[[0,\"#8e0152\"],[0.1,\"#c51b7d\"],[0.2,\"#de77ae\"],[0.3,\"#f1b6da\"],[0.4,\"#fde0ef\"],[0.5,\"#f7f7f7\"],[0.6,\"#e6f5d0\"],[0.7,\"#b8e186\"],[0.8,\"#7fbc41\"],[0.9,\"#4d9221\"],[1,\"#276419\"]]},\"xaxis\":{\"gridcolor\":\"white\",\"linecolor\":\"white\",\"ticks\":\"\",\"title\":{\"standoff\":15},\"zerolinecolor\":\"white\",\"automargin\":true,\"zerolinewidth\":2},\"yaxis\":{\"gridcolor\":\"white\",\"linecolor\":\"white\",\"ticks\":\"\",\"title\":{\"standoff\":15},\"zerolinecolor\":\"white\",\"automargin\":true,\"zerolinewidth\":2},\"scene\":{\"xaxis\":{\"backgroundcolor\":\"#E5ECF6\",\"gridcolor\":\"white\",\"linecolor\":\"white\",\"showbackground\":true,\"ticks\":\"\",\"zerolinecolor\":\"white\",\"gridwidth\":2},\"yaxis\":{\"backgroundcolor\":\"#E5ECF6\",\"gridcolor\":\"white\",\"linecolor\":\"white\",\"showbackground\":true,\"ticks\":\"\",\"zerolinecolor\":\"white\",\"gridwidth\":2},\"zaxis\":{\"backgroundcolor\":\"#E5ECF6\",\"gridcolor\":\"white\",\"linecolor\":\"white\",\"showbackground\":true,\"ticks\":\"\",\"zerolinecolor\":\"white\",\"gridwidth\":2}},\"shapedefaults\":{\"line\":{\"color\":\"#2a3f5f\"}},\"annotationdefaults\":{\"arrowcolor\":\"#2a3f5f\",\"arrowhead\":0,\"arrowwidth\":1},\"geo\":{\"bgcolor\":\"white\",\"landcolor\":\"#E5ECF6\",\"subunitcolor\":\"white\",\"showland\":true,\"showlakes\":true,\"lakecolor\":\"white\"},\"title\":{\"x\":0.05},\"mapbox\":{\"style\":\"light\"}}},\"xaxis\":{\"anchor\":\"y\",\"domain\":[0.0,1.0],\"title\":{\"text\":\"label\"}},\"yaxis\":{\"anchor\":\"x\",\"domain\":[0.0,1.0],\"title\":{\"text\":\"count\"}},\"legend\":{\"tracegroupgap\":0},\"margin\":{\"t\":60},\"barmode\":\"relative\"},                        {\"responsive\": true}                    ).then(function(){\n",
       "                            \n",
       "var gd = document.getElementById('0d5dee8c-1c8d-4f19-9576-b695dcab1343');\n",
       "var x = new MutationObserver(function (mutations, observer) {{\n",
       "        var display = window.getComputedStyle(gd).display;\n",
       "        if (!display || display === 'none') {{\n",
       "            console.log([gd, 'removed!']);\n",
       "            Plotly.purge(gd);\n",
       "            observer.disconnect();\n",
       "        }}\n",
       "}});\n",
       "\n",
       "// Listen for the removal of the full notebook cells\n",
       "var notebookContainer = gd.closest('#notebook-container');\n",
       "if (notebookContainer) {{\n",
       "    x.observe(notebookContainer, {childList: true});\n",
       "}}\n",
       "\n",
       "// Listen for the clearing of the current output cell\n",
       "var outputEl = gd.closest('.output');\n",
       "if (outputEl) {{\n",
       "    x.observe(outputEl, {childList: true});\n",
       "}}\n",
       "\n",
       "                        })                };                });            </script>        </div>"
      ]
     },
     "metadata": {},
     "output_type": "display_data"
    }
   ],
   "source": [
    "import plotly.express as px\n",
    "\n",
    "fig = px.histogram(news, x=\"label\")\n",
    "fig.show()"
   ]
  },
  {
   "cell_type": "markdown",
   "id": "f3e0e87a",
   "metadata": {},
   "source": [
    "Examine distribution or article types."
   ]
  },
  {
   "cell_type": "code",
   "execution_count": 75,
   "id": "6b0e1022",
   "metadata": {},
   "outputs": [
    {
     "data": {
      "application/vnd.plotly.v1+json": {
       "config": {
        "plotlyServerURL": "https://plot.ly"
       },
       "data": [
        {
         "alignmentgroup": "True",
         "bingroup": "x",
         "hovertemplate": "type=%{x}<br>count=%{y}<extra></extra>",
         "legendgroup": "",
         "marker": {
          "color": "#636efa",
          "pattern": {
           "shape": ""
          }
         },
         "name": "",
         "offsetgroup": "",
         "orientation": "v",
         "showlegend": false,
         "type": "histogram",
         "x": [
          "bias",
          "bias",
          "bias",
          "bias",
          "bias",
          "bias",
          "bias",
          "bias",
          "bias",
          "bias",
          "bias",
          "bias",
          "bias",
          "bias",
          "bias",
          "bias",
          "bias",
          "bias",
          "bias",
          "bias",
          "bias",
          "conspiracy",
          "conspiracy",
          "conspiracy",
          "conspiracy",
          "conspiracy",
          "conspiracy",
          "conspiracy",
          "conspiracy",
          "conspiracy",
          "conspiracy",
          "conspiracy",
          "conspiracy",
          "conspiracy",
          "conspiracy",
          "conspiracy",
          "conspiracy",
          "conspiracy",
          "conspiracy",
          "conspiracy",
          "conspiracy",
          "conspiracy",
          "conspiracy",
          "conspiracy",
          "conspiracy",
          "fake",
          "fake",
          "bs",
          "bs",
          "bs",
          "bs",
          "bs",
          "bs",
          "bs",
          "bs",
          "bs",
          "bs",
          "bs",
          "bs",
          "bs",
          "bs",
          "bs",
          "bs",
          "bs",
          "bs",
          "bs",
          "bs",
          "bs",
          "bs",
          "bs",
          "bs",
          "bs",
          "bs",
          "bs",
          "bs",
          "bs",
          "bs",
          "bs",
          "bs",
          "bs",
          "bs",
          "bs",
          "bs",
          "bs",
          "bs",
          "bs",
          "bs",
          "bs",
          "bs",
          "bs",
          "bs",
          "bs",
          "bs",
          "bs",
          "bs",
          "bs",
          "bs",
          "bs",
          "bs",
          "bs",
          "bs",
          "bs",
          "bs",
          "bs",
          "bs",
          "bs",
          "bs",
          "bs",
          "bs",
          "bs",
          "bs",
          "bs",
          "bs",
          "bs",
          "bs",
          "bs",
          "bs",
          "bs",
          "bs",
          "bs",
          "bs",
          "bs",
          "bs",
          "bs",
          "bs",
          "bs",
          "bs",
          "bs",
          "bs",
          "bs",
          "bs",
          "bs",
          "bs",
          "conspiracy",
          "conspiracy",
          "conspiracy",
          "conspiracy",
          "conspiracy",
          "conspiracy",
          "conspiracy",
          "conspiracy",
          "conspiracy",
          "conspiracy",
          "conspiracy",
          "conspiracy",
          "bias",
          "bias",
          "bias",
          "bias",
          "bias",
          "bias",
          "bias",
          "bias",
          "bias",
          "bias",
          "bias",
          "bias",
          "bias",
          "bias",
          "bias",
          "bias",
          "bias",
          "bias",
          "bias",
          "bias",
          "fake",
          "fake",
          "fake",
          "fake",
          "fake",
          "fake",
          "fake",
          "fake",
          "fake",
          "fake",
          "fake",
          "bs",
          "bs",
          "bs",
          "bs",
          "bs",
          "bs",
          "bs",
          "bs",
          "bs",
          "bs",
          "bs",
          "bs",
          "bs",
          "bs",
          "bs",
          "bs",
          "bs",
          "bs",
          "bs",
          "bs",
          "bs",
          "bs",
          "bs",
          "bs",
          "bs",
          "bs",
          "bs",
          "bs",
          "bs",
          "bs",
          "bs",
          "bs",
          "bs",
          "bs",
          "bs",
          "bs",
          "bs",
          "bs",
          "bs",
          "bs",
          "bs",
          "bs",
          "bs",
          "bs",
          "bs",
          "bs",
          "bs",
          "bs",
          "bs",
          "bs",
          "bs",
          "bs",
          "bs",
          "bs",
          "bs",
          "bs",
          "bs",
          "bs",
          "bs",
          "bs",
          "bs",
          "bs",
          "bs",
          "bs",
          "bs",
          "bs",
          "bs",
          "bs",
          "bs",
          "bs",
          "bs",
          "bs",
          "bs",
          "bs",
          "bs",
          "bs",
          "bs",
          "bs",
          "bs",
          "bs",
          "bs",
          "bs",
          "bs",
          "bs",
          "bs",
          "bs",
          "bs",
          "bs",
          "bs",
          "bs",
          "bs",
          "bs",
          "bs",
          "bs",
          "bs",
          "bs",
          "bs",
          "bs",
          "bs",
          "bs",
          "bs",
          "bs",
          "bs",
          "bs",
          "bs",
          "bs",
          "bs",
          "bs",
          "bs",
          "bs",
          "bs",
          "bs",
          "bs",
          "bs",
          "bs",
          "bs",
          "bs",
          "bs",
          "bs",
          "bs",
          "bs",
          "bs",
          "bs",
          "bs",
          "bs",
          "bs",
          "bs",
          "bs",
          "bs",
          "bs",
          "bs",
          "bs",
          "bs",
          "bs",
          "bs",
          "bs",
          "bs",
          "bs",
          "bs",
          "bs",
          "bs",
          "bs",
          "bs",
          "bs",
          "bs",
          "bs",
          "bs",
          "bs",
          "bs",
          "conspiracy",
          "conspiracy",
          "conspiracy",
          "conspiracy",
          "conspiracy",
          "conspiracy",
          "conspiracy",
          "conspiracy",
          "conspiracy",
          "conspiracy",
          "conspiracy",
          "conspiracy",
          "conspiracy",
          "conspiracy",
          "conspiracy",
          "conspiracy",
          "conspiracy",
          "conspiracy",
          "conspiracy",
          "conspiracy",
          "conspiracy",
          "conspiracy",
          "conspiracy",
          "conspiracy",
          "conspiracy",
          "conspiracy",
          "conspiracy",
          "conspiracy",
          "conspiracy",
          "conspiracy",
          "conspiracy",
          "conspiracy",
          "conspiracy",
          "conspiracy",
          "conspiracy",
          "conspiracy",
          "conspiracy",
          "conspiracy",
          "conspiracy",
          "conspiracy",
          "conspiracy",
          "conspiracy",
          "conspiracy",
          "conspiracy",
          "conspiracy",
          "conspiracy",
          "conspiracy",
          "conspiracy",
          "conspiracy",
          "conspiracy",
          "conspiracy",
          "conspiracy",
          "conspiracy",
          "conspiracy",
          "conspiracy",
          "conspiracy",
          "conspiracy",
          "conspiracy",
          "conspiracy",
          "conspiracy",
          "conspiracy",
          "conspiracy",
          "conspiracy",
          "conspiracy",
          "conspiracy",
          "conspiracy",
          "conspiracy",
          "conspiracy",
          "conspiracy",
          "conspiracy",
          "conspiracy",
          "conspiracy",
          "conspiracy",
          "conspiracy",
          "conspiracy",
          "conspiracy",
          "conspiracy",
          "conspiracy",
          "conspiracy",
          "conspiracy",
          "conspiracy",
          "conspiracy",
          "conspiracy",
          "conspiracy",
          "conspiracy",
          "conspiracy",
          "conspiracy",
          "conspiracy",
          "conspiracy",
          "conspiracy",
          "conspiracy",
          "conspiracy",
          "conspiracy",
          "bs",
          "satire",
          "satire",
          "satire",
          "satire",
          "satire",
          "satire",
          "satire",
          "satire",
          "satire",
          "satire",
          "satire",
          "satire",
          "satire",
          "satire",
          "satire",
          "satire",
          "satire",
          "satire",
          "satire",
          "satire",
          "satire",
          "satire",
          "satire",
          "satire",
          "satire",
          "satire",
          "satire",
          "satire",
          "satire",
          "satire",
          "satire",
          "satire",
          "satire",
          "satire",
          "satire",
          "satire",
          "satire",
          "satire",
          "satire",
          "satire",
          "satire",
          "satire",
          "satire",
          "satire",
          "satire",
          "satire",
          "satire",
          "satire",
          "satire",
          "satire",
          "satire",
          "satire",
          "satire",
          "satire",
          "satire",
          "satire",
          "satire",
          "satire",
          "satire",
          "satire",
          "satire",
          "satire",
          "satire",
          "satire",
          "satire",
          "satire",
          "satire",
          "satire",
          "satire",
          "satire",
          "satire",
          "satire",
          "satire",
          "satire",
          "satire",
          "satire",
          "satire",
          "satire",
          "satire",
          "satire",
          "satire",
          "satire",
          "satire",
          "satire",
          "satire",
          "satire",
          "satire",
          "satire",
          "satire",
          "satire",
          "satire",
          "satire",
          "satire",
          "satire",
          "satire",
          "satire",
          "satire",
          "bs",
          "bs",
          "bs",
          "bs",
          "bs",
          "bs",
          "bs",
          "bs",
          "bs",
          "bs",
          "bs",
          "bs",
          "bs",
          "bs",
          "bs",
          "bs",
          "bs",
          "bs",
          "bs",
          "bs",
          "bs",
          "bs",
          "bs",
          "bias",
          "bias",
          "bias",
          "bias",
          "bias",
          "bias",
          "bias",
          "bias",
          "bias",
          "bias",
          "bias",
          "bias",
          "bias",
          "bias",
          "bias",
          "bias",
          "bias",
          "bias",
          "bias",
          "bias",
          "bias",
          "bias",
          "bias",
          "bias",
          "bias",
          "bias",
          "bias",
          "bias",
          "bias",
          "bias",
          "bs",
          "bs",
          "bs",
          "bs",
          "bs",
          "bs",
          "bs",
          "bs",
          "hate",
          "hate",
          "hate",
          "hate",
          "hate",
          "hate",
          "hate",
          "hate",
          "hate",
          "hate",
          "hate",
          "hate",
          "hate",
          "hate",
          "hate",
          "hate",
          "hate",
          "hate",
          "hate",
          "hate",
          "hate",
          "hate",
          "hate",
          "hate",
          "hate",
          "hate",
          "hate",
          "hate",
          "hate",
          "hate",
          "bs",
          "bs",
          "junksci",
          "junksci",
          "bs",
          "bs",
          "bs",
          "bs",
          "bs",
          "bs",
          "bs",
          "bs",
          "bs",
          "bs",
          "bs",
          "bs",
          "bs",
          "bs",
          "bs",
          "bs",
          "bs",
          "bs",
          "bs",
          "bs",
          "bs",
          "bs",
          "bs",
          "bs",
          "bs",
          "bs",
          "bs",
          "bs",
          "bs",
          "bs",
          "bs",
          "bs",
          "bs",
          "bs",
          "bs",
          "bs",
          "bs",
          "bs",
          "bs",
          "bs",
          "bs",
          "bs",
          "bs",
          "bs",
          "bs",
          "bs",
          "bs",
          "bs",
          "bs",
          "bs",
          "bs",
          "bs",
          "bs",
          "bs",
          "bs",
          "bs",
          "bs",
          "bs",
          "bs",
          "bs",
          "bs",
          "bs",
          "bs",
          "bs",
          "bs",
          "bs",
          "bs",
          "bs",
          "bs",
          "bs",
          "bs",
          "bs",
          "bs",
          "bs",
          "bs",
          "bs",
          "bs",
          "bs",
          "bs",
          "bs",
          "bs",
          "bs",
          "bs",
          "bs",
          "bs",
          "bs",
          "bs",
          "hate",
          "hate",
          "hate",
          "hate",
          "hate",
          "hate",
          "hate",
          "hate",
          "hate",
          "hate",
          "hate",
          "hate",
          "hate",
          "hate",
          "hate",
          "hate",
          "hate",
          "hate",
          "hate",
          "hate",
          "hate",
          "hate",
          "hate",
          "hate",
          "hate",
          "hate",
          "hate",
          "hate",
          "hate",
          "hate",
          "hate",
          "hate",
          "hate",
          "hate",
          "hate",
          "hate",
          "hate",
          "hate",
          "hate",
          "hate",
          "hate",
          "hate",
          "hate",
          "hate",
          "hate",
          "hate",
          "hate",
          "hate",
          "hate",
          "hate",
          "hate",
          "hate",
          "hate",
          "hate",
          "hate",
          "hate",
          "hate",
          "hate",
          "hate",
          "hate",
          "hate",
          "hate",
          "hate",
          "hate",
          "hate",
          "hate",
          "hate",
          "hate",
          "hate",
          "hate",
          "hate",
          "hate",
          "hate",
          "hate",
          "hate",
          "hate",
          "hate",
          "hate",
          "hate",
          "hate",
          "hate",
          "hate",
          "hate",
          "hate",
          "hate",
          "hate",
          "hate",
          "hate",
          "hate",
          "hate",
          "hate",
          "hate",
          "hate",
          "hate",
          "hate",
          "hate",
          "hate",
          "hate",
          "hate",
          "bs",
          "bs",
          "bs",
          "bs",
          "bs",
          "conspiracy",
          "conspiracy",
          "conspiracy",
          "conspiracy",
          "conspiracy",
          "conspiracy",
          "conspiracy",
          "conspiracy",
          "conspiracy",
          "conspiracy",
          "conspiracy",
          "conspiracy",
          "conspiracy",
          "conspiracy",
          "conspiracy",
          "conspiracy",
          "conspiracy",
          "conspiracy",
          "conspiracy",
          "conspiracy",
          "conspiracy",
          "conspiracy",
          "conspiracy",
          "conspiracy",
          "conspiracy",
          "conspiracy",
          "conspiracy",
          "conspiracy",
          "conspiracy",
          "conspiracy",
          "conspiracy",
          "conspiracy",
          "conspiracy",
          "conspiracy",
          "conspiracy",
          "conspiracy",
          "conspiracy",
          "conspiracy",
          "conspiracy",
          "conspiracy",
          "conspiracy",
          "conspiracy",
          "conspiracy",
          "conspiracy",
          "conspiracy",
          "conspiracy",
          "conspiracy",
          "conspiracy",
          "conspiracy",
          "conspiracy",
          "conspiracy",
          "conspiracy",
          "conspiracy",
          "conspiracy",
          "conspiracy",
          "conspiracy",
          "conspiracy",
          "conspiracy",
          "conspiracy",
          "conspiracy",
          "conspiracy",
          "conspiracy",
          "conspiracy",
          "conspiracy",
          "conspiracy",
          "conspiracy",
          "conspiracy",
          "conspiracy",
          "conspiracy",
          "conspiracy",
          "conspiracy",
          "conspiracy",
          "conspiracy",
          "conspiracy",
          "conspiracy",
          "conspiracy",
          "conspiracy",
          "conspiracy",
          "conspiracy",
          "conspiracy",
          "conspiracy",
          "conspiracy",
          "conspiracy",
          "conspiracy",
          "conspiracy",
          "conspiracy",
          "conspiracy",
          "conspiracy",
          "conspiracy",
          "conspiracy",
          "conspiracy",
          "conspiracy",
          "conspiracy",
          "conspiracy",
          "conspiracy",
          "conspiracy",
          "conspiracy",
          "conspiracy",
          "conspiracy",
          "conspiracy",
          "bs",
          "satire",
          "satire",
          "satire",
          "satire",
          "satire",
          "satire",
          "satire",
          "satire",
          "satire",
          "satire",
          "satire",
          "satire",
          "satire",
          "satire",
          "satire",
          "satire",
          "satire",
          "satire",
          "satire",
          "satire",
          "satire",
          "satire",
          "satire",
          "satire",
          "satire",
          "satire",
          "satire",
          "satire",
          "satire",
          "satire",
          "satire",
          "satire",
          "satire",
          "satire",
          "satire",
          "satire",
          "satire",
          "satire",
          "satire",
          "satire",
          "satire",
          "satire",
          "satire",
          "satire",
          "satire",
          "satire",
          "bs",
          "junksci",
          "junksci",
          "junksci",
          "junksci",
          "junksci",
          "junksci",
          "junksci",
          "junksci",
          "junksci",
          "junksci",
          "junksci",
          "junksci",
          "junksci",
          "junksci",
          "junksci",
          "junksci",
          "junksci",
          "junksci",
          "junksci",
          "junksci",
          "junksci",
          "junksci",
          "junksci",
          "junksci",
          "junksci",
          "junksci",
          "junksci",
          "junksci",
          "junksci",
          "junksci",
          "junksci",
          "junksci",
          "junksci",
          "junksci",
          "junksci",
          "junksci",
          "junksci",
          "junksci",
          "junksci",
          "junksci",
          "junksci",
          "junksci",
          "junksci",
          "junksci",
          "junksci",
          "junksci",
          "junksci",
          "junksci",
          "junksci",
          "junksci",
          "junksci",
          "junksci",
          "junksci",
          "junksci",
          "junksci",
          "junksci",
          "junksci",
          "junksci",
          "junksci",
          "junksci",
          "junksci",
          "junksci",
          "junksci",
          "junksci",
          "junksci",
          "junksci",
          "junksci",
          "junksci",
          "junksci",
          "junksci",
          "junksci",
          "junksci",
          "junksci",
          "junksci",
          "junksci",
          "junksci",
          "junksci",
          "junksci",
          "junksci",
          "junksci",
          "junksci",
          "junksci",
          "junksci",
          "junksci",
          "junksci",
          "junksci",
          "junksci",
          "junksci",
          "junksci",
          "junksci",
          "junksci",
          "junksci",
          "junksci",
          "junksci",
          "junksci",
          "junksci",
          "junksci",
          "junksci",
          "junksci",
          "junksci",
          "conspiracy",
          "conspiracy",
          "conspiracy",
          "conspiracy",
          "conspiracy",
          "bias",
          "bias",
          "bias",
          "bias",
          "bias",
          "bias",
          "bias",
          "bias",
          "bias",
          "bias",
          "bias",
          "bias",
          "bias",
          "bias",
          "bias",
          "bias",
          "bias",
          "bias",
          "bias",
          "bias",
          "bias",
          "bias",
          "bias",
          "bias",
          "bias",
          "bias",
          "bias",
          "bias",
          "bias",
          "bias",
          "bias",
          "bias",
          "bias",
          "bias",
          "bias",
          "bias",
          "bias",
          "bias",
          "bias",
          "bias",
          "bias",
          "bias",
          "bias",
          "bias",
          "bias",
          "bias",
          "bias",
          "bias",
          "bias",
          "bias",
          "bias",
          "bias",
          "bias",
          "bias",
          "bias",
          "bias",
          "bias",
          "bias",
          "bias",
          "bias",
          "bias",
          "bias",
          "bias",
          "bias",
          "bias",
          "bias",
          "bias",
          "bias",
          "bias",
          "bias",
          "bias",
          "bias",
          "bias",
          "bias",
          "bias",
          "bias",
          "bias",
          "bias",
          "bias",
          "bias",
          "bias",
          "bias",
          "bias",
          "bias",
          "bias",
          "bias",
          "bias",
          "bias",
          "bias",
          "bias",
          "bias",
          "bias",
          "bias",
          "bias",
          "bias",
          "bias",
          "bias",
          "bias",
          "state",
          "state",
          "state",
          "state",
          "state",
          "state",
          "state",
          "state",
          "state",
          "state",
          "state",
          "state",
          "state",
          "state",
          "state",
          "state",
          "state",
          "state",
          "state",
          "state",
          "state",
          "state",
          "state",
          "state",
          "state",
          "state",
          "state",
          "state",
          "state",
          "state",
          "state",
          "state",
          "state",
          "state",
          "state",
          "state",
          "state",
          "state",
          "state",
          "state",
          "state",
          "state",
          "state",
          "state",
          "state",
          "state",
          "state",
          "state",
          "state",
          "state",
          "state",
          "state",
          "state",
          "state",
          "state",
          "state",
          "state",
          "state",
          "state",
          "state",
          "state",
          "state",
          "state",
          "state",
          "state",
          "state",
          "state",
          "state",
          "state",
          "state",
          "state",
          "state",
          "state",
          "state",
          "state",
          "state",
          "state",
          "state",
          "state",
          "state",
          "state",
          "state",
          "state",
          "state",
          "state",
          "state",
          "state",
          "state",
          "state",
          "state",
          "state",
          "state",
          "state",
          "state",
          "state",
          "state",
          "conspiracy",
          "conspiracy",
          "conspiracy",
          "conspiracy",
          "conspiracy",
          "conspiracy",
          "conspiracy",
          "conspiracy",
          "conspiracy",
          "conspiracy",
          "conspiracy",
          "conspiracy",
          "conspiracy",
          "conspiracy",
          "conspiracy",
          "conspiracy",
          "conspiracy",
          "conspiracy",
          "conspiracy",
          "conspiracy",
          "conspiracy",
          "conspiracy",
          "conspiracy",
          "conspiracy",
          "conspiracy",
          "conspiracy",
          "conspiracy",
          "conspiracy",
          "conspiracy",
          "conspiracy",
          "conspiracy",
          "conspiracy",
          "conspiracy",
          "conspiracy",
          "conspiracy",
          "conspiracy",
          "conspiracy",
          "conspiracy",
          "conspiracy",
          "conspiracy",
          "conspiracy",
          "conspiracy",
          "conspiracy",
          "conspiracy",
          "conspiracy",
          "conspiracy",
          "conspiracy",
          "conspiracy",
          "conspiracy",
          "conspiracy",
          "conspiracy",
          "conspiracy",
          "conspiracy",
          "conspiracy",
          "conspiracy",
          "conspiracy",
          "conspiracy",
          "conspiracy",
          "conspiracy",
          "conspiracy",
          "conspiracy",
          "conspiracy",
          "conspiracy",
          "conspiracy",
          "conspiracy",
          "conspiracy",
          "conspiracy",
          "conspiracy",
          "conspiracy",
          "conspiracy",
          "conspiracy",
          "conspiracy",
          "conspiracy",
          "conspiracy",
          "conspiracy",
          "conspiracy",
          "conspiracy",
          "conspiracy",
          "conspiracy",
          "bias",
          "bs",
          "hate",
          "hate",
          "hate",
          "hate",
          "hate",
          "hate",
          "hate",
          "hate",
          "hate",
          "hate",
          "hate",
          "hate",
          "hate",
          "hate",
          "hate",
          "hate",
          "hate",
          "hate",
          "hate",
          "hate",
          "hate",
          "hate",
          "hate",
          "hate",
          "hate",
          "hate",
          "hate",
          "hate",
          "hate",
          "hate",
          "hate",
          "hate",
          "hate",
          "hate",
          "hate",
          "hate",
          "hate",
          "hate",
          "hate",
          "hate",
          "hate",
          "hate",
          "hate",
          "hate",
          "hate",
          "hate",
          "hate",
          "hate",
          "hate",
          "hate",
          "hate",
          "hate",
          "hate",
          "hate",
          "hate",
          "hate",
          "hate",
          "hate",
          "hate",
          "hate",
          "hate",
          "hate",
          "hate",
          "hate",
          "hate",
          "hate",
          "hate",
          "hate",
          "hate",
          "hate",
          "hate",
          "hate",
          "hate",
          "hate",
          "hate",
          "hate",
          "hate",
          "hate",
          "hate",
          "hate",
          "hate",
          "hate",
          "hate",
          "hate",
          "hate",
          "hate",
          "hate",
          "hate",
          "hate",
          "hate",
          "hate",
          "hate",
          "hate",
          "hate",
          "hate",
          "hate",
          "hate",
          "bs",
          "bs",
          "bs",
          "bs",
          "bs",
          "bs",
          "bs",
          "bs",
          "bs",
          "bs",
          "bs",
          "bs",
          "bs",
          "bs",
          "bs",
          "bs",
          "bs",
          "bs",
          "bs",
          "bs",
          "bs",
          "bs",
          "bs",
          "bs",
          "bs",
          "bs",
          "bs",
          "bs",
          "bs",
          "bs",
          "bias",
          "bias",
          "bias",
          "bias",
          "bias",
          "bias",
          "bias",
          "bias",
          "bias",
          "bias",
          "bias",
          "bias",
          "bias",
          "bias",
          "bias",
          "bias",
          "bias",
          "bias",
          "bias",
          "bias",
          "bias",
          "bias",
          "bias",
          "bias",
          "bias",
          "bias",
          "bias",
          "bias",
          "bias",
          "bias",
          "bias",
          "bias",
          "bias",
          "bias",
          "bias",
          "bias",
          "bias",
          "bias",
          "bias",
          "bias",
          "bias",
          "bias",
          "bias",
          "bias",
          "bias",
          "bs",
          "bs",
          "bs",
          "bs",
          "bs",
          "bs",
          "bs",
          "bs",
          "bs",
          "bs",
          "bs",
          "bs",
          "bias",
          "bias",
          "bias",
          "bias",
          "bias",
          "bias",
          "bias",
          "bias",
          "bias",
          "bias",
          "bias",
          "bias",
          "bias",
          "bias",
          "bias",
          "bias",
          "bias",
          "bias",
          "bias",
          "bias",
          "bias",
          "bias",
          "bias",
          "bias",
          "bias",
          "bias",
          "bias",
          "bias",
          "bias",
          "bias",
          "bias",
          "bias",
          "bias",
          "bias",
          "bias",
          "bias",
          "bias",
          "bias",
          "bias",
          "bias",
          "bias",
          "bias",
          "bias",
          "bias",
          "bias",
          "bias",
          "bias",
          "bias",
          "bias",
          "bias",
          "bias",
          "bias",
          "bias",
          "bias"
         ],
         "xaxis": "x",
         "yaxis": "y"
        }
       ],
       "layout": {
        "barmode": "relative",
        "legend": {
         "tracegroupgap": 0
        },
        "margin": {
         "t": 60
        },
        "template": {
         "data": {
          "bar": [
           {
            "error_x": {
             "color": "#2a3f5f"
            },
            "error_y": {
             "color": "#2a3f5f"
            },
            "marker": {
             "line": {
              "color": "#E5ECF6",
              "width": 0.5
             },
             "pattern": {
              "fillmode": "overlay",
              "size": 10,
              "solidity": 0.2
             }
            },
            "type": "bar"
           }
          ],
          "barpolar": [
           {
            "marker": {
             "line": {
              "color": "#E5ECF6",
              "width": 0.5
             },
             "pattern": {
              "fillmode": "overlay",
              "size": 10,
              "solidity": 0.2
             }
            },
            "type": "barpolar"
           }
          ],
          "carpet": [
           {
            "aaxis": {
             "endlinecolor": "#2a3f5f",
             "gridcolor": "white",
             "linecolor": "white",
             "minorgridcolor": "white",
             "startlinecolor": "#2a3f5f"
            },
            "baxis": {
             "endlinecolor": "#2a3f5f",
             "gridcolor": "white",
             "linecolor": "white",
             "minorgridcolor": "white",
             "startlinecolor": "#2a3f5f"
            },
            "type": "carpet"
           }
          ],
          "choropleth": [
           {
            "colorbar": {
             "outlinewidth": 0,
             "ticks": ""
            },
            "type": "choropleth"
           }
          ],
          "contour": [
           {
            "colorbar": {
             "outlinewidth": 0,
             "ticks": ""
            },
            "colorscale": [
             [
              0,
              "#0d0887"
             ],
             [
              0.1111111111111111,
              "#46039f"
             ],
             [
              0.2222222222222222,
              "#7201a8"
             ],
             [
              0.3333333333333333,
              "#9c179e"
             ],
             [
              0.4444444444444444,
              "#bd3786"
             ],
             [
              0.5555555555555556,
              "#d8576b"
             ],
             [
              0.6666666666666666,
              "#ed7953"
             ],
             [
              0.7777777777777778,
              "#fb9f3a"
             ],
             [
              0.8888888888888888,
              "#fdca26"
             ],
             [
              1,
              "#f0f921"
             ]
            ],
            "type": "contour"
           }
          ],
          "contourcarpet": [
           {
            "colorbar": {
             "outlinewidth": 0,
             "ticks": ""
            },
            "type": "contourcarpet"
           }
          ],
          "heatmap": [
           {
            "colorbar": {
             "outlinewidth": 0,
             "ticks": ""
            },
            "colorscale": [
             [
              0,
              "#0d0887"
             ],
             [
              0.1111111111111111,
              "#46039f"
             ],
             [
              0.2222222222222222,
              "#7201a8"
             ],
             [
              0.3333333333333333,
              "#9c179e"
             ],
             [
              0.4444444444444444,
              "#bd3786"
             ],
             [
              0.5555555555555556,
              "#d8576b"
             ],
             [
              0.6666666666666666,
              "#ed7953"
             ],
             [
              0.7777777777777778,
              "#fb9f3a"
             ],
             [
              0.8888888888888888,
              "#fdca26"
             ],
             [
              1,
              "#f0f921"
             ]
            ],
            "type": "heatmap"
           }
          ],
          "heatmapgl": [
           {
            "colorbar": {
             "outlinewidth": 0,
             "ticks": ""
            },
            "colorscale": [
             [
              0,
              "#0d0887"
             ],
             [
              0.1111111111111111,
              "#46039f"
             ],
             [
              0.2222222222222222,
              "#7201a8"
             ],
             [
              0.3333333333333333,
              "#9c179e"
             ],
             [
              0.4444444444444444,
              "#bd3786"
             ],
             [
              0.5555555555555556,
              "#d8576b"
             ],
             [
              0.6666666666666666,
              "#ed7953"
             ],
             [
              0.7777777777777778,
              "#fb9f3a"
             ],
             [
              0.8888888888888888,
              "#fdca26"
             ],
             [
              1,
              "#f0f921"
             ]
            ],
            "type": "heatmapgl"
           }
          ],
          "histogram": [
           {
            "marker": {
             "pattern": {
              "fillmode": "overlay",
              "size": 10,
              "solidity": 0.2
             }
            },
            "type": "histogram"
           }
          ],
          "histogram2d": [
           {
            "colorbar": {
             "outlinewidth": 0,
             "ticks": ""
            },
            "colorscale": [
             [
              0,
              "#0d0887"
             ],
             [
              0.1111111111111111,
              "#46039f"
             ],
             [
              0.2222222222222222,
              "#7201a8"
             ],
             [
              0.3333333333333333,
              "#9c179e"
             ],
             [
              0.4444444444444444,
              "#bd3786"
             ],
             [
              0.5555555555555556,
              "#d8576b"
             ],
             [
              0.6666666666666666,
              "#ed7953"
             ],
             [
              0.7777777777777778,
              "#fb9f3a"
             ],
             [
              0.8888888888888888,
              "#fdca26"
             ],
             [
              1,
              "#f0f921"
             ]
            ],
            "type": "histogram2d"
           }
          ],
          "histogram2dcontour": [
           {
            "colorbar": {
             "outlinewidth": 0,
             "ticks": ""
            },
            "colorscale": [
             [
              0,
              "#0d0887"
             ],
             [
              0.1111111111111111,
              "#46039f"
             ],
             [
              0.2222222222222222,
              "#7201a8"
             ],
             [
              0.3333333333333333,
              "#9c179e"
             ],
             [
              0.4444444444444444,
              "#bd3786"
             ],
             [
              0.5555555555555556,
              "#d8576b"
             ],
             [
              0.6666666666666666,
              "#ed7953"
             ],
             [
              0.7777777777777778,
              "#fb9f3a"
             ],
             [
              0.8888888888888888,
              "#fdca26"
             ],
             [
              1,
              "#f0f921"
             ]
            ],
            "type": "histogram2dcontour"
           }
          ],
          "mesh3d": [
           {
            "colorbar": {
             "outlinewidth": 0,
             "ticks": ""
            },
            "type": "mesh3d"
           }
          ],
          "parcoords": [
           {
            "line": {
             "colorbar": {
              "outlinewidth": 0,
              "ticks": ""
             }
            },
            "type": "parcoords"
           }
          ],
          "pie": [
           {
            "automargin": true,
            "type": "pie"
           }
          ],
          "scatter": [
           {
            "fillpattern": {
             "fillmode": "overlay",
             "size": 10,
             "solidity": 0.2
            },
            "type": "scatter"
           }
          ],
          "scatter3d": [
           {
            "line": {
             "colorbar": {
              "outlinewidth": 0,
              "ticks": ""
             }
            },
            "marker": {
             "colorbar": {
              "outlinewidth": 0,
              "ticks": ""
             }
            },
            "type": "scatter3d"
           }
          ],
          "scattercarpet": [
           {
            "marker": {
             "colorbar": {
              "outlinewidth": 0,
              "ticks": ""
             }
            },
            "type": "scattercarpet"
           }
          ],
          "scattergeo": [
           {
            "marker": {
             "colorbar": {
              "outlinewidth": 0,
              "ticks": ""
             }
            },
            "type": "scattergeo"
           }
          ],
          "scattergl": [
           {
            "marker": {
             "colorbar": {
              "outlinewidth": 0,
              "ticks": ""
             }
            },
            "type": "scattergl"
           }
          ],
          "scattermapbox": [
           {
            "marker": {
             "colorbar": {
              "outlinewidth": 0,
              "ticks": ""
             }
            },
            "type": "scattermapbox"
           }
          ],
          "scatterpolar": [
           {
            "marker": {
             "colorbar": {
              "outlinewidth": 0,
              "ticks": ""
             }
            },
            "type": "scatterpolar"
           }
          ],
          "scatterpolargl": [
           {
            "marker": {
             "colorbar": {
              "outlinewidth": 0,
              "ticks": ""
             }
            },
            "type": "scatterpolargl"
           }
          ],
          "scatterternary": [
           {
            "marker": {
             "colorbar": {
              "outlinewidth": 0,
              "ticks": ""
             }
            },
            "type": "scatterternary"
           }
          ],
          "surface": [
           {
            "colorbar": {
             "outlinewidth": 0,
             "ticks": ""
            },
            "colorscale": [
             [
              0,
              "#0d0887"
             ],
             [
              0.1111111111111111,
              "#46039f"
             ],
             [
              0.2222222222222222,
              "#7201a8"
             ],
             [
              0.3333333333333333,
              "#9c179e"
             ],
             [
              0.4444444444444444,
              "#bd3786"
             ],
             [
              0.5555555555555556,
              "#d8576b"
             ],
             [
              0.6666666666666666,
              "#ed7953"
             ],
             [
              0.7777777777777778,
              "#fb9f3a"
             ],
             [
              0.8888888888888888,
              "#fdca26"
             ],
             [
              1,
              "#f0f921"
             ]
            ],
            "type": "surface"
           }
          ],
          "table": [
           {
            "cells": {
             "fill": {
              "color": "#EBF0F8"
             },
             "line": {
              "color": "white"
             }
            },
            "header": {
             "fill": {
              "color": "#C8D4E3"
             },
             "line": {
              "color": "white"
             }
            },
            "type": "table"
           }
          ]
         },
         "layout": {
          "annotationdefaults": {
           "arrowcolor": "#2a3f5f",
           "arrowhead": 0,
           "arrowwidth": 1
          },
          "autotypenumbers": "strict",
          "coloraxis": {
           "colorbar": {
            "outlinewidth": 0,
            "ticks": ""
           }
          },
          "colorscale": {
           "diverging": [
            [
             0,
             "#8e0152"
            ],
            [
             0.1,
             "#c51b7d"
            ],
            [
             0.2,
             "#de77ae"
            ],
            [
             0.3,
             "#f1b6da"
            ],
            [
             0.4,
             "#fde0ef"
            ],
            [
             0.5,
             "#f7f7f7"
            ],
            [
             0.6,
             "#e6f5d0"
            ],
            [
             0.7,
             "#b8e186"
            ],
            [
             0.8,
             "#7fbc41"
            ],
            [
             0.9,
             "#4d9221"
            ],
            [
             1,
             "#276419"
            ]
           ],
           "sequential": [
            [
             0,
             "#0d0887"
            ],
            [
             0.1111111111111111,
             "#46039f"
            ],
            [
             0.2222222222222222,
             "#7201a8"
            ],
            [
             0.3333333333333333,
             "#9c179e"
            ],
            [
             0.4444444444444444,
             "#bd3786"
            ],
            [
             0.5555555555555556,
             "#d8576b"
            ],
            [
             0.6666666666666666,
             "#ed7953"
            ],
            [
             0.7777777777777778,
             "#fb9f3a"
            ],
            [
             0.8888888888888888,
             "#fdca26"
            ],
            [
             1,
             "#f0f921"
            ]
           ],
           "sequentialminus": [
            [
             0,
             "#0d0887"
            ],
            [
             0.1111111111111111,
             "#46039f"
            ],
            [
             0.2222222222222222,
             "#7201a8"
            ],
            [
             0.3333333333333333,
             "#9c179e"
            ],
            [
             0.4444444444444444,
             "#bd3786"
            ],
            [
             0.5555555555555556,
             "#d8576b"
            ],
            [
             0.6666666666666666,
             "#ed7953"
            ],
            [
             0.7777777777777778,
             "#fb9f3a"
            ],
            [
             0.8888888888888888,
             "#fdca26"
            ],
            [
             1,
             "#f0f921"
            ]
           ]
          },
          "colorway": [
           "#636efa",
           "#EF553B",
           "#00cc96",
           "#ab63fa",
           "#FFA15A",
           "#19d3f3",
           "#FF6692",
           "#B6E880",
           "#FF97FF",
           "#FECB52"
          ],
          "font": {
           "color": "#2a3f5f"
          },
          "geo": {
           "bgcolor": "white",
           "lakecolor": "white",
           "landcolor": "#E5ECF6",
           "showlakes": true,
           "showland": true,
           "subunitcolor": "white"
          },
          "hoverlabel": {
           "align": "left"
          },
          "hovermode": "closest",
          "mapbox": {
           "style": "light"
          },
          "paper_bgcolor": "white",
          "plot_bgcolor": "#E5ECF6",
          "polar": {
           "angularaxis": {
            "gridcolor": "white",
            "linecolor": "white",
            "ticks": ""
           },
           "bgcolor": "#E5ECF6",
           "radialaxis": {
            "gridcolor": "white",
            "linecolor": "white",
            "ticks": ""
           }
          },
          "scene": {
           "xaxis": {
            "backgroundcolor": "#E5ECF6",
            "gridcolor": "white",
            "gridwidth": 2,
            "linecolor": "white",
            "showbackground": true,
            "ticks": "",
            "zerolinecolor": "white"
           },
           "yaxis": {
            "backgroundcolor": "#E5ECF6",
            "gridcolor": "white",
            "gridwidth": 2,
            "linecolor": "white",
            "showbackground": true,
            "ticks": "",
            "zerolinecolor": "white"
           },
           "zaxis": {
            "backgroundcolor": "#E5ECF6",
            "gridcolor": "white",
            "gridwidth": 2,
            "linecolor": "white",
            "showbackground": true,
            "ticks": "",
            "zerolinecolor": "white"
           }
          },
          "shapedefaults": {
           "line": {
            "color": "#2a3f5f"
           }
          },
          "ternary": {
           "aaxis": {
            "gridcolor": "white",
            "linecolor": "white",
            "ticks": ""
           },
           "baxis": {
            "gridcolor": "white",
            "linecolor": "white",
            "ticks": ""
           },
           "bgcolor": "#E5ECF6",
           "caxis": {
            "gridcolor": "white",
            "linecolor": "white",
            "ticks": ""
           }
          },
          "title": {
           "x": 0.05
          },
          "xaxis": {
           "automargin": true,
           "gridcolor": "white",
           "linecolor": "white",
           "ticks": "",
           "title": {
            "standoff": 15
           },
           "zerolinecolor": "white",
           "zerolinewidth": 2
          },
          "yaxis": {
           "automargin": true,
           "gridcolor": "white",
           "linecolor": "white",
           "ticks": "",
           "title": {
            "standoff": 15
           },
           "zerolinecolor": "white",
           "zerolinewidth": 2
          }
         }
        },
        "xaxis": {
         "anchor": "y",
         "domain": [
          0,
          1
         ],
         "title": {
          "text": "type"
         }
        },
        "yaxis": {
         "anchor": "x",
         "domain": [
          0,
          1
         ],
         "title": {
          "text": "count"
         }
        }
       }
      },
      "text/html": [
       "<div>                            <div id=\"3878e52d-cc02-4a0f-91ae-94d811f3b58c\" class=\"plotly-graph-div\" style=\"height:525px; width:100%;\"></div>            <script type=\"text/javascript\">                require([\"plotly\"], function(Plotly) {                    window.PLOTLYENV=window.PLOTLYENV || {};                                    if (document.getElementById(\"3878e52d-cc02-4a0f-91ae-94d811f3b58c\")) {                    Plotly.newPlot(                        \"3878e52d-cc02-4a0f-91ae-94d811f3b58c\",                        [{\"alignmentgroup\":\"True\",\"bingroup\":\"x\",\"hovertemplate\":\"type=%{x}<br>count=%{y}<extra></extra>\",\"legendgroup\":\"\",\"marker\":{\"color\":\"#636efa\",\"pattern\":{\"shape\":\"\"}},\"name\":\"\",\"offsetgroup\":\"\",\"orientation\":\"v\",\"showlegend\":false,\"x\":[\"bias\",\"bias\",\"bias\",\"bias\",\"bias\",\"bias\",\"bias\",\"bias\",\"bias\",\"bias\",\"bias\",\"bias\",\"bias\",\"bias\",\"bias\",\"bias\",\"bias\",\"bias\",\"bias\",\"bias\",\"bias\",\"conspiracy\",\"conspiracy\",\"conspiracy\",\"conspiracy\",\"conspiracy\",\"conspiracy\",\"conspiracy\",\"conspiracy\",\"conspiracy\",\"conspiracy\",\"conspiracy\",\"conspiracy\",\"conspiracy\",\"conspiracy\",\"conspiracy\",\"conspiracy\",\"conspiracy\",\"conspiracy\",\"conspiracy\",\"conspiracy\",\"conspiracy\",\"conspiracy\",\"conspiracy\",\"conspiracy\",\"fake\",\"fake\",\"bs\",\"bs\",\"bs\",\"bs\",\"bs\",\"bs\",\"bs\",\"bs\",\"bs\",\"bs\",\"bs\",\"bs\",\"bs\",\"bs\",\"bs\",\"bs\",\"bs\",\"bs\",\"bs\",\"bs\",\"bs\",\"bs\",\"bs\",\"bs\",\"bs\",\"bs\",\"bs\",\"bs\",\"bs\",\"bs\",\"bs\",\"bs\",\"bs\",\"bs\",\"bs\",\"bs\",\"bs\",\"bs\",\"bs\",\"bs\",\"bs\",\"bs\",\"bs\",\"bs\",\"bs\",\"bs\",\"bs\",\"bs\",\"bs\",\"bs\",\"bs\",\"bs\",\"bs\",\"bs\",\"bs\",\"bs\",\"bs\",\"bs\",\"bs\",\"bs\",\"bs\",\"bs\",\"bs\",\"bs\",\"bs\",\"bs\",\"bs\",\"bs\",\"bs\",\"bs\",\"bs\",\"bs\",\"bs\",\"bs\",\"bs\",\"bs\",\"bs\",\"bs\",\"bs\",\"bs\",\"bs\",\"bs\",\"bs\",\"bs\",\"bs\",\"bs\",\"conspiracy\",\"conspiracy\",\"conspiracy\",\"conspiracy\",\"conspiracy\",\"conspiracy\",\"conspiracy\",\"conspiracy\",\"conspiracy\",\"conspiracy\",\"conspiracy\",\"conspiracy\",\"bias\",\"bias\",\"bias\",\"bias\",\"bias\",\"bias\",\"bias\",\"bias\",\"bias\",\"bias\",\"bias\",\"bias\",\"bias\",\"bias\",\"bias\",\"bias\",\"bias\",\"bias\",\"bias\",\"bias\",\"fake\",\"fake\",\"fake\",\"fake\",\"fake\",\"fake\",\"fake\",\"fake\",\"fake\",\"fake\",\"fake\",\"bs\",\"bs\",\"bs\",\"bs\",\"bs\",\"bs\",\"bs\",\"bs\",\"bs\",\"bs\",\"bs\",\"bs\",\"bs\",\"bs\",\"bs\",\"bs\",\"bs\",\"bs\",\"bs\",\"bs\",\"bs\",\"bs\",\"bs\",\"bs\",\"bs\",\"bs\",\"bs\",\"bs\",\"bs\",\"bs\",\"bs\",\"bs\",\"bs\",\"bs\",\"bs\",\"bs\",\"bs\",\"bs\",\"bs\",\"bs\",\"bs\",\"bs\",\"bs\",\"bs\",\"bs\",\"bs\",\"bs\",\"bs\",\"bs\",\"bs\",\"bs\",\"bs\",\"bs\",\"bs\",\"bs\",\"bs\",\"bs\",\"bs\",\"bs\",\"bs\",\"bs\",\"bs\",\"bs\",\"bs\",\"bs\",\"bs\",\"bs\",\"bs\",\"bs\",\"bs\",\"bs\",\"bs\",\"bs\",\"bs\",\"bs\",\"bs\",\"bs\",\"bs\",\"bs\",\"bs\",\"bs\",\"bs\",\"bs\",\"bs\",\"bs\",\"bs\",\"bs\",\"bs\",\"bs\",\"bs\",\"bs\",\"bs\",\"bs\",\"bs\",\"bs\",\"bs\",\"bs\",\"bs\",\"bs\",\"bs\",\"bs\",\"bs\",\"bs\",\"bs\",\"bs\",\"bs\",\"bs\",\"bs\",\"bs\",\"bs\",\"bs\",\"bs\",\"bs\",\"bs\",\"bs\",\"bs\",\"bs\",\"bs\",\"bs\",\"bs\",\"bs\",\"bs\",\"bs\",\"bs\",\"bs\",\"bs\",\"bs\",\"bs\",\"bs\",\"bs\",\"bs\",\"bs\",\"bs\",\"bs\",\"bs\",\"bs\",\"bs\",\"bs\",\"bs\",\"bs\",\"bs\",\"bs\",\"bs\",\"bs\",\"bs\",\"bs\",\"bs\",\"bs\",\"bs\",\"conspiracy\",\"conspiracy\",\"conspiracy\",\"conspiracy\",\"conspiracy\",\"conspiracy\",\"conspiracy\",\"conspiracy\",\"conspiracy\",\"conspiracy\",\"conspiracy\",\"conspiracy\",\"conspiracy\",\"conspiracy\",\"conspiracy\",\"conspiracy\",\"conspiracy\",\"conspiracy\",\"conspiracy\",\"conspiracy\",\"conspiracy\",\"conspiracy\",\"conspiracy\",\"conspiracy\",\"conspiracy\",\"conspiracy\",\"conspiracy\",\"conspiracy\",\"conspiracy\",\"conspiracy\",\"conspiracy\",\"conspiracy\",\"conspiracy\",\"conspiracy\",\"conspiracy\",\"conspiracy\",\"conspiracy\",\"conspiracy\",\"conspiracy\",\"conspiracy\",\"conspiracy\",\"conspiracy\",\"conspiracy\",\"conspiracy\",\"conspiracy\",\"conspiracy\",\"conspiracy\",\"conspiracy\",\"conspiracy\",\"conspiracy\",\"conspiracy\",\"conspiracy\",\"conspiracy\",\"conspiracy\",\"conspiracy\",\"conspiracy\",\"conspiracy\",\"conspiracy\",\"conspiracy\",\"conspiracy\",\"conspiracy\",\"conspiracy\",\"conspiracy\",\"conspiracy\",\"conspiracy\",\"conspiracy\",\"conspiracy\",\"conspiracy\",\"conspiracy\",\"conspiracy\",\"conspiracy\",\"conspiracy\",\"conspiracy\",\"conspiracy\",\"conspiracy\",\"conspiracy\",\"conspiracy\",\"conspiracy\",\"conspiracy\",\"conspiracy\",\"conspiracy\",\"conspiracy\",\"conspiracy\",\"conspiracy\",\"conspiracy\",\"conspiracy\",\"conspiracy\",\"conspiracy\",\"conspiracy\",\"conspiracy\",\"conspiracy\",\"conspiracy\",\"conspiracy\",\"bs\",\"satire\",\"satire\",\"satire\",\"satire\",\"satire\",\"satire\",\"satire\",\"satire\",\"satire\",\"satire\",\"satire\",\"satire\",\"satire\",\"satire\",\"satire\",\"satire\",\"satire\",\"satire\",\"satire\",\"satire\",\"satire\",\"satire\",\"satire\",\"satire\",\"satire\",\"satire\",\"satire\",\"satire\",\"satire\",\"satire\",\"satire\",\"satire\",\"satire\",\"satire\",\"satire\",\"satire\",\"satire\",\"satire\",\"satire\",\"satire\",\"satire\",\"satire\",\"satire\",\"satire\",\"satire\",\"satire\",\"satire\",\"satire\",\"satire\",\"satire\",\"satire\",\"satire\",\"satire\",\"satire\",\"satire\",\"satire\",\"satire\",\"satire\",\"satire\",\"satire\",\"satire\",\"satire\",\"satire\",\"satire\",\"satire\",\"satire\",\"satire\",\"satire\",\"satire\",\"satire\",\"satire\",\"satire\",\"satire\",\"satire\",\"satire\",\"satire\",\"satire\",\"satire\",\"satire\",\"satire\",\"satire\",\"satire\",\"satire\",\"satire\",\"satire\",\"satire\",\"satire\",\"satire\",\"satire\",\"satire\",\"satire\",\"satire\",\"satire\",\"satire\",\"satire\",\"satire\",\"satire\",\"bs\",\"bs\",\"bs\",\"bs\",\"bs\",\"bs\",\"bs\",\"bs\",\"bs\",\"bs\",\"bs\",\"bs\",\"bs\",\"bs\",\"bs\",\"bs\",\"bs\",\"bs\",\"bs\",\"bs\",\"bs\",\"bs\",\"bs\",\"bias\",\"bias\",\"bias\",\"bias\",\"bias\",\"bias\",\"bias\",\"bias\",\"bias\",\"bias\",\"bias\",\"bias\",\"bias\",\"bias\",\"bias\",\"bias\",\"bias\",\"bias\",\"bias\",\"bias\",\"bias\",\"bias\",\"bias\",\"bias\",\"bias\",\"bias\",\"bias\",\"bias\",\"bias\",\"bias\",\"bs\",\"bs\",\"bs\",\"bs\",\"bs\",\"bs\",\"bs\",\"bs\",\"hate\",\"hate\",\"hate\",\"hate\",\"hate\",\"hate\",\"hate\",\"hate\",\"hate\",\"hate\",\"hate\",\"hate\",\"hate\",\"hate\",\"hate\",\"hate\",\"hate\",\"hate\",\"hate\",\"hate\",\"hate\",\"hate\",\"hate\",\"hate\",\"hate\",\"hate\",\"hate\",\"hate\",\"hate\",\"hate\",\"bs\",\"bs\",\"junksci\",\"junksci\",\"bs\",\"bs\",\"bs\",\"bs\",\"bs\",\"bs\",\"bs\",\"bs\",\"bs\",\"bs\",\"bs\",\"bs\",\"bs\",\"bs\",\"bs\",\"bs\",\"bs\",\"bs\",\"bs\",\"bs\",\"bs\",\"bs\",\"bs\",\"bs\",\"bs\",\"bs\",\"bs\",\"bs\",\"bs\",\"bs\",\"bs\",\"bs\",\"bs\",\"bs\",\"bs\",\"bs\",\"bs\",\"bs\",\"bs\",\"bs\",\"bs\",\"bs\",\"bs\",\"bs\",\"bs\",\"bs\",\"bs\",\"bs\",\"bs\",\"bs\",\"bs\",\"bs\",\"bs\",\"bs\",\"bs\",\"bs\",\"bs\",\"bs\",\"bs\",\"bs\",\"bs\",\"bs\",\"bs\",\"bs\",\"bs\",\"bs\",\"bs\",\"bs\",\"bs\",\"bs\",\"bs\",\"bs\",\"bs\",\"bs\",\"bs\",\"bs\",\"bs\",\"bs\",\"bs\",\"bs\",\"bs\",\"bs\",\"bs\",\"bs\",\"bs\",\"bs\",\"bs\",\"hate\",\"hate\",\"hate\",\"hate\",\"hate\",\"hate\",\"hate\",\"hate\",\"hate\",\"hate\",\"hate\",\"hate\",\"hate\",\"hate\",\"hate\",\"hate\",\"hate\",\"hate\",\"hate\",\"hate\",\"hate\",\"hate\",\"hate\",\"hate\",\"hate\",\"hate\",\"hate\",\"hate\",\"hate\",\"hate\",\"hate\",\"hate\",\"hate\",\"hate\",\"hate\",\"hate\",\"hate\",\"hate\",\"hate\",\"hate\",\"hate\",\"hate\",\"hate\",\"hate\",\"hate\",\"hate\",\"hate\",\"hate\",\"hate\",\"hate\",\"hate\",\"hate\",\"hate\",\"hate\",\"hate\",\"hate\",\"hate\",\"hate\",\"hate\",\"hate\",\"hate\",\"hate\",\"hate\",\"hate\",\"hate\",\"hate\",\"hate\",\"hate\",\"hate\",\"hate\",\"hate\",\"hate\",\"hate\",\"hate\",\"hate\",\"hate\",\"hate\",\"hate\",\"hate\",\"hate\",\"hate\",\"hate\",\"hate\",\"hate\",\"hate\",\"hate\",\"hate\",\"hate\",\"hate\",\"hate\",\"hate\",\"hate\",\"hate\",\"hate\",\"hate\",\"hate\",\"hate\",\"hate\",\"hate\",\"bs\",\"bs\",\"bs\",\"bs\",\"bs\",\"conspiracy\",\"conspiracy\",\"conspiracy\",\"conspiracy\",\"conspiracy\",\"conspiracy\",\"conspiracy\",\"conspiracy\",\"conspiracy\",\"conspiracy\",\"conspiracy\",\"conspiracy\",\"conspiracy\",\"conspiracy\",\"conspiracy\",\"conspiracy\",\"conspiracy\",\"conspiracy\",\"conspiracy\",\"conspiracy\",\"conspiracy\",\"conspiracy\",\"conspiracy\",\"conspiracy\",\"conspiracy\",\"conspiracy\",\"conspiracy\",\"conspiracy\",\"conspiracy\",\"conspiracy\",\"conspiracy\",\"conspiracy\",\"conspiracy\",\"conspiracy\",\"conspiracy\",\"conspiracy\",\"conspiracy\",\"conspiracy\",\"conspiracy\",\"conspiracy\",\"conspiracy\",\"conspiracy\",\"conspiracy\",\"conspiracy\",\"conspiracy\",\"conspiracy\",\"conspiracy\",\"conspiracy\",\"conspiracy\",\"conspiracy\",\"conspiracy\",\"conspiracy\",\"conspiracy\",\"conspiracy\",\"conspiracy\",\"conspiracy\",\"conspiracy\",\"conspiracy\",\"conspiracy\",\"conspiracy\",\"conspiracy\",\"conspiracy\",\"conspiracy\",\"conspiracy\",\"conspiracy\",\"conspiracy\",\"conspiracy\",\"conspiracy\",\"conspiracy\",\"conspiracy\",\"conspiracy\",\"conspiracy\",\"conspiracy\",\"conspiracy\",\"conspiracy\",\"conspiracy\",\"conspiracy\",\"conspiracy\",\"conspiracy\",\"conspiracy\",\"conspiracy\",\"conspiracy\",\"conspiracy\",\"conspiracy\",\"conspiracy\",\"conspiracy\",\"conspiracy\",\"conspiracy\",\"conspiracy\",\"conspiracy\",\"conspiracy\",\"conspiracy\",\"conspiracy\",\"conspiracy\",\"conspiracy\",\"conspiracy\",\"conspiracy\",\"conspiracy\",\"conspiracy\",\"conspiracy\",\"bs\",\"satire\",\"satire\",\"satire\",\"satire\",\"satire\",\"satire\",\"satire\",\"satire\",\"satire\",\"satire\",\"satire\",\"satire\",\"satire\",\"satire\",\"satire\",\"satire\",\"satire\",\"satire\",\"satire\",\"satire\",\"satire\",\"satire\",\"satire\",\"satire\",\"satire\",\"satire\",\"satire\",\"satire\",\"satire\",\"satire\",\"satire\",\"satire\",\"satire\",\"satire\",\"satire\",\"satire\",\"satire\",\"satire\",\"satire\",\"satire\",\"satire\",\"satire\",\"satire\",\"satire\",\"satire\",\"satire\",\"bs\",\"junksci\",\"junksci\",\"junksci\",\"junksci\",\"junksci\",\"junksci\",\"junksci\",\"junksci\",\"junksci\",\"junksci\",\"junksci\",\"junksci\",\"junksci\",\"junksci\",\"junksci\",\"junksci\",\"junksci\",\"junksci\",\"junksci\",\"junksci\",\"junksci\",\"junksci\",\"junksci\",\"junksci\",\"junksci\",\"junksci\",\"junksci\",\"junksci\",\"junksci\",\"junksci\",\"junksci\",\"junksci\",\"junksci\",\"junksci\",\"junksci\",\"junksci\",\"junksci\",\"junksci\",\"junksci\",\"junksci\",\"junksci\",\"junksci\",\"junksci\",\"junksci\",\"junksci\",\"junksci\",\"junksci\",\"junksci\",\"junksci\",\"junksci\",\"junksci\",\"junksci\",\"junksci\",\"junksci\",\"junksci\",\"junksci\",\"junksci\",\"junksci\",\"junksci\",\"junksci\",\"junksci\",\"junksci\",\"junksci\",\"junksci\",\"junksci\",\"junksci\",\"junksci\",\"junksci\",\"junksci\",\"junksci\",\"junksci\",\"junksci\",\"junksci\",\"junksci\",\"junksci\",\"junksci\",\"junksci\",\"junksci\",\"junksci\",\"junksci\",\"junksci\",\"junksci\",\"junksci\",\"junksci\",\"junksci\",\"junksci\",\"junksci\",\"junksci\",\"junksci\",\"junksci\",\"junksci\",\"junksci\",\"junksci\",\"junksci\",\"junksci\",\"junksci\",\"junksci\",\"junksci\",\"junksci\",\"junksci\",\"conspiracy\",\"conspiracy\",\"conspiracy\",\"conspiracy\",\"conspiracy\",\"bias\",\"bias\",\"bias\",\"bias\",\"bias\",\"bias\",\"bias\",\"bias\",\"bias\",\"bias\",\"bias\",\"bias\",\"bias\",\"bias\",\"bias\",\"bias\",\"bias\",\"bias\",\"bias\",\"bias\",\"bias\",\"bias\",\"bias\",\"bias\",\"bias\",\"bias\",\"bias\",\"bias\",\"bias\",\"bias\",\"bias\",\"bias\",\"bias\",\"bias\",\"bias\",\"bias\",\"bias\",\"bias\",\"bias\",\"bias\",\"bias\",\"bias\",\"bias\",\"bias\",\"bias\",\"bias\",\"bias\",\"bias\",\"bias\",\"bias\",\"bias\",\"bias\",\"bias\",\"bias\",\"bias\",\"bias\",\"bias\",\"bias\",\"bias\",\"bias\",\"bias\",\"bias\",\"bias\",\"bias\",\"bias\",\"bias\",\"bias\",\"bias\",\"bias\",\"bias\",\"bias\",\"bias\",\"bias\",\"bias\",\"bias\",\"bias\",\"bias\",\"bias\",\"bias\",\"bias\",\"bias\",\"bias\",\"bias\",\"bias\",\"bias\",\"bias\",\"bias\",\"bias\",\"bias\",\"bias\",\"bias\",\"bias\",\"bias\",\"bias\",\"bias\",\"bias\",\"bias\",\"bias\",\"state\",\"state\",\"state\",\"state\",\"state\",\"state\",\"state\",\"state\",\"state\",\"state\",\"state\",\"state\",\"state\",\"state\",\"state\",\"state\",\"state\",\"state\",\"state\",\"state\",\"state\",\"state\",\"state\",\"state\",\"state\",\"state\",\"state\",\"state\",\"state\",\"state\",\"state\",\"state\",\"state\",\"state\",\"state\",\"state\",\"state\",\"state\",\"state\",\"state\",\"state\",\"state\",\"state\",\"state\",\"state\",\"state\",\"state\",\"state\",\"state\",\"state\",\"state\",\"state\",\"state\",\"state\",\"state\",\"state\",\"state\",\"state\",\"state\",\"state\",\"state\",\"state\",\"state\",\"state\",\"state\",\"state\",\"state\",\"state\",\"state\",\"state\",\"state\",\"state\",\"state\",\"state\",\"state\",\"state\",\"state\",\"state\",\"state\",\"state\",\"state\",\"state\",\"state\",\"state\",\"state\",\"state\",\"state\",\"state\",\"state\",\"state\",\"state\",\"state\",\"state\",\"state\",\"state\",\"state\",\"conspiracy\",\"conspiracy\",\"conspiracy\",\"conspiracy\",\"conspiracy\",\"conspiracy\",\"conspiracy\",\"conspiracy\",\"conspiracy\",\"conspiracy\",\"conspiracy\",\"conspiracy\",\"conspiracy\",\"conspiracy\",\"conspiracy\",\"conspiracy\",\"conspiracy\",\"conspiracy\",\"conspiracy\",\"conspiracy\",\"conspiracy\",\"conspiracy\",\"conspiracy\",\"conspiracy\",\"conspiracy\",\"conspiracy\",\"conspiracy\",\"conspiracy\",\"conspiracy\",\"conspiracy\",\"conspiracy\",\"conspiracy\",\"conspiracy\",\"conspiracy\",\"conspiracy\",\"conspiracy\",\"conspiracy\",\"conspiracy\",\"conspiracy\",\"conspiracy\",\"conspiracy\",\"conspiracy\",\"conspiracy\",\"conspiracy\",\"conspiracy\",\"conspiracy\",\"conspiracy\",\"conspiracy\",\"conspiracy\",\"conspiracy\",\"conspiracy\",\"conspiracy\",\"conspiracy\",\"conspiracy\",\"conspiracy\",\"conspiracy\",\"conspiracy\",\"conspiracy\",\"conspiracy\",\"conspiracy\",\"conspiracy\",\"conspiracy\",\"conspiracy\",\"conspiracy\",\"conspiracy\",\"conspiracy\",\"conspiracy\",\"conspiracy\",\"conspiracy\",\"conspiracy\",\"conspiracy\",\"conspiracy\",\"conspiracy\",\"conspiracy\",\"conspiracy\",\"conspiracy\",\"conspiracy\",\"conspiracy\",\"conspiracy\",\"bias\",\"bs\",\"hate\",\"hate\",\"hate\",\"hate\",\"hate\",\"hate\",\"hate\",\"hate\",\"hate\",\"hate\",\"hate\",\"hate\",\"hate\",\"hate\",\"hate\",\"hate\",\"hate\",\"hate\",\"hate\",\"hate\",\"hate\",\"hate\",\"hate\",\"hate\",\"hate\",\"hate\",\"hate\",\"hate\",\"hate\",\"hate\",\"hate\",\"hate\",\"hate\",\"hate\",\"hate\",\"hate\",\"hate\",\"hate\",\"hate\",\"hate\",\"hate\",\"hate\",\"hate\",\"hate\",\"hate\",\"hate\",\"hate\",\"hate\",\"hate\",\"hate\",\"hate\",\"hate\",\"hate\",\"hate\",\"hate\",\"hate\",\"hate\",\"hate\",\"hate\",\"hate\",\"hate\",\"hate\",\"hate\",\"hate\",\"hate\",\"hate\",\"hate\",\"hate\",\"hate\",\"hate\",\"hate\",\"hate\",\"hate\",\"hate\",\"hate\",\"hate\",\"hate\",\"hate\",\"hate\",\"hate\",\"hate\",\"hate\",\"hate\",\"hate\",\"hate\",\"hate\",\"hate\",\"hate\",\"hate\",\"hate\",\"hate\",\"hate\",\"hate\",\"hate\",\"hate\",\"hate\",\"hate\",\"bs\",\"bs\",\"bs\",\"bs\",\"bs\",\"bs\",\"bs\",\"bs\",\"bs\",\"bs\",\"bs\",\"bs\",\"bs\",\"bs\",\"bs\",\"bs\",\"bs\",\"bs\",\"bs\",\"bs\",\"bs\",\"bs\",\"bs\",\"bs\",\"bs\",\"bs\",\"bs\",\"bs\",\"bs\",\"bs\",\"bias\",\"bias\",\"bias\",\"bias\",\"bias\",\"bias\",\"bias\",\"bias\",\"bias\",\"bias\",\"bias\",\"bias\",\"bias\",\"bias\",\"bias\",\"bias\",\"bias\",\"bias\",\"bias\",\"bias\",\"bias\",\"bias\",\"bias\",\"bias\",\"bias\",\"bias\",\"bias\",\"bias\",\"bias\",\"bias\",\"bias\",\"bias\",\"bias\",\"bias\",\"bias\",\"bias\",\"bias\",\"bias\",\"bias\",\"bias\",\"bias\",\"bias\",\"bias\",\"bias\",\"bias\",\"bs\",\"bs\",\"bs\",\"bs\",\"bs\",\"bs\",\"bs\",\"bs\",\"bs\",\"bs\",\"bs\",\"bs\",\"bias\",\"bias\",\"bias\",\"bias\",\"bias\",\"bias\",\"bias\",\"bias\",\"bias\",\"bias\",\"bias\",\"bias\",\"bias\",\"bias\",\"bias\",\"bias\",\"bias\",\"bias\",\"bias\",\"bias\",\"bias\",\"bias\",\"bias\",\"bias\",\"bias\",\"bias\",\"bias\",\"bias\",\"bias\",\"bias\",\"bias\",\"bias\",\"bias\",\"bias\",\"bias\",\"bias\",\"bias\",\"bias\",\"bias\",\"bias\",\"bias\",\"bias\",\"bias\",\"bias\",\"bias\",\"bias\",\"bias\",\"bias\",\"bias\",\"bias\",\"bias\",\"bias\",\"bias\",\"bias\"],\"xaxis\":\"x\",\"yaxis\":\"y\",\"type\":\"histogram\"}],                        {\"template\":{\"data\":{\"histogram2dcontour\":[{\"type\":\"histogram2dcontour\",\"colorbar\":{\"outlinewidth\":0,\"ticks\":\"\"},\"colorscale\":[[0.0,\"#0d0887\"],[0.1111111111111111,\"#46039f\"],[0.2222222222222222,\"#7201a8\"],[0.3333333333333333,\"#9c179e\"],[0.4444444444444444,\"#bd3786\"],[0.5555555555555556,\"#d8576b\"],[0.6666666666666666,\"#ed7953\"],[0.7777777777777778,\"#fb9f3a\"],[0.8888888888888888,\"#fdca26\"],[1.0,\"#f0f921\"]]}],\"choropleth\":[{\"type\":\"choropleth\",\"colorbar\":{\"outlinewidth\":0,\"ticks\":\"\"}}],\"histogram2d\":[{\"type\":\"histogram2d\",\"colorbar\":{\"outlinewidth\":0,\"ticks\":\"\"},\"colorscale\":[[0.0,\"#0d0887\"],[0.1111111111111111,\"#46039f\"],[0.2222222222222222,\"#7201a8\"],[0.3333333333333333,\"#9c179e\"],[0.4444444444444444,\"#bd3786\"],[0.5555555555555556,\"#d8576b\"],[0.6666666666666666,\"#ed7953\"],[0.7777777777777778,\"#fb9f3a\"],[0.8888888888888888,\"#fdca26\"],[1.0,\"#f0f921\"]]}],\"heatmap\":[{\"type\":\"heatmap\",\"colorbar\":{\"outlinewidth\":0,\"ticks\":\"\"},\"colorscale\":[[0.0,\"#0d0887\"],[0.1111111111111111,\"#46039f\"],[0.2222222222222222,\"#7201a8\"],[0.3333333333333333,\"#9c179e\"],[0.4444444444444444,\"#bd3786\"],[0.5555555555555556,\"#d8576b\"],[0.6666666666666666,\"#ed7953\"],[0.7777777777777778,\"#fb9f3a\"],[0.8888888888888888,\"#fdca26\"],[1.0,\"#f0f921\"]]}],\"heatmapgl\":[{\"type\":\"heatmapgl\",\"colorbar\":{\"outlinewidth\":0,\"ticks\":\"\"},\"colorscale\":[[0.0,\"#0d0887\"],[0.1111111111111111,\"#46039f\"],[0.2222222222222222,\"#7201a8\"],[0.3333333333333333,\"#9c179e\"],[0.4444444444444444,\"#bd3786\"],[0.5555555555555556,\"#d8576b\"],[0.6666666666666666,\"#ed7953\"],[0.7777777777777778,\"#fb9f3a\"],[0.8888888888888888,\"#fdca26\"],[1.0,\"#f0f921\"]]}],\"contourcarpet\":[{\"type\":\"contourcarpet\",\"colorbar\":{\"outlinewidth\":0,\"ticks\":\"\"}}],\"contour\":[{\"type\":\"contour\",\"colorbar\":{\"outlinewidth\":0,\"ticks\":\"\"},\"colorscale\":[[0.0,\"#0d0887\"],[0.1111111111111111,\"#46039f\"],[0.2222222222222222,\"#7201a8\"],[0.3333333333333333,\"#9c179e\"],[0.4444444444444444,\"#bd3786\"],[0.5555555555555556,\"#d8576b\"],[0.6666666666666666,\"#ed7953\"],[0.7777777777777778,\"#fb9f3a\"],[0.8888888888888888,\"#fdca26\"],[1.0,\"#f0f921\"]]}],\"surface\":[{\"type\":\"surface\",\"colorbar\":{\"outlinewidth\":0,\"ticks\":\"\"},\"colorscale\":[[0.0,\"#0d0887\"],[0.1111111111111111,\"#46039f\"],[0.2222222222222222,\"#7201a8\"],[0.3333333333333333,\"#9c179e\"],[0.4444444444444444,\"#bd3786\"],[0.5555555555555556,\"#d8576b\"],[0.6666666666666666,\"#ed7953\"],[0.7777777777777778,\"#fb9f3a\"],[0.8888888888888888,\"#fdca26\"],[1.0,\"#f0f921\"]]}],\"mesh3d\":[{\"type\":\"mesh3d\",\"colorbar\":{\"outlinewidth\":0,\"ticks\":\"\"}}],\"scatter\":[{\"fillpattern\":{\"fillmode\":\"overlay\",\"size\":10,\"solidity\":0.2},\"type\":\"scatter\"}],\"parcoords\":[{\"type\":\"parcoords\",\"line\":{\"colorbar\":{\"outlinewidth\":0,\"ticks\":\"\"}}}],\"scatterpolargl\":[{\"type\":\"scatterpolargl\",\"marker\":{\"colorbar\":{\"outlinewidth\":0,\"ticks\":\"\"}}}],\"bar\":[{\"error_x\":{\"color\":\"#2a3f5f\"},\"error_y\":{\"color\":\"#2a3f5f\"},\"marker\":{\"line\":{\"color\":\"#E5ECF6\",\"width\":0.5},\"pattern\":{\"fillmode\":\"overlay\",\"size\":10,\"solidity\":0.2}},\"type\":\"bar\"}],\"scattergeo\":[{\"type\":\"scattergeo\",\"marker\":{\"colorbar\":{\"outlinewidth\":0,\"ticks\":\"\"}}}],\"scatterpolar\":[{\"type\":\"scatterpolar\",\"marker\":{\"colorbar\":{\"outlinewidth\":0,\"ticks\":\"\"}}}],\"histogram\":[{\"marker\":{\"pattern\":{\"fillmode\":\"overlay\",\"size\":10,\"solidity\":0.2}},\"type\":\"histogram\"}],\"scattergl\":[{\"type\":\"scattergl\",\"marker\":{\"colorbar\":{\"outlinewidth\":0,\"ticks\":\"\"}}}],\"scatter3d\":[{\"type\":\"scatter3d\",\"line\":{\"colorbar\":{\"outlinewidth\":0,\"ticks\":\"\"}},\"marker\":{\"colorbar\":{\"outlinewidth\":0,\"ticks\":\"\"}}}],\"scattermapbox\":[{\"type\":\"scattermapbox\",\"marker\":{\"colorbar\":{\"outlinewidth\":0,\"ticks\":\"\"}}}],\"scatterternary\":[{\"type\":\"scatterternary\",\"marker\":{\"colorbar\":{\"outlinewidth\":0,\"ticks\":\"\"}}}],\"scattercarpet\":[{\"type\":\"scattercarpet\",\"marker\":{\"colorbar\":{\"outlinewidth\":0,\"ticks\":\"\"}}}],\"carpet\":[{\"aaxis\":{\"endlinecolor\":\"#2a3f5f\",\"gridcolor\":\"white\",\"linecolor\":\"white\",\"minorgridcolor\":\"white\",\"startlinecolor\":\"#2a3f5f\"},\"baxis\":{\"endlinecolor\":\"#2a3f5f\",\"gridcolor\":\"white\",\"linecolor\":\"white\",\"minorgridcolor\":\"white\",\"startlinecolor\":\"#2a3f5f\"},\"type\":\"carpet\"}],\"table\":[{\"cells\":{\"fill\":{\"color\":\"#EBF0F8\"},\"line\":{\"color\":\"white\"}},\"header\":{\"fill\":{\"color\":\"#C8D4E3\"},\"line\":{\"color\":\"white\"}},\"type\":\"table\"}],\"barpolar\":[{\"marker\":{\"line\":{\"color\":\"#E5ECF6\",\"width\":0.5},\"pattern\":{\"fillmode\":\"overlay\",\"size\":10,\"solidity\":0.2}},\"type\":\"barpolar\"}],\"pie\":[{\"automargin\":true,\"type\":\"pie\"}]},\"layout\":{\"autotypenumbers\":\"strict\",\"colorway\":[\"#636efa\",\"#EF553B\",\"#00cc96\",\"#ab63fa\",\"#FFA15A\",\"#19d3f3\",\"#FF6692\",\"#B6E880\",\"#FF97FF\",\"#FECB52\"],\"font\":{\"color\":\"#2a3f5f\"},\"hovermode\":\"closest\",\"hoverlabel\":{\"align\":\"left\"},\"paper_bgcolor\":\"white\",\"plot_bgcolor\":\"#E5ECF6\",\"polar\":{\"bgcolor\":\"#E5ECF6\",\"angularaxis\":{\"gridcolor\":\"white\",\"linecolor\":\"white\",\"ticks\":\"\"},\"radialaxis\":{\"gridcolor\":\"white\",\"linecolor\":\"white\",\"ticks\":\"\"}},\"ternary\":{\"bgcolor\":\"#E5ECF6\",\"aaxis\":{\"gridcolor\":\"white\",\"linecolor\":\"white\",\"ticks\":\"\"},\"baxis\":{\"gridcolor\":\"white\",\"linecolor\":\"white\",\"ticks\":\"\"},\"caxis\":{\"gridcolor\":\"white\",\"linecolor\":\"white\",\"ticks\":\"\"}},\"coloraxis\":{\"colorbar\":{\"outlinewidth\":0,\"ticks\":\"\"}},\"colorscale\":{\"sequential\":[[0.0,\"#0d0887\"],[0.1111111111111111,\"#46039f\"],[0.2222222222222222,\"#7201a8\"],[0.3333333333333333,\"#9c179e\"],[0.4444444444444444,\"#bd3786\"],[0.5555555555555556,\"#d8576b\"],[0.6666666666666666,\"#ed7953\"],[0.7777777777777778,\"#fb9f3a\"],[0.8888888888888888,\"#fdca26\"],[1.0,\"#f0f921\"]],\"sequentialminus\":[[0.0,\"#0d0887\"],[0.1111111111111111,\"#46039f\"],[0.2222222222222222,\"#7201a8\"],[0.3333333333333333,\"#9c179e\"],[0.4444444444444444,\"#bd3786\"],[0.5555555555555556,\"#d8576b\"],[0.6666666666666666,\"#ed7953\"],[0.7777777777777778,\"#fb9f3a\"],[0.8888888888888888,\"#fdca26\"],[1.0,\"#f0f921\"]],\"diverging\":[[0,\"#8e0152\"],[0.1,\"#c51b7d\"],[0.2,\"#de77ae\"],[0.3,\"#f1b6da\"],[0.4,\"#fde0ef\"],[0.5,\"#f7f7f7\"],[0.6,\"#e6f5d0\"],[0.7,\"#b8e186\"],[0.8,\"#7fbc41\"],[0.9,\"#4d9221\"],[1,\"#276419\"]]},\"xaxis\":{\"gridcolor\":\"white\",\"linecolor\":\"white\",\"ticks\":\"\",\"title\":{\"standoff\":15},\"zerolinecolor\":\"white\",\"automargin\":true,\"zerolinewidth\":2},\"yaxis\":{\"gridcolor\":\"white\",\"linecolor\":\"white\",\"ticks\":\"\",\"title\":{\"standoff\":15},\"zerolinecolor\":\"white\",\"automargin\":true,\"zerolinewidth\":2},\"scene\":{\"xaxis\":{\"backgroundcolor\":\"#E5ECF6\",\"gridcolor\":\"white\",\"linecolor\":\"white\",\"showbackground\":true,\"ticks\":\"\",\"zerolinecolor\":\"white\",\"gridwidth\":2},\"yaxis\":{\"backgroundcolor\":\"#E5ECF6\",\"gridcolor\":\"white\",\"linecolor\":\"white\",\"showbackground\":true,\"ticks\":\"\",\"zerolinecolor\":\"white\",\"gridwidth\":2},\"zaxis\":{\"backgroundcolor\":\"#E5ECF6\",\"gridcolor\":\"white\",\"linecolor\":\"white\",\"showbackground\":true,\"ticks\":\"\",\"zerolinecolor\":\"white\",\"gridwidth\":2}},\"shapedefaults\":{\"line\":{\"color\":\"#2a3f5f\"}},\"annotationdefaults\":{\"arrowcolor\":\"#2a3f5f\",\"arrowhead\":0,\"arrowwidth\":1},\"geo\":{\"bgcolor\":\"white\",\"landcolor\":\"#E5ECF6\",\"subunitcolor\":\"white\",\"showland\":true,\"showlakes\":true,\"lakecolor\":\"white\"},\"title\":{\"x\":0.05},\"mapbox\":{\"style\":\"light\"}}},\"xaxis\":{\"anchor\":\"y\",\"domain\":[0.0,1.0],\"title\":{\"text\":\"type\"}},\"yaxis\":{\"anchor\":\"x\",\"domain\":[0.0,1.0],\"title\":{\"text\":\"count\"}},\"legend\":{\"tracegroupgap\":0},\"margin\":{\"t\":60},\"barmode\":\"relative\"},                        {\"responsive\": true}                    ).then(function(){\n",
       "                            \n",
       "var gd = document.getElementById('3878e52d-cc02-4a0f-91ae-94d811f3b58c');\n",
       "var x = new MutationObserver(function (mutations, observer) {{\n",
       "        var display = window.getComputedStyle(gd).display;\n",
       "        if (!display || display === 'none') {{\n",
       "            console.log([gd, 'removed!']);\n",
       "            Plotly.purge(gd);\n",
       "            observer.disconnect();\n",
       "        }}\n",
       "}});\n",
       "\n",
       "// Listen for the removal of the full notebook cells\n",
       "var notebookContainer = gd.closest('#notebook-container');\n",
       "if (notebookContainer) {{\n",
       "    x.observe(notebookContainer, {childList: true});\n",
       "}}\n",
       "\n",
       "// Listen for the clearing of the current output cell\n",
       "var outputEl = gd.closest('.output');\n",
       "if (outputEl) {{\n",
       "    x.observe(outputEl, {childList: true});\n",
       "}}\n",
       "\n",
       "                        })                };                });            </script>        </div>"
      ]
     },
     "metadata": {},
     "output_type": "display_data"
    }
   ],
   "source": [
    "fig = px.histogram(news, x=\"type\")\n",
    "fig.show()"
   ]
  },
  {
   "cell_type": "markdown",
   "id": "8ada91fa",
   "metadata": {},
   "source": [
    "Evaluate distribution of article lengths."
   ]
  },
  {
   "cell_type": "code",
   "execution_count": 76,
   "id": "02495176",
   "metadata": {},
   "outputs": [
    {
     "data": {
      "application/vnd.plotly.v1+json": {
       "config": {
        "plotlyServerURL": "https://plot.ly"
       },
       "data": [
        {
         "alignmentgroup": "True",
         "bingroup": "x",
         "hovertemplate": "length=%{x}<br>count=%{y}<extra></extra>",
         "legendgroup": "",
         "marker": {
          "color": "#636efa",
          "pattern": {
           "shape": ""
          }
         },
         "name": "",
         "offsetgroup": "",
         "orientation": "v",
         "showlegend": false,
         "type": "histogram",
         "x": [
          1724,
          1326,
          2052,
          1165,
          5653,
          2428,
          1258,
          706,
          4018,
          4410,
          2496,
          3078,
          1434,
          3000,
          954,
          2691,
          2813,
          1588,
          592,
          995,
          671,
          3469,
          6898,
          7130,
          29613,
          20176,
          3326,
          2882,
          766,
          1345,
          2554,
          509,
          868,
          998,
          1140,
          11641,
          2987,
          1759,
          1104,
          10917,
          2254,
          3472,
          16486,
          6996,
          4370,
          5131,
          28632,
          916,
          637,
          688,
          688,
          637,
          688,
          26170,
          2271,
          692,
          1375,
          2271,
          2271,
          2271,
          1166,
          27518,
          1185,
          850,
          1878,
          23353,
          1892,
          1585,
          747,
          8109,
          1029,
          3095,
          636,
          636,
          747,
          747,
          6758,
          867,
          2512,
          2512,
          1361,
          1361,
          2454,
          4807,
          651,
          3675,
          6719,
          716,
          2650,
          818,
          2708,
          855,
          1845,
          2462,
          7123,
          1349,
          2040,
          2954,
          2766,
          1534,
          1410,
          1770,
          5108,
          1599,
          2627,
          1776,
          1006,
          1065,
          823,
          533,
          2640,
          1981,
          535,
          1261,
          822,
          6757,
          1790,
          2394,
          5228,
          2608,
          1961,
          1252,
          1320,
          1285,
          1217,
          1008,
          1823,
          1222,
          1783,
          886,
          1516,
          3891,
          1981,
          3444,
          1944,
          6920,
          9923,
          1326,
          14476,
          13952,
          4035,
          3576,
          3175,
          3901,
          3343,
          1143,
          2354,
          2147,
          2774,
          3430,
          2389,
          1459,
          6014,
          1753,
          2537,
          1894,
          2030,
          3128,
          3086,
          2452,
          1787,
          2512,
          2948,
          1237,
          2571,
          844,
          1800,
          1170,
          1059,
          1764,
          1333,
          788,
          872,
          1685,
          1752,
          1291,
          8414,
          1804,
          8875,
          2475,
          1899,
          14590,
          2552,
          2798,
          2859,
          1987,
          4989,
          1912,
          2196,
          15256,
          25349,
          2369,
          1426,
          8654,
          6168,
          2992,
          2165,
          645,
          8533,
          5830,
          4160,
          4534,
          5520,
          9199,
          25977,
          2053,
          2645,
          7689,
          3627,
          8626,
          6075,
          2484,
          2329,
          4230,
          6897,
          7696,
          6515,
          1849,
          577,
          1632,
          6923,
          1468,
          9086,
          14529,
          2743,
          2287,
          10022,
          7354,
          1712,
          1540,
          1863,
          550,
          609,
          8420,
          652,
          1065,
          2583,
          2353,
          2742,
          8968,
          4282,
          1282,
          1015,
          1829,
          2564,
          2417,
          2009,
          2021,
          2890,
          12213,
          739,
          1830,
          2283,
          2653,
          2444,
          1856,
          739,
          2210,
          1630,
          1816,
          4844,
          1819,
          1345,
          3209,
          1452,
          1585,
          1328,
          2746,
          2245,
          3194,
          24309,
          4523,
          10241,
          752,
          1643,
          823,
          1591,
          1431,
          5204,
          8736,
          5497,
          735,
          4506,
          2134,
          1673,
          526,
          2383,
          900,
          1023,
          2515,
          2133,
          2989,
          3324,
          8781,
          7009,
          5009,
          5217,
          926,
          1820,
          4886,
          720,
          2483,
          722,
          747,
          2929,
          2274,
          3392,
          870,
          3749,
          4157,
          2604,
          4133,
          1427,
          8502,
          1938,
          2670,
          10281,
          3835,
          4585,
          3720,
          2164,
          642,
          2128,
          1373,
          1112,
          1373,
          1112,
          1198,
          2974,
          807,
          1673,
          1772,
          1594,
          1489,
          951,
          2493,
          1496,
          1425,
          2783,
          1899,
          2327,
          2943,
          2884,
          3049,
          4047,
          1698,
          3140,
          2690,
          1705,
          772,
          838,
          1463,
          846,
          5154,
          4411,
          1721,
          4854,
          3103,
          2327,
          2943,
          3049,
          4047,
          1698,
          3140,
          2690,
          1705,
          772,
          1463,
          846,
          5154,
          4411,
          1721,
          4854,
          2200,
          3103,
          3684,
          1781,
          1781,
          2200,
          3684,
          2884,
          2394,
          921,
          1910,
          1983,
          1834,
          1158,
          2394,
          2263,
          4043,
          832,
          2172,
          921,
          1910,
          1983,
          1158,
          1562,
          4043,
          832,
          2172,
          1562,
          1834,
          3240,
          3240,
          2263,
          2937,
          923,
          3041,
          3041,
          2937,
          923,
          4952,
          4952,
          1070,
          714,
          1039,
          16656,
          715,
          4567,
          2565,
          1937,
          1380,
          3309,
          1584,
          14637,
          2646,
          568,
          1987,
          1119,
          1440,
          893,
          2294,
          1795,
          1606,
          1799,
          2153,
          709,
          2101,
          2631,
          2404,
          1554,
          2188,
          658,
          710,
          1868,
          1936,
          2648,
          2394,
          2007,
          1572,
          2516,
          1243,
          8043,
          1680,
          1166,
          1902,
          2903,
          2218,
          1052,
          2272,
          802,
          2108,
          2494,
          747,
          819,
          1894,
          2202,
          1773,
          2630,
          1854,
          2198,
          2459,
          879,
          2090,
          1664,
          1640,
          2738,
          2107,
          2016,
          2638,
          1631,
          2165,
          2444,
          1362,
          1902,
          775,
          3535,
          1833,
          1957,
          872,
          1979,
          1877,
          2133,
          2903,
          601,
          3975,
          3284,
          2291,
          689,
          1983,
          2547,
          697,
          2218,
          957,
          1492,
          3080,
          728,
          3357,
          3542,
          3349,
          1062,
          1901,
          2531,
          3266,
          1555,
          696,
          1451,
          733,
          5529,
          987,
          500,
          541,
          6816,
          1017,
          2012,
          694,
          1140,
          712,
          540,
          539,
          576,
          620,
          1207,
          8799,
          3437,
          7165,
          12947,
          4080,
          11637,
          3247,
          2178,
          2912,
          2424,
          2438,
          2144,
          5102,
          3351,
          14089,
          1361,
          5974,
          2064,
          1958,
          8075,
          2302,
          4170,
          6776,
          7377,
          936,
          6013,
          4754,
          2139,
          7352,
          1882,
          5056,
          2401,
          2947,
          2416,
          2752,
          3896,
          7669,
          25509,
          8887,
          6513,
          4715,
          1208,
          713,
          3766,
          982,
          7784,
          964,
          7997,
          1126,
          571,
          974,
          823,
          869,
          3754,
          1728,
          566,
          679,
          1270,
          1294,
          1043,
          881,
          1125,
          1035,
          25092,
          1207,
          1303,
          1756,
          32759,
          1037,
          2803,
          925,
          1143,
          987,
          507,
          517,
          1853,
          1950,
          3050,
          3920,
          2177,
          8244,
          2076,
          669,
          5928,
          8231,
          2906,
          2262,
          5714,
          2455,
          2818,
          3331,
          1334,
          4104,
          2276,
          5535,
          4279,
          3067,
          6532,
          3602,
          9196,
          1061,
          7794,
          8817,
          830,
          7711,
          7804,
          1084,
          6856,
          9196,
          7297,
          4686,
          7126,
          6672,
          8646,
          4488,
          1515,
          1537,
          1950,
          974,
          1450,
          1306,
          1512,
          1643,
          1334,
          1982,
          1546,
          1368,
          775,
          1518,
          1717,
          516,
          8201,
          2193,
          2294,
          1795,
          1191,
          1796,
          728,
          1234,
          3935,
          2797,
          1283,
          2858,
          2797,
          946,
          1496,
          1584,
          3450,
          1181,
          5451,
          20888,
          7655,
          6194,
          6563,
          930,
          4552,
          3016,
          4549,
          1790,
          1915,
          9293,
          1827,
          2636,
          8271,
          1799,
          1034,
          6242,
          16788,
          5406,
          6673,
          2732,
          6389,
          1320,
          1161,
          5299,
          2835,
          9525,
          2015,
          2416,
          10894,
          8767,
          6631,
          8874,
          7620,
          7579,
          10250,
          6676,
          5903,
          19144,
          5714,
          1528,
          1289,
          2449,
          4565,
          2156,
          1712,
          1510,
          1412,
          1885,
          1650,
          2426,
          824,
          2596,
          1267,
          1705,
          1297,
          19369,
          5299,
          6433,
          3637,
          4000,
          7668,
          1880,
          1199,
          1378,
          2048,
          1460,
          1469,
          7063,
          7076,
          7979,
          9031,
          3007,
          4276,
          2079,
          2104,
          2557,
          1861,
          1354,
          7088,
          8134,
          5302,
          7000,
          8298,
          7231,
          946,
          1308,
          3959,
          768,
          3424,
          2104,
          5662,
          4814,
          8009,
          8887,
          1424,
          1013,
          2104,
          2723,
          5163,
          3716,
          1810,
          5225,
          7398,
          4183,
          6817,
          5975,
          4802,
          6692,
          5135,
          1807,
          1409,
          1642,
          5552,
          1402,
          6964,
          1402,
          1402,
          8183,
          829,
          551,
          1170,
          2631,
          6569,
          10898,
          1095,
          1083,
          3630,
          2352,
          1457,
          1354,
          817,
          4202,
          1222,
          1780,
          1524,
          9127,
          676,
          7202,
          3882,
          1584,
          980,
          621,
          2120,
          2204,
          4080,
          695,
          3082,
          1291,
          2161,
          1892,
          2265,
          4000,
          1121,
          777,
          8879,
          4081,
          4416,
          4011,
          4031,
          4011,
          964,
          511,
          2555,
          1139,
          1041,
          1286,
          2791,
          1964,
          638,
          2255,
          587,
          2409,
          789,
          886,
          619,
          1001,
          5471,
          1295,
          588,
          2365,
          1019,
          789,
          1827,
          2567,
          6026,
          1735,
          1554,
          1667,
          3109,
          1704,
          1516,
          4178,
          1991,
          1037,
          595,
          3999,
          4104,
          584,
          4192,
          4034,
          3991,
          4024,
          631,
          3958,
          2482,
          3714,
          4005,
          4038,
          4046,
          663,
          10551,
          14841,
          1585,
          4155,
          3277,
          1426,
          4191,
          4232,
          2982,
          3651,
          4094,
          4362,
          4563,
          5444,
          4294,
          3807,
          3823,
          4247,
          4191,
          4014,
          3776,
          3857,
          4783,
          2979,
          2530,
          3198,
          5838,
          5321,
          4710,
          2779,
          5585,
          3552,
          3513,
          4187,
          3870,
          3794,
          4144,
          5392,
          3883,
          3756,
          1485,
          4561,
          3861,
          2917,
          2271,
          7147,
          4390,
          4229,
          9126,
          2909,
          3101,
          9144,
          3487,
          3857,
          3493,
          3603,
          31587,
          3884,
          4018,
          3850,
          3972,
          3819,
          4182,
          3784,
          3846,
          7472,
          10482,
          4307,
          7253,
          3932,
          3124,
          3077,
          2285,
          3979,
          4302,
          2747,
          5167,
          2301,
          4805,
          4872,
          4153,
          4050,
          4000,
          3617,
          3604,
          5045,
          3701,
          3766,
          4095,
          3328,
          4736,
          1568,
          3350,
          2415,
          7419,
          4096,
          3811,
          2191,
          6388,
          4811,
          8213,
          3224,
          4407,
          10045,
          3895,
          4222,
          3900,
          4206,
          3574,
          3464,
          2817,
          2776,
          2728,
          2898,
          1580,
          1614,
          1285,
          2423,
          2612,
          1146,
          1617,
          2311,
          1433,
          3352,
          6262,
          2169,
          1994,
          3155,
          2382,
          1811,
          2267,
          1817,
          1825,
          2556,
          1123,
          2877,
          1752,
          983,
          1905,
          1681,
          3212,
          1890,
          2049,
          2078,
          1640,
          1686,
          1983,
          1964,
          3671,
          1571,
          3937,
          1891,
          1198,
          1614,
          3360,
          1919,
          1826,
          1380,
          4064,
          5419,
          3845,
          4595,
          2390,
          7582,
          1983,
          2879,
          1485,
          6895,
          2686,
          6019,
          2890,
          4503,
          4938,
          2062,
          3851,
          2114,
          1976,
          4777,
          1310,
          1764,
          3239,
          3028,
          3199,
          4676,
          1956,
          7343,
          2337,
          2694,
          8163,
          3705,
          3028,
          3343,
          1859,
          2343,
          2182,
          1532,
          1281,
          3883,
          2785,
          2664,
          4147,
          7345,
          4192,
          1870,
          5546,
          2880,
          1211,
          1330,
          1638,
          2211,
          2055,
          2260,
          3023,
          1544,
          2715,
          1981,
          2542,
          3539,
          2513,
          2193,
          2395,
          1582,
          3268,
          2151,
          2394,
          1876,
          2551,
          1958,
          2580,
          1724,
          2446,
          1452,
          4529,
          2720,
          2043,
          1700,
          1949,
          1216,
          2046,
          1711,
          2316,
          2815,
          2244,
          2080,
          1058,
          2217,
          2672,
          666,
          2519,
          907,
          3212,
          626,
          2488,
          922,
          1942,
          1857,
          930,
          1929,
          2208,
          2711,
          3431,
          1698,
          720,
          814,
          794,
          2492,
          1954,
          3322,
          1038,
          2174,
          1915,
          1693,
          2038,
          1855,
          2740,
          682,
          2068,
          700,
          512,
          3464,
          1725,
          2320,
          856,
          2380,
          630,
          2583,
          2083,
          2080,
          1770,
          1468,
          2471,
          2861,
          2453,
          633,
          4940,
          752,
          2588,
          1992,
          511,
          1918,
          2126,
          500,
          2327,
          549,
          3534,
          612,
          2182,
          984,
          1213,
          5283,
          2964,
          2926,
          2057,
          2532,
          1576,
          1729,
          1939,
          891,
          1852,
          2213,
          1693,
          2020,
          2726,
          5044,
          764,
          8498,
          8393,
          800,
          784,
          759,
          778,
          1256,
          603,
          997,
          3644,
          3984,
          1057,
          785,
          1610,
          1741,
          582,
          1731,
          1395,
          2422,
          4110,
          1173,
          1819,
          714,
          3884,
          7833,
          1023,
          689,
          535,
          6984,
          1335,
          684,
          2519,
          2051,
          3395,
          8008,
          8517,
          1158,
          2873,
          2118,
          5424,
          1101,
          794,
          4109,
          2099,
          665,
          2953,
          756,
          953,
          3826,
          1197,
          1331,
          3589,
          793,
          594,
          729,
          544,
          2034,
          1804,
          1873,
          681,
          2031,
          9889,
          511,
          3609,
          2740,
          515,
          10174,
          6876,
          11787,
          2654,
          2949,
          10807,
          7956,
          9174,
          8119,
          7022,
          6349,
          4423,
          19773,
          6386,
          10301,
          4728,
          7440,
          778,
          4974,
          5966,
          7026,
          6536,
          9007,
          7346,
          6102,
          5414,
          11557,
          8564,
          11910,
          7739,
          5141,
          6365,
          7737,
          11203,
          9199,
          9638,
          1540,
          11463,
          1632,
          6394,
          4175,
          1991,
          7158,
          5764,
          6652,
          5613,
          4739,
          6004,
          4843,
          6928,
          7944,
          2236,
          7861,
          7469,
          16922,
          6883,
          9971,
          7401,
          9209,
          17125,
          6151,
          9547,
          6722,
          662,
          6679,
          8713,
          9184,
          6994,
          2573,
          9342,
          10528,
          14460,
          7976,
          4704,
          6382,
          6859,
          2977,
          11278,
          11323,
          12760,
          6738,
          14109,
          7053,
          792,
          5257,
          6205,
          8430,
          14322,
          8965,
          5879,
          9527,
          4947,
          7075,
          7600,
          7452,
          5283,
          15181,
          4074,
          2656,
          10987,
          833,
          814,
          6078,
          1514,
          10779,
          2584,
          1429,
          5316,
          760,
          6362,
          1704,
          1612,
          3569,
          2272,
          8043,
          8950,
          7104,
          8437,
          20183,
          32759,
          6173,
          6038,
          8236,
          26258,
          23580,
          4339,
          8736,
          4852,
          4876,
          4091,
          6613,
          10359,
          4268,
          14551,
          7382,
          27314,
          20955,
          4353,
          27027,
          2916,
          1827,
          3583,
          1181,
          27842,
          2095,
          4638,
          942,
          5963,
          3984,
          2915,
          3762,
          3478,
          4177,
          2033,
          9540,
          6124,
          589,
          2181,
          5508,
          2382,
          2689,
          2695,
          2738,
          3657,
          1091,
          2887,
          2465,
          1183,
          7427,
          2827,
          706,
          2846,
          872,
          904,
          968,
          561,
          4990,
          3506,
          22685,
          3642,
          4413,
          4843,
          23459,
          544,
          600,
          4575,
          4590,
          2434,
          766,
          598,
          6345,
          766,
          806,
          593,
          809,
          6355,
          599,
          566,
          3529,
          7394,
          7384,
          3529,
          764,
          764,
          567,
          907,
          854,
          855,
          907,
          8463,
          8464,
          729,
          730,
          920,
          5800,
          6451,
          5700,
          5431,
          4935,
          6854,
          7250,
          5345,
          1006,
          1295,
          6859,
          5800,
          6441,
          5700,
          5431,
          4921,
          6854,
          7250,
          5345,
          1006,
          6859,
          11579,
          547,
          1159,
          1159,
          11567,
          547,
          793,
          7922,
          3803,
          7922,
          3803,
          793,
          2415,
          5438,
          12275,
          5438,
          12285,
          2415,
          4712,
          8188,
          820,
          894,
          820,
          894,
          4699,
          8188,
          624,
          646,
          925,
          807,
          624,
          715,
          807,
          646,
          925,
          716,
          1213,
          815,
          675,
          865,
          808,
          883,
          724,
          714,
          542,
          978,
          802,
          3225
         ],
         "xaxis": "x",
         "yaxis": "y"
        }
       ],
       "layout": {
        "barmode": "relative",
        "legend": {
         "tracegroupgap": 0
        },
        "margin": {
         "t": 60
        },
        "template": {
         "data": {
          "bar": [
           {
            "error_x": {
             "color": "#2a3f5f"
            },
            "error_y": {
             "color": "#2a3f5f"
            },
            "marker": {
             "line": {
              "color": "#E5ECF6",
              "width": 0.5
             },
             "pattern": {
              "fillmode": "overlay",
              "size": 10,
              "solidity": 0.2
             }
            },
            "type": "bar"
           }
          ],
          "barpolar": [
           {
            "marker": {
             "line": {
              "color": "#E5ECF6",
              "width": 0.5
             },
             "pattern": {
              "fillmode": "overlay",
              "size": 10,
              "solidity": 0.2
             }
            },
            "type": "barpolar"
           }
          ],
          "carpet": [
           {
            "aaxis": {
             "endlinecolor": "#2a3f5f",
             "gridcolor": "white",
             "linecolor": "white",
             "minorgridcolor": "white",
             "startlinecolor": "#2a3f5f"
            },
            "baxis": {
             "endlinecolor": "#2a3f5f",
             "gridcolor": "white",
             "linecolor": "white",
             "minorgridcolor": "white",
             "startlinecolor": "#2a3f5f"
            },
            "type": "carpet"
           }
          ],
          "choropleth": [
           {
            "colorbar": {
             "outlinewidth": 0,
             "ticks": ""
            },
            "type": "choropleth"
           }
          ],
          "contour": [
           {
            "colorbar": {
             "outlinewidth": 0,
             "ticks": ""
            },
            "colorscale": [
             [
              0,
              "#0d0887"
             ],
             [
              0.1111111111111111,
              "#46039f"
             ],
             [
              0.2222222222222222,
              "#7201a8"
             ],
             [
              0.3333333333333333,
              "#9c179e"
             ],
             [
              0.4444444444444444,
              "#bd3786"
             ],
             [
              0.5555555555555556,
              "#d8576b"
             ],
             [
              0.6666666666666666,
              "#ed7953"
             ],
             [
              0.7777777777777778,
              "#fb9f3a"
             ],
             [
              0.8888888888888888,
              "#fdca26"
             ],
             [
              1,
              "#f0f921"
             ]
            ],
            "type": "contour"
           }
          ],
          "contourcarpet": [
           {
            "colorbar": {
             "outlinewidth": 0,
             "ticks": ""
            },
            "type": "contourcarpet"
           }
          ],
          "heatmap": [
           {
            "colorbar": {
             "outlinewidth": 0,
             "ticks": ""
            },
            "colorscale": [
             [
              0,
              "#0d0887"
             ],
             [
              0.1111111111111111,
              "#46039f"
             ],
             [
              0.2222222222222222,
              "#7201a8"
             ],
             [
              0.3333333333333333,
              "#9c179e"
             ],
             [
              0.4444444444444444,
              "#bd3786"
             ],
             [
              0.5555555555555556,
              "#d8576b"
             ],
             [
              0.6666666666666666,
              "#ed7953"
             ],
             [
              0.7777777777777778,
              "#fb9f3a"
             ],
             [
              0.8888888888888888,
              "#fdca26"
             ],
             [
              1,
              "#f0f921"
             ]
            ],
            "type": "heatmap"
           }
          ],
          "heatmapgl": [
           {
            "colorbar": {
             "outlinewidth": 0,
             "ticks": ""
            },
            "colorscale": [
             [
              0,
              "#0d0887"
             ],
             [
              0.1111111111111111,
              "#46039f"
             ],
             [
              0.2222222222222222,
              "#7201a8"
             ],
             [
              0.3333333333333333,
              "#9c179e"
             ],
             [
              0.4444444444444444,
              "#bd3786"
             ],
             [
              0.5555555555555556,
              "#d8576b"
             ],
             [
              0.6666666666666666,
              "#ed7953"
             ],
             [
              0.7777777777777778,
              "#fb9f3a"
             ],
             [
              0.8888888888888888,
              "#fdca26"
             ],
             [
              1,
              "#f0f921"
             ]
            ],
            "type": "heatmapgl"
           }
          ],
          "histogram": [
           {
            "marker": {
             "pattern": {
              "fillmode": "overlay",
              "size": 10,
              "solidity": 0.2
             }
            },
            "type": "histogram"
           }
          ],
          "histogram2d": [
           {
            "colorbar": {
             "outlinewidth": 0,
             "ticks": ""
            },
            "colorscale": [
             [
              0,
              "#0d0887"
             ],
             [
              0.1111111111111111,
              "#46039f"
             ],
             [
              0.2222222222222222,
              "#7201a8"
             ],
             [
              0.3333333333333333,
              "#9c179e"
             ],
             [
              0.4444444444444444,
              "#bd3786"
             ],
             [
              0.5555555555555556,
              "#d8576b"
             ],
             [
              0.6666666666666666,
              "#ed7953"
             ],
             [
              0.7777777777777778,
              "#fb9f3a"
             ],
             [
              0.8888888888888888,
              "#fdca26"
             ],
             [
              1,
              "#f0f921"
             ]
            ],
            "type": "histogram2d"
           }
          ],
          "histogram2dcontour": [
           {
            "colorbar": {
             "outlinewidth": 0,
             "ticks": ""
            },
            "colorscale": [
             [
              0,
              "#0d0887"
             ],
             [
              0.1111111111111111,
              "#46039f"
             ],
             [
              0.2222222222222222,
              "#7201a8"
             ],
             [
              0.3333333333333333,
              "#9c179e"
             ],
             [
              0.4444444444444444,
              "#bd3786"
             ],
             [
              0.5555555555555556,
              "#d8576b"
             ],
             [
              0.6666666666666666,
              "#ed7953"
             ],
             [
              0.7777777777777778,
              "#fb9f3a"
             ],
             [
              0.8888888888888888,
              "#fdca26"
             ],
             [
              1,
              "#f0f921"
             ]
            ],
            "type": "histogram2dcontour"
           }
          ],
          "mesh3d": [
           {
            "colorbar": {
             "outlinewidth": 0,
             "ticks": ""
            },
            "type": "mesh3d"
           }
          ],
          "parcoords": [
           {
            "line": {
             "colorbar": {
              "outlinewidth": 0,
              "ticks": ""
             }
            },
            "type": "parcoords"
           }
          ],
          "pie": [
           {
            "automargin": true,
            "type": "pie"
           }
          ],
          "scatter": [
           {
            "fillpattern": {
             "fillmode": "overlay",
             "size": 10,
             "solidity": 0.2
            },
            "type": "scatter"
           }
          ],
          "scatter3d": [
           {
            "line": {
             "colorbar": {
              "outlinewidth": 0,
              "ticks": ""
             }
            },
            "marker": {
             "colorbar": {
              "outlinewidth": 0,
              "ticks": ""
             }
            },
            "type": "scatter3d"
           }
          ],
          "scattercarpet": [
           {
            "marker": {
             "colorbar": {
              "outlinewidth": 0,
              "ticks": ""
             }
            },
            "type": "scattercarpet"
           }
          ],
          "scattergeo": [
           {
            "marker": {
             "colorbar": {
              "outlinewidth": 0,
              "ticks": ""
             }
            },
            "type": "scattergeo"
           }
          ],
          "scattergl": [
           {
            "marker": {
             "colorbar": {
              "outlinewidth": 0,
              "ticks": ""
             }
            },
            "type": "scattergl"
           }
          ],
          "scattermapbox": [
           {
            "marker": {
             "colorbar": {
              "outlinewidth": 0,
              "ticks": ""
             }
            },
            "type": "scattermapbox"
           }
          ],
          "scatterpolar": [
           {
            "marker": {
             "colorbar": {
              "outlinewidth": 0,
              "ticks": ""
             }
            },
            "type": "scatterpolar"
           }
          ],
          "scatterpolargl": [
           {
            "marker": {
             "colorbar": {
              "outlinewidth": 0,
              "ticks": ""
             }
            },
            "type": "scatterpolargl"
           }
          ],
          "scatterternary": [
           {
            "marker": {
             "colorbar": {
              "outlinewidth": 0,
              "ticks": ""
             }
            },
            "type": "scatterternary"
           }
          ],
          "surface": [
           {
            "colorbar": {
             "outlinewidth": 0,
             "ticks": ""
            },
            "colorscale": [
             [
              0,
              "#0d0887"
             ],
             [
              0.1111111111111111,
              "#46039f"
             ],
             [
              0.2222222222222222,
              "#7201a8"
             ],
             [
              0.3333333333333333,
              "#9c179e"
             ],
             [
              0.4444444444444444,
              "#bd3786"
             ],
             [
              0.5555555555555556,
              "#d8576b"
             ],
             [
              0.6666666666666666,
              "#ed7953"
             ],
             [
              0.7777777777777778,
              "#fb9f3a"
             ],
             [
              0.8888888888888888,
              "#fdca26"
             ],
             [
              1,
              "#f0f921"
             ]
            ],
            "type": "surface"
           }
          ],
          "table": [
           {
            "cells": {
             "fill": {
              "color": "#EBF0F8"
             },
             "line": {
              "color": "white"
             }
            },
            "header": {
             "fill": {
              "color": "#C8D4E3"
             },
             "line": {
              "color": "white"
             }
            },
            "type": "table"
           }
          ]
         },
         "layout": {
          "annotationdefaults": {
           "arrowcolor": "#2a3f5f",
           "arrowhead": 0,
           "arrowwidth": 1
          },
          "autotypenumbers": "strict",
          "coloraxis": {
           "colorbar": {
            "outlinewidth": 0,
            "ticks": ""
           }
          },
          "colorscale": {
           "diverging": [
            [
             0,
             "#8e0152"
            ],
            [
             0.1,
             "#c51b7d"
            ],
            [
             0.2,
             "#de77ae"
            ],
            [
             0.3,
             "#f1b6da"
            ],
            [
             0.4,
             "#fde0ef"
            ],
            [
             0.5,
             "#f7f7f7"
            ],
            [
             0.6,
             "#e6f5d0"
            ],
            [
             0.7,
             "#b8e186"
            ],
            [
             0.8,
             "#7fbc41"
            ],
            [
             0.9,
             "#4d9221"
            ],
            [
             1,
             "#276419"
            ]
           ],
           "sequential": [
            [
             0,
             "#0d0887"
            ],
            [
             0.1111111111111111,
             "#46039f"
            ],
            [
             0.2222222222222222,
             "#7201a8"
            ],
            [
             0.3333333333333333,
             "#9c179e"
            ],
            [
             0.4444444444444444,
             "#bd3786"
            ],
            [
             0.5555555555555556,
             "#d8576b"
            ],
            [
             0.6666666666666666,
             "#ed7953"
            ],
            [
             0.7777777777777778,
             "#fb9f3a"
            ],
            [
             0.8888888888888888,
             "#fdca26"
            ],
            [
             1,
             "#f0f921"
            ]
           ],
           "sequentialminus": [
            [
             0,
             "#0d0887"
            ],
            [
             0.1111111111111111,
             "#46039f"
            ],
            [
             0.2222222222222222,
             "#7201a8"
            ],
            [
             0.3333333333333333,
             "#9c179e"
            ],
            [
             0.4444444444444444,
             "#bd3786"
            ],
            [
             0.5555555555555556,
             "#d8576b"
            ],
            [
             0.6666666666666666,
             "#ed7953"
            ],
            [
             0.7777777777777778,
             "#fb9f3a"
            ],
            [
             0.8888888888888888,
             "#fdca26"
            ],
            [
             1,
             "#f0f921"
            ]
           ]
          },
          "colorway": [
           "#636efa",
           "#EF553B",
           "#00cc96",
           "#ab63fa",
           "#FFA15A",
           "#19d3f3",
           "#FF6692",
           "#B6E880",
           "#FF97FF",
           "#FECB52"
          ],
          "font": {
           "color": "#2a3f5f"
          },
          "geo": {
           "bgcolor": "white",
           "lakecolor": "white",
           "landcolor": "#E5ECF6",
           "showlakes": true,
           "showland": true,
           "subunitcolor": "white"
          },
          "hoverlabel": {
           "align": "left"
          },
          "hovermode": "closest",
          "mapbox": {
           "style": "light"
          },
          "paper_bgcolor": "white",
          "plot_bgcolor": "#E5ECF6",
          "polar": {
           "angularaxis": {
            "gridcolor": "white",
            "linecolor": "white",
            "ticks": ""
           },
           "bgcolor": "#E5ECF6",
           "radialaxis": {
            "gridcolor": "white",
            "linecolor": "white",
            "ticks": ""
           }
          },
          "scene": {
           "xaxis": {
            "backgroundcolor": "#E5ECF6",
            "gridcolor": "white",
            "gridwidth": 2,
            "linecolor": "white",
            "showbackground": true,
            "ticks": "",
            "zerolinecolor": "white"
           },
           "yaxis": {
            "backgroundcolor": "#E5ECF6",
            "gridcolor": "white",
            "gridwidth": 2,
            "linecolor": "white",
            "showbackground": true,
            "ticks": "",
            "zerolinecolor": "white"
           },
           "zaxis": {
            "backgroundcolor": "#E5ECF6",
            "gridcolor": "white",
            "gridwidth": 2,
            "linecolor": "white",
            "showbackground": true,
            "ticks": "",
            "zerolinecolor": "white"
           }
          },
          "shapedefaults": {
           "line": {
            "color": "#2a3f5f"
           }
          },
          "ternary": {
           "aaxis": {
            "gridcolor": "white",
            "linecolor": "white",
            "ticks": ""
           },
           "baxis": {
            "gridcolor": "white",
            "linecolor": "white",
            "ticks": ""
           },
           "bgcolor": "#E5ECF6",
           "caxis": {
            "gridcolor": "white",
            "linecolor": "white",
            "ticks": ""
           }
          },
          "title": {
           "x": 0.05
          },
          "xaxis": {
           "automargin": true,
           "gridcolor": "white",
           "linecolor": "white",
           "ticks": "",
           "title": {
            "standoff": 15
           },
           "zerolinecolor": "white",
           "zerolinewidth": 2
          },
          "yaxis": {
           "automargin": true,
           "gridcolor": "white",
           "linecolor": "white",
           "ticks": "",
           "title": {
            "standoff": 15
           },
           "zerolinecolor": "white",
           "zerolinewidth": 2
          }
         }
        },
        "xaxis": {
         "anchor": "y",
         "domain": [
          0,
          1
         ],
         "title": {
          "text": "length"
         }
        },
        "yaxis": {
         "anchor": "x",
         "domain": [
          0,
          1
         ],
         "title": {
          "text": "count"
         }
        }
       }
      },
      "text/html": [
       "<div>                            <div id=\"b439e019-e712-4055-b758-830875314703\" class=\"plotly-graph-div\" style=\"height:525px; width:100%;\"></div>            <script type=\"text/javascript\">                require([\"plotly\"], function(Plotly) {                    window.PLOTLYENV=window.PLOTLYENV || {};                                    if (document.getElementById(\"b439e019-e712-4055-b758-830875314703\")) {                    Plotly.newPlot(                        \"b439e019-e712-4055-b758-830875314703\",                        [{\"alignmentgroup\":\"True\",\"bingroup\":\"x\",\"hovertemplate\":\"length=%{x}<br>count=%{y}<extra></extra>\",\"legendgroup\":\"\",\"marker\":{\"color\":\"#636efa\",\"pattern\":{\"shape\":\"\"}},\"name\":\"\",\"offsetgroup\":\"\",\"orientation\":\"v\",\"showlegend\":false,\"x\":[1724,1326,2052,1165,5653,2428,1258,706,4018,4410,2496,3078,1434,3000,954,2691,2813,1588,592,995,671,3469,6898,7130,29613,20176,3326,2882,766,1345,2554,509,868,998,1140,11641,2987,1759,1104,10917,2254,3472,16486,6996,4370,5131,28632,916,637,688,688,637,688,26170,2271,692,1375,2271,2271,2271,1166,27518,1185,850,1878,23353,1892,1585,747,8109,1029,3095,636,636,747,747,6758,867,2512,2512,1361,1361,2454,4807,651,3675,6719,716,2650,818,2708,855,1845,2462,7123,1349,2040,2954,2766,1534,1410,1770,5108,1599,2627,1776,1006,1065,823,533,2640,1981,535,1261,822,6757,1790,2394,5228,2608,1961,1252,1320,1285,1217,1008,1823,1222,1783,886,1516,3891,1981,3444,1944,6920,9923,1326,14476,13952,4035,3576,3175,3901,3343,1143,2354,2147,2774,3430,2389,1459,6014,1753,2537,1894,2030,3128,3086,2452,1787,2512,2948,1237,2571,844,1800,1170,1059,1764,1333,788,872,1685,1752,1291,8414,1804,8875,2475,1899,14590,2552,2798,2859,1987,4989,1912,2196,15256,25349,2369,1426,8654,6168,2992,2165,645,8533,5830,4160,4534,5520,9199,25977,2053,2645,7689,3627,8626,6075,2484,2329,4230,6897,7696,6515,1849,577,1632,6923,1468,9086,14529,2743,2287,10022,7354,1712,1540,1863,550,609,8420,652,1065,2583,2353,2742,8968,4282,1282,1015,1829,2564,2417,2009,2021,2890,12213,739,1830,2283,2653,2444,1856,739,2210,1630,1816,4844,1819,1345,3209,1452,1585,1328,2746,2245,3194,24309,4523,10241,752,1643,823,1591,1431,5204,8736,5497,735,4506,2134,1673,526,2383,900,1023,2515,2133,2989,3324,8781,7009,5009,5217,926,1820,4886,720,2483,722,747,2929,2274,3392,870,3749,4157,2604,4133,1427,8502,1938,2670,10281,3835,4585,3720,2164,642,2128,1373,1112,1373,1112,1198,2974,807,1673,1772,1594,1489,951,2493,1496,1425,2783,1899,2327,2943,2884,3049,4047,1698,3140,2690,1705,772,838,1463,846,5154,4411,1721,4854,3103,2327,2943,3049,4047,1698,3140,2690,1705,772,1463,846,5154,4411,1721,4854,2200,3103,3684,1781,1781,2200,3684,2884,2394,921,1910,1983,1834,1158,2394,2263,4043,832,2172,921,1910,1983,1158,1562,4043,832,2172,1562,1834,3240,3240,2263,2937,923,3041,3041,2937,923,4952,4952,1070,714,1039,16656,715,4567,2565,1937,1380,3309,1584,14637,2646,568,1987,1119,1440,893,2294,1795,1606,1799,2153,709,2101,2631,2404,1554,2188,658,710,1868,1936,2648,2394,2007,1572,2516,1243,8043,1680,1166,1902,2903,2218,1052,2272,802,2108,2494,747,819,1894,2202,1773,2630,1854,2198,2459,879,2090,1664,1640,2738,2107,2016,2638,1631,2165,2444,1362,1902,775,3535,1833,1957,872,1979,1877,2133,2903,601,3975,3284,2291,689,1983,2547,697,2218,957,1492,3080,728,3357,3542,3349,1062,1901,2531,3266,1555,696,1451,733,5529,987,500,541,6816,1017,2012,694,1140,712,540,539,576,620,1207,8799,3437,7165,12947,4080,11637,3247,2178,2912,2424,2438,2144,5102,3351,14089,1361,5974,2064,1958,8075,2302,4170,6776,7377,936,6013,4754,2139,7352,1882,5056,2401,2947,2416,2752,3896,7669,25509,8887,6513,4715,1208,713,3766,982,7784,964,7997,1126,571,974,823,869,3754,1728,566,679,1270,1294,1043,881,1125,1035,25092,1207,1303,1756,32759,1037,2803,925,1143,987,507,517,1853,1950,3050,3920,2177,8244,2076,669,5928,8231,2906,2262,5714,2455,2818,3331,1334,4104,2276,5535,4279,3067,6532,3602,9196,1061,7794,8817,830,7711,7804,1084,6856,9196,7297,4686,7126,6672,8646,4488,1515,1537,1950,974,1450,1306,1512,1643,1334,1982,1546,1368,775,1518,1717,516,8201,2193,2294,1795,1191,1796,728,1234,3935,2797,1283,2858,2797,946,1496,1584,3450,1181,5451,20888,7655,6194,6563,930,4552,3016,4549,1790,1915,9293,1827,2636,8271,1799,1034,6242,16788,5406,6673,2732,6389,1320,1161,5299,2835,9525,2015,2416,10894,8767,6631,8874,7620,7579,10250,6676,5903,19144,5714,1528,1289,2449,4565,2156,1712,1510,1412,1885,1650,2426,824,2596,1267,1705,1297,19369,5299,6433,3637,4000,7668,1880,1199,1378,2048,1460,1469,7063,7076,7979,9031,3007,4276,2079,2104,2557,1861,1354,7088,8134,5302,7000,8298,7231,946,1308,3959,768,3424,2104,5662,4814,8009,8887,1424,1013,2104,2723,5163,3716,1810,5225,7398,4183,6817,5975,4802,6692,5135,1807,1409,1642,5552,1402,6964,1402,1402,8183,829,551,1170,2631,6569,10898,1095,1083,3630,2352,1457,1354,817,4202,1222,1780,1524,9127,676,7202,3882,1584,980,621,2120,2204,4080,695,3082,1291,2161,1892,2265,4000,1121,777,8879,4081,4416,4011,4031,4011,964,511,2555,1139,1041,1286,2791,1964,638,2255,587,2409,789,886,619,1001,5471,1295,588,2365,1019,789,1827,2567,6026,1735,1554,1667,3109,1704,1516,4178,1991,1037,595,3999,4104,584,4192,4034,3991,4024,631,3958,2482,3714,4005,4038,4046,663,10551,14841,1585,4155,3277,1426,4191,4232,2982,3651,4094,4362,4563,5444,4294,3807,3823,4247,4191,4014,3776,3857,4783,2979,2530,3198,5838,5321,4710,2779,5585,3552,3513,4187,3870,3794,4144,5392,3883,3756,1485,4561,3861,2917,2271,7147,4390,4229,9126,2909,3101,9144,3487,3857,3493,3603,31587,3884,4018,3850,3972,3819,4182,3784,3846,7472,10482,4307,7253,3932,3124,3077,2285,3979,4302,2747,5167,2301,4805,4872,4153,4050,4000,3617,3604,5045,3701,3766,4095,3328,4736,1568,3350,2415,7419,4096,3811,2191,6388,4811,8213,3224,4407,10045,3895,4222,3900,4206,3574,3464,2817,2776,2728,2898,1580,1614,1285,2423,2612,1146,1617,2311,1433,3352,6262,2169,1994,3155,2382,1811,2267,1817,1825,2556,1123,2877,1752,983,1905,1681,3212,1890,2049,2078,1640,1686,1983,1964,3671,1571,3937,1891,1198,1614,3360,1919,1826,1380,4064,5419,3845,4595,2390,7582,1983,2879,1485,6895,2686,6019,2890,4503,4938,2062,3851,2114,1976,4777,1310,1764,3239,3028,3199,4676,1956,7343,2337,2694,8163,3705,3028,3343,1859,2343,2182,1532,1281,3883,2785,2664,4147,7345,4192,1870,5546,2880,1211,1330,1638,2211,2055,2260,3023,1544,2715,1981,2542,3539,2513,2193,2395,1582,3268,2151,2394,1876,2551,1958,2580,1724,2446,1452,4529,2720,2043,1700,1949,1216,2046,1711,2316,2815,2244,2080,1058,2217,2672,666,2519,907,3212,626,2488,922,1942,1857,930,1929,2208,2711,3431,1698,720,814,794,2492,1954,3322,1038,2174,1915,1693,2038,1855,2740,682,2068,700,512,3464,1725,2320,856,2380,630,2583,2083,2080,1770,1468,2471,2861,2453,633,4940,752,2588,1992,511,1918,2126,500,2327,549,3534,612,2182,984,1213,5283,2964,2926,2057,2532,1576,1729,1939,891,1852,2213,1693,2020,2726,5044,764,8498,8393,800,784,759,778,1256,603,997,3644,3984,1057,785,1610,1741,582,1731,1395,2422,4110,1173,1819,714,3884,7833,1023,689,535,6984,1335,684,2519,2051,3395,8008,8517,1158,2873,2118,5424,1101,794,4109,2099,665,2953,756,953,3826,1197,1331,3589,793,594,729,544,2034,1804,1873,681,2031,9889,511,3609,2740,515,10174,6876,11787,2654,2949,10807,7956,9174,8119,7022,6349,4423,19773,6386,10301,4728,7440,778,4974,5966,7026,6536,9007,7346,6102,5414,11557,8564,11910,7739,5141,6365,7737,11203,9199,9638,1540,11463,1632,6394,4175,1991,7158,5764,6652,5613,4739,6004,4843,6928,7944,2236,7861,7469,16922,6883,9971,7401,9209,17125,6151,9547,6722,662,6679,8713,9184,6994,2573,9342,10528,14460,7976,4704,6382,6859,2977,11278,11323,12760,6738,14109,7053,792,5257,6205,8430,14322,8965,5879,9527,4947,7075,7600,7452,5283,15181,4074,2656,10987,833,814,6078,1514,10779,2584,1429,5316,760,6362,1704,1612,3569,2272,8043,8950,7104,8437,20183,32759,6173,6038,8236,26258,23580,4339,8736,4852,4876,4091,6613,10359,4268,14551,7382,27314,20955,4353,27027,2916,1827,3583,1181,27842,2095,4638,942,5963,3984,2915,3762,3478,4177,2033,9540,6124,589,2181,5508,2382,2689,2695,2738,3657,1091,2887,2465,1183,7427,2827,706,2846,872,904,968,561,4990,3506,22685,3642,4413,4843,23459,544,600,4575,4590,2434,766,598,6345,766,806,593,809,6355,599,566,3529,7394,7384,3529,764,764,567,907,854,855,907,8463,8464,729,730,920,5800,6451,5700,5431,4935,6854,7250,5345,1006,1295,6859,5800,6441,5700,5431,4921,6854,7250,5345,1006,6859,11579,547,1159,1159,11567,547,793,7922,3803,7922,3803,793,2415,5438,12275,5438,12285,2415,4712,8188,820,894,820,894,4699,8188,624,646,925,807,624,715,807,646,925,716,1213,815,675,865,808,883,724,714,542,978,802,3225],\"xaxis\":\"x\",\"yaxis\":\"y\",\"type\":\"histogram\"}],                        {\"template\":{\"data\":{\"histogram2dcontour\":[{\"type\":\"histogram2dcontour\",\"colorbar\":{\"outlinewidth\":0,\"ticks\":\"\"},\"colorscale\":[[0.0,\"#0d0887\"],[0.1111111111111111,\"#46039f\"],[0.2222222222222222,\"#7201a8\"],[0.3333333333333333,\"#9c179e\"],[0.4444444444444444,\"#bd3786\"],[0.5555555555555556,\"#d8576b\"],[0.6666666666666666,\"#ed7953\"],[0.7777777777777778,\"#fb9f3a\"],[0.8888888888888888,\"#fdca26\"],[1.0,\"#f0f921\"]]}],\"choropleth\":[{\"type\":\"choropleth\",\"colorbar\":{\"outlinewidth\":0,\"ticks\":\"\"}}],\"histogram2d\":[{\"type\":\"histogram2d\",\"colorbar\":{\"outlinewidth\":0,\"ticks\":\"\"},\"colorscale\":[[0.0,\"#0d0887\"],[0.1111111111111111,\"#46039f\"],[0.2222222222222222,\"#7201a8\"],[0.3333333333333333,\"#9c179e\"],[0.4444444444444444,\"#bd3786\"],[0.5555555555555556,\"#d8576b\"],[0.6666666666666666,\"#ed7953\"],[0.7777777777777778,\"#fb9f3a\"],[0.8888888888888888,\"#fdca26\"],[1.0,\"#f0f921\"]]}],\"heatmap\":[{\"type\":\"heatmap\",\"colorbar\":{\"outlinewidth\":0,\"ticks\":\"\"},\"colorscale\":[[0.0,\"#0d0887\"],[0.1111111111111111,\"#46039f\"],[0.2222222222222222,\"#7201a8\"],[0.3333333333333333,\"#9c179e\"],[0.4444444444444444,\"#bd3786\"],[0.5555555555555556,\"#d8576b\"],[0.6666666666666666,\"#ed7953\"],[0.7777777777777778,\"#fb9f3a\"],[0.8888888888888888,\"#fdca26\"],[1.0,\"#f0f921\"]]}],\"heatmapgl\":[{\"type\":\"heatmapgl\",\"colorbar\":{\"outlinewidth\":0,\"ticks\":\"\"},\"colorscale\":[[0.0,\"#0d0887\"],[0.1111111111111111,\"#46039f\"],[0.2222222222222222,\"#7201a8\"],[0.3333333333333333,\"#9c179e\"],[0.4444444444444444,\"#bd3786\"],[0.5555555555555556,\"#d8576b\"],[0.6666666666666666,\"#ed7953\"],[0.7777777777777778,\"#fb9f3a\"],[0.8888888888888888,\"#fdca26\"],[1.0,\"#f0f921\"]]}],\"contourcarpet\":[{\"type\":\"contourcarpet\",\"colorbar\":{\"outlinewidth\":0,\"ticks\":\"\"}}],\"contour\":[{\"type\":\"contour\",\"colorbar\":{\"outlinewidth\":0,\"ticks\":\"\"},\"colorscale\":[[0.0,\"#0d0887\"],[0.1111111111111111,\"#46039f\"],[0.2222222222222222,\"#7201a8\"],[0.3333333333333333,\"#9c179e\"],[0.4444444444444444,\"#bd3786\"],[0.5555555555555556,\"#d8576b\"],[0.6666666666666666,\"#ed7953\"],[0.7777777777777778,\"#fb9f3a\"],[0.8888888888888888,\"#fdca26\"],[1.0,\"#f0f921\"]]}],\"surface\":[{\"type\":\"surface\",\"colorbar\":{\"outlinewidth\":0,\"ticks\":\"\"},\"colorscale\":[[0.0,\"#0d0887\"],[0.1111111111111111,\"#46039f\"],[0.2222222222222222,\"#7201a8\"],[0.3333333333333333,\"#9c179e\"],[0.4444444444444444,\"#bd3786\"],[0.5555555555555556,\"#d8576b\"],[0.6666666666666666,\"#ed7953\"],[0.7777777777777778,\"#fb9f3a\"],[0.8888888888888888,\"#fdca26\"],[1.0,\"#f0f921\"]]}],\"mesh3d\":[{\"type\":\"mesh3d\",\"colorbar\":{\"outlinewidth\":0,\"ticks\":\"\"}}],\"scatter\":[{\"fillpattern\":{\"fillmode\":\"overlay\",\"size\":10,\"solidity\":0.2},\"type\":\"scatter\"}],\"parcoords\":[{\"type\":\"parcoords\",\"line\":{\"colorbar\":{\"outlinewidth\":0,\"ticks\":\"\"}}}],\"scatterpolargl\":[{\"type\":\"scatterpolargl\",\"marker\":{\"colorbar\":{\"outlinewidth\":0,\"ticks\":\"\"}}}],\"bar\":[{\"error_x\":{\"color\":\"#2a3f5f\"},\"error_y\":{\"color\":\"#2a3f5f\"},\"marker\":{\"line\":{\"color\":\"#E5ECF6\",\"width\":0.5},\"pattern\":{\"fillmode\":\"overlay\",\"size\":10,\"solidity\":0.2}},\"type\":\"bar\"}],\"scattergeo\":[{\"type\":\"scattergeo\",\"marker\":{\"colorbar\":{\"outlinewidth\":0,\"ticks\":\"\"}}}],\"scatterpolar\":[{\"type\":\"scatterpolar\",\"marker\":{\"colorbar\":{\"outlinewidth\":0,\"ticks\":\"\"}}}],\"histogram\":[{\"marker\":{\"pattern\":{\"fillmode\":\"overlay\",\"size\":10,\"solidity\":0.2}},\"type\":\"histogram\"}],\"scattergl\":[{\"type\":\"scattergl\",\"marker\":{\"colorbar\":{\"outlinewidth\":0,\"ticks\":\"\"}}}],\"scatter3d\":[{\"type\":\"scatter3d\",\"line\":{\"colorbar\":{\"outlinewidth\":0,\"ticks\":\"\"}},\"marker\":{\"colorbar\":{\"outlinewidth\":0,\"ticks\":\"\"}}}],\"scattermapbox\":[{\"type\":\"scattermapbox\",\"marker\":{\"colorbar\":{\"outlinewidth\":0,\"ticks\":\"\"}}}],\"scatterternary\":[{\"type\":\"scatterternary\",\"marker\":{\"colorbar\":{\"outlinewidth\":0,\"ticks\":\"\"}}}],\"scattercarpet\":[{\"type\":\"scattercarpet\",\"marker\":{\"colorbar\":{\"outlinewidth\":0,\"ticks\":\"\"}}}],\"carpet\":[{\"aaxis\":{\"endlinecolor\":\"#2a3f5f\",\"gridcolor\":\"white\",\"linecolor\":\"white\",\"minorgridcolor\":\"white\",\"startlinecolor\":\"#2a3f5f\"},\"baxis\":{\"endlinecolor\":\"#2a3f5f\",\"gridcolor\":\"white\",\"linecolor\":\"white\",\"minorgridcolor\":\"white\",\"startlinecolor\":\"#2a3f5f\"},\"type\":\"carpet\"}],\"table\":[{\"cells\":{\"fill\":{\"color\":\"#EBF0F8\"},\"line\":{\"color\":\"white\"}},\"header\":{\"fill\":{\"color\":\"#C8D4E3\"},\"line\":{\"color\":\"white\"}},\"type\":\"table\"}],\"barpolar\":[{\"marker\":{\"line\":{\"color\":\"#E5ECF6\",\"width\":0.5},\"pattern\":{\"fillmode\":\"overlay\",\"size\":10,\"solidity\":0.2}},\"type\":\"barpolar\"}],\"pie\":[{\"automargin\":true,\"type\":\"pie\"}]},\"layout\":{\"autotypenumbers\":\"strict\",\"colorway\":[\"#636efa\",\"#EF553B\",\"#00cc96\",\"#ab63fa\",\"#FFA15A\",\"#19d3f3\",\"#FF6692\",\"#B6E880\",\"#FF97FF\",\"#FECB52\"],\"font\":{\"color\":\"#2a3f5f\"},\"hovermode\":\"closest\",\"hoverlabel\":{\"align\":\"left\"},\"paper_bgcolor\":\"white\",\"plot_bgcolor\":\"#E5ECF6\",\"polar\":{\"bgcolor\":\"#E5ECF6\",\"angularaxis\":{\"gridcolor\":\"white\",\"linecolor\":\"white\",\"ticks\":\"\"},\"radialaxis\":{\"gridcolor\":\"white\",\"linecolor\":\"white\",\"ticks\":\"\"}},\"ternary\":{\"bgcolor\":\"#E5ECF6\",\"aaxis\":{\"gridcolor\":\"white\",\"linecolor\":\"white\",\"ticks\":\"\"},\"baxis\":{\"gridcolor\":\"white\",\"linecolor\":\"white\",\"ticks\":\"\"},\"caxis\":{\"gridcolor\":\"white\",\"linecolor\":\"white\",\"ticks\":\"\"}},\"coloraxis\":{\"colorbar\":{\"outlinewidth\":0,\"ticks\":\"\"}},\"colorscale\":{\"sequential\":[[0.0,\"#0d0887\"],[0.1111111111111111,\"#46039f\"],[0.2222222222222222,\"#7201a8\"],[0.3333333333333333,\"#9c179e\"],[0.4444444444444444,\"#bd3786\"],[0.5555555555555556,\"#d8576b\"],[0.6666666666666666,\"#ed7953\"],[0.7777777777777778,\"#fb9f3a\"],[0.8888888888888888,\"#fdca26\"],[1.0,\"#f0f921\"]],\"sequentialminus\":[[0.0,\"#0d0887\"],[0.1111111111111111,\"#46039f\"],[0.2222222222222222,\"#7201a8\"],[0.3333333333333333,\"#9c179e\"],[0.4444444444444444,\"#bd3786\"],[0.5555555555555556,\"#d8576b\"],[0.6666666666666666,\"#ed7953\"],[0.7777777777777778,\"#fb9f3a\"],[0.8888888888888888,\"#fdca26\"],[1.0,\"#f0f921\"]],\"diverging\":[[0,\"#8e0152\"],[0.1,\"#c51b7d\"],[0.2,\"#de77ae\"],[0.3,\"#f1b6da\"],[0.4,\"#fde0ef\"],[0.5,\"#f7f7f7\"],[0.6,\"#e6f5d0\"],[0.7,\"#b8e186\"],[0.8,\"#7fbc41\"],[0.9,\"#4d9221\"],[1,\"#276419\"]]},\"xaxis\":{\"gridcolor\":\"white\",\"linecolor\":\"white\",\"ticks\":\"\",\"title\":{\"standoff\":15},\"zerolinecolor\":\"white\",\"automargin\":true,\"zerolinewidth\":2},\"yaxis\":{\"gridcolor\":\"white\",\"linecolor\":\"white\",\"ticks\":\"\",\"title\":{\"standoff\":15},\"zerolinecolor\":\"white\",\"automargin\":true,\"zerolinewidth\":2},\"scene\":{\"xaxis\":{\"backgroundcolor\":\"#E5ECF6\",\"gridcolor\":\"white\",\"linecolor\":\"white\",\"showbackground\":true,\"ticks\":\"\",\"zerolinecolor\":\"white\",\"gridwidth\":2},\"yaxis\":{\"backgroundcolor\":\"#E5ECF6\",\"gridcolor\":\"white\",\"linecolor\":\"white\",\"showbackground\":true,\"ticks\":\"\",\"zerolinecolor\":\"white\",\"gridwidth\":2},\"zaxis\":{\"backgroundcolor\":\"#E5ECF6\",\"gridcolor\":\"white\",\"linecolor\":\"white\",\"showbackground\":true,\"ticks\":\"\",\"zerolinecolor\":\"white\",\"gridwidth\":2}},\"shapedefaults\":{\"line\":{\"color\":\"#2a3f5f\"}},\"annotationdefaults\":{\"arrowcolor\":\"#2a3f5f\",\"arrowhead\":0,\"arrowwidth\":1},\"geo\":{\"bgcolor\":\"white\",\"landcolor\":\"#E5ECF6\",\"subunitcolor\":\"white\",\"showland\":true,\"showlakes\":true,\"lakecolor\":\"white\"},\"title\":{\"x\":0.05},\"mapbox\":{\"style\":\"light\"}}},\"xaxis\":{\"anchor\":\"y\",\"domain\":[0.0,1.0],\"title\":{\"text\":\"length\"}},\"yaxis\":{\"anchor\":\"x\",\"domain\":[0.0,1.0],\"title\":{\"text\":\"count\"}},\"legend\":{\"tracegroupgap\":0},\"margin\":{\"t\":60},\"barmode\":\"relative\"},                        {\"responsive\": true}                    ).then(function(){\n",
       "                            \n",
       "var gd = document.getElementById('b439e019-e712-4055-b758-830875314703');\n",
       "var x = new MutationObserver(function (mutations, observer) {{\n",
       "        var display = window.getComputedStyle(gd).display;\n",
       "        if (!display || display === 'none') {{\n",
       "            console.log([gd, 'removed!']);\n",
       "            Plotly.purge(gd);\n",
       "            observer.disconnect();\n",
       "        }}\n",
       "}});\n",
       "\n",
       "// Listen for the removal of the full notebook cells\n",
       "var notebookContainer = gd.closest('#notebook-container');\n",
       "if (notebookContainer) {{\n",
       "    x.observe(notebookContainer, {childList: true});\n",
       "}}\n",
       "\n",
       "// Listen for the clearing of the current output cell\n",
       "var outputEl = gd.closest('.output');\n",
       "if (outputEl) {{\n",
       "    x.observe(outputEl, {childList: true});\n",
       "}}\n",
       "\n",
       "                        })                };                });            </script>        </div>"
      ]
     },
     "metadata": {},
     "output_type": "display_data"
    }
   ],
   "source": [
    "fig = px.histogram(news, x=\"length\")\n",
    "fig.show()"
   ]
  },
  {
   "cell_type": "code",
   "execution_count": 77,
   "id": "76b1135d",
   "metadata": {},
   "outputs": [
    {
     "data": {
      "application/vnd.plotly.v1+json": {
       "config": {
        "plotlyServerURL": "https://plot.ly"
       },
       "data": [
        {
         "alignmentgroup": "True",
         "bingroup": "x",
         "hovertemplate": "label=Real<br>length=%{x}<br>count=%{y}<extra></extra>",
         "legendgroup": "Real",
         "marker": {
          "color": "#636efa",
          "pattern": {
           "shape": ""
          }
         },
         "name": "Real",
         "offsetgroup": "Real",
         "orientation": "v",
         "showlegend": true,
         "type": "histogram",
         "x": [
          1724,
          1326,
          2052,
          1165,
          5653,
          2428,
          1258,
          706,
          4018,
          4410,
          2496,
          3078,
          1434,
          3000,
          954,
          2691,
          2813,
          1588,
          592,
          995,
          671,
          1143,
          2354,
          2147,
          2774,
          3430,
          2389,
          1459,
          6014,
          1753,
          2537,
          1894,
          2030,
          3128,
          3086,
          2452,
          1787,
          2512,
          2948,
          1237,
          2571,
          3247,
          2178,
          2912,
          2424,
          2438,
          2144,
          5102,
          3351,
          14089,
          1361,
          5974,
          2064,
          1958,
          8075,
          2302,
          4170,
          6776,
          7377,
          936,
          6013,
          4754,
          2139,
          7352,
          1882,
          5056,
          2401,
          2947,
          2416,
          2752,
          3896,
          982,
          7784,
          964,
          7997,
          1126,
          571,
          974,
          823,
          869,
          3754,
          1728,
          566,
          679,
          1270,
          1294,
          1043,
          881,
          1125,
          1035,
          25092,
          1207,
          1303,
          1756,
          32759,
          1037,
          2803,
          925,
          1143,
          987,
          507,
          1034,
          6242,
          16788,
          5406,
          6673,
          2732,
          6389,
          1320,
          1161,
          5299,
          2835,
          9525,
          2015,
          2416,
          10894,
          8767,
          6631,
          8874,
          7620,
          7579,
          10250,
          6676,
          5903,
          19144,
          5714,
          1528,
          1289,
          2449,
          4565,
          2156,
          1712,
          1510,
          1412,
          1885,
          1650,
          2426,
          824,
          2596,
          1267,
          1705,
          1297,
          19369,
          5299,
          6433,
          3637,
          4000,
          7668,
          1880,
          1199,
          1378,
          2048,
          1460,
          1469,
          7063,
          7076,
          7979,
          9031,
          3007,
          4276,
          2079,
          2104,
          2557,
          1861,
          1354,
          7088,
          8134,
          5302,
          7000,
          8298,
          7231,
          946,
          1308,
          3959,
          768,
          3424,
          2104,
          5662,
          4814,
          8009,
          8887,
          1424,
          1013,
          2104,
          2723,
          5163,
          3716,
          1810,
          5225,
          7398,
          4183,
          6817,
          5975,
          4802,
          6692,
          5135,
          1807,
          1409,
          1642,
          5552,
          4595,
          2390,
          7582,
          1983,
          2879,
          1485,
          6895,
          2686,
          6019,
          2890,
          4503,
          4938,
          2062,
          3851,
          2114,
          1976,
          4777,
          1310,
          1764,
          3239,
          3028,
          3199,
          4676,
          1956,
          7343,
          2337,
          2694,
          8163,
          3705,
          3028,
          3343,
          1859,
          2343,
          2182,
          1532,
          1281,
          3883,
          2785,
          2664,
          4147,
          7345,
          4192,
          1870,
          5546,
          2880,
          1211,
          1330,
          1638,
          2211,
          2055,
          2260,
          3023,
          1544,
          2715,
          1981,
          2542,
          3539,
          2513,
          2193,
          2395,
          1582,
          3268,
          2151,
          2394,
          1876,
          2551,
          1958,
          2580,
          1724,
          2446,
          1452,
          4529,
          2720,
          2043,
          1700,
          1949,
          1216,
          2046,
          1711,
          2316,
          2815,
          2244,
          2080,
          1058,
          2217,
          2672,
          666,
          2519,
          907,
          3212,
          626,
          2488,
          922,
          1942,
          1857,
          930,
          1929,
          2208,
          2711,
          3431,
          1698,
          720,
          814,
          794,
          2492,
          1954,
          3322,
          1038,
          2174,
          1915,
          1693,
          2038,
          1855,
          2740,
          682,
          2068,
          700,
          512,
          3464,
          1725,
          2320,
          856,
          2380,
          630,
          2583,
          2083,
          2080,
          1770,
          1468,
          2471,
          2861,
          2453,
          633,
          4940,
          752,
          2588,
          1992,
          511,
          1918,
          2126,
          500,
          2327,
          549,
          3534,
          612,
          2182,
          984,
          1213,
          5283,
          2964,
          2926,
          2057,
          2532,
          1576,
          1729,
          1939,
          891,
          1852,
          2213,
          1693,
          2020,
          2726,
          5044,
          764,
          8498,
          8393,
          800,
          784,
          759,
          778,
          1256,
          603,
          997,
          3644,
          3984,
          1057,
          785,
          1610,
          1741,
          582,
          1731,
          1395,
          2422,
          4110,
          1173,
          1819,
          714,
          3884,
          7833,
          1023,
          689,
          535,
          6984,
          1335,
          5764,
          5613,
          4739,
          6004,
          4843,
          6928,
          7944,
          2236,
          7861,
          7469,
          16922,
          6883,
          9971,
          7401,
          9209,
          17125,
          6151,
          9547,
          6722,
          662,
          6679,
          8713,
          9184,
          6994,
          2573,
          9342,
          10528,
          14460,
          7976,
          4704,
          6382,
          6859,
          2977,
          11278,
          11323,
          12760,
          6738,
          14109,
          7053,
          792,
          5257,
          6205,
          8430,
          14322,
          8965,
          5879,
          9527,
          4947,
          7075,
          7600,
          7452,
          5283,
          15181,
          4074,
          2656,
          10987,
          833,
          814,
          6078,
          1514,
          10779,
          2584,
          1429,
          5316,
          760,
          6362,
          1704,
          1612,
          3569,
          2272,
          8043,
          8950,
          7104,
          8437,
          20183,
          32759,
          6173,
          6038,
          8236,
          26258,
          23580,
          4339,
          8736,
          4852,
          4876,
          4091,
          6613,
          10359,
          4268,
          14551,
          7382,
          27314,
          20955,
          4353,
          27027,
          2916,
          1827,
          3583,
          872,
          904,
          968,
          561,
          4990,
          3506,
          22685,
          3642,
          4413,
          4843,
          23459,
          544,
          600,
          4575,
          4590,
          2434,
          766,
          598,
          6345,
          766,
          806,
          593,
          809,
          6355,
          599,
          566,
          3529,
          7394,
          7384,
          3529,
          764,
          764,
          567,
          907,
          854,
          855,
          907,
          8463,
          8464,
          729,
          730,
          920,
          5800,
          6451,
          5700,
          4921,
          6854,
          7250,
          5345,
          1006,
          6859,
          11579,
          547,
          1159,
          1159,
          11567,
          547,
          793,
          7922,
          3803,
          7922,
          3803,
          793,
          2415,
          5438,
          12275,
          5438,
          12285,
          2415,
          4712,
          8188,
          820,
          894,
          820,
          894,
          4699,
          8188,
          624,
          646,
          925,
          807,
          624,
          715,
          807,
          646,
          925,
          716,
          1213,
          815,
          675,
          865,
          808,
          883,
          724,
          714,
          542,
          978,
          802,
          3225
         ],
         "xaxis": "x",
         "yaxis": "y"
        },
        {
         "alignmentgroup": "True",
         "bingroup": "x",
         "hovertemplate": "label=Fake<br>length=%{x}<br>count=%{y}<extra></extra>",
         "legendgroup": "Fake",
         "marker": {
          "color": "#EF553B",
          "pattern": {
           "shape": ""
          }
         },
         "name": "Fake",
         "offsetgroup": "Fake",
         "orientation": "v",
         "showlegend": true,
         "type": "histogram",
         "x": [
          3469,
          6898,
          7130,
          29613,
          20176,
          3326,
          2882,
          766,
          1345,
          2554,
          509,
          868,
          998,
          1140,
          11641,
          2987,
          1759,
          1104,
          10917,
          2254,
          3472,
          16486,
          6996,
          4370,
          5131,
          28632,
          916,
          637,
          688,
          688,
          637,
          688,
          26170,
          2271,
          692,
          1375,
          2271,
          2271,
          2271,
          1166,
          27518,
          1185,
          850,
          1878,
          23353,
          1892,
          1585,
          747,
          8109,
          1029,
          3095,
          636,
          636,
          747,
          747,
          6758,
          867,
          2512,
          2512,
          1361,
          1361,
          2454,
          4807,
          651,
          3675,
          6719,
          716,
          2650,
          818,
          2708,
          855,
          1845,
          2462,
          7123,
          1349,
          2040,
          2954,
          2766,
          1534,
          1410,
          1770,
          5108,
          1599,
          2627,
          1776,
          1006,
          1065,
          823,
          533,
          2640,
          1981,
          535,
          1261,
          822,
          6757,
          1790,
          2394,
          5228,
          2608,
          1961,
          1252,
          1320,
          1285,
          1217,
          1008,
          1823,
          1222,
          1783,
          886,
          1516,
          3891,
          1981,
          3444,
          1944,
          6920,
          9923,
          1326,
          14476,
          13952,
          4035,
          3576,
          3175,
          3901,
          3343,
          844,
          1800,
          1170,
          1059,
          1764,
          1333,
          788,
          872,
          1685,
          1752,
          1291,
          8414,
          1804,
          8875,
          2475,
          1899,
          14590,
          2552,
          2798,
          2859,
          1987,
          4989,
          1912,
          2196,
          15256,
          25349,
          2369,
          1426,
          8654,
          6168,
          2992,
          2165,
          645,
          8533,
          5830,
          4160,
          4534,
          5520,
          9199,
          25977,
          2053,
          2645,
          7689,
          3627,
          8626,
          6075,
          2484,
          2329,
          4230,
          6897,
          7696,
          6515,
          1849,
          577,
          1632,
          6923,
          1468,
          9086,
          14529,
          2743,
          2287,
          10022,
          7354,
          1712,
          1540,
          1863,
          550,
          609,
          8420,
          652,
          1065,
          2583,
          2353,
          2742,
          8968,
          4282,
          1282,
          1015,
          1829,
          2564,
          2417,
          2009,
          2021,
          2890,
          12213,
          739,
          1830,
          2283,
          2653,
          2444,
          1856,
          739,
          2210,
          1630,
          1816,
          4844,
          1819,
          1345,
          3209,
          1452,
          1585,
          1328,
          2746,
          2245,
          3194,
          24309,
          4523,
          10241,
          752,
          1643,
          823,
          1591,
          1431,
          5204,
          8736,
          5497,
          735,
          4506,
          2134,
          1673,
          526,
          2383,
          900,
          1023,
          2515,
          2133,
          2989,
          3324,
          8781,
          7009,
          5009,
          5217,
          926,
          1820,
          4886,
          720,
          2483,
          722,
          747,
          2929,
          2274,
          3392,
          870,
          3749,
          4157,
          2604,
          4133,
          1427,
          8502,
          1938,
          2670,
          10281,
          3835,
          4585,
          3720,
          2164,
          642,
          2128,
          1373,
          1112,
          1373,
          1112,
          1198,
          2974,
          807,
          1673,
          1772,
          1594,
          1489,
          951,
          2493,
          1496,
          1425,
          2783,
          1899,
          2327,
          2943,
          2884,
          3049,
          4047,
          1698,
          3140,
          2690,
          1705,
          772,
          838,
          1463,
          846,
          5154,
          4411,
          1721,
          4854,
          3103,
          2327,
          2943,
          3049,
          4047,
          1698,
          3140,
          2690,
          1705,
          772,
          1463,
          846,
          5154,
          4411,
          1721,
          4854,
          2200,
          3103,
          3684,
          1781,
          1781,
          2200,
          3684,
          2884,
          2394,
          921,
          1910,
          1983,
          1834,
          1158,
          2394,
          2263,
          4043,
          832,
          2172,
          921,
          1910,
          1983,
          1158,
          1562,
          4043,
          832,
          2172,
          1562,
          1834,
          3240,
          3240,
          2263,
          2937,
          923,
          3041,
          3041,
          2937,
          923,
          4952,
          4952,
          1070,
          714,
          1039,
          16656,
          715,
          4567,
          2565,
          1937,
          1380,
          3309,
          1584,
          14637,
          2646,
          568,
          1987,
          1119,
          1440,
          893,
          2294,
          1795,
          1606,
          1799,
          2153,
          709,
          2101,
          2631,
          2404,
          1554,
          2188,
          658,
          710,
          1868,
          1936,
          2648,
          2394,
          2007,
          1572,
          2516,
          1243,
          8043,
          1680,
          1166,
          1902,
          2903,
          2218,
          1052,
          2272,
          802,
          2108,
          2494,
          747,
          819,
          1894,
          2202,
          1773,
          2630,
          1854,
          2198,
          2459,
          879,
          2090,
          1664,
          1640,
          2738,
          2107,
          2016,
          2638,
          1631,
          2165,
          2444,
          1362,
          1902,
          775,
          3535,
          1833,
          1957,
          872,
          1979,
          1877,
          2133,
          2903,
          601,
          3975,
          3284,
          2291,
          689,
          1983,
          2547,
          697,
          2218,
          957,
          1492,
          3080,
          728,
          3357,
          3542,
          3349,
          1062,
          1901,
          2531,
          3266,
          1555,
          696,
          1451,
          733,
          5529,
          987,
          500,
          541,
          6816,
          1017,
          2012,
          694,
          1140,
          712,
          540,
          539,
          576,
          620,
          1207,
          8799,
          3437,
          7165,
          12947,
          4080,
          11637,
          7669,
          25509,
          8887,
          6513,
          4715,
          1208,
          713,
          3766,
          517,
          1853,
          1950,
          3050,
          3920,
          2177,
          8244,
          2076,
          669,
          5928,
          8231,
          2906,
          2262,
          5714,
          2455,
          2818,
          3331,
          1334,
          4104,
          2276,
          5535,
          4279,
          3067,
          6532,
          3602,
          9196,
          1061,
          7794,
          8817,
          830,
          7711,
          7804,
          1084,
          6856,
          9196,
          7297,
          4686,
          7126,
          6672,
          8646,
          4488,
          1515,
          1537,
          1950,
          974,
          1450,
          1306,
          1512,
          1643,
          1334,
          1982,
          1546,
          1368,
          775,
          1518,
          1717,
          516,
          8201,
          2193,
          2294,
          1795,
          1191,
          1796,
          728,
          1234,
          3935,
          2797,
          1283,
          2858,
          2797,
          946,
          1496,
          1584,
          3450,
          1181,
          5451,
          20888,
          7655,
          6194,
          6563,
          930,
          4552,
          3016,
          4549,
          1790,
          1915,
          9293,
          1827,
          2636,
          8271,
          1799,
          1402,
          6964,
          1402,
          1402,
          8183,
          829,
          551,
          1170,
          2631,
          6569,
          10898,
          1095,
          1083,
          3630,
          2352,
          1457,
          1354,
          817,
          4202,
          1222,
          1780,
          1524,
          9127,
          676,
          7202,
          3882,
          1584,
          980,
          621,
          2120,
          2204,
          4080,
          695,
          3082,
          1291,
          2161,
          1892,
          2265,
          4000,
          1121,
          777,
          8879,
          4081,
          4416,
          4011,
          4031,
          4011,
          964,
          511,
          2555,
          1139,
          1041,
          1286,
          2791,
          1964,
          638,
          2255,
          587,
          2409,
          789,
          886,
          619,
          1001,
          5471,
          1295,
          588,
          2365,
          1019,
          789,
          1827,
          2567,
          6026,
          1735,
          1554,
          1667,
          3109,
          1704,
          1516,
          4178,
          1991,
          1037,
          595,
          3999,
          4104,
          584,
          4192,
          4034,
          3991,
          4024,
          631,
          3958,
          2482,
          3714,
          4005,
          4038,
          4046,
          663,
          10551,
          14841,
          1585,
          4155,
          3277,
          1426,
          4191,
          4232,
          2982,
          3651,
          4094,
          4362,
          4563,
          5444,
          4294,
          3807,
          3823,
          4247,
          4191,
          4014,
          3776,
          3857,
          4783,
          2979,
          2530,
          3198,
          5838,
          5321,
          4710,
          2779,
          5585,
          3552,
          3513,
          4187,
          3870,
          3794,
          4144,
          5392,
          3883,
          3756,
          1485,
          4561,
          3861,
          2917,
          2271,
          7147,
          4390,
          4229,
          9126,
          2909,
          3101,
          9144,
          3487,
          3857,
          3493,
          3603,
          31587,
          3884,
          4018,
          3850,
          3972,
          3819,
          4182,
          3784,
          3846,
          7472,
          10482,
          4307,
          7253,
          3932,
          3124,
          3077,
          2285,
          3979,
          4302,
          2747,
          5167,
          2301,
          4805,
          4872,
          4153,
          4050,
          4000,
          3617,
          3604,
          5045,
          3701,
          3766,
          4095,
          3328,
          4736,
          1568,
          3350,
          2415,
          7419,
          4096,
          3811,
          2191,
          6388,
          4811,
          8213,
          3224,
          4407,
          10045,
          3895,
          4222,
          3900,
          4206,
          3574,
          3464,
          2817,
          2776,
          2728,
          2898,
          1580,
          1614,
          1285,
          2423,
          2612,
          1146,
          1617,
          2311,
          1433,
          3352,
          6262,
          2169,
          1994,
          3155,
          2382,
          1811,
          2267,
          1817,
          1825,
          2556,
          1123,
          2877,
          1752,
          983,
          1905,
          1681,
          3212,
          1890,
          2049,
          2078,
          1640,
          1686,
          1983,
          1964,
          3671,
          1571,
          3937,
          1891,
          1198,
          1614,
          3360,
          1919,
          1826,
          1380,
          4064,
          5419,
          3845,
          684,
          2519,
          2051,
          3395,
          8008,
          8517,
          1158,
          2873,
          2118,
          5424,
          1101,
          794,
          4109,
          2099,
          665,
          2953,
          756,
          953,
          3826,
          1197,
          1331,
          3589,
          793,
          594,
          729,
          544,
          2034,
          1804,
          1873,
          681,
          2031,
          9889,
          511,
          3609,
          2740,
          515,
          10174,
          6876,
          11787,
          2654,
          2949,
          10807,
          7956,
          9174,
          8119,
          7022,
          6349,
          4423,
          19773,
          6386,
          10301,
          4728,
          7440,
          778,
          4974,
          5966,
          7026,
          6536,
          9007,
          7346,
          6102,
          5414,
          11557,
          8564,
          11910,
          7739,
          5141,
          6365,
          7737,
          11203,
          9199,
          9638,
          1540,
          11463,
          1632,
          6394,
          4175,
          1991,
          7158,
          6652,
          1181,
          27842,
          2095,
          4638,
          942,
          5963,
          3984,
          2915,
          3762,
          3478,
          4177,
          2033,
          9540,
          6124,
          589,
          2181,
          5508,
          2382,
          2689,
          2695,
          2738,
          3657,
          1091,
          2887,
          2465,
          1183,
          7427,
          2827,
          706,
          2846,
          5431,
          4935,
          6854,
          7250,
          5345,
          1006,
          1295,
          6859,
          5800,
          6441,
          5700,
          5431
         ],
         "xaxis": "x",
         "yaxis": "y"
        }
       ],
       "layout": {
        "barmode": "relative",
        "legend": {
         "title": {
          "text": "label"
         },
         "tracegroupgap": 0
        },
        "margin": {
         "t": 60
        },
        "template": {
         "data": {
          "bar": [
           {
            "error_x": {
             "color": "#2a3f5f"
            },
            "error_y": {
             "color": "#2a3f5f"
            },
            "marker": {
             "line": {
              "color": "#E5ECF6",
              "width": 0.5
             },
             "pattern": {
              "fillmode": "overlay",
              "size": 10,
              "solidity": 0.2
             }
            },
            "type": "bar"
           }
          ],
          "barpolar": [
           {
            "marker": {
             "line": {
              "color": "#E5ECF6",
              "width": 0.5
             },
             "pattern": {
              "fillmode": "overlay",
              "size": 10,
              "solidity": 0.2
             }
            },
            "type": "barpolar"
           }
          ],
          "carpet": [
           {
            "aaxis": {
             "endlinecolor": "#2a3f5f",
             "gridcolor": "white",
             "linecolor": "white",
             "minorgridcolor": "white",
             "startlinecolor": "#2a3f5f"
            },
            "baxis": {
             "endlinecolor": "#2a3f5f",
             "gridcolor": "white",
             "linecolor": "white",
             "minorgridcolor": "white",
             "startlinecolor": "#2a3f5f"
            },
            "type": "carpet"
           }
          ],
          "choropleth": [
           {
            "colorbar": {
             "outlinewidth": 0,
             "ticks": ""
            },
            "type": "choropleth"
           }
          ],
          "contour": [
           {
            "colorbar": {
             "outlinewidth": 0,
             "ticks": ""
            },
            "colorscale": [
             [
              0,
              "#0d0887"
             ],
             [
              0.1111111111111111,
              "#46039f"
             ],
             [
              0.2222222222222222,
              "#7201a8"
             ],
             [
              0.3333333333333333,
              "#9c179e"
             ],
             [
              0.4444444444444444,
              "#bd3786"
             ],
             [
              0.5555555555555556,
              "#d8576b"
             ],
             [
              0.6666666666666666,
              "#ed7953"
             ],
             [
              0.7777777777777778,
              "#fb9f3a"
             ],
             [
              0.8888888888888888,
              "#fdca26"
             ],
             [
              1,
              "#f0f921"
             ]
            ],
            "type": "contour"
           }
          ],
          "contourcarpet": [
           {
            "colorbar": {
             "outlinewidth": 0,
             "ticks": ""
            },
            "type": "contourcarpet"
           }
          ],
          "heatmap": [
           {
            "colorbar": {
             "outlinewidth": 0,
             "ticks": ""
            },
            "colorscale": [
             [
              0,
              "#0d0887"
             ],
             [
              0.1111111111111111,
              "#46039f"
             ],
             [
              0.2222222222222222,
              "#7201a8"
             ],
             [
              0.3333333333333333,
              "#9c179e"
             ],
             [
              0.4444444444444444,
              "#bd3786"
             ],
             [
              0.5555555555555556,
              "#d8576b"
             ],
             [
              0.6666666666666666,
              "#ed7953"
             ],
             [
              0.7777777777777778,
              "#fb9f3a"
             ],
             [
              0.8888888888888888,
              "#fdca26"
             ],
             [
              1,
              "#f0f921"
             ]
            ],
            "type": "heatmap"
           }
          ],
          "heatmapgl": [
           {
            "colorbar": {
             "outlinewidth": 0,
             "ticks": ""
            },
            "colorscale": [
             [
              0,
              "#0d0887"
             ],
             [
              0.1111111111111111,
              "#46039f"
             ],
             [
              0.2222222222222222,
              "#7201a8"
             ],
             [
              0.3333333333333333,
              "#9c179e"
             ],
             [
              0.4444444444444444,
              "#bd3786"
             ],
             [
              0.5555555555555556,
              "#d8576b"
             ],
             [
              0.6666666666666666,
              "#ed7953"
             ],
             [
              0.7777777777777778,
              "#fb9f3a"
             ],
             [
              0.8888888888888888,
              "#fdca26"
             ],
             [
              1,
              "#f0f921"
             ]
            ],
            "type": "heatmapgl"
           }
          ],
          "histogram": [
           {
            "marker": {
             "pattern": {
              "fillmode": "overlay",
              "size": 10,
              "solidity": 0.2
             }
            },
            "type": "histogram"
           }
          ],
          "histogram2d": [
           {
            "colorbar": {
             "outlinewidth": 0,
             "ticks": ""
            },
            "colorscale": [
             [
              0,
              "#0d0887"
             ],
             [
              0.1111111111111111,
              "#46039f"
             ],
             [
              0.2222222222222222,
              "#7201a8"
             ],
             [
              0.3333333333333333,
              "#9c179e"
             ],
             [
              0.4444444444444444,
              "#bd3786"
             ],
             [
              0.5555555555555556,
              "#d8576b"
             ],
             [
              0.6666666666666666,
              "#ed7953"
             ],
             [
              0.7777777777777778,
              "#fb9f3a"
             ],
             [
              0.8888888888888888,
              "#fdca26"
             ],
             [
              1,
              "#f0f921"
             ]
            ],
            "type": "histogram2d"
           }
          ],
          "histogram2dcontour": [
           {
            "colorbar": {
             "outlinewidth": 0,
             "ticks": ""
            },
            "colorscale": [
             [
              0,
              "#0d0887"
             ],
             [
              0.1111111111111111,
              "#46039f"
             ],
             [
              0.2222222222222222,
              "#7201a8"
             ],
             [
              0.3333333333333333,
              "#9c179e"
             ],
             [
              0.4444444444444444,
              "#bd3786"
             ],
             [
              0.5555555555555556,
              "#d8576b"
             ],
             [
              0.6666666666666666,
              "#ed7953"
             ],
             [
              0.7777777777777778,
              "#fb9f3a"
             ],
             [
              0.8888888888888888,
              "#fdca26"
             ],
             [
              1,
              "#f0f921"
             ]
            ],
            "type": "histogram2dcontour"
           }
          ],
          "mesh3d": [
           {
            "colorbar": {
             "outlinewidth": 0,
             "ticks": ""
            },
            "type": "mesh3d"
           }
          ],
          "parcoords": [
           {
            "line": {
             "colorbar": {
              "outlinewidth": 0,
              "ticks": ""
             }
            },
            "type": "parcoords"
           }
          ],
          "pie": [
           {
            "automargin": true,
            "type": "pie"
           }
          ],
          "scatter": [
           {
            "fillpattern": {
             "fillmode": "overlay",
             "size": 10,
             "solidity": 0.2
            },
            "type": "scatter"
           }
          ],
          "scatter3d": [
           {
            "line": {
             "colorbar": {
              "outlinewidth": 0,
              "ticks": ""
             }
            },
            "marker": {
             "colorbar": {
              "outlinewidth": 0,
              "ticks": ""
             }
            },
            "type": "scatter3d"
           }
          ],
          "scattercarpet": [
           {
            "marker": {
             "colorbar": {
              "outlinewidth": 0,
              "ticks": ""
             }
            },
            "type": "scattercarpet"
           }
          ],
          "scattergeo": [
           {
            "marker": {
             "colorbar": {
              "outlinewidth": 0,
              "ticks": ""
             }
            },
            "type": "scattergeo"
           }
          ],
          "scattergl": [
           {
            "marker": {
             "colorbar": {
              "outlinewidth": 0,
              "ticks": ""
             }
            },
            "type": "scattergl"
           }
          ],
          "scattermapbox": [
           {
            "marker": {
             "colorbar": {
              "outlinewidth": 0,
              "ticks": ""
             }
            },
            "type": "scattermapbox"
           }
          ],
          "scatterpolar": [
           {
            "marker": {
             "colorbar": {
              "outlinewidth": 0,
              "ticks": ""
             }
            },
            "type": "scatterpolar"
           }
          ],
          "scatterpolargl": [
           {
            "marker": {
             "colorbar": {
              "outlinewidth": 0,
              "ticks": ""
             }
            },
            "type": "scatterpolargl"
           }
          ],
          "scatterternary": [
           {
            "marker": {
             "colorbar": {
              "outlinewidth": 0,
              "ticks": ""
             }
            },
            "type": "scatterternary"
           }
          ],
          "surface": [
           {
            "colorbar": {
             "outlinewidth": 0,
             "ticks": ""
            },
            "colorscale": [
             [
              0,
              "#0d0887"
             ],
             [
              0.1111111111111111,
              "#46039f"
             ],
             [
              0.2222222222222222,
              "#7201a8"
             ],
             [
              0.3333333333333333,
              "#9c179e"
             ],
             [
              0.4444444444444444,
              "#bd3786"
             ],
             [
              0.5555555555555556,
              "#d8576b"
             ],
             [
              0.6666666666666666,
              "#ed7953"
             ],
             [
              0.7777777777777778,
              "#fb9f3a"
             ],
             [
              0.8888888888888888,
              "#fdca26"
             ],
             [
              1,
              "#f0f921"
             ]
            ],
            "type": "surface"
           }
          ],
          "table": [
           {
            "cells": {
             "fill": {
              "color": "#EBF0F8"
             },
             "line": {
              "color": "white"
             }
            },
            "header": {
             "fill": {
              "color": "#C8D4E3"
             },
             "line": {
              "color": "white"
             }
            },
            "type": "table"
           }
          ]
         },
         "layout": {
          "annotationdefaults": {
           "arrowcolor": "#2a3f5f",
           "arrowhead": 0,
           "arrowwidth": 1
          },
          "autotypenumbers": "strict",
          "coloraxis": {
           "colorbar": {
            "outlinewidth": 0,
            "ticks": ""
           }
          },
          "colorscale": {
           "diverging": [
            [
             0,
             "#8e0152"
            ],
            [
             0.1,
             "#c51b7d"
            ],
            [
             0.2,
             "#de77ae"
            ],
            [
             0.3,
             "#f1b6da"
            ],
            [
             0.4,
             "#fde0ef"
            ],
            [
             0.5,
             "#f7f7f7"
            ],
            [
             0.6,
             "#e6f5d0"
            ],
            [
             0.7,
             "#b8e186"
            ],
            [
             0.8,
             "#7fbc41"
            ],
            [
             0.9,
             "#4d9221"
            ],
            [
             1,
             "#276419"
            ]
           ],
           "sequential": [
            [
             0,
             "#0d0887"
            ],
            [
             0.1111111111111111,
             "#46039f"
            ],
            [
             0.2222222222222222,
             "#7201a8"
            ],
            [
             0.3333333333333333,
             "#9c179e"
            ],
            [
             0.4444444444444444,
             "#bd3786"
            ],
            [
             0.5555555555555556,
             "#d8576b"
            ],
            [
             0.6666666666666666,
             "#ed7953"
            ],
            [
             0.7777777777777778,
             "#fb9f3a"
            ],
            [
             0.8888888888888888,
             "#fdca26"
            ],
            [
             1,
             "#f0f921"
            ]
           ],
           "sequentialminus": [
            [
             0,
             "#0d0887"
            ],
            [
             0.1111111111111111,
             "#46039f"
            ],
            [
             0.2222222222222222,
             "#7201a8"
            ],
            [
             0.3333333333333333,
             "#9c179e"
            ],
            [
             0.4444444444444444,
             "#bd3786"
            ],
            [
             0.5555555555555556,
             "#d8576b"
            ],
            [
             0.6666666666666666,
             "#ed7953"
            ],
            [
             0.7777777777777778,
             "#fb9f3a"
            ],
            [
             0.8888888888888888,
             "#fdca26"
            ],
            [
             1,
             "#f0f921"
            ]
           ]
          },
          "colorway": [
           "#636efa",
           "#EF553B",
           "#00cc96",
           "#ab63fa",
           "#FFA15A",
           "#19d3f3",
           "#FF6692",
           "#B6E880",
           "#FF97FF",
           "#FECB52"
          ],
          "font": {
           "color": "#2a3f5f"
          },
          "geo": {
           "bgcolor": "white",
           "lakecolor": "white",
           "landcolor": "#E5ECF6",
           "showlakes": true,
           "showland": true,
           "subunitcolor": "white"
          },
          "hoverlabel": {
           "align": "left"
          },
          "hovermode": "closest",
          "mapbox": {
           "style": "light"
          },
          "paper_bgcolor": "white",
          "plot_bgcolor": "#E5ECF6",
          "polar": {
           "angularaxis": {
            "gridcolor": "white",
            "linecolor": "white",
            "ticks": ""
           },
           "bgcolor": "#E5ECF6",
           "radialaxis": {
            "gridcolor": "white",
            "linecolor": "white",
            "ticks": ""
           }
          },
          "scene": {
           "xaxis": {
            "backgroundcolor": "#E5ECF6",
            "gridcolor": "white",
            "gridwidth": 2,
            "linecolor": "white",
            "showbackground": true,
            "ticks": "",
            "zerolinecolor": "white"
           },
           "yaxis": {
            "backgroundcolor": "#E5ECF6",
            "gridcolor": "white",
            "gridwidth": 2,
            "linecolor": "white",
            "showbackground": true,
            "ticks": "",
            "zerolinecolor": "white"
           },
           "zaxis": {
            "backgroundcolor": "#E5ECF6",
            "gridcolor": "white",
            "gridwidth": 2,
            "linecolor": "white",
            "showbackground": true,
            "ticks": "",
            "zerolinecolor": "white"
           }
          },
          "shapedefaults": {
           "line": {
            "color": "#2a3f5f"
           }
          },
          "ternary": {
           "aaxis": {
            "gridcolor": "white",
            "linecolor": "white",
            "ticks": ""
           },
           "baxis": {
            "gridcolor": "white",
            "linecolor": "white",
            "ticks": ""
           },
           "bgcolor": "#E5ECF6",
           "caxis": {
            "gridcolor": "white",
            "linecolor": "white",
            "ticks": ""
           }
          },
          "title": {
           "x": 0.05
          },
          "xaxis": {
           "automargin": true,
           "gridcolor": "white",
           "linecolor": "white",
           "ticks": "",
           "title": {
            "standoff": 15
           },
           "zerolinecolor": "white",
           "zerolinewidth": 2
          },
          "yaxis": {
           "automargin": true,
           "gridcolor": "white",
           "linecolor": "white",
           "ticks": "",
           "title": {
            "standoff": 15
           },
           "zerolinecolor": "white",
           "zerolinewidth": 2
          }
         }
        },
        "xaxis": {
         "anchor": "y",
         "domain": [
          0,
          1
         ],
         "title": {
          "text": "length"
         }
        },
        "yaxis": {
         "anchor": "x",
         "domain": [
          0,
          1
         ],
         "title": {
          "text": "count"
         }
        }
       }
      },
      "text/html": [
       "<div>                            <div id=\"b4376e44-7236-43c9-895c-bb82d4507188\" class=\"plotly-graph-div\" style=\"height:525px; width:100%;\"></div>            <script type=\"text/javascript\">                require([\"plotly\"], function(Plotly) {                    window.PLOTLYENV=window.PLOTLYENV || {};                                    if (document.getElementById(\"b4376e44-7236-43c9-895c-bb82d4507188\")) {                    Plotly.newPlot(                        \"b4376e44-7236-43c9-895c-bb82d4507188\",                        [{\"alignmentgroup\":\"True\",\"bingroup\":\"x\",\"hovertemplate\":\"label=Real<br>length=%{x}<br>count=%{y}<extra></extra>\",\"legendgroup\":\"Real\",\"marker\":{\"color\":\"#636efa\",\"pattern\":{\"shape\":\"\"}},\"name\":\"Real\",\"offsetgroup\":\"Real\",\"orientation\":\"v\",\"showlegend\":true,\"x\":[1724,1326,2052,1165,5653,2428,1258,706,4018,4410,2496,3078,1434,3000,954,2691,2813,1588,592,995,671,1143,2354,2147,2774,3430,2389,1459,6014,1753,2537,1894,2030,3128,3086,2452,1787,2512,2948,1237,2571,3247,2178,2912,2424,2438,2144,5102,3351,14089,1361,5974,2064,1958,8075,2302,4170,6776,7377,936,6013,4754,2139,7352,1882,5056,2401,2947,2416,2752,3896,982,7784,964,7997,1126,571,974,823,869,3754,1728,566,679,1270,1294,1043,881,1125,1035,25092,1207,1303,1756,32759,1037,2803,925,1143,987,507,1034,6242,16788,5406,6673,2732,6389,1320,1161,5299,2835,9525,2015,2416,10894,8767,6631,8874,7620,7579,10250,6676,5903,19144,5714,1528,1289,2449,4565,2156,1712,1510,1412,1885,1650,2426,824,2596,1267,1705,1297,19369,5299,6433,3637,4000,7668,1880,1199,1378,2048,1460,1469,7063,7076,7979,9031,3007,4276,2079,2104,2557,1861,1354,7088,8134,5302,7000,8298,7231,946,1308,3959,768,3424,2104,5662,4814,8009,8887,1424,1013,2104,2723,5163,3716,1810,5225,7398,4183,6817,5975,4802,6692,5135,1807,1409,1642,5552,4595,2390,7582,1983,2879,1485,6895,2686,6019,2890,4503,4938,2062,3851,2114,1976,4777,1310,1764,3239,3028,3199,4676,1956,7343,2337,2694,8163,3705,3028,3343,1859,2343,2182,1532,1281,3883,2785,2664,4147,7345,4192,1870,5546,2880,1211,1330,1638,2211,2055,2260,3023,1544,2715,1981,2542,3539,2513,2193,2395,1582,3268,2151,2394,1876,2551,1958,2580,1724,2446,1452,4529,2720,2043,1700,1949,1216,2046,1711,2316,2815,2244,2080,1058,2217,2672,666,2519,907,3212,626,2488,922,1942,1857,930,1929,2208,2711,3431,1698,720,814,794,2492,1954,3322,1038,2174,1915,1693,2038,1855,2740,682,2068,700,512,3464,1725,2320,856,2380,630,2583,2083,2080,1770,1468,2471,2861,2453,633,4940,752,2588,1992,511,1918,2126,500,2327,549,3534,612,2182,984,1213,5283,2964,2926,2057,2532,1576,1729,1939,891,1852,2213,1693,2020,2726,5044,764,8498,8393,800,784,759,778,1256,603,997,3644,3984,1057,785,1610,1741,582,1731,1395,2422,4110,1173,1819,714,3884,7833,1023,689,535,6984,1335,5764,5613,4739,6004,4843,6928,7944,2236,7861,7469,16922,6883,9971,7401,9209,17125,6151,9547,6722,662,6679,8713,9184,6994,2573,9342,10528,14460,7976,4704,6382,6859,2977,11278,11323,12760,6738,14109,7053,792,5257,6205,8430,14322,8965,5879,9527,4947,7075,7600,7452,5283,15181,4074,2656,10987,833,814,6078,1514,10779,2584,1429,5316,760,6362,1704,1612,3569,2272,8043,8950,7104,8437,20183,32759,6173,6038,8236,26258,23580,4339,8736,4852,4876,4091,6613,10359,4268,14551,7382,27314,20955,4353,27027,2916,1827,3583,872,904,968,561,4990,3506,22685,3642,4413,4843,23459,544,600,4575,4590,2434,766,598,6345,766,806,593,809,6355,599,566,3529,7394,7384,3529,764,764,567,907,854,855,907,8463,8464,729,730,920,5800,6451,5700,4921,6854,7250,5345,1006,6859,11579,547,1159,1159,11567,547,793,7922,3803,7922,3803,793,2415,5438,12275,5438,12285,2415,4712,8188,820,894,820,894,4699,8188,624,646,925,807,624,715,807,646,925,716,1213,815,675,865,808,883,724,714,542,978,802,3225],\"xaxis\":\"x\",\"yaxis\":\"y\",\"type\":\"histogram\"},{\"alignmentgroup\":\"True\",\"bingroup\":\"x\",\"hovertemplate\":\"label=Fake<br>length=%{x}<br>count=%{y}<extra></extra>\",\"legendgroup\":\"Fake\",\"marker\":{\"color\":\"#EF553B\",\"pattern\":{\"shape\":\"\"}},\"name\":\"Fake\",\"offsetgroup\":\"Fake\",\"orientation\":\"v\",\"showlegend\":true,\"x\":[3469,6898,7130,29613,20176,3326,2882,766,1345,2554,509,868,998,1140,11641,2987,1759,1104,10917,2254,3472,16486,6996,4370,5131,28632,916,637,688,688,637,688,26170,2271,692,1375,2271,2271,2271,1166,27518,1185,850,1878,23353,1892,1585,747,8109,1029,3095,636,636,747,747,6758,867,2512,2512,1361,1361,2454,4807,651,3675,6719,716,2650,818,2708,855,1845,2462,7123,1349,2040,2954,2766,1534,1410,1770,5108,1599,2627,1776,1006,1065,823,533,2640,1981,535,1261,822,6757,1790,2394,5228,2608,1961,1252,1320,1285,1217,1008,1823,1222,1783,886,1516,3891,1981,3444,1944,6920,9923,1326,14476,13952,4035,3576,3175,3901,3343,844,1800,1170,1059,1764,1333,788,872,1685,1752,1291,8414,1804,8875,2475,1899,14590,2552,2798,2859,1987,4989,1912,2196,15256,25349,2369,1426,8654,6168,2992,2165,645,8533,5830,4160,4534,5520,9199,25977,2053,2645,7689,3627,8626,6075,2484,2329,4230,6897,7696,6515,1849,577,1632,6923,1468,9086,14529,2743,2287,10022,7354,1712,1540,1863,550,609,8420,652,1065,2583,2353,2742,8968,4282,1282,1015,1829,2564,2417,2009,2021,2890,12213,739,1830,2283,2653,2444,1856,739,2210,1630,1816,4844,1819,1345,3209,1452,1585,1328,2746,2245,3194,24309,4523,10241,752,1643,823,1591,1431,5204,8736,5497,735,4506,2134,1673,526,2383,900,1023,2515,2133,2989,3324,8781,7009,5009,5217,926,1820,4886,720,2483,722,747,2929,2274,3392,870,3749,4157,2604,4133,1427,8502,1938,2670,10281,3835,4585,3720,2164,642,2128,1373,1112,1373,1112,1198,2974,807,1673,1772,1594,1489,951,2493,1496,1425,2783,1899,2327,2943,2884,3049,4047,1698,3140,2690,1705,772,838,1463,846,5154,4411,1721,4854,3103,2327,2943,3049,4047,1698,3140,2690,1705,772,1463,846,5154,4411,1721,4854,2200,3103,3684,1781,1781,2200,3684,2884,2394,921,1910,1983,1834,1158,2394,2263,4043,832,2172,921,1910,1983,1158,1562,4043,832,2172,1562,1834,3240,3240,2263,2937,923,3041,3041,2937,923,4952,4952,1070,714,1039,16656,715,4567,2565,1937,1380,3309,1584,14637,2646,568,1987,1119,1440,893,2294,1795,1606,1799,2153,709,2101,2631,2404,1554,2188,658,710,1868,1936,2648,2394,2007,1572,2516,1243,8043,1680,1166,1902,2903,2218,1052,2272,802,2108,2494,747,819,1894,2202,1773,2630,1854,2198,2459,879,2090,1664,1640,2738,2107,2016,2638,1631,2165,2444,1362,1902,775,3535,1833,1957,872,1979,1877,2133,2903,601,3975,3284,2291,689,1983,2547,697,2218,957,1492,3080,728,3357,3542,3349,1062,1901,2531,3266,1555,696,1451,733,5529,987,500,541,6816,1017,2012,694,1140,712,540,539,576,620,1207,8799,3437,7165,12947,4080,11637,7669,25509,8887,6513,4715,1208,713,3766,517,1853,1950,3050,3920,2177,8244,2076,669,5928,8231,2906,2262,5714,2455,2818,3331,1334,4104,2276,5535,4279,3067,6532,3602,9196,1061,7794,8817,830,7711,7804,1084,6856,9196,7297,4686,7126,6672,8646,4488,1515,1537,1950,974,1450,1306,1512,1643,1334,1982,1546,1368,775,1518,1717,516,8201,2193,2294,1795,1191,1796,728,1234,3935,2797,1283,2858,2797,946,1496,1584,3450,1181,5451,20888,7655,6194,6563,930,4552,3016,4549,1790,1915,9293,1827,2636,8271,1799,1402,6964,1402,1402,8183,829,551,1170,2631,6569,10898,1095,1083,3630,2352,1457,1354,817,4202,1222,1780,1524,9127,676,7202,3882,1584,980,621,2120,2204,4080,695,3082,1291,2161,1892,2265,4000,1121,777,8879,4081,4416,4011,4031,4011,964,511,2555,1139,1041,1286,2791,1964,638,2255,587,2409,789,886,619,1001,5471,1295,588,2365,1019,789,1827,2567,6026,1735,1554,1667,3109,1704,1516,4178,1991,1037,595,3999,4104,584,4192,4034,3991,4024,631,3958,2482,3714,4005,4038,4046,663,10551,14841,1585,4155,3277,1426,4191,4232,2982,3651,4094,4362,4563,5444,4294,3807,3823,4247,4191,4014,3776,3857,4783,2979,2530,3198,5838,5321,4710,2779,5585,3552,3513,4187,3870,3794,4144,5392,3883,3756,1485,4561,3861,2917,2271,7147,4390,4229,9126,2909,3101,9144,3487,3857,3493,3603,31587,3884,4018,3850,3972,3819,4182,3784,3846,7472,10482,4307,7253,3932,3124,3077,2285,3979,4302,2747,5167,2301,4805,4872,4153,4050,4000,3617,3604,5045,3701,3766,4095,3328,4736,1568,3350,2415,7419,4096,3811,2191,6388,4811,8213,3224,4407,10045,3895,4222,3900,4206,3574,3464,2817,2776,2728,2898,1580,1614,1285,2423,2612,1146,1617,2311,1433,3352,6262,2169,1994,3155,2382,1811,2267,1817,1825,2556,1123,2877,1752,983,1905,1681,3212,1890,2049,2078,1640,1686,1983,1964,3671,1571,3937,1891,1198,1614,3360,1919,1826,1380,4064,5419,3845,684,2519,2051,3395,8008,8517,1158,2873,2118,5424,1101,794,4109,2099,665,2953,756,953,3826,1197,1331,3589,793,594,729,544,2034,1804,1873,681,2031,9889,511,3609,2740,515,10174,6876,11787,2654,2949,10807,7956,9174,8119,7022,6349,4423,19773,6386,10301,4728,7440,778,4974,5966,7026,6536,9007,7346,6102,5414,11557,8564,11910,7739,5141,6365,7737,11203,9199,9638,1540,11463,1632,6394,4175,1991,7158,6652,1181,27842,2095,4638,942,5963,3984,2915,3762,3478,4177,2033,9540,6124,589,2181,5508,2382,2689,2695,2738,3657,1091,2887,2465,1183,7427,2827,706,2846,5431,4935,6854,7250,5345,1006,1295,6859,5800,6441,5700,5431],\"xaxis\":\"x\",\"yaxis\":\"y\",\"type\":\"histogram\"}],                        {\"template\":{\"data\":{\"histogram2dcontour\":[{\"type\":\"histogram2dcontour\",\"colorbar\":{\"outlinewidth\":0,\"ticks\":\"\"},\"colorscale\":[[0.0,\"#0d0887\"],[0.1111111111111111,\"#46039f\"],[0.2222222222222222,\"#7201a8\"],[0.3333333333333333,\"#9c179e\"],[0.4444444444444444,\"#bd3786\"],[0.5555555555555556,\"#d8576b\"],[0.6666666666666666,\"#ed7953\"],[0.7777777777777778,\"#fb9f3a\"],[0.8888888888888888,\"#fdca26\"],[1.0,\"#f0f921\"]]}],\"choropleth\":[{\"type\":\"choropleth\",\"colorbar\":{\"outlinewidth\":0,\"ticks\":\"\"}}],\"histogram2d\":[{\"type\":\"histogram2d\",\"colorbar\":{\"outlinewidth\":0,\"ticks\":\"\"},\"colorscale\":[[0.0,\"#0d0887\"],[0.1111111111111111,\"#46039f\"],[0.2222222222222222,\"#7201a8\"],[0.3333333333333333,\"#9c179e\"],[0.4444444444444444,\"#bd3786\"],[0.5555555555555556,\"#d8576b\"],[0.6666666666666666,\"#ed7953\"],[0.7777777777777778,\"#fb9f3a\"],[0.8888888888888888,\"#fdca26\"],[1.0,\"#f0f921\"]]}],\"heatmap\":[{\"type\":\"heatmap\",\"colorbar\":{\"outlinewidth\":0,\"ticks\":\"\"},\"colorscale\":[[0.0,\"#0d0887\"],[0.1111111111111111,\"#46039f\"],[0.2222222222222222,\"#7201a8\"],[0.3333333333333333,\"#9c179e\"],[0.4444444444444444,\"#bd3786\"],[0.5555555555555556,\"#d8576b\"],[0.6666666666666666,\"#ed7953\"],[0.7777777777777778,\"#fb9f3a\"],[0.8888888888888888,\"#fdca26\"],[1.0,\"#f0f921\"]]}],\"heatmapgl\":[{\"type\":\"heatmapgl\",\"colorbar\":{\"outlinewidth\":0,\"ticks\":\"\"},\"colorscale\":[[0.0,\"#0d0887\"],[0.1111111111111111,\"#46039f\"],[0.2222222222222222,\"#7201a8\"],[0.3333333333333333,\"#9c179e\"],[0.4444444444444444,\"#bd3786\"],[0.5555555555555556,\"#d8576b\"],[0.6666666666666666,\"#ed7953\"],[0.7777777777777778,\"#fb9f3a\"],[0.8888888888888888,\"#fdca26\"],[1.0,\"#f0f921\"]]}],\"contourcarpet\":[{\"type\":\"contourcarpet\",\"colorbar\":{\"outlinewidth\":0,\"ticks\":\"\"}}],\"contour\":[{\"type\":\"contour\",\"colorbar\":{\"outlinewidth\":0,\"ticks\":\"\"},\"colorscale\":[[0.0,\"#0d0887\"],[0.1111111111111111,\"#46039f\"],[0.2222222222222222,\"#7201a8\"],[0.3333333333333333,\"#9c179e\"],[0.4444444444444444,\"#bd3786\"],[0.5555555555555556,\"#d8576b\"],[0.6666666666666666,\"#ed7953\"],[0.7777777777777778,\"#fb9f3a\"],[0.8888888888888888,\"#fdca26\"],[1.0,\"#f0f921\"]]}],\"surface\":[{\"type\":\"surface\",\"colorbar\":{\"outlinewidth\":0,\"ticks\":\"\"},\"colorscale\":[[0.0,\"#0d0887\"],[0.1111111111111111,\"#46039f\"],[0.2222222222222222,\"#7201a8\"],[0.3333333333333333,\"#9c179e\"],[0.4444444444444444,\"#bd3786\"],[0.5555555555555556,\"#d8576b\"],[0.6666666666666666,\"#ed7953\"],[0.7777777777777778,\"#fb9f3a\"],[0.8888888888888888,\"#fdca26\"],[1.0,\"#f0f921\"]]}],\"mesh3d\":[{\"type\":\"mesh3d\",\"colorbar\":{\"outlinewidth\":0,\"ticks\":\"\"}}],\"scatter\":[{\"fillpattern\":{\"fillmode\":\"overlay\",\"size\":10,\"solidity\":0.2},\"type\":\"scatter\"}],\"parcoords\":[{\"type\":\"parcoords\",\"line\":{\"colorbar\":{\"outlinewidth\":0,\"ticks\":\"\"}}}],\"scatterpolargl\":[{\"type\":\"scatterpolargl\",\"marker\":{\"colorbar\":{\"outlinewidth\":0,\"ticks\":\"\"}}}],\"bar\":[{\"error_x\":{\"color\":\"#2a3f5f\"},\"error_y\":{\"color\":\"#2a3f5f\"},\"marker\":{\"line\":{\"color\":\"#E5ECF6\",\"width\":0.5},\"pattern\":{\"fillmode\":\"overlay\",\"size\":10,\"solidity\":0.2}},\"type\":\"bar\"}],\"scattergeo\":[{\"type\":\"scattergeo\",\"marker\":{\"colorbar\":{\"outlinewidth\":0,\"ticks\":\"\"}}}],\"scatterpolar\":[{\"type\":\"scatterpolar\",\"marker\":{\"colorbar\":{\"outlinewidth\":0,\"ticks\":\"\"}}}],\"histogram\":[{\"marker\":{\"pattern\":{\"fillmode\":\"overlay\",\"size\":10,\"solidity\":0.2}},\"type\":\"histogram\"}],\"scattergl\":[{\"type\":\"scattergl\",\"marker\":{\"colorbar\":{\"outlinewidth\":0,\"ticks\":\"\"}}}],\"scatter3d\":[{\"type\":\"scatter3d\",\"line\":{\"colorbar\":{\"outlinewidth\":0,\"ticks\":\"\"}},\"marker\":{\"colorbar\":{\"outlinewidth\":0,\"ticks\":\"\"}}}],\"scattermapbox\":[{\"type\":\"scattermapbox\",\"marker\":{\"colorbar\":{\"outlinewidth\":0,\"ticks\":\"\"}}}],\"scatterternary\":[{\"type\":\"scatterternary\",\"marker\":{\"colorbar\":{\"outlinewidth\":0,\"ticks\":\"\"}}}],\"scattercarpet\":[{\"type\":\"scattercarpet\",\"marker\":{\"colorbar\":{\"outlinewidth\":0,\"ticks\":\"\"}}}],\"carpet\":[{\"aaxis\":{\"endlinecolor\":\"#2a3f5f\",\"gridcolor\":\"white\",\"linecolor\":\"white\",\"minorgridcolor\":\"white\",\"startlinecolor\":\"#2a3f5f\"},\"baxis\":{\"endlinecolor\":\"#2a3f5f\",\"gridcolor\":\"white\",\"linecolor\":\"white\",\"minorgridcolor\":\"white\",\"startlinecolor\":\"#2a3f5f\"},\"type\":\"carpet\"}],\"table\":[{\"cells\":{\"fill\":{\"color\":\"#EBF0F8\"},\"line\":{\"color\":\"white\"}},\"header\":{\"fill\":{\"color\":\"#C8D4E3\"},\"line\":{\"color\":\"white\"}},\"type\":\"table\"}],\"barpolar\":[{\"marker\":{\"line\":{\"color\":\"#E5ECF6\",\"width\":0.5},\"pattern\":{\"fillmode\":\"overlay\",\"size\":10,\"solidity\":0.2}},\"type\":\"barpolar\"}],\"pie\":[{\"automargin\":true,\"type\":\"pie\"}]},\"layout\":{\"autotypenumbers\":\"strict\",\"colorway\":[\"#636efa\",\"#EF553B\",\"#00cc96\",\"#ab63fa\",\"#FFA15A\",\"#19d3f3\",\"#FF6692\",\"#B6E880\",\"#FF97FF\",\"#FECB52\"],\"font\":{\"color\":\"#2a3f5f\"},\"hovermode\":\"closest\",\"hoverlabel\":{\"align\":\"left\"},\"paper_bgcolor\":\"white\",\"plot_bgcolor\":\"#E5ECF6\",\"polar\":{\"bgcolor\":\"#E5ECF6\",\"angularaxis\":{\"gridcolor\":\"white\",\"linecolor\":\"white\",\"ticks\":\"\"},\"radialaxis\":{\"gridcolor\":\"white\",\"linecolor\":\"white\",\"ticks\":\"\"}},\"ternary\":{\"bgcolor\":\"#E5ECF6\",\"aaxis\":{\"gridcolor\":\"white\",\"linecolor\":\"white\",\"ticks\":\"\"},\"baxis\":{\"gridcolor\":\"white\",\"linecolor\":\"white\",\"ticks\":\"\"},\"caxis\":{\"gridcolor\":\"white\",\"linecolor\":\"white\",\"ticks\":\"\"}},\"coloraxis\":{\"colorbar\":{\"outlinewidth\":0,\"ticks\":\"\"}},\"colorscale\":{\"sequential\":[[0.0,\"#0d0887\"],[0.1111111111111111,\"#46039f\"],[0.2222222222222222,\"#7201a8\"],[0.3333333333333333,\"#9c179e\"],[0.4444444444444444,\"#bd3786\"],[0.5555555555555556,\"#d8576b\"],[0.6666666666666666,\"#ed7953\"],[0.7777777777777778,\"#fb9f3a\"],[0.8888888888888888,\"#fdca26\"],[1.0,\"#f0f921\"]],\"sequentialminus\":[[0.0,\"#0d0887\"],[0.1111111111111111,\"#46039f\"],[0.2222222222222222,\"#7201a8\"],[0.3333333333333333,\"#9c179e\"],[0.4444444444444444,\"#bd3786\"],[0.5555555555555556,\"#d8576b\"],[0.6666666666666666,\"#ed7953\"],[0.7777777777777778,\"#fb9f3a\"],[0.8888888888888888,\"#fdca26\"],[1.0,\"#f0f921\"]],\"diverging\":[[0,\"#8e0152\"],[0.1,\"#c51b7d\"],[0.2,\"#de77ae\"],[0.3,\"#f1b6da\"],[0.4,\"#fde0ef\"],[0.5,\"#f7f7f7\"],[0.6,\"#e6f5d0\"],[0.7,\"#b8e186\"],[0.8,\"#7fbc41\"],[0.9,\"#4d9221\"],[1,\"#276419\"]]},\"xaxis\":{\"gridcolor\":\"white\",\"linecolor\":\"white\",\"ticks\":\"\",\"title\":{\"standoff\":15},\"zerolinecolor\":\"white\",\"automargin\":true,\"zerolinewidth\":2},\"yaxis\":{\"gridcolor\":\"white\",\"linecolor\":\"white\",\"ticks\":\"\",\"title\":{\"standoff\":15},\"zerolinecolor\":\"white\",\"automargin\":true,\"zerolinewidth\":2},\"scene\":{\"xaxis\":{\"backgroundcolor\":\"#E5ECF6\",\"gridcolor\":\"white\",\"linecolor\":\"white\",\"showbackground\":true,\"ticks\":\"\",\"zerolinecolor\":\"white\",\"gridwidth\":2},\"yaxis\":{\"backgroundcolor\":\"#E5ECF6\",\"gridcolor\":\"white\",\"linecolor\":\"white\",\"showbackground\":true,\"ticks\":\"\",\"zerolinecolor\":\"white\",\"gridwidth\":2},\"zaxis\":{\"backgroundcolor\":\"#E5ECF6\",\"gridcolor\":\"white\",\"linecolor\":\"white\",\"showbackground\":true,\"ticks\":\"\",\"zerolinecolor\":\"white\",\"gridwidth\":2}},\"shapedefaults\":{\"line\":{\"color\":\"#2a3f5f\"}},\"annotationdefaults\":{\"arrowcolor\":\"#2a3f5f\",\"arrowhead\":0,\"arrowwidth\":1},\"geo\":{\"bgcolor\":\"white\",\"landcolor\":\"#E5ECF6\",\"subunitcolor\":\"white\",\"showland\":true,\"showlakes\":true,\"lakecolor\":\"white\"},\"title\":{\"x\":0.05},\"mapbox\":{\"style\":\"light\"}}},\"xaxis\":{\"anchor\":\"y\",\"domain\":[0.0,1.0],\"title\":{\"text\":\"length\"}},\"yaxis\":{\"anchor\":\"x\",\"domain\":[0.0,1.0],\"title\":{\"text\":\"count\"}},\"legend\":{\"title\":{\"text\":\"label\"},\"tracegroupgap\":0},\"margin\":{\"t\":60},\"barmode\":\"relative\"},                        {\"responsive\": true}                    ).then(function(){\n",
       "                            \n",
       "var gd = document.getElementById('b4376e44-7236-43c9-895c-bb82d4507188');\n",
       "var x = new MutationObserver(function (mutations, observer) {{\n",
       "        var display = window.getComputedStyle(gd).display;\n",
       "        if (!display || display === 'none') {{\n",
       "            console.log([gd, 'removed!']);\n",
       "            Plotly.purge(gd);\n",
       "            observer.disconnect();\n",
       "        }}\n",
       "}});\n",
       "\n",
       "// Listen for the removal of the full notebook cells\n",
       "var notebookContainer = gd.closest('#notebook-container');\n",
       "if (notebookContainer) {{\n",
       "    x.observe(notebookContainer, {childList: true});\n",
       "}}\n",
       "\n",
       "// Listen for the clearing of the current output cell\n",
       "var outputEl = gd.closest('.output');\n",
       "if (outputEl) {{\n",
       "    x.observe(outputEl, {childList: true});\n",
       "}}\n",
       "\n",
       "                        })                };                });            </script>        </div>"
      ]
     },
     "metadata": {},
     "output_type": "display_data"
    }
   ],
   "source": [
    "fig = px.histogram(news, x=\"length\", color=\"label\")\n",
    "fig.show()"
   ]
  },
  {
   "cell_type": "code",
   "execution_count": 78,
   "id": "370a4280",
   "metadata": {},
   "outputs": [
    {
     "data": {
      "text/plain": [
       "1    re why did attorney general loretta lynch plea...\n",
       "2    breaking weiner cooperating with fbi on hillar...\n",
       "4    fantastic trumps  point plan to reform healthc...\n",
       "5    hillary goes absolutely berserk on protester a...\n",
       "6    breaking nypd ready to make arrests in weiner ...\n",
       "Name: title_processed, dtype: object"
      ]
     },
     "execution_count": 78,
     "metadata": {},
     "output_type": "execute_result"
    }
   ],
   "source": [
    "# Load the regular expression library\n",
    "import re\n",
    "# Remove punctuation\n",
    "news['title_processed'] = \\\n",
    "news['title'].map(lambda x: re.sub('[,\\.!?]', '', x))\n",
    "# Convert text to lowercase\n",
    "news['title_processed'] = \\\n",
    "news['title_processed'].map(lambda x: x.lower())\n",
    "# Print out the first rows of news\n",
    "news['title_processed'].head()"
   ]
  },
  {
   "cell_type": "code",
   "execution_count": 79,
   "id": "28c202ab",
   "metadata": {},
   "outputs": [
    {
     "data": {
      "image/png": "[encoded data removed]",
      "text/plain": [
       "<PIL.Image.Image image mode=RGB size=400x200>"
      ]
     },
     "execution_count": 79,
     "metadata": {},
     "output_type": "execute_result"
    }
   ],
   "source": [
    "# Import the wordcloud library\n",
    "from wordcloud import WordCloud\n",
    "# Join the different processed titles together.\n",
    "long_string = ','.join(list(news['title_processed'].values))\n",
    "# Create a WordCloud object\n",
    "wordcloud = WordCloud(background_color=\"white\", max_words=5000, contour_width=3, contour_color='steelblue')\n",
    "# Generate a word cloud\n",
    "wordcloud.generate(long_string)\n",
    "# Visualize the word cloud\n",
    "wordcloud.to_image()"
   ]
  },
  {
   "cell_type": "code",
   "execution_count": 80,
   "id": "a22dbd1e",
   "metadata": {},
   "outputs": [
    {
     "name": "stdout",
     "output_type": "stream",
     "text": [
      "['attorney', 'general', 'loretta', 'lynch', 'plead', 'fifth']\n"
     ]
    },
    {
     "name": "stderr",
     "output_type": "stream",
     "text": [
      "[nltk_data] Downloading package stopwords to\n",
      "[nltk_data]     C:\\Users\\nicol\\AppData\\Roaming\\nltk_data...\n",
      "[nltk_data]   Package stopwords is already up-to-date!\n"
     ]
    }
   ],
   "source": [
    "#Prepare for LDA analysis\n",
    "import gensim\n",
    "from gensim.utils import simple_preprocess\n",
    "import nltk\n",
    "nltk.download('stopwords')\n",
    "from nltk.corpus import stopwords\n",
    "\n",
    "stop_words = stopwords.words('english')\n",
    "stop_words.extend(['from', 'subject', 're', 'edu', 'use'])\n",
    "def sent_to_words(sentences):\n",
    "    for sentence in sentences:\n",
    "        # deacc=True removes punctuations\n",
    "        yield(gensim.utils.simple_preprocess(str(sentence), deacc=True))\n",
    "def remove_stopwords(texts):\n",
    "    return [[word for word in simple_preprocess(str(doc)) \n",
    "             if word not in stop_words] for doc in texts]\n",
    "data = news.title_processed.values.tolist()\n",
    "data_words = list(sent_to_words(data))\n",
    "# remove stop words\n",
    "data_words = remove_stopwords(data_words)\n",
    "print(data_words[:1][0][:30])"
   ]
  },
  {
   "cell_type": "code",
   "execution_count": 81,
   "id": "31f6d46b",
   "metadata": {},
   "outputs": [
    {
     "name": "stdout",
     "output_type": "stream",
     "text": [
      "[(0, 1), (1, 1), (2, 1), (3, 1), (4, 1), (5, 1)]\n"
     ]
    }
   ],
   "source": [
    "import gensim.corpora as corpora\n",
    "# Create Dictionary\n",
    "id2word = corpora.Dictionary(data_words)\n",
    "# Create Corpus\n",
    "texts = data_words\n",
    "# Term Document Frequency\n",
    "corpus = [id2word.doc2bow(text) for text in texts]\n",
    "# View\n",
    "print(corpus[:1][0][:30])"
   ]
  },
  {
   "cell_type": "code",
   "execution_count": 82,
   "id": "565cb376",
   "metadata": {},
   "outputs": [],
   "source": [
    "#LDA\n",
    "from pprint import pprint\n",
    "# number of topics\n",
    "num_topics = 4\n",
    "# Build LDA model\n",
    "lda_model = gensim.models.LdaMulticore(corpus=corpus,\n",
    "                                       id2word=id2word,\n",
    "                                       num_topics=num_topics)"
   ]
  },
  {
   "cell_type": "code",
   "execution_count": 83,
   "id": "e73cb4f5",
   "metadata": {},
   "outputs": [
    {
     "name": "stdout",
     "output_type": "stream",
     "text": [
      "[(0,\n",
      "  '0.016*\"trump\" + 0.009*\"le\" + 0.009*\"hillary\" + 0.008*\"gorafi\" + '\n",
      "  '0.006*\"title\" + 0.006*\"donald\" + 0.005*\"us\" + 0.004*\"clinton\" + 0.004*\"un\" '\n",
      "  '+ 0.004*\"clintons\"'),\n",
      " (1,\n",
      "  '0.015*\"hillary\" + 0.009*\"clinton\" + 0.007*\"trump\" + 0.004*\"le\" + '\n",
      "  '0.004*\"trumps\" + 0.004*\"comment\" + 0.004*\"de\" + 0.004*\"gorafi\" + '\n",
      "  '0.004*\"election\" + 0.003*\"donald\"'),\n",
      " (2,\n",
      "  '0.023*\"trump\" + 0.013*\"clinton\" + 0.013*\"hillary\" + 0.007*\"video\" + '\n",
      "  '0.006*\"election\" + 0.005*\"obama\" + 0.005*\"fbi\" + 0.005*\"donald\" + '\n",
      "  '0.004*\"title\" + 0.004*\"news\"'),\n",
      " (3,\n",
      "  '0.017*\"title\" + 0.014*\"clinton\" + 0.009*\"trump\" + 0.007*\"new\" + '\n",
      "  '0.006*\"hillary\" + 0.005*\"us\" + 0.005*\"email\" + 0.005*\"election\" + '\n",
      "  '0.004*\"life\" + 0.004*\"state\"')]\n"
     ]
    }
   ],
   "source": [
    "# Print the Keyword in the 10 topics\n",
    "pprint(lda_model.print_topics())\n",
    "doc_lda = lda_model[corpus]"
   ]
  },
  {
   "cell_type": "code",
   "execution_count": 84,
   "id": "cd829c8f",
   "metadata": {},
   "outputs": [
    {
     "data": {
      "image/png": "[encoded data removed]",
      "text/plain": [
       "<Figure size 1000x1000 with 4 Axes>"
      ]
     },
     "metadata": {},
     "output_type": "display_data"
    }
   ],
   "source": [
    "# Visualize the topics\n",
    "# 1. Wordcloud of Top N words in each topic\n",
    "from matplotlib import pyplot as plt\n",
    "from wordcloud import STOPWORDS\n",
    "import matplotlib.colors as mcolors\n",
    "\n",
    "cols = [color for name, color in mcolors.TABLEAU_COLORS.items()]  # more colors: 'mcolors.XKCD_COLORS'\n",
    "\n",
    "cloud = WordCloud(stopwords=stop_words,\n",
    "                  background_color='white',\n",
    "                  width=2500,\n",
    "                  height=1800,\n",
    "                  max_words=10,\n",
    "                  colormap='tab10',\n",
    "                  color_func=lambda *args, **kwargs: cols[i],\n",
    "                  prefer_horizontal=1.0)\n",
    "\n",
    "topics = lda_model.show_topics(formatted=False)\n",
    "\n",
    "fig, axes = plt.subplots(2, 2, figsize=(10,10), sharex=True, sharey=True)\n",
    "\n",
    "for i, ax in enumerate(axes.flatten()):\n",
    "    fig.add_subplot(ax)\n",
    "    topic_words = dict(topics[i][1])\n",
    "    cloud.generate_from_frequencies(topic_words, max_font_size=300)\n",
    "    plt.gca().imshow(cloud)\n",
    "    plt.gca().set_title('Topic ' + str(i), fontdict=dict(size=16))\n",
    "    plt.gca().axis('off')\n",
    "\n",
    "\n",
    "plt.subplots_adjust(wspace=0, hspace=0)\n",
    "plt.axis('off')\n",
    "plt.margins(x=0, y=0)\n",
    "plt.tight_layout()\n",
    "plt.show()"
   ]
  },
  {
   "cell_type": "code",
   "execution_count": 85,
   "id": "15819d44",
   "metadata": {},
   "outputs": [],
   "source": [
    "# perform stratified sampling to get a balanced, sample dataset\n",
    "sample_news = og_news.groupby('label', group_keys=False).apply(lambda x: x.sample(100, random_state=1))\n",
    "\n",
    "# shuffle the observations so real and fake labels are not grouped together\n",
    "from sklearn.utils import shuffle\n",
    "sample_news = shuffle(sample_news, random_state=1)"
   ]
  },
  {
   "cell_type": "markdown",
   "id": "d770a8ed",
   "metadata": {},
   "source": [
    "At the moment, the text is unbearable to read. Let's add punctuation using Hugging Face's bert-restore-punctuation."
   ]
  },
  {
   "cell_type": "code",
   "execution_count": 86,
   "id": "55a192f9",
   "metadata": {},
   "outputs": [
    {
     "ename": "ValueError",
     "evalue": "'use_cuda' set to True when cuda is unavailable.Make sure CUDA is available or set use_cuda=False.",
     "output_type": "error",
     "traceback": [
      "\u001b[1;31m---------------------------------------------------------------------------\u001b[0m",
      "\u001b[1;31mValueError\u001b[0m                                Traceback (most recent call last)",
      "\u001b[1;32m~\\AppData\\Local\\Temp\\ipykernel_6900\\2719942575.py\u001b[0m in \u001b[0;36m<module>\u001b[1;34m\u001b[0m\n\u001b[0;32m      1\u001b[0m \u001b[1;32mfrom\u001b[0m \u001b[0mrpunct\u001b[0m \u001b[1;32mimport\u001b[0m \u001b[0mRestorePuncts\u001b[0m\u001b[1;33m\u001b[0m\u001b[1;33m\u001b[0m\u001b[0m\n\u001b[0;32m      2\u001b[0m \u001b[1;31m# The default language is 'english'\u001b[0m\u001b[1;33m\u001b[0m\u001b[1;33m\u001b[0m\u001b[0m\n\u001b[1;32m----> 3\u001b[1;33m \u001b[0mrpunct\u001b[0m \u001b[1;33m=\u001b[0m \u001b[0mRestorePuncts\u001b[0m\u001b[1;33m(\u001b[0m\u001b[1;33m)\u001b[0m\u001b[1;33m\u001b[0m\u001b[1;33m\u001b[0m\u001b[0m\n\u001b[0m\u001b[0;32m      4\u001b[0m \u001b[1;33m\u001b[0m\u001b[0m\n\u001b[0;32m      5\u001b[0m \u001b[0msample_news\u001b[0m\u001b[1;33m[\u001b[0m\u001b[1;34m'text'\u001b[0m\u001b[1;33m]\u001b[0m \u001b[1;33m=\u001b[0m \u001b[0msample_news\u001b[0m\u001b[1;33m[\u001b[0m\u001b[1;34m'text'\u001b[0m\u001b[1;33m]\u001b[0m\u001b[1;33m.\u001b[0m\u001b[0mmap\u001b[0m\u001b[1;33m(\u001b[0m\u001b[1;32mlambda\u001b[0m \u001b[0mx\u001b[0m\u001b[1;33m:\u001b[0m \u001b[0mrpunct\u001b[0m\u001b[1;33m.\u001b[0m\u001b[0mpunctuate\u001b[0m\u001b[1;33m(\u001b[0m\u001b[0mx\u001b[0m\u001b[1;33m)\u001b[0m\u001b[1;33m)\u001b[0m\u001b[1;33m\u001b[0m\u001b[1;33m\u001b[0m\u001b[0m\n",
      "\u001b[1;32m~\\anaconda3\\lib\\site-packages\\rpunct\\punctuate.py\u001b[0m in \u001b[0;36m__init__\u001b[1;34m(self, wrds_per_pred)\u001b[0m\n\u001b[0;32m     15\u001b[0m         \u001b[0mself\u001b[0m\u001b[1;33m.\u001b[0m\u001b[0moverlap_wrds\u001b[0m \u001b[1;33m=\u001b[0m \u001b[1;36m30\u001b[0m\u001b[1;33m\u001b[0m\u001b[1;33m\u001b[0m\u001b[0m\n\u001b[0;32m     16\u001b[0m         \u001b[0mself\u001b[0m\u001b[1;33m.\u001b[0m\u001b[0mvalid_labels\u001b[0m \u001b[1;33m=\u001b[0m \u001b[1;33m[\u001b[0m\u001b[1;34m'OU'\u001b[0m\u001b[1;33m,\u001b[0m \u001b[1;34m'OO'\u001b[0m\u001b[1;33m,\u001b[0m \u001b[1;34m'.O'\u001b[0m\u001b[1;33m,\u001b[0m \u001b[1;34m'!O'\u001b[0m\u001b[1;33m,\u001b[0m \u001b[1;34m',O'\u001b[0m\u001b[1;33m,\u001b[0m \u001b[1;34m'.U'\u001b[0m\u001b[1;33m,\u001b[0m \u001b[1;34m'!U'\u001b[0m\u001b[1;33m,\u001b[0m \u001b[1;34m',U'\u001b[0m\u001b[1;33m,\u001b[0m \u001b[1;34m':O'\u001b[0m\u001b[1;33m,\u001b[0m \u001b[1;34m';O'\u001b[0m\u001b[1;33m,\u001b[0m \u001b[1;34m':U'\u001b[0m\u001b[1;33m,\u001b[0m \u001b[1;34m\"'O\"\u001b[0m\u001b[1;33m,\u001b[0m \u001b[1;34m'-O'\u001b[0m\u001b[1;33m,\u001b[0m \u001b[1;34m'?O'\u001b[0m\u001b[1;33m,\u001b[0m \u001b[1;34m'?U'\u001b[0m\u001b[1;33m]\u001b[0m\u001b[1;33m\u001b[0m\u001b[1;33m\u001b[0m\u001b[0m\n\u001b[1;32m---> 17\u001b[1;33m         self.model = NERModel(\"bert\", \"felflare/bert-restore-punctuation\", labels=self.valid_labels,\n\u001b[0m\u001b[0;32m     18\u001b[0m                               args={\"silent\": True, \"max_seq_length\": 512})\n\u001b[0;32m     19\u001b[0m \u001b[1;33m\u001b[0m\u001b[0m\n",
      "\u001b[1;32m~\\anaconda3\\lib\\site-packages\\simpletransformers\\ner\\ner_model.py\u001b[0m in \u001b[0;36m__init__\u001b[1;34m(self, model_type, model_name, labels, args, use_cuda, cuda_device, onnx_execution_provider, **kwargs)\u001b[0m\n\u001b[0;32m    209\u001b[0m                     \u001b[0mself\u001b[0m\u001b[1;33m.\u001b[0m\u001b[0mdevice\u001b[0m \u001b[1;33m=\u001b[0m \u001b[0mtorch\u001b[0m\u001b[1;33m.\u001b[0m\u001b[0mdevice\u001b[0m\u001b[1;33m(\u001b[0m\u001b[1;34mf\"cuda:{cuda_device}\"\u001b[0m\u001b[1;33m)\u001b[0m\u001b[1;33m\u001b[0m\u001b[1;33m\u001b[0m\u001b[0m\n\u001b[0;32m    210\u001b[0m             \u001b[1;32melse\u001b[0m\u001b[1;33m:\u001b[0m\u001b[1;33m\u001b[0m\u001b[1;33m\u001b[0m\u001b[0m\n\u001b[1;32m--> 211\u001b[1;33m                 raise ValueError(\n\u001b[0m\u001b[0;32m    212\u001b[0m                     \u001b[1;34m\"'use_cuda' set to True when cuda is unavailable.\"\u001b[0m\u001b[1;33m\u001b[0m\u001b[1;33m\u001b[0m\u001b[0m\n\u001b[0;32m    213\u001b[0m                     \u001b[1;34m\"Make sure CUDA is available or set use_cuda=False.\"\u001b[0m\u001b[1;33m\u001b[0m\u001b[1;33m\u001b[0m\u001b[0m\n",
      "\u001b[1;31mValueError\u001b[0m: 'use_cuda' set to True when cuda is unavailable.Make sure CUDA is available or set use_cuda=False."
     ]
    }
   ],
   "source": [
    "from rpunct import RestorePuncts\n",
    "# The default language is 'english'\n",
    "rpunct = RestorePuncts()\n",
    "\n",
    "sample_news['text'] = sample_news['text'].map(lambda x: rpunct.punctuate(x))\n",
    "\n",
    "rpunct.punctuate()"
   ]
  },
  {
   "cell_type": "code",
   "execution_count": null,
   "id": "ccf0f647",
   "metadata": {},
   "outputs": [],
   "source": [
    "import numpy as np\n",
    "\n",
    "text_list = list(sample_news['text'])\n",
    "\n",
    "# Split dataframe into 20 equal parts\n",
    "split_df = np.array_split(sample_news, 20)\n",
    "\n",
    "# Loop over each part and write to a separate text file\n",
    "for i, part in enumerate(split_df):\n",
    "    \n",
    "    text_list = list(part['text'])\n",
    "    \n",
    "    with open(f\"panel_surveys/panel_{i}.txt\", 'w') as f:\n",
    "        for line in text_list:\n",
    "            f.write(f\"NEXT ARTICLE:\\n\\n{line}\\n\\n\\n\")\n",
    "    \n",
    "    f.close()"
   ]
  },
  {
   "cell_type": "code",
   "execution_count": null,
   "id": "56c75bfe",
   "metadata": {},
   "outputs": [],
   "source": [
    "# # split into training and test set (scikitlearn)\n",
    "# from sklearn.model_selection import train_test_split\n",
    "# news_X_train, news_X_test, news_y_train, news_y_test = train_test_split(news['text'], news['label'], test_size=0.2)"
   ]
  },
  {
   "cell_type": "code",
   "execution_count": null,
   "id": "f49f6842",
   "metadata": {},
   "outputs": [],
   "source": []
  }
 ],
 "metadata": {
  "kernelspec": {
   "display_name": "Python 3 (ipykernel)",
   "language": "python",
   "name": "python3"
  },
  "language_info": {
   "codemirror_mode": {
    "name": "ipython",
    "version": 3
   },
   "file_extension": ".py",
   "mimetype": "text/x-python",
   "name": "python",
   "nbconvert_exporter": "python",
   "pygments_lexer": "ipython3",
   "version": "3.9.13"
  }
 },
 "nbformat": 4,
 "nbformat_minor": 5
}
