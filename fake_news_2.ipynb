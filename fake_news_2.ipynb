{
 "cells": [
  {
   "cell_type": "code",
   "execution_count": 349,
   "id": "60fefaa2",
   "metadata": {},
   "outputs": [
    {
     "data": {
      "text/html": [
       "<div>\n",
       "<style scoped>\n",
       "    .dataframe tbody tr th:only-of-type {\n",
       "        vertical-align: middle;\n",
       "    }\n",
       "\n",
       "    .dataframe tbody tr th {\n",
       "        vertical-align: top;\n",
       "    }\n",
       "\n",
       "    .dataframe thead th {\n",
       "        text-align: right;\n",
       "    }\n",
       "</style>\n",
       "<table border=\"1\" class=\"dataframe\">\n",
       "  <thead>\n",
       "    <tr style=\"text-align: right;\">\n",
       "      <th></th>\n",
       "      <th>author</th>\n",
       "      <th>published</th>\n",
       "      <th>title</th>\n",
       "      <th>text</th>\n",
       "      <th>language</th>\n",
       "      <th>site_url</th>\n",
       "      <th>main_img_url</th>\n",
       "      <th>type</th>\n",
       "      <th>label</th>\n",
       "      <th>title_without_stopwords</th>\n",
       "      <th>text_without_stopwords</th>\n",
       "      <th>hasImage</th>\n",
       "    </tr>\n",
       "  </thead>\n",
       "  <tbody>\n",
       "    <tr>\n",
       "      <th>0</th>\n",
       "      <td>Barracuda Brigade</td>\n",
       "      <td>2016-10-26T21:41:00.000+03:00</td>\n",
       "      <td>muslims busted they stole millions in govt ben...</td>\n",
       "      <td>print they should pay all the back all the mon...</td>\n",
       "      <td>english</td>\n",
       "      <td>100percentfedup.com</td>\n",
       "      <td>http://bb4sp.com/wp-content/uploads/2016/10/Fu...</td>\n",
       "      <td>bias</td>\n",
       "      <td>Real</td>\n",
       "      <td>muslims busted stole millions govt benefits</td>\n",
       "      <td>print pay back money plus interest entire fami...</td>\n",
       "      <td>1.0</td>\n",
       "    </tr>\n",
       "    <tr>\n",
       "      <th>1</th>\n",
       "      <td>reasoning with facts</td>\n",
       "      <td>2016-10-29T08:47:11.259+03:00</td>\n",
       "      <td>re why did attorney general loretta lynch plea...</td>\n",
       "      <td>why did attorney general loretta lynch plead t...</td>\n",
       "      <td>english</td>\n",
       "      <td>100percentfedup.com</td>\n",
       "      <td>http://bb4sp.com/wp-content/uploads/2016/10/Fu...</td>\n",
       "      <td>bias</td>\n",
       "      <td>Real</td>\n",
       "      <td>attorney general loretta lynch plead fifth</td>\n",
       "      <td>attorney general loretta lynch plead fifth bar...</td>\n",
       "      <td>1.0</td>\n",
       "    </tr>\n",
       "    <tr>\n",
       "      <th>2</th>\n",
       "      <td>Barracuda Brigade</td>\n",
       "      <td>2016-10-31T01:41:49.479+02:00</td>\n",
       "      <td>breaking weiner cooperating with fbi on hillar...</td>\n",
       "      <td>red state  \\nfox news sunday reported this mor...</td>\n",
       "      <td>english</td>\n",
       "      <td>100percentfedup.com</td>\n",
       "      <td>http://bb4sp.com/wp-content/uploads/2016/10/Fu...</td>\n",
       "      <td>bias</td>\n",
       "      <td>Real</td>\n",
       "      <td>breaking weiner cooperating fbi hillary email ...</td>\n",
       "      <td>red state fox news sunday reported morning ant...</td>\n",
       "      <td>1.0</td>\n",
       "    </tr>\n",
       "    <tr>\n",
       "      <th>3</th>\n",
       "      <td>Fed Up</td>\n",
       "      <td>2016-11-01T05:22:00.000+02:00</td>\n",
       "      <td>pin drop speech by father of daughter kidnappe...</td>\n",
       "      <td>email kayla mueller was a prisoner and torture...</td>\n",
       "      <td>english</td>\n",
       "      <td>100percentfedup.com</td>\n",
       "      <td>http://100percentfedup.com/wp-content/uploads/...</td>\n",
       "      <td>bias</td>\n",
       "      <td>Real</td>\n",
       "      <td>pin drop speech father daughter kidnapped kill...</td>\n",
       "      <td>email kayla mueller prisoner tortured isis cha...</td>\n",
       "      <td>1.0</td>\n",
       "    </tr>\n",
       "    <tr>\n",
       "      <th>4</th>\n",
       "      <td>Fed Up</td>\n",
       "      <td>2016-11-01T21:56:00.000+02:00</td>\n",
       "      <td>fantastic trumps  point plan to reform healthc...</td>\n",
       "      <td>email healthcare reform to make america great ...</td>\n",
       "      <td>english</td>\n",
       "      <td>100percentfedup.com</td>\n",
       "      <td>http://100percentfedup.com/wp-content/uploads/...</td>\n",
       "      <td>bias</td>\n",
       "      <td>Real</td>\n",
       "      <td>fantastic trumps point plan reform healthcare ...</td>\n",
       "      <td>email healthcare reform make america great sin...</td>\n",
       "      <td>1.0</td>\n",
       "    </tr>\n",
       "  </tbody>\n",
       "</table>\n",
       "</div>"
      ],
      "text/plain": [
       "                 author                      published  \\\n",
       "0     Barracuda Brigade  2016-10-26T21:41:00.000+03:00   \n",
       "1  reasoning with facts  2016-10-29T08:47:11.259+03:00   \n",
       "2     Barracuda Brigade  2016-10-31T01:41:49.479+02:00   \n",
       "3                Fed Up  2016-11-01T05:22:00.000+02:00   \n",
       "4                Fed Up  2016-11-01T21:56:00.000+02:00   \n",
       "\n",
       "                                               title  \\\n",
       "0  muslims busted they stole millions in govt ben...   \n",
       "1  re why did attorney general loretta lynch plea...   \n",
       "2  breaking weiner cooperating with fbi on hillar...   \n",
       "3  pin drop speech by father of daughter kidnappe...   \n",
       "4  fantastic trumps  point plan to reform healthc...   \n",
       "\n",
       "                                                text language  \\\n",
       "0  print they should pay all the back all the mon...  english   \n",
       "1  why did attorney general loretta lynch plead t...  english   \n",
       "2  red state  \\nfox news sunday reported this mor...  english   \n",
       "3  email kayla mueller was a prisoner and torture...  english   \n",
       "4  email healthcare reform to make america great ...  english   \n",
       "\n",
       "              site_url                                       main_img_url  \\\n",
       "0  100percentfedup.com  http://bb4sp.com/wp-content/uploads/2016/10/Fu...   \n",
       "1  100percentfedup.com  http://bb4sp.com/wp-content/uploads/2016/10/Fu...   \n",
       "2  100percentfedup.com  http://bb4sp.com/wp-content/uploads/2016/10/Fu...   \n",
       "3  100percentfedup.com  http://100percentfedup.com/wp-content/uploads/...   \n",
       "4  100percentfedup.com  http://100percentfedup.com/wp-content/uploads/...   \n",
       "\n",
       "   type label                            title_without_stopwords  \\\n",
       "0  bias  Real        muslims busted stole millions govt benefits   \n",
       "1  bias  Real         attorney general loretta lynch plead fifth   \n",
       "2  bias  Real  breaking weiner cooperating fbi hillary email ...   \n",
       "3  bias  Real  pin drop speech father daughter kidnapped kill...   \n",
       "4  bias  Real  fantastic trumps point plan reform healthcare ...   \n",
       "\n",
       "                              text_without_stopwords  hasImage  \n",
       "0  print pay back money plus interest entire fami...       1.0  \n",
       "1  attorney general loretta lynch plead fifth bar...       1.0  \n",
       "2  red state fox news sunday reported morning ant...       1.0  \n",
       "3  email kayla mueller prisoner tortured isis cha...       1.0  \n",
       "4  email healthcare reform make america great sin...       1.0  "
      ]
     },
     "execution_count": 349,
     "metadata": {},
     "output_type": "execute_result"
    }
   ],
   "source": [
    "import pandas as pd\n",
    "\n",
    "news = pd.read_csv('news_articles.csv')\n",
    "news = news[news['language'] == 'english']\n",
    "\n",
    "news.head()"
   ]
  },
  {
   "cell_type": "markdown",
   "id": "0c142f8e",
   "metadata": {},
   "source": [
    "Remove unimportant columns and add a length column. Typically articles below a certain length threshold are very\n",
    "unlikely to actually be articles. Let's remove observations with text below a certain length."
   ]
  },
  {
   "cell_type": "code",
   "execution_count": 350,
   "id": "ca976e8c",
   "metadata": {},
   "outputs": [
    {
     "data": {
      "text/html": [
       "<div>\n",
       "<style scoped>\n",
       "    .dataframe tbody tr th:only-of-type {\n",
       "        vertical-align: middle;\n",
       "    }\n",
       "\n",
       "    .dataframe tbody tr th {\n",
       "        vertical-align: top;\n",
       "    }\n",
       "\n",
       "    .dataframe thead th {\n",
       "        text-align: right;\n",
       "    }\n",
       "</style>\n",
       "<table border=\"1\" class=\"dataframe\">\n",
       "  <thead>\n",
       "    <tr style=\"text-align: right;\">\n",
       "      <th></th>\n",
       "      <th>published</th>\n",
       "      <th>title</th>\n",
       "      <th>text</th>\n",
       "      <th>type</th>\n",
       "      <th>label</th>\n",
       "      <th>length</th>\n",
       "    </tr>\n",
       "  </thead>\n",
       "  <tbody>\n",
       "    <tr>\n",
       "      <th>0</th>\n",
       "      <td>2016-10-26T21:41:00.000+03:00</td>\n",
       "      <td>muslims busted they stole millions in govt ben...</td>\n",
       "      <td>muslims busted they stole millions in govt ben...</td>\n",
       "      <td>bias</td>\n",
       "      <td>Real</td>\n",
       "      <td>545</td>\n",
       "    </tr>\n",
       "    <tr>\n",
       "      <th>1</th>\n",
       "      <td>2016-10-29T08:47:11.259+03:00</td>\n",
       "      <td>re why did attorney general loretta lynch plea...</td>\n",
       "      <td>re why did attorney general loretta lynch plea...</td>\n",
       "      <td>bias</td>\n",
       "      <td>Real</td>\n",
       "      <td>1779</td>\n",
       "    </tr>\n",
       "    <tr>\n",
       "      <th>2</th>\n",
       "      <td>2016-10-31T01:41:49.479+02:00</td>\n",
       "      <td>breaking weiner cooperating with fbi on hillar...</td>\n",
       "      <td>breaking weiner cooperating with fbi on hillar...</td>\n",
       "      <td>bias</td>\n",
       "      <td>Real</td>\n",
       "      <td>1392</td>\n",
       "    </tr>\n",
       "    <tr>\n",
       "      <th>4</th>\n",
       "      <td>2016-11-01T21:56:00.000+02:00</td>\n",
       "      <td>fantastic trumps  point plan to reform healthc...</td>\n",
       "      <td>fantastic trumps  point plan to reform healthc...</td>\n",
       "      <td>bias</td>\n",
       "      <td>Real</td>\n",
       "      <td>2139</td>\n",
       "    </tr>\n",
       "    <tr>\n",
       "      <th>5</th>\n",
       "      <td>2016-11-02T16:31:28.550+02:00</td>\n",
       "      <td>hillary goes absolutely berserk on protester a...</td>\n",
       "      <td>hillary goes absolutely berserk on protester a...</td>\n",
       "      <td>bias</td>\n",
       "      <td>Real</td>\n",
       "      <td>1221</td>\n",
       "    </tr>\n",
       "  </tbody>\n",
       "</table>\n",
       "</div>"
      ],
      "text/plain": [
       "                       published  \\\n",
       "0  2016-10-26T21:41:00.000+03:00   \n",
       "1  2016-10-29T08:47:11.259+03:00   \n",
       "2  2016-10-31T01:41:49.479+02:00   \n",
       "4  2016-11-01T21:56:00.000+02:00   \n",
       "5  2016-11-02T16:31:28.550+02:00   \n",
       "\n",
       "                                               title  \\\n",
       "0  muslims busted they stole millions in govt ben...   \n",
       "1  re why did attorney general loretta lynch plea...   \n",
       "2  breaking weiner cooperating with fbi on hillar...   \n",
       "4  fantastic trumps  point plan to reform healthc...   \n",
       "5  hillary goes absolutely berserk on protester a...   \n",
       "\n",
       "                                                text  type label  length  \n",
       "0  muslims busted they stole millions in govt ben...  bias  Real     545  \n",
       "1  re why did attorney general loretta lynch plea...  bias  Real    1779  \n",
       "2  breaking weiner cooperating with fbi on hillar...  bias  Real    1392  \n",
       "4  fantastic trumps  point plan to reform healthc...  bias  Real    2139  \n",
       "5  hillary goes absolutely berserk on protester a...  bias  Real    1221  "
      ]
     },
     "execution_count": 350,
     "metadata": {},
     "output_type": "execute_result"
    }
   ],
   "source": [
    "# remove all columns except publication data, title, text, type, and label\n",
    "news = news[['published', 'title', 'text', 'type', 'label']].dropna().reset_index(drop=True)\n",
    "\n",
    "# add title to text of article\n",
    "news['text'] = news['title'] + \"\\n\\n\" + news['text']\n",
    "\n",
    "# add a length feature\n",
    "news['length']  = news['text'].str.len()\n",
    "\n",
    "# remove observation with text below a certain length\n",
    "news = news.loc[news['length'] >= 500]\n",
    "\n",
    "og_news = news.copy()\n",
    "\n",
    "news.head()"
   ]
  },
  {
   "cell_type": "markdown",
   "id": "fe200a31",
   "metadata": {},
   "source": [
    "Create histogram to examine number of articles with 'Real' vs 'Fake' labels."
   ]
  },
  {
   "cell_type": "code",
   "execution_count": 351,
   "id": "b69c13ba",
   "metadata": {},
   "outputs": [
    {
     "data": {
      "application/vnd.plotly.v1+json": {
       "config": {
        "plotlyServerURL": "https://plot.ly"
       },
       "data": [
        {
         "alignmentgroup": "True",
         "bingroup": "x",
         "hovertemplate": "label=%{x}<br>count=%{y}<extra></extra>",
         "legendgroup": "",
         "marker": {
          "color": "#636efa",
          "pattern": {
           "shape": ""
          }
         },
         "name": "",
         "offsetgroup": "",
         "orientation": "v",
         "showlegend": false,
         "type": "histogram",
         "x": [
          "Real",
          "Real",
          "Real",
          "Real",
          "Real",
          "Real",
          "Real",
          "Real",
          "Real",
          "Real",
          "Real",
          "Real",
          "Real",
          "Real",
          "Real",
          "Real",
          "Real",
          "Real",
          "Real",
          "Real",
          "Real",
          "Real",
          "Real",
          "Fake",
          "Fake",
          "Fake",
          "Fake",
          "Fake",
          "Fake",
          "Fake",
          "Fake",
          "Fake",
          "Fake",
          "Fake",
          "Fake",
          "Fake",
          "Fake",
          "Fake",
          "Fake",
          "Fake",
          "Fake",
          "Fake",
          "Fake",
          "Fake",
          "Fake",
          "Fake",
          "Fake",
          "Fake",
          "Fake",
          "Fake",
          "Fake",
          "Fake",
          "Fake",
          "Fake",
          "Fake",
          "Fake",
          "Fake",
          "Fake",
          "Fake",
          "Fake",
          "Fake",
          "Fake",
          "Fake",
          "Fake",
          "Fake",
          "Fake",
          "Fake",
          "Fake",
          "Fake",
          "Fake",
          "Fake",
          "Fake",
          "Fake",
          "Fake",
          "Fake",
          "Fake",
          "Fake",
          "Fake",
          "Fake",
          "Fake",
          "Fake",
          "Fake",
          "Fake",
          "Fake",
          "Fake",
          "Fake",
          "Fake",
          "Fake",
          "Fake",
          "Fake",
          "Fake",
          "Fake",
          "Fake",
          "Fake",
          "Fake",
          "Fake",
          "Fake",
          "Fake",
          "Fake",
          "Fake",
          "Fake",
          "Fake",
          "Fake",
          "Fake",
          "Fake",
          "Fake",
          "Fake",
          "Fake",
          "Fake",
          "Fake",
          "Fake",
          "Fake",
          "Fake",
          "Fake",
          "Fake",
          "Fake",
          "Fake",
          "Fake",
          "Fake",
          "Fake",
          "Fake",
          "Fake",
          "Fake",
          "Fake",
          "Fake",
          "Fake",
          "Fake",
          "Fake",
          "Fake",
          "Fake",
          "Fake",
          "Fake",
          "Fake",
          "Fake",
          "Fake",
          "Fake",
          "Fake",
          "Fake",
          "Fake",
          "Fake",
          "Fake",
          "Fake",
          "Fake",
          "Fake",
          "Fake",
          "Fake",
          "Fake",
          "Fake",
          "Real",
          "Real",
          "Real",
          "Real",
          "Real",
          "Real",
          "Real",
          "Real",
          "Real",
          "Real",
          "Real",
          "Real",
          "Real",
          "Real",
          "Real",
          "Real",
          "Real",
          "Real",
          "Real",
          "Real",
          "Fake",
          "Fake",
          "Fake",
          "Fake",
          "Fake",
          "Fake",
          "Fake",
          "Fake",
          "Fake",
          "Fake",
          "Fake",
          "Fake",
          "Fake",
          "Fake",
          "Fake",
          "Fake",
          "Fake",
          "Fake",
          "Fake",
          "Fake",
          "Fake",
          "Fake",
          "Fake",
          "Fake",
          "Fake",
          "Fake",
          "Fake",
          "Fake",
          "Fake",
          "Fake",
          "Fake",
          "Fake",
          "Fake",
          "Fake",
          "Fake",
          "Fake",
          "Fake",
          "Fake",
          "Fake",
          "Fake",
          "Fake",
          "Fake",
          "Fake",
          "Fake",
          "Fake",
          "Fake",
          "Fake",
          "Fake",
          "Fake",
          "Fake",
          "Fake",
          "Fake",
          "Fake",
          "Fake",
          "Fake",
          "Fake",
          "Fake",
          "Fake",
          "Fake",
          "Fake",
          "Fake",
          "Fake",
          "Fake",
          "Fake",
          "Fake",
          "Fake",
          "Fake",
          "Fake",
          "Fake",
          "Fake",
          "Fake",
          "Fake",
          "Fake",
          "Fake",
          "Fake",
          "Fake",
          "Fake",
          "Fake",
          "Fake",
          "Fake",
          "Fake",
          "Fake",
          "Fake",
          "Fake",
          "Fake",
          "Fake",
          "Fake",
          "Fake",
          "Fake",
          "Fake",
          "Fake",
          "Fake",
          "Fake",
          "Fake",
          "Fake",
          "Fake",
          "Fake",
          "Fake",
          "Fake",
          "Fake",
          "Fake",
          "Fake",
          "Fake",
          "Fake",
          "Fake",
          "Fake",
          "Fake",
          "Fake",
          "Fake",
          "Fake",
          "Fake",
          "Fake",
          "Fake",
          "Fake",
          "Fake",
          "Fake",
          "Fake",
          "Fake",
          "Fake",
          "Fake",
          "Fake",
          "Fake",
          "Fake",
          "Fake",
          "Fake",
          "Fake",
          "Fake",
          "Fake",
          "Fake",
          "Fake",
          "Fake",
          "Fake",
          "Fake",
          "Fake",
          "Fake",
          "Fake",
          "Fake",
          "Fake",
          "Fake",
          "Fake",
          "Fake",
          "Fake",
          "Fake",
          "Fake",
          "Fake",
          "Fake",
          "Fake",
          "Fake",
          "Fake",
          "Fake",
          "Fake",
          "Fake",
          "Fake",
          "Fake",
          "Fake",
          "Fake",
          "Fake",
          "Fake",
          "Fake",
          "Fake",
          "Fake",
          "Fake",
          "Fake",
          "Fake",
          "Fake",
          "Fake",
          "Fake",
          "Fake",
          "Fake",
          "Fake",
          "Fake",
          "Fake",
          "Fake",
          "Fake",
          "Fake",
          "Fake",
          "Fake",
          "Fake",
          "Fake",
          "Fake",
          "Fake",
          "Fake",
          "Fake",
          "Fake",
          "Fake",
          "Fake",
          "Fake",
          "Fake",
          "Fake",
          "Fake",
          "Fake",
          "Fake",
          "Fake",
          "Fake",
          "Fake",
          "Fake",
          "Fake",
          "Fake",
          "Fake",
          "Fake",
          "Fake",
          "Fake",
          "Fake",
          "Fake",
          "Fake",
          "Fake",
          "Fake",
          "Fake",
          "Fake",
          "Fake",
          "Fake",
          "Fake",
          "Fake",
          "Fake",
          "Fake",
          "Fake",
          "Fake",
          "Fake",
          "Fake",
          "Fake",
          "Fake",
          "Fake",
          "Fake",
          "Fake",
          "Fake",
          "Fake",
          "Fake",
          "Fake",
          "Fake",
          "Fake",
          "Fake",
          "Fake",
          "Fake",
          "Fake",
          "Fake",
          "Fake",
          "Fake",
          "Fake",
          "Fake",
          "Fake",
          "Fake",
          "Fake",
          "Fake",
          "Fake",
          "Fake",
          "Fake",
          "Fake",
          "Fake",
          "Fake",
          "Fake",
          "Fake",
          "Fake",
          "Fake",
          "Fake",
          "Fake",
          "Fake",
          "Fake",
          "Fake",
          "Fake",
          "Fake",
          "Fake",
          "Fake",
          "Fake",
          "Fake",
          "Fake",
          "Fake",
          "Fake",
          "Fake",
          "Fake",
          "Fake",
          "Fake",
          "Fake",
          "Fake",
          "Fake",
          "Fake",
          "Fake",
          "Fake",
          "Fake",
          "Fake",
          "Fake",
          "Fake",
          "Fake",
          "Fake",
          "Fake",
          "Fake",
          "Fake",
          "Fake",
          "Fake",
          "Fake",
          "Fake",
          "Fake",
          "Fake",
          "Fake",
          "Fake",
          "Fake",
          "Fake",
          "Fake",
          "Fake",
          "Fake",
          "Fake",
          "Fake",
          "Fake",
          "Fake",
          "Fake",
          "Fake",
          "Fake",
          "Fake",
          "Fake",
          "Fake",
          "Fake",
          "Fake",
          "Fake",
          "Fake",
          "Fake",
          "Fake",
          "Fake",
          "Fake",
          "Fake",
          "Fake",
          "Fake",
          "Fake",
          "Fake",
          "Fake",
          "Fake",
          "Fake",
          "Fake",
          "Fake",
          "Fake",
          "Fake",
          "Fake",
          "Fake",
          "Fake",
          "Fake",
          "Fake",
          "Fake",
          "Fake",
          "Fake",
          "Fake",
          "Fake",
          "Fake",
          "Fake",
          "Fake",
          "Fake",
          "Fake",
          "Fake",
          "Fake",
          "Fake",
          "Fake",
          "Fake",
          "Fake",
          "Fake",
          "Fake",
          "Fake",
          "Fake",
          "Fake",
          "Fake",
          "Fake",
          "Fake",
          "Fake",
          "Fake",
          "Fake",
          "Fake",
          "Fake",
          "Fake",
          "Fake",
          "Fake",
          "Fake",
          "Fake",
          "Fake",
          "Fake",
          "Fake",
          "Fake",
          "Fake",
          "Fake",
          "Fake",
          "Fake",
          "Fake",
          "Fake",
          "Fake",
          "Fake",
          "Fake",
          "Fake",
          "Real",
          "Real",
          "Real",
          "Real",
          "Real",
          "Real",
          "Real",
          "Real",
          "Real",
          "Real",
          "Real",
          "Real",
          "Real",
          "Real",
          "Real",
          "Real",
          "Real",
          "Real",
          "Real",
          "Real",
          "Real",
          "Real",
          "Real",
          "Real",
          "Real",
          "Real",
          "Real",
          "Real",
          "Real",
          "Real",
          "Fake",
          "Fake",
          "Fake",
          "Fake",
          "Fake",
          "Fake",
          "Fake",
          "Fake",
          "Real",
          "Real",
          "Real",
          "Real",
          "Real",
          "Real",
          "Real",
          "Real",
          "Real",
          "Real",
          "Real",
          "Real",
          "Real",
          "Real",
          "Real",
          "Real",
          "Real",
          "Real",
          "Real",
          "Real",
          "Real",
          "Real",
          "Real",
          "Real",
          "Real",
          "Real",
          "Real",
          "Real",
          "Real",
          "Real",
          "Real",
          "Real",
          "Fake",
          "Fake",
          "Fake",
          "Fake",
          "Fake",
          "Fake",
          "Fake",
          "Fake",
          "Fake",
          "Fake",
          "Fake",
          "Fake",
          "Fake",
          "Fake",
          "Fake",
          "Fake",
          "Fake",
          "Fake",
          "Fake",
          "Fake",
          "Fake",
          "Fake",
          "Fake",
          "Fake",
          "Fake",
          "Fake",
          "Fake",
          "Fake",
          "Fake",
          "Fake",
          "Fake",
          "Fake",
          "Fake",
          "Fake",
          "Fake",
          "Fake",
          "Fake",
          "Fake",
          "Fake",
          "Fake",
          "Fake",
          "Fake",
          "Fake",
          "Fake",
          "Fake",
          "Fake",
          "Fake",
          "Fake",
          "Fake",
          "Fake",
          "Fake",
          "Fake",
          "Fake",
          "Fake",
          "Fake",
          "Fake",
          "Fake",
          "Fake",
          "Fake",
          "Fake",
          "Fake",
          "Fake",
          "Fake",
          "Fake",
          "Fake",
          "Fake",
          "Fake",
          "Fake",
          "Fake",
          "Fake",
          "Fake",
          "Fake",
          "Fake",
          "Fake",
          "Fake",
          "Fake",
          "Fake",
          "Fake",
          "Fake",
          "Fake",
          "Fake",
          "Fake",
          "Fake",
          "Fake",
          "Fake",
          "Fake",
          "Fake",
          "Fake",
          "Fake",
          "Fake",
          "Fake",
          "Fake",
          "Fake",
          "Real",
          "Real",
          "Real",
          "Real",
          "Real",
          "Real",
          "Real",
          "Real",
          "Real",
          "Real",
          "Real",
          "Real",
          "Real",
          "Real",
          "Real",
          "Real",
          "Real",
          "Real",
          "Real",
          "Real",
          "Real",
          "Real",
          "Real",
          "Real",
          "Real",
          "Real",
          "Real",
          "Real",
          "Real",
          "Real",
          "Real",
          "Real",
          "Real",
          "Real",
          "Real",
          "Real",
          "Real",
          "Real",
          "Real",
          "Real",
          "Real",
          "Real",
          "Real",
          "Real",
          "Real",
          "Real",
          "Real",
          "Real",
          "Real",
          "Real",
          "Real",
          "Real",
          "Real",
          "Real",
          "Real",
          "Real",
          "Real",
          "Real",
          "Real",
          "Real",
          "Real",
          "Real",
          "Real",
          "Real",
          "Real",
          "Real",
          "Real",
          "Real",
          "Real",
          "Real",
          "Real",
          "Real",
          "Real",
          "Real",
          "Real",
          "Real",
          "Real",
          "Real",
          "Real",
          "Real",
          "Real",
          "Real",
          "Real",
          "Real",
          "Real",
          "Real",
          "Real",
          "Real",
          "Real",
          "Real",
          "Real",
          "Real",
          "Real",
          "Real",
          "Real",
          "Real",
          "Real",
          "Real",
          "Real",
          "Real",
          "Fake",
          "Fake",
          "Fake",
          "Fake",
          "Fake",
          "Fake",
          "Fake",
          "Fake",
          "Fake",
          "Fake",
          "Fake",
          "Fake",
          "Fake",
          "Fake",
          "Fake",
          "Fake",
          "Fake",
          "Fake",
          "Fake",
          "Fake",
          "Fake",
          "Fake",
          "Fake",
          "Fake",
          "Fake",
          "Fake",
          "Fake",
          "Fake",
          "Fake",
          "Fake",
          "Fake",
          "Fake",
          "Fake",
          "Fake",
          "Fake",
          "Fake",
          "Fake",
          "Fake",
          "Fake",
          "Fake",
          "Fake",
          "Fake",
          "Fake",
          "Fake",
          "Fake",
          "Fake",
          "Fake",
          "Fake",
          "Fake",
          "Fake",
          "Fake",
          "Fake",
          "Fake",
          "Fake",
          "Fake",
          "Fake",
          "Fake",
          "Fake",
          "Fake",
          "Fake",
          "Fake",
          "Fake",
          "Fake",
          "Fake",
          "Fake",
          "Fake",
          "Fake",
          "Fake",
          "Fake",
          "Fake",
          "Fake",
          "Fake",
          "Fake",
          "Fake",
          "Fake",
          "Fake",
          "Fake",
          "Fake",
          "Fake",
          "Fake",
          "Fake",
          "Fake",
          "Fake",
          "Fake",
          "Fake",
          "Fake",
          "Fake",
          "Fake",
          "Fake",
          "Fake",
          "Fake",
          "Fake",
          "Fake",
          "Fake",
          "Fake",
          "Fake",
          "Fake",
          "Fake",
          "Fake",
          "Fake",
          "Fake",
          "Fake",
          "Fake",
          "Fake",
          "Fake",
          "Fake",
          "Fake",
          "Fake",
          "Fake",
          "Fake",
          "Fake",
          "Fake",
          "Fake",
          "Fake",
          "Fake",
          "Fake",
          "Fake",
          "Fake",
          "Fake",
          "Fake",
          "Fake",
          "Fake",
          "Fake",
          "Fake",
          "Fake",
          "Fake",
          "Fake",
          "Fake",
          "Fake",
          "Fake",
          "Fake",
          "Fake",
          "Fake",
          "Fake",
          "Fake",
          "Fake",
          "Fake",
          "Fake",
          "Fake",
          "Fake",
          "Fake",
          "Fake",
          "Fake",
          "Fake",
          "Fake",
          "Fake",
          "Fake",
          "Fake",
          "Fake",
          "Fake",
          "Fake",
          "Fake",
          "Fake",
          "Fake",
          "Fake",
          "Fake",
          "Fake",
          "Fake",
          "Fake",
          "Fake",
          "Fake",
          "Fake",
          "Fake",
          "Fake",
          "Fake",
          "Fake",
          "Fake",
          "Fake",
          "Fake",
          "Fake",
          "Fake",
          "Fake",
          "Fake",
          "Fake",
          "Fake",
          "Fake",
          "Fake",
          "Fake",
          "Fake",
          "Fake",
          "Fake",
          "Fake",
          "Fake",
          "Fake",
          "Fake",
          "Fake",
          "Fake",
          "Fake",
          "Fake",
          "Fake",
          "Fake",
          "Fake",
          "Fake",
          "Fake",
          "Fake",
          "Fake",
          "Fake",
          "Fake",
          "Fake",
          "Fake",
          "Fake",
          "Fake",
          "Fake",
          "Fake",
          "Fake",
          "Fake",
          "Fake",
          "Fake",
          "Fake",
          "Fake",
          "Fake",
          "Fake",
          "Fake",
          "Fake",
          "Fake",
          "Fake",
          "Fake",
          "Fake",
          "Fake",
          "Fake",
          "Fake",
          "Fake",
          "Fake",
          "Fake",
          "Fake",
          "Fake",
          "Fake",
          "Fake",
          "Fake",
          "Fake",
          "Fake",
          "Fake",
          "Fake",
          "Fake",
          "Fake",
          "Fake",
          "Fake",
          "Fake",
          "Fake",
          "Fake",
          "Fake",
          "Fake",
          "Fake",
          "Fake",
          "Fake",
          "Fake",
          "Fake",
          "Fake",
          "Fake",
          "Fake",
          "Fake",
          "Fake",
          "Fake",
          "Fake",
          "Fake",
          "Fake",
          "Fake",
          "Fake",
          "Fake",
          "Real",
          "Real",
          "Real",
          "Real",
          "Real",
          "Real",
          "Real",
          "Real",
          "Real",
          "Real",
          "Real",
          "Real",
          "Real",
          "Real",
          "Real",
          "Real",
          "Real",
          "Real",
          "Real",
          "Real",
          "Real",
          "Real",
          "Real",
          "Real",
          "Real",
          "Real",
          "Real",
          "Real",
          "Real",
          "Real",
          "Real",
          "Real",
          "Real",
          "Real",
          "Real",
          "Real",
          "Real",
          "Real",
          "Real",
          "Real",
          "Real",
          "Real",
          "Real",
          "Real",
          "Real",
          "Real",
          "Real",
          "Real",
          "Real",
          "Real",
          "Real",
          "Real",
          "Real",
          "Real",
          "Real",
          "Real",
          "Real",
          "Real",
          "Real",
          "Real",
          "Real",
          "Real",
          "Real",
          "Real",
          "Real",
          "Real",
          "Real",
          "Real",
          "Real",
          "Real",
          "Real",
          "Real",
          "Real",
          "Real",
          "Real",
          "Real",
          "Real",
          "Real",
          "Real",
          "Real",
          "Real",
          "Real",
          "Real",
          "Real",
          "Real",
          "Real",
          "Real",
          "Real",
          "Real",
          "Real",
          "Real",
          "Real",
          "Real",
          "Real",
          "Real",
          "Real",
          "Real",
          "Real",
          "Real",
          "Real",
          "Real",
          "Real",
          "Real",
          "Real",
          "Real",
          "Real",
          "Real",
          "Real",
          "Real",
          "Real",
          "Real",
          "Real",
          "Real",
          "Real",
          "Real",
          "Real",
          "Real",
          "Real",
          "Real",
          "Real",
          "Real",
          "Real",
          "Real",
          "Real",
          "Real",
          "Real",
          "Real",
          "Real",
          "Real",
          "Real",
          "Real",
          "Real",
          "Real",
          "Real",
          "Real",
          "Real",
          "Real",
          "Real",
          "Real",
          "Real",
          "Real",
          "Real",
          "Real",
          "Real",
          "Real",
          "Real",
          "Real",
          "Real",
          "Real",
          "Real",
          "Real",
          "Real",
          "Real",
          "Real",
          "Real",
          "Real",
          "Real",
          "Real",
          "Real",
          "Real",
          "Real",
          "Real",
          "Real",
          "Real",
          "Real",
          "Real",
          "Real",
          "Real",
          "Real",
          "Real",
          "Real",
          "Real",
          "Real",
          "Real",
          "Real",
          "Real",
          "Real",
          "Real",
          "Real",
          "Real",
          "Real",
          "Real",
          "Real",
          "Real",
          "Real",
          "Real",
          "Real",
          "Real",
          "Real",
          "Real",
          "Real",
          "Real",
          "Real",
          "Real",
          "Real",
          "Real",
          "Real",
          "Real",
          "Real",
          "Real",
          "Fake",
          "Fake",
          "Fake",
          "Fake",
          "Fake",
          "Fake",
          "Fake",
          "Fake",
          "Fake",
          "Fake",
          "Fake",
          "Fake",
          "Fake",
          "Fake",
          "Fake",
          "Fake",
          "Fake",
          "Fake",
          "Fake",
          "Fake",
          "Fake",
          "Fake",
          "Fake",
          "Fake",
          "Fake",
          "Fake",
          "Fake",
          "Fake",
          "Fake",
          "Fake",
          "Fake",
          "Fake",
          "Fake",
          "Fake",
          "Fake",
          "Fake",
          "Fake",
          "Fake",
          "Fake",
          "Fake",
          "Fake",
          "Fake",
          "Fake",
          "Fake",
          "Fake",
          "Fake",
          "Fake",
          "Fake",
          "Fake",
          "Fake",
          "Fake",
          "Fake",
          "Fake",
          "Fake",
          "Fake",
          "Fake",
          "Fake",
          "Fake",
          "Fake",
          "Fake",
          "Fake",
          "Fake",
          "Fake",
          "Fake",
          "Fake",
          "Fake",
          "Fake",
          "Fake",
          "Fake",
          "Fake",
          "Fake",
          "Fake",
          "Fake",
          "Fake",
          "Fake",
          "Fake",
          "Fake",
          "Fake",
          "Fake",
          "Fake",
          "Fake",
          "Real",
          "Fake",
          "Real",
          "Real",
          "Real",
          "Real",
          "Real",
          "Real",
          "Real",
          "Real",
          "Real",
          "Real",
          "Real",
          "Real",
          "Real",
          "Real",
          "Real",
          "Real",
          "Real",
          "Real",
          "Real",
          "Real",
          "Real",
          "Real",
          "Real",
          "Real",
          "Real",
          "Real",
          "Real",
          "Real",
          "Real",
          "Real",
          "Real",
          "Real",
          "Real",
          "Real",
          "Real",
          "Real",
          "Real",
          "Real",
          "Real",
          "Real",
          "Real",
          "Real",
          "Real",
          "Real",
          "Real",
          "Real",
          "Real",
          "Real",
          "Real",
          "Real",
          "Real",
          "Real",
          "Real",
          "Real",
          "Real",
          "Real",
          "Real",
          "Real",
          "Real",
          "Real",
          "Real",
          "Real",
          "Real",
          "Real",
          "Real",
          "Real",
          "Real",
          "Real",
          "Real",
          "Real",
          "Real",
          "Real",
          "Real",
          "Real",
          "Real",
          "Real",
          "Real",
          "Real",
          "Real",
          "Real",
          "Real",
          "Real",
          "Real",
          "Real",
          "Real",
          "Real",
          "Real",
          "Real",
          "Real",
          "Real",
          "Real",
          "Real",
          "Real",
          "Real",
          "Real",
          "Real",
          "Real",
          "Fake",
          "Fake",
          "Fake",
          "Fake",
          "Fake",
          "Fake",
          "Fake",
          "Fake",
          "Fake",
          "Fake",
          "Fake",
          "Fake",
          "Fake",
          "Fake",
          "Fake",
          "Fake",
          "Fake",
          "Fake",
          "Fake",
          "Fake",
          "Fake",
          "Fake",
          "Fake",
          "Fake",
          "Fake",
          "Fake",
          "Fake",
          "Fake",
          "Fake",
          "Fake",
          "Real",
          "Real",
          "Real",
          "Real",
          "Real",
          "Real",
          "Real",
          "Real",
          "Real",
          "Real",
          "Real",
          "Real",
          "Real",
          "Real",
          "Real",
          "Real",
          "Real",
          "Real",
          "Real",
          "Real",
          "Real",
          "Real",
          "Real",
          "Real",
          "Real",
          "Real",
          "Real",
          "Real",
          "Real",
          "Real",
          "Real",
          "Real",
          "Real",
          "Real",
          "Real",
          "Real",
          "Real",
          "Real",
          "Real",
          "Real",
          "Real",
          "Real",
          "Real",
          "Real",
          "Real",
          "Real",
          "Fake",
          "Fake",
          "Fake",
          "Fake",
          "Fake",
          "Fake",
          "Fake",
          "Fake",
          "Fake",
          "Fake",
          "Fake",
          "Fake",
          "Real",
          "Real",
          "Real",
          "Real",
          "Real",
          "Real",
          "Real",
          "Real",
          "Real",
          "Real",
          "Real",
          "Real",
          "Real",
          "Real",
          "Real",
          "Real",
          "Real",
          "Real",
          "Real",
          "Real",
          "Real",
          "Real",
          "Real",
          "Real",
          "Real",
          "Real",
          "Real",
          "Real",
          "Real",
          "Real",
          "Real",
          "Real",
          "Real",
          "Real",
          "Real",
          "Real",
          "Real",
          "Real",
          "Real",
          "Real",
          "Real",
          "Real",
          "Real",
          "Real",
          "Real",
          "Real",
          "Real",
          "Real",
          "Real",
          "Real",
          "Real",
          "Real",
          "Real",
          "Real"
         ],
         "xaxis": "x",
         "yaxis": "y"
        }
       ],
       "layout": {
        "barmode": "relative",
        "legend": {
         "tracegroupgap": 0
        },
        "margin": {
         "t": 60
        },
        "template": {
         "data": {
          "bar": [
           {
            "error_x": {
             "color": "#2a3f5f"
            },
            "error_y": {
             "color": "#2a3f5f"
            },
            "marker": {
             "line": {
              "color": "#E5ECF6",
              "width": 0.5
             },
             "pattern": {
              "fillmode": "overlay",
              "size": 10,
              "solidity": 0.2
             }
            },
            "type": "bar"
           }
          ],
          "barpolar": [
           {
            "marker": {
             "line": {
              "color": "#E5ECF6",
              "width": 0.5
             },
             "pattern": {
              "fillmode": "overlay",
              "size": 10,
              "solidity": 0.2
             }
            },
            "type": "barpolar"
           }
          ],
          "carpet": [
           {
            "aaxis": {
             "endlinecolor": "#2a3f5f",
             "gridcolor": "white",
             "linecolor": "white",
             "minorgridcolor": "white",
             "startlinecolor": "#2a3f5f"
            },
            "baxis": {
             "endlinecolor": "#2a3f5f",
             "gridcolor": "white",
             "linecolor": "white",
             "minorgridcolor": "white",
             "startlinecolor": "#2a3f5f"
            },
            "type": "carpet"
           }
          ],
          "choropleth": [
           {
            "colorbar": {
             "outlinewidth": 0,
             "ticks": ""
            },
            "type": "choropleth"
           }
          ],
          "contour": [
           {
            "colorbar": {
             "outlinewidth": 0,
             "ticks": ""
            },
            "colorscale": [
             [
              0,
              "#0d0887"
             ],
             [
              0.1111111111111111,
              "#46039f"
             ],
             [
              0.2222222222222222,
              "#7201a8"
             ],
             [
              0.3333333333333333,
              "#9c179e"
             ],
             [
              0.4444444444444444,
              "#bd3786"
             ],
             [
              0.5555555555555556,
              "#d8576b"
             ],
             [
              0.6666666666666666,
              "#ed7953"
             ],
             [
              0.7777777777777778,
              "#fb9f3a"
             ],
             [
              0.8888888888888888,
              "#fdca26"
             ],
             [
              1,
              "#f0f921"
             ]
            ],
            "type": "contour"
           }
          ],
          "contourcarpet": [
           {
            "colorbar": {
             "outlinewidth": 0,
             "ticks": ""
            },
            "type": "contourcarpet"
           }
          ],
          "heatmap": [
           {
            "colorbar": {
             "outlinewidth": 0,
             "ticks": ""
            },
            "colorscale": [
             [
              0,
              "#0d0887"
             ],
             [
              0.1111111111111111,
              "#46039f"
             ],
             [
              0.2222222222222222,
              "#7201a8"
             ],
             [
              0.3333333333333333,
              "#9c179e"
             ],
             [
              0.4444444444444444,
              "#bd3786"
             ],
             [
              0.5555555555555556,
              "#d8576b"
             ],
             [
              0.6666666666666666,
              "#ed7953"
             ],
             [
              0.7777777777777778,
              "#fb9f3a"
             ],
             [
              0.8888888888888888,
              "#fdca26"
             ],
             [
              1,
              "#f0f921"
             ]
            ],
            "type": "heatmap"
           }
          ],
          "heatmapgl": [
           {
            "colorbar": {
             "outlinewidth": 0,
             "ticks": ""
            },
            "colorscale": [
             [
              0,
              "#0d0887"
             ],
             [
              0.1111111111111111,
              "#46039f"
             ],
             [
              0.2222222222222222,
              "#7201a8"
             ],
             [
              0.3333333333333333,
              "#9c179e"
             ],
             [
              0.4444444444444444,
              "#bd3786"
             ],
             [
              0.5555555555555556,
              "#d8576b"
             ],
             [
              0.6666666666666666,
              "#ed7953"
             ],
             [
              0.7777777777777778,
              "#fb9f3a"
             ],
             [
              0.8888888888888888,
              "#fdca26"
             ],
             [
              1,
              "#f0f921"
             ]
            ],
            "type": "heatmapgl"
           }
          ],
          "histogram": [
           {
            "marker": {
             "pattern": {
              "fillmode": "overlay",
              "size": 10,
              "solidity": 0.2
             }
            },
            "type": "histogram"
           }
          ],
          "histogram2d": [
           {
            "colorbar": {
             "outlinewidth": 0,
             "ticks": ""
            },
            "colorscale": [
             [
              0,
              "#0d0887"
             ],
             [
              0.1111111111111111,
              "#46039f"
             ],
             [
              0.2222222222222222,
              "#7201a8"
             ],
             [
              0.3333333333333333,
              "#9c179e"
             ],
             [
              0.4444444444444444,
              "#bd3786"
             ],
             [
              0.5555555555555556,
              "#d8576b"
             ],
             [
              0.6666666666666666,
              "#ed7953"
             ],
             [
              0.7777777777777778,
              "#fb9f3a"
             ],
             [
              0.8888888888888888,
              "#fdca26"
             ],
             [
              1,
              "#f0f921"
             ]
            ],
            "type": "histogram2d"
           }
          ],
          "histogram2dcontour": [
           {
            "colorbar": {
             "outlinewidth": 0,
             "ticks": ""
            },
            "colorscale": [
             [
              0,
              "#0d0887"
             ],
             [
              0.1111111111111111,
              "#46039f"
             ],
             [
              0.2222222222222222,
              "#7201a8"
             ],
             [
              0.3333333333333333,
              "#9c179e"
             ],
             [
              0.4444444444444444,
              "#bd3786"
             ],
             [
              0.5555555555555556,
              "#d8576b"
             ],
             [
              0.6666666666666666,
              "#ed7953"
             ],
             [
              0.7777777777777778,
              "#fb9f3a"
             ],
             [
              0.8888888888888888,
              "#fdca26"
             ],
             [
              1,
              "#f0f921"
             ]
            ],
            "type": "histogram2dcontour"
           }
          ],
          "mesh3d": [
           {
            "colorbar": {
             "outlinewidth": 0,
             "ticks": ""
            },
            "type": "mesh3d"
           }
          ],
          "parcoords": [
           {
            "line": {
             "colorbar": {
              "outlinewidth": 0,
              "ticks": ""
             }
            },
            "type": "parcoords"
           }
          ],
          "pie": [
           {
            "automargin": true,
            "type": "pie"
           }
          ],
          "scatter": [
           {
            "fillpattern": {
             "fillmode": "overlay",
             "size": 10,
             "solidity": 0.2
            },
            "type": "scatter"
           }
          ],
          "scatter3d": [
           {
            "line": {
             "colorbar": {
              "outlinewidth": 0,
              "ticks": ""
             }
            },
            "marker": {
             "colorbar": {
              "outlinewidth": 0,
              "ticks": ""
             }
            },
            "type": "scatter3d"
           }
          ],
          "scattercarpet": [
           {
            "marker": {
             "colorbar": {
              "outlinewidth": 0,
              "ticks": ""
             }
            },
            "type": "scattercarpet"
           }
          ],
          "scattergeo": [
           {
            "marker": {
             "colorbar": {
              "outlinewidth": 0,
              "ticks": ""
             }
            },
            "type": "scattergeo"
           }
          ],
          "scattergl": [
           {
            "marker": {
             "colorbar": {
              "outlinewidth": 0,
              "ticks": ""
             }
            },
            "type": "scattergl"
           }
          ],
          "scattermapbox": [
           {
            "marker": {
             "colorbar": {
              "outlinewidth": 0,
              "ticks": ""
             }
            },
            "type": "scattermapbox"
           }
          ],
          "scatterpolar": [
           {
            "marker": {
             "colorbar": {
              "outlinewidth": 0,
              "ticks": ""
             }
            },
            "type": "scatterpolar"
           }
          ],
          "scatterpolargl": [
           {
            "marker": {
             "colorbar": {
              "outlinewidth": 0,
              "ticks": ""
             }
            },
            "type": "scatterpolargl"
           }
          ],
          "scatterternary": [
           {
            "marker": {
             "colorbar": {
              "outlinewidth": 0,
              "ticks": ""
             }
            },
            "type": "scatterternary"
           }
          ],
          "surface": [
           {
            "colorbar": {
             "outlinewidth": 0,
             "ticks": ""
            },
            "colorscale": [
             [
              0,
              "#0d0887"
             ],
             [
              0.1111111111111111,
              "#46039f"
             ],
             [
              0.2222222222222222,
              "#7201a8"
             ],
             [
              0.3333333333333333,
              "#9c179e"
             ],
             [
              0.4444444444444444,
              "#bd3786"
             ],
             [
              0.5555555555555556,
              "#d8576b"
             ],
             [
              0.6666666666666666,
              "#ed7953"
             ],
             [
              0.7777777777777778,
              "#fb9f3a"
             ],
             [
              0.8888888888888888,
              "#fdca26"
             ],
             [
              1,
              "#f0f921"
             ]
            ],
            "type": "surface"
           }
          ],
          "table": [
           {
            "cells": {
             "fill": {
              "color": "#EBF0F8"
             },
             "line": {
              "color": "white"
             }
            },
            "header": {
             "fill": {
              "color": "#C8D4E3"
             },
             "line": {
              "color": "white"
             }
            },
            "type": "table"
           }
          ]
         },
         "layout": {
          "annotationdefaults": {
           "arrowcolor": "#2a3f5f",
           "arrowhead": 0,
           "arrowwidth": 1
          },
          "autotypenumbers": "strict",
          "coloraxis": {
           "colorbar": {
            "outlinewidth": 0,
            "ticks": ""
           }
          },
          "colorscale": {
           "diverging": [
            [
             0,
             "#8e0152"
            ],
            [
             0.1,
             "#c51b7d"
            ],
            [
             0.2,
             "#de77ae"
            ],
            [
             0.3,
             "#f1b6da"
            ],
            [
             0.4,
             "#fde0ef"
            ],
            [
             0.5,
             "#f7f7f7"
            ],
            [
             0.6,
             "#e6f5d0"
            ],
            [
             0.7,
             "#b8e186"
            ],
            [
             0.8,
             "#7fbc41"
            ],
            [
             0.9,
             "#4d9221"
            ],
            [
             1,
             "#276419"
            ]
           ],
           "sequential": [
            [
             0,
             "#0d0887"
            ],
            [
             0.1111111111111111,
             "#46039f"
            ],
            [
             0.2222222222222222,
             "#7201a8"
            ],
            [
             0.3333333333333333,
             "#9c179e"
            ],
            [
             0.4444444444444444,
             "#bd3786"
            ],
            [
             0.5555555555555556,
             "#d8576b"
            ],
            [
             0.6666666666666666,
             "#ed7953"
            ],
            [
             0.7777777777777778,
             "#fb9f3a"
            ],
            [
             0.8888888888888888,
             "#fdca26"
            ],
            [
             1,
             "#f0f921"
            ]
           ],
           "sequentialminus": [
            [
             0,
             "#0d0887"
            ],
            [
             0.1111111111111111,
             "#46039f"
            ],
            [
             0.2222222222222222,
             "#7201a8"
            ],
            [
             0.3333333333333333,
             "#9c179e"
            ],
            [
             0.4444444444444444,
             "#bd3786"
            ],
            [
             0.5555555555555556,
             "#d8576b"
            ],
            [
             0.6666666666666666,
             "#ed7953"
            ],
            [
             0.7777777777777778,
             "#fb9f3a"
            ],
            [
             0.8888888888888888,
             "#fdca26"
            ],
            [
             1,
             "#f0f921"
            ]
           ]
          },
          "colorway": [
           "#636efa",
           "#EF553B",
           "#00cc96",
           "#ab63fa",
           "#FFA15A",
           "#19d3f3",
           "#FF6692",
           "#B6E880",
           "#FF97FF",
           "#FECB52"
          ],
          "font": {
           "color": "#2a3f5f"
          },
          "geo": {
           "bgcolor": "white",
           "lakecolor": "white",
           "landcolor": "#E5ECF6",
           "showlakes": true,
           "showland": true,
           "subunitcolor": "white"
          },
          "hoverlabel": {
           "align": "left"
          },
          "hovermode": "closest",
          "mapbox": {
           "style": "light"
          },
          "paper_bgcolor": "white",
          "plot_bgcolor": "#E5ECF6",
          "polar": {
           "angularaxis": {
            "gridcolor": "white",
            "linecolor": "white",
            "ticks": ""
           },
           "bgcolor": "#E5ECF6",
           "radialaxis": {
            "gridcolor": "white",
            "linecolor": "white",
            "ticks": ""
           }
          },
          "scene": {
           "xaxis": {
            "backgroundcolor": "#E5ECF6",
            "gridcolor": "white",
            "gridwidth": 2,
            "linecolor": "white",
            "showbackground": true,
            "ticks": "",
            "zerolinecolor": "white"
           },
           "yaxis": {
            "backgroundcolor": "#E5ECF6",
            "gridcolor": "white",
            "gridwidth": 2,
            "linecolor": "white",
            "showbackground": true,
            "ticks": "",
            "zerolinecolor": "white"
           },
           "zaxis": {
            "backgroundcolor": "#E5ECF6",
            "gridcolor": "white",
            "gridwidth": 2,
            "linecolor": "white",
            "showbackground": true,
            "ticks": "",
            "zerolinecolor": "white"
           }
          },
          "shapedefaults": {
           "line": {
            "color": "#2a3f5f"
           }
          },
          "ternary": {
           "aaxis": {
            "gridcolor": "white",
            "linecolor": "white",
            "ticks": ""
           },
           "baxis": {
            "gridcolor": "white",
            "linecolor": "white",
            "ticks": ""
           },
           "bgcolor": "#E5ECF6",
           "caxis": {
            "gridcolor": "white",
            "linecolor": "white",
            "ticks": ""
           }
          },
          "title": {
           "x": 0.05
          },
          "xaxis": {
           "automargin": true,
           "gridcolor": "white",
           "linecolor": "white",
           "ticks": "",
           "title": {
            "standoff": 15
           },
           "zerolinecolor": "white",
           "zerolinewidth": 2
          },
          "yaxis": {
           "automargin": true,
           "gridcolor": "white",
           "linecolor": "white",
           "ticks": "",
           "title": {
            "standoff": 15
           },
           "zerolinecolor": "white",
           "zerolinewidth": 2
          }
         }
        },
        "xaxis": {
         "anchor": "y",
         "domain": [
          0,
          1
         ],
         "title": {
          "text": "label"
         }
        },
        "yaxis": {
         "anchor": "x",
         "domain": [
          0,
          1
         ],
         "title": {
          "text": "count"
         }
        }
       }
      },
      "text/html": [
       "<div>                            <div id=\"f30bdb0a-ad2c-43b0-a9b6-f727ed8c2fae\" class=\"plotly-graph-div\" style=\"height:525px; width:100%;\"></div>            <script type=\"text/javascript\">                require([\"plotly\"], function(Plotly) {                    window.PLOTLYENV=window.PLOTLYENV || {};                                    if (document.getElementById(\"f30bdb0a-ad2c-43b0-a9b6-f727ed8c2fae\")) {                    Plotly.newPlot(                        \"f30bdb0a-ad2c-43b0-a9b6-f727ed8c2fae\",                        [{\"alignmentgroup\":\"True\",\"bingroup\":\"x\",\"hovertemplate\":\"label=%{x}<br>count=%{y}<extra></extra>\",\"legendgroup\":\"\",\"marker\":{\"color\":\"#636efa\",\"pattern\":{\"shape\":\"\"}},\"name\":\"\",\"offsetgroup\":\"\",\"orientation\":\"v\",\"showlegend\":false,\"x\":[\"Real\",\"Real\",\"Real\",\"Real\",\"Real\",\"Real\",\"Real\",\"Real\",\"Real\",\"Real\",\"Real\",\"Real\",\"Real\",\"Real\",\"Real\",\"Real\",\"Real\",\"Real\",\"Real\",\"Real\",\"Real\",\"Real\",\"Real\",\"Fake\",\"Fake\",\"Fake\",\"Fake\",\"Fake\",\"Fake\",\"Fake\",\"Fake\",\"Fake\",\"Fake\",\"Fake\",\"Fake\",\"Fake\",\"Fake\",\"Fake\",\"Fake\",\"Fake\",\"Fake\",\"Fake\",\"Fake\",\"Fake\",\"Fake\",\"Fake\",\"Fake\",\"Fake\",\"Fake\",\"Fake\",\"Fake\",\"Fake\",\"Fake\",\"Fake\",\"Fake\",\"Fake\",\"Fake\",\"Fake\",\"Fake\",\"Fake\",\"Fake\",\"Fake\",\"Fake\",\"Fake\",\"Fake\",\"Fake\",\"Fake\",\"Fake\",\"Fake\",\"Fake\",\"Fake\",\"Fake\",\"Fake\",\"Fake\",\"Fake\",\"Fake\",\"Fake\",\"Fake\",\"Fake\",\"Fake\",\"Fake\",\"Fake\",\"Fake\",\"Fake\",\"Fake\",\"Fake\",\"Fake\",\"Fake\",\"Fake\",\"Fake\",\"Fake\",\"Fake\",\"Fake\",\"Fake\",\"Fake\",\"Fake\",\"Fake\",\"Fake\",\"Fake\",\"Fake\",\"Fake\",\"Fake\",\"Fake\",\"Fake\",\"Fake\",\"Fake\",\"Fake\",\"Fake\",\"Fake\",\"Fake\",\"Fake\",\"Fake\",\"Fake\",\"Fake\",\"Fake\",\"Fake\",\"Fake\",\"Fake\",\"Fake\",\"Fake\",\"Fake\",\"Fake\",\"Fake\",\"Fake\",\"Fake\",\"Fake\",\"Fake\",\"Fake\",\"Fake\",\"Fake\",\"Fake\",\"Fake\",\"Fake\",\"Fake\",\"Fake\",\"Fake\",\"Fake\",\"Fake\",\"Fake\",\"Fake\",\"Fake\",\"Fake\",\"Fake\",\"Fake\",\"Fake\",\"Fake\",\"Fake\",\"Fake\",\"Real\",\"Real\",\"Real\",\"Real\",\"Real\",\"Real\",\"Real\",\"Real\",\"Real\",\"Real\",\"Real\",\"Real\",\"Real\",\"Real\",\"Real\",\"Real\",\"Real\",\"Real\",\"Real\",\"Real\",\"Fake\",\"Fake\",\"Fake\",\"Fake\",\"Fake\",\"Fake\",\"Fake\",\"Fake\",\"Fake\",\"Fake\",\"Fake\",\"Fake\",\"Fake\",\"Fake\",\"Fake\",\"Fake\",\"Fake\",\"Fake\",\"Fake\",\"Fake\",\"Fake\",\"Fake\",\"Fake\",\"Fake\",\"Fake\",\"Fake\",\"Fake\",\"Fake\",\"Fake\",\"Fake\",\"Fake\",\"Fake\",\"Fake\",\"Fake\",\"Fake\",\"Fake\",\"Fake\",\"Fake\",\"Fake\",\"Fake\",\"Fake\",\"Fake\",\"Fake\",\"Fake\",\"Fake\",\"Fake\",\"Fake\",\"Fake\",\"Fake\",\"Fake\",\"Fake\",\"Fake\",\"Fake\",\"Fake\",\"Fake\",\"Fake\",\"Fake\",\"Fake\",\"Fake\",\"Fake\",\"Fake\",\"Fake\",\"Fake\",\"Fake\",\"Fake\",\"Fake\",\"Fake\",\"Fake\",\"Fake\",\"Fake\",\"Fake\",\"Fake\",\"Fake\",\"Fake\",\"Fake\",\"Fake\",\"Fake\",\"Fake\",\"Fake\",\"Fake\",\"Fake\",\"Fake\",\"Fake\",\"Fake\",\"Fake\",\"Fake\",\"Fake\",\"Fake\",\"Fake\",\"Fake\",\"Fake\",\"Fake\",\"Fake\",\"Fake\",\"Fake\",\"Fake\",\"Fake\",\"Fake\",\"Fake\",\"Fake\",\"Fake\",\"Fake\",\"Fake\",\"Fake\",\"Fake\",\"Fake\",\"Fake\",\"Fake\",\"Fake\",\"Fake\",\"Fake\",\"Fake\",\"Fake\",\"Fake\",\"Fake\",\"Fake\",\"Fake\",\"Fake\",\"Fake\",\"Fake\",\"Fake\",\"Fake\",\"Fake\",\"Fake\",\"Fake\",\"Fake\",\"Fake\",\"Fake\",\"Fake\",\"Fake\",\"Fake\",\"Fake\",\"Fake\",\"Fake\",\"Fake\",\"Fake\",\"Fake\",\"Fake\",\"Fake\",\"Fake\",\"Fake\",\"Fake\",\"Fake\",\"Fake\",\"Fake\",\"Fake\",\"Fake\",\"Fake\",\"Fake\",\"Fake\",\"Fake\",\"Fake\",\"Fake\",\"Fake\",\"Fake\",\"Fake\",\"Fake\",\"Fake\",\"Fake\",\"Fake\",\"Fake\",\"Fake\",\"Fake\",\"Fake\",\"Fake\",\"Fake\",\"Fake\",\"Fake\",\"Fake\",\"Fake\",\"Fake\",\"Fake\",\"Fake\",\"Fake\",\"Fake\",\"Fake\",\"Fake\",\"Fake\",\"Fake\",\"Fake\",\"Fake\",\"Fake\",\"Fake\",\"Fake\",\"Fake\",\"Fake\",\"Fake\",\"Fake\",\"Fake\",\"Fake\",\"Fake\",\"Fake\",\"Fake\",\"Fake\",\"Fake\",\"Fake\",\"Fake\",\"Fake\",\"Fake\",\"Fake\",\"Fake\",\"Fake\",\"Fake\",\"Fake\",\"Fake\",\"Fake\",\"Fake\",\"Fake\",\"Fake\",\"Fake\",\"Fake\",\"Fake\",\"Fake\",\"Fake\",\"Fake\",\"Fake\",\"Fake\",\"Fake\",\"Fake\",\"Fake\",\"Fake\",\"Fake\",\"Fake\",\"Fake\",\"Fake\",\"Fake\",\"Fake\",\"Fake\",\"Fake\",\"Fake\",\"Fake\",\"Fake\",\"Fake\",\"Fake\",\"Fake\",\"Fake\",\"Fake\",\"Fake\",\"Fake\",\"Fake\",\"Fake\",\"Fake\",\"Fake\",\"Fake\",\"Fake\",\"Fake\",\"Fake\",\"Fake\",\"Fake\",\"Fake\",\"Fake\",\"Fake\",\"Fake\",\"Fake\",\"Fake\",\"Fake\",\"Fake\",\"Fake\",\"Fake\",\"Fake\",\"Fake\",\"Fake\",\"Fake\",\"Fake\",\"Fake\",\"Fake\",\"Fake\",\"Fake\",\"Fake\",\"Fake\",\"Fake\",\"Fake\",\"Fake\",\"Fake\",\"Fake\",\"Fake\",\"Fake\",\"Fake\",\"Fake\",\"Fake\",\"Fake\",\"Fake\",\"Fake\",\"Fake\",\"Fake\",\"Fake\",\"Fake\",\"Fake\",\"Fake\",\"Fake\",\"Fake\",\"Fake\",\"Fake\",\"Fake\",\"Fake\",\"Fake\",\"Fake\",\"Fake\",\"Fake\",\"Fake\",\"Fake\",\"Fake\",\"Fake\",\"Fake\",\"Fake\",\"Fake\",\"Fake\",\"Fake\",\"Fake\",\"Fake\",\"Fake\",\"Fake\",\"Fake\",\"Fake\",\"Fake\",\"Fake\",\"Fake\",\"Fake\",\"Fake\",\"Fake\",\"Fake\",\"Fake\",\"Fake\",\"Fake\",\"Fake\",\"Fake\",\"Fake\",\"Fake\",\"Fake\",\"Fake\",\"Fake\",\"Fake\",\"Fake\",\"Fake\",\"Fake\",\"Fake\",\"Fake\",\"Fake\",\"Fake\",\"Fake\",\"Fake\",\"Fake\",\"Fake\",\"Fake\",\"Fake\",\"Fake\",\"Fake\",\"Fake\",\"Fake\",\"Fake\",\"Fake\",\"Fake\",\"Fake\",\"Fake\",\"Fake\",\"Fake\",\"Fake\",\"Fake\",\"Fake\",\"Fake\",\"Fake\",\"Fake\",\"Fake\",\"Fake\",\"Fake\",\"Fake\",\"Fake\",\"Fake\",\"Fake\",\"Fake\",\"Fake\",\"Fake\",\"Fake\",\"Fake\",\"Fake\",\"Fake\",\"Fake\",\"Fake\",\"Fake\",\"Fake\",\"Fake\",\"Fake\",\"Real\",\"Real\",\"Real\",\"Real\",\"Real\",\"Real\",\"Real\",\"Real\",\"Real\",\"Real\",\"Real\",\"Real\",\"Real\",\"Real\",\"Real\",\"Real\",\"Real\",\"Real\",\"Real\",\"Real\",\"Real\",\"Real\",\"Real\",\"Real\",\"Real\",\"Real\",\"Real\",\"Real\",\"Real\",\"Real\",\"Fake\",\"Fake\",\"Fake\",\"Fake\",\"Fake\",\"Fake\",\"Fake\",\"Fake\",\"Real\",\"Real\",\"Real\",\"Real\",\"Real\",\"Real\",\"Real\",\"Real\",\"Real\",\"Real\",\"Real\",\"Real\",\"Real\",\"Real\",\"Real\",\"Real\",\"Real\",\"Real\",\"Real\",\"Real\",\"Real\",\"Real\",\"Real\",\"Real\",\"Real\",\"Real\",\"Real\",\"Real\",\"Real\",\"Real\",\"Real\",\"Real\",\"Fake\",\"Fake\",\"Fake\",\"Fake\",\"Fake\",\"Fake\",\"Fake\",\"Fake\",\"Fake\",\"Fake\",\"Fake\",\"Fake\",\"Fake\",\"Fake\",\"Fake\",\"Fake\",\"Fake\",\"Fake\",\"Fake\",\"Fake\",\"Fake\",\"Fake\",\"Fake\",\"Fake\",\"Fake\",\"Fake\",\"Fake\",\"Fake\",\"Fake\",\"Fake\",\"Fake\",\"Fake\",\"Fake\",\"Fake\",\"Fake\",\"Fake\",\"Fake\",\"Fake\",\"Fake\",\"Fake\",\"Fake\",\"Fake\",\"Fake\",\"Fake\",\"Fake\",\"Fake\",\"Fake\",\"Fake\",\"Fake\",\"Fake\",\"Fake\",\"Fake\",\"Fake\",\"Fake\",\"Fake\",\"Fake\",\"Fake\",\"Fake\",\"Fake\",\"Fake\",\"Fake\",\"Fake\",\"Fake\",\"Fake\",\"Fake\",\"Fake\",\"Fake\",\"Fake\",\"Fake\",\"Fake\",\"Fake\",\"Fake\",\"Fake\",\"Fake\",\"Fake\",\"Fake\",\"Fake\",\"Fake\",\"Fake\",\"Fake\",\"Fake\",\"Fake\",\"Fake\",\"Fake\",\"Fake\",\"Fake\",\"Fake\",\"Fake\",\"Fake\",\"Fake\",\"Fake\",\"Fake\",\"Fake\",\"Real\",\"Real\",\"Real\",\"Real\",\"Real\",\"Real\",\"Real\",\"Real\",\"Real\",\"Real\",\"Real\",\"Real\",\"Real\",\"Real\",\"Real\",\"Real\",\"Real\",\"Real\",\"Real\",\"Real\",\"Real\",\"Real\",\"Real\",\"Real\",\"Real\",\"Real\",\"Real\",\"Real\",\"Real\",\"Real\",\"Real\",\"Real\",\"Real\",\"Real\",\"Real\",\"Real\",\"Real\",\"Real\",\"Real\",\"Real\",\"Real\",\"Real\",\"Real\",\"Real\",\"Real\",\"Real\",\"Real\",\"Real\",\"Real\",\"Real\",\"Real\",\"Real\",\"Real\",\"Real\",\"Real\",\"Real\",\"Real\",\"Real\",\"Real\",\"Real\",\"Real\",\"Real\",\"Real\",\"Real\",\"Real\",\"Real\",\"Real\",\"Real\",\"Real\",\"Real\",\"Real\",\"Real\",\"Real\",\"Real\",\"Real\",\"Real\",\"Real\",\"Real\",\"Real\",\"Real\",\"Real\",\"Real\",\"Real\",\"Real\",\"Real\",\"Real\",\"Real\",\"Real\",\"Real\",\"Real\",\"Real\",\"Real\",\"Real\",\"Real\",\"Real\",\"Real\",\"Real\",\"Real\",\"Real\",\"Real\",\"Fake\",\"Fake\",\"Fake\",\"Fake\",\"Fake\",\"Fake\",\"Fake\",\"Fake\",\"Fake\",\"Fake\",\"Fake\",\"Fake\",\"Fake\",\"Fake\",\"Fake\",\"Fake\",\"Fake\",\"Fake\",\"Fake\",\"Fake\",\"Fake\",\"Fake\",\"Fake\",\"Fake\",\"Fake\",\"Fake\",\"Fake\",\"Fake\",\"Fake\",\"Fake\",\"Fake\",\"Fake\",\"Fake\",\"Fake\",\"Fake\",\"Fake\",\"Fake\",\"Fake\",\"Fake\",\"Fake\",\"Fake\",\"Fake\",\"Fake\",\"Fake\",\"Fake\",\"Fake\",\"Fake\",\"Fake\",\"Fake\",\"Fake\",\"Fake\",\"Fake\",\"Fake\",\"Fake\",\"Fake\",\"Fake\",\"Fake\",\"Fake\",\"Fake\",\"Fake\",\"Fake\",\"Fake\",\"Fake\",\"Fake\",\"Fake\",\"Fake\",\"Fake\",\"Fake\",\"Fake\",\"Fake\",\"Fake\",\"Fake\",\"Fake\",\"Fake\",\"Fake\",\"Fake\",\"Fake\",\"Fake\",\"Fake\",\"Fake\",\"Fake\",\"Fake\",\"Fake\",\"Fake\",\"Fake\",\"Fake\",\"Fake\",\"Fake\",\"Fake\",\"Fake\",\"Fake\",\"Fake\",\"Fake\",\"Fake\",\"Fake\",\"Fake\",\"Fake\",\"Fake\",\"Fake\",\"Fake\",\"Fake\",\"Fake\",\"Fake\",\"Fake\",\"Fake\",\"Fake\",\"Fake\",\"Fake\",\"Fake\",\"Fake\",\"Fake\",\"Fake\",\"Fake\",\"Fake\",\"Fake\",\"Fake\",\"Fake\",\"Fake\",\"Fake\",\"Fake\",\"Fake\",\"Fake\",\"Fake\",\"Fake\",\"Fake\",\"Fake\",\"Fake\",\"Fake\",\"Fake\",\"Fake\",\"Fake\",\"Fake\",\"Fake\",\"Fake\",\"Fake\",\"Fake\",\"Fake\",\"Fake\",\"Fake\",\"Fake\",\"Fake\",\"Fake\",\"Fake\",\"Fake\",\"Fake\",\"Fake\",\"Fake\",\"Fake\",\"Fake\",\"Fake\",\"Fake\",\"Fake\",\"Fake\",\"Fake\",\"Fake\",\"Fake\",\"Fake\",\"Fake\",\"Fake\",\"Fake\",\"Fake\",\"Fake\",\"Fake\",\"Fake\",\"Fake\",\"Fake\",\"Fake\",\"Fake\",\"Fake\",\"Fake\",\"Fake\",\"Fake\",\"Fake\",\"Fake\",\"Fake\",\"Fake\",\"Fake\",\"Fake\",\"Fake\",\"Fake\",\"Fake\",\"Fake\",\"Fake\",\"Fake\",\"Fake\",\"Fake\",\"Fake\",\"Fake\",\"Fake\",\"Fake\",\"Fake\",\"Fake\",\"Fake\",\"Fake\",\"Fake\",\"Fake\",\"Fake\",\"Fake\",\"Fake\",\"Fake\",\"Fake\",\"Fake\",\"Fake\",\"Fake\",\"Fake\",\"Fake\",\"Fake\",\"Fake\",\"Fake\",\"Fake\",\"Fake\",\"Fake\",\"Fake\",\"Fake\",\"Fake\",\"Fake\",\"Fake\",\"Fake\",\"Fake\",\"Fake\",\"Fake\",\"Fake\",\"Fake\",\"Fake\",\"Fake\",\"Fake\",\"Fake\",\"Fake\",\"Fake\",\"Fake\",\"Fake\",\"Fake\",\"Fake\",\"Fake\",\"Fake\",\"Fake\",\"Fake\",\"Fake\",\"Fake\",\"Fake\",\"Fake\",\"Fake\",\"Fake\",\"Fake\",\"Fake\",\"Fake\",\"Fake\",\"Fake\",\"Fake\",\"Fake\",\"Fake\",\"Fake\",\"Fake\",\"Fake\",\"Fake\",\"Fake\",\"Fake\",\"Fake\",\"Fake\",\"Real\",\"Real\",\"Real\",\"Real\",\"Real\",\"Real\",\"Real\",\"Real\",\"Real\",\"Real\",\"Real\",\"Real\",\"Real\",\"Real\",\"Real\",\"Real\",\"Real\",\"Real\",\"Real\",\"Real\",\"Real\",\"Real\",\"Real\",\"Real\",\"Real\",\"Real\",\"Real\",\"Real\",\"Real\",\"Real\",\"Real\",\"Real\",\"Real\",\"Real\",\"Real\",\"Real\",\"Real\",\"Real\",\"Real\",\"Real\",\"Real\",\"Real\",\"Real\",\"Real\",\"Real\",\"Real\",\"Real\",\"Real\",\"Real\",\"Real\",\"Real\",\"Real\",\"Real\",\"Real\",\"Real\",\"Real\",\"Real\",\"Real\",\"Real\",\"Real\",\"Real\",\"Real\",\"Real\",\"Real\",\"Real\",\"Real\",\"Real\",\"Real\",\"Real\",\"Real\",\"Real\",\"Real\",\"Real\",\"Real\",\"Real\",\"Real\",\"Real\",\"Real\",\"Real\",\"Real\",\"Real\",\"Real\",\"Real\",\"Real\",\"Real\",\"Real\",\"Real\",\"Real\",\"Real\",\"Real\",\"Real\",\"Real\",\"Real\",\"Real\",\"Real\",\"Real\",\"Real\",\"Real\",\"Real\",\"Real\",\"Real\",\"Real\",\"Real\",\"Real\",\"Real\",\"Real\",\"Real\",\"Real\",\"Real\",\"Real\",\"Real\",\"Real\",\"Real\",\"Real\",\"Real\",\"Real\",\"Real\",\"Real\",\"Real\",\"Real\",\"Real\",\"Real\",\"Real\",\"Real\",\"Real\",\"Real\",\"Real\",\"Real\",\"Real\",\"Real\",\"Real\",\"Real\",\"Real\",\"Real\",\"Real\",\"Real\",\"Real\",\"Real\",\"Real\",\"Real\",\"Real\",\"Real\",\"Real\",\"Real\",\"Real\",\"Real\",\"Real\",\"Real\",\"Real\",\"Real\",\"Real\",\"Real\",\"Real\",\"Real\",\"Real\",\"Real\",\"Real\",\"Real\",\"Real\",\"Real\",\"Real\",\"Real\",\"Real\",\"Real\",\"Real\",\"Real\",\"Real\",\"Real\",\"Real\",\"Real\",\"Real\",\"Real\",\"Real\",\"Real\",\"Real\",\"Real\",\"Real\",\"Real\",\"Real\",\"Real\",\"Real\",\"Real\",\"Real\",\"Real\",\"Real\",\"Real\",\"Real\",\"Real\",\"Real\",\"Real\",\"Real\",\"Real\",\"Real\",\"Real\",\"Real\",\"Real\",\"Real\",\"Real\",\"Real\",\"Real\",\"Fake\",\"Fake\",\"Fake\",\"Fake\",\"Fake\",\"Fake\",\"Fake\",\"Fake\",\"Fake\",\"Fake\",\"Fake\",\"Fake\",\"Fake\",\"Fake\",\"Fake\",\"Fake\",\"Fake\",\"Fake\",\"Fake\",\"Fake\",\"Fake\",\"Fake\",\"Fake\",\"Fake\",\"Fake\",\"Fake\",\"Fake\",\"Fake\",\"Fake\",\"Fake\",\"Fake\",\"Fake\",\"Fake\",\"Fake\",\"Fake\",\"Fake\",\"Fake\",\"Fake\",\"Fake\",\"Fake\",\"Fake\",\"Fake\",\"Fake\",\"Fake\",\"Fake\",\"Fake\",\"Fake\",\"Fake\",\"Fake\",\"Fake\",\"Fake\",\"Fake\",\"Fake\",\"Fake\",\"Fake\",\"Fake\",\"Fake\",\"Fake\",\"Fake\",\"Fake\",\"Fake\",\"Fake\",\"Fake\",\"Fake\",\"Fake\",\"Fake\",\"Fake\",\"Fake\",\"Fake\",\"Fake\",\"Fake\",\"Fake\",\"Fake\",\"Fake\",\"Fake\",\"Fake\",\"Fake\",\"Fake\",\"Fake\",\"Fake\",\"Fake\",\"Real\",\"Fake\",\"Real\",\"Real\",\"Real\",\"Real\",\"Real\",\"Real\",\"Real\",\"Real\",\"Real\",\"Real\",\"Real\",\"Real\",\"Real\",\"Real\",\"Real\",\"Real\",\"Real\",\"Real\",\"Real\",\"Real\",\"Real\",\"Real\",\"Real\",\"Real\",\"Real\",\"Real\",\"Real\",\"Real\",\"Real\",\"Real\",\"Real\",\"Real\",\"Real\",\"Real\",\"Real\",\"Real\",\"Real\",\"Real\",\"Real\",\"Real\",\"Real\",\"Real\",\"Real\",\"Real\",\"Real\",\"Real\",\"Real\",\"Real\",\"Real\",\"Real\",\"Real\",\"Real\",\"Real\",\"Real\",\"Real\",\"Real\",\"Real\",\"Real\",\"Real\",\"Real\",\"Real\",\"Real\",\"Real\",\"Real\",\"Real\",\"Real\",\"Real\",\"Real\",\"Real\",\"Real\",\"Real\",\"Real\",\"Real\",\"Real\",\"Real\",\"Real\",\"Real\",\"Real\",\"Real\",\"Real\",\"Real\",\"Real\",\"Real\",\"Real\",\"Real\",\"Real\",\"Real\",\"Real\",\"Real\",\"Real\",\"Real\",\"Real\",\"Real\",\"Real\",\"Real\",\"Real\",\"Real\",\"Fake\",\"Fake\",\"Fake\",\"Fake\",\"Fake\",\"Fake\",\"Fake\",\"Fake\",\"Fake\",\"Fake\",\"Fake\",\"Fake\",\"Fake\",\"Fake\",\"Fake\",\"Fake\",\"Fake\",\"Fake\",\"Fake\",\"Fake\",\"Fake\",\"Fake\",\"Fake\",\"Fake\",\"Fake\",\"Fake\",\"Fake\",\"Fake\",\"Fake\",\"Fake\",\"Real\",\"Real\",\"Real\",\"Real\",\"Real\",\"Real\",\"Real\",\"Real\",\"Real\",\"Real\",\"Real\",\"Real\",\"Real\",\"Real\",\"Real\",\"Real\",\"Real\",\"Real\",\"Real\",\"Real\",\"Real\",\"Real\",\"Real\",\"Real\",\"Real\",\"Real\",\"Real\",\"Real\",\"Real\",\"Real\",\"Real\",\"Real\",\"Real\",\"Real\",\"Real\",\"Real\",\"Real\",\"Real\",\"Real\",\"Real\",\"Real\",\"Real\",\"Real\",\"Real\",\"Real\",\"Real\",\"Fake\",\"Fake\",\"Fake\",\"Fake\",\"Fake\",\"Fake\",\"Fake\",\"Fake\",\"Fake\",\"Fake\",\"Fake\",\"Fake\",\"Real\",\"Real\",\"Real\",\"Real\",\"Real\",\"Real\",\"Real\",\"Real\",\"Real\",\"Real\",\"Real\",\"Real\",\"Real\",\"Real\",\"Real\",\"Real\",\"Real\",\"Real\",\"Real\",\"Real\",\"Real\",\"Real\",\"Real\",\"Real\",\"Real\",\"Real\",\"Real\",\"Real\",\"Real\",\"Real\",\"Real\",\"Real\",\"Real\",\"Real\",\"Real\",\"Real\",\"Real\",\"Real\",\"Real\",\"Real\",\"Real\",\"Real\",\"Real\",\"Real\",\"Real\",\"Real\",\"Real\",\"Real\",\"Real\",\"Real\",\"Real\",\"Real\",\"Real\",\"Real\"],\"xaxis\":\"x\",\"yaxis\":\"y\",\"type\":\"histogram\"}],                        {\"template\":{\"data\":{\"histogram2dcontour\":[{\"type\":\"histogram2dcontour\",\"colorbar\":{\"outlinewidth\":0,\"ticks\":\"\"},\"colorscale\":[[0.0,\"#0d0887\"],[0.1111111111111111,\"#46039f\"],[0.2222222222222222,\"#7201a8\"],[0.3333333333333333,\"#9c179e\"],[0.4444444444444444,\"#bd3786\"],[0.5555555555555556,\"#d8576b\"],[0.6666666666666666,\"#ed7953\"],[0.7777777777777778,\"#fb9f3a\"],[0.8888888888888888,\"#fdca26\"],[1.0,\"#f0f921\"]]}],\"choropleth\":[{\"type\":\"choropleth\",\"colorbar\":{\"outlinewidth\":0,\"ticks\":\"\"}}],\"histogram2d\":[{\"type\":\"histogram2d\",\"colorbar\":{\"outlinewidth\":0,\"ticks\":\"\"},\"colorscale\":[[0.0,\"#0d0887\"],[0.1111111111111111,\"#46039f\"],[0.2222222222222222,\"#7201a8\"],[0.3333333333333333,\"#9c179e\"],[0.4444444444444444,\"#bd3786\"],[0.5555555555555556,\"#d8576b\"],[0.6666666666666666,\"#ed7953\"],[0.7777777777777778,\"#fb9f3a\"],[0.8888888888888888,\"#fdca26\"],[1.0,\"#f0f921\"]]}],\"heatmap\":[{\"type\":\"heatmap\",\"colorbar\":{\"outlinewidth\":0,\"ticks\":\"\"},\"colorscale\":[[0.0,\"#0d0887\"],[0.1111111111111111,\"#46039f\"],[0.2222222222222222,\"#7201a8\"],[0.3333333333333333,\"#9c179e\"],[0.4444444444444444,\"#bd3786\"],[0.5555555555555556,\"#d8576b\"],[0.6666666666666666,\"#ed7953\"],[0.7777777777777778,\"#fb9f3a\"],[0.8888888888888888,\"#fdca26\"],[1.0,\"#f0f921\"]]}],\"heatmapgl\":[{\"type\":\"heatmapgl\",\"colorbar\":{\"outlinewidth\":0,\"ticks\":\"\"},\"colorscale\":[[0.0,\"#0d0887\"],[0.1111111111111111,\"#46039f\"],[0.2222222222222222,\"#7201a8\"],[0.3333333333333333,\"#9c179e\"],[0.4444444444444444,\"#bd3786\"],[0.5555555555555556,\"#d8576b\"],[0.6666666666666666,\"#ed7953\"],[0.7777777777777778,\"#fb9f3a\"],[0.8888888888888888,\"#fdca26\"],[1.0,\"#f0f921\"]]}],\"contourcarpet\":[{\"type\":\"contourcarpet\",\"colorbar\":{\"outlinewidth\":0,\"ticks\":\"\"}}],\"contour\":[{\"type\":\"contour\",\"colorbar\":{\"outlinewidth\":0,\"ticks\":\"\"},\"colorscale\":[[0.0,\"#0d0887\"],[0.1111111111111111,\"#46039f\"],[0.2222222222222222,\"#7201a8\"],[0.3333333333333333,\"#9c179e\"],[0.4444444444444444,\"#bd3786\"],[0.5555555555555556,\"#d8576b\"],[0.6666666666666666,\"#ed7953\"],[0.7777777777777778,\"#fb9f3a\"],[0.8888888888888888,\"#fdca26\"],[1.0,\"#f0f921\"]]}],\"surface\":[{\"type\":\"surface\",\"colorbar\":{\"outlinewidth\":0,\"ticks\":\"\"},\"colorscale\":[[0.0,\"#0d0887\"],[0.1111111111111111,\"#46039f\"],[0.2222222222222222,\"#7201a8\"],[0.3333333333333333,\"#9c179e\"],[0.4444444444444444,\"#bd3786\"],[0.5555555555555556,\"#d8576b\"],[0.6666666666666666,\"#ed7953\"],[0.7777777777777778,\"#fb9f3a\"],[0.8888888888888888,\"#fdca26\"],[1.0,\"#f0f921\"]]}],\"mesh3d\":[{\"type\":\"mesh3d\",\"colorbar\":{\"outlinewidth\":0,\"ticks\":\"\"}}],\"scatter\":[{\"fillpattern\":{\"fillmode\":\"overlay\",\"size\":10,\"solidity\":0.2},\"type\":\"scatter\"}],\"parcoords\":[{\"type\":\"parcoords\",\"line\":{\"colorbar\":{\"outlinewidth\":0,\"ticks\":\"\"}}}],\"scatterpolargl\":[{\"type\":\"scatterpolargl\",\"marker\":{\"colorbar\":{\"outlinewidth\":0,\"ticks\":\"\"}}}],\"bar\":[{\"error_x\":{\"color\":\"#2a3f5f\"},\"error_y\":{\"color\":\"#2a3f5f\"},\"marker\":{\"line\":{\"color\":\"#E5ECF6\",\"width\":0.5},\"pattern\":{\"fillmode\":\"overlay\",\"size\":10,\"solidity\":0.2}},\"type\":\"bar\"}],\"scattergeo\":[{\"type\":\"scattergeo\",\"marker\":{\"colorbar\":{\"outlinewidth\":0,\"ticks\":\"\"}}}],\"scatterpolar\":[{\"type\":\"scatterpolar\",\"marker\":{\"colorbar\":{\"outlinewidth\":0,\"ticks\":\"\"}}}],\"histogram\":[{\"marker\":{\"pattern\":{\"fillmode\":\"overlay\",\"size\":10,\"solidity\":0.2}},\"type\":\"histogram\"}],\"scattergl\":[{\"type\":\"scattergl\",\"marker\":{\"colorbar\":{\"outlinewidth\":0,\"ticks\":\"\"}}}],\"scatter3d\":[{\"type\":\"scatter3d\",\"line\":{\"colorbar\":{\"outlinewidth\":0,\"ticks\":\"\"}},\"marker\":{\"colorbar\":{\"outlinewidth\":0,\"ticks\":\"\"}}}],\"scattermapbox\":[{\"type\":\"scattermapbox\",\"marker\":{\"colorbar\":{\"outlinewidth\":0,\"ticks\":\"\"}}}],\"scatterternary\":[{\"type\":\"scatterternary\",\"marker\":{\"colorbar\":{\"outlinewidth\":0,\"ticks\":\"\"}}}],\"scattercarpet\":[{\"type\":\"scattercarpet\",\"marker\":{\"colorbar\":{\"outlinewidth\":0,\"ticks\":\"\"}}}],\"carpet\":[{\"aaxis\":{\"endlinecolor\":\"#2a3f5f\",\"gridcolor\":\"white\",\"linecolor\":\"white\",\"minorgridcolor\":\"white\",\"startlinecolor\":\"#2a3f5f\"},\"baxis\":{\"endlinecolor\":\"#2a3f5f\",\"gridcolor\":\"white\",\"linecolor\":\"white\",\"minorgridcolor\":\"white\",\"startlinecolor\":\"#2a3f5f\"},\"type\":\"carpet\"}],\"table\":[{\"cells\":{\"fill\":{\"color\":\"#EBF0F8\"},\"line\":{\"color\":\"white\"}},\"header\":{\"fill\":{\"color\":\"#C8D4E3\"},\"line\":{\"color\":\"white\"}},\"type\":\"table\"}],\"barpolar\":[{\"marker\":{\"line\":{\"color\":\"#E5ECF6\",\"width\":0.5},\"pattern\":{\"fillmode\":\"overlay\",\"size\":10,\"solidity\":0.2}},\"type\":\"barpolar\"}],\"pie\":[{\"automargin\":true,\"type\":\"pie\"}]},\"layout\":{\"autotypenumbers\":\"strict\",\"colorway\":[\"#636efa\",\"#EF553B\",\"#00cc96\",\"#ab63fa\",\"#FFA15A\",\"#19d3f3\",\"#FF6692\",\"#B6E880\",\"#FF97FF\",\"#FECB52\"],\"font\":{\"color\":\"#2a3f5f\"},\"hovermode\":\"closest\",\"hoverlabel\":{\"align\":\"left\"},\"paper_bgcolor\":\"white\",\"plot_bgcolor\":\"#E5ECF6\",\"polar\":{\"bgcolor\":\"#E5ECF6\",\"angularaxis\":{\"gridcolor\":\"white\",\"linecolor\":\"white\",\"ticks\":\"\"},\"radialaxis\":{\"gridcolor\":\"white\",\"linecolor\":\"white\",\"ticks\":\"\"}},\"ternary\":{\"bgcolor\":\"#E5ECF6\",\"aaxis\":{\"gridcolor\":\"white\",\"linecolor\":\"white\",\"ticks\":\"\"},\"baxis\":{\"gridcolor\":\"white\",\"linecolor\":\"white\",\"ticks\":\"\"},\"caxis\":{\"gridcolor\":\"white\",\"linecolor\":\"white\",\"ticks\":\"\"}},\"coloraxis\":{\"colorbar\":{\"outlinewidth\":0,\"ticks\":\"\"}},\"colorscale\":{\"sequential\":[[0.0,\"#0d0887\"],[0.1111111111111111,\"#46039f\"],[0.2222222222222222,\"#7201a8\"],[0.3333333333333333,\"#9c179e\"],[0.4444444444444444,\"#bd3786\"],[0.5555555555555556,\"#d8576b\"],[0.6666666666666666,\"#ed7953\"],[0.7777777777777778,\"#fb9f3a\"],[0.8888888888888888,\"#fdca26\"],[1.0,\"#f0f921\"]],\"sequentialminus\":[[0.0,\"#0d0887\"],[0.1111111111111111,\"#46039f\"],[0.2222222222222222,\"#7201a8\"],[0.3333333333333333,\"#9c179e\"],[0.4444444444444444,\"#bd3786\"],[0.5555555555555556,\"#d8576b\"],[0.6666666666666666,\"#ed7953\"],[0.7777777777777778,\"#fb9f3a\"],[0.8888888888888888,\"#fdca26\"],[1.0,\"#f0f921\"]],\"diverging\":[[0,\"#8e0152\"],[0.1,\"#c51b7d\"],[0.2,\"#de77ae\"],[0.3,\"#f1b6da\"],[0.4,\"#fde0ef\"],[0.5,\"#f7f7f7\"],[0.6,\"#e6f5d0\"],[0.7,\"#b8e186\"],[0.8,\"#7fbc41\"],[0.9,\"#4d9221\"],[1,\"#276419\"]]},\"xaxis\":{\"gridcolor\":\"white\",\"linecolor\":\"white\",\"ticks\":\"\",\"title\":{\"standoff\":15},\"zerolinecolor\":\"white\",\"automargin\":true,\"zerolinewidth\":2},\"yaxis\":{\"gridcolor\":\"white\",\"linecolor\":\"white\",\"ticks\":\"\",\"title\":{\"standoff\":15},\"zerolinecolor\":\"white\",\"automargin\":true,\"zerolinewidth\":2},\"scene\":{\"xaxis\":{\"backgroundcolor\":\"#E5ECF6\",\"gridcolor\":\"white\",\"linecolor\":\"white\",\"showbackground\":true,\"ticks\":\"\",\"zerolinecolor\":\"white\",\"gridwidth\":2},\"yaxis\":{\"backgroundcolor\":\"#E5ECF6\",\"gridcolor\":\"white\",\"linecolor\":\"white\",\"showbackground\":true,\"ticks\":\"\",\"zerolinecolor\":\"white\",\"gridwidth\":2},\"zaxis\":{\"backgroundcolor\":\"#E5ECF6\",\"gridcolor\":\"white\",\"linecolor\":\"white\",\"showbackground\":true,\"ticks\":\"\",\"zerolinecolor\":\"white\",\"gridwidth\":2}},\"shapedefaults\":{\"line\":{\"color\":\"#2a3f5f\"}},\"annotationdefaults\":{\"arrowcolor\":\"#2a3f5f\",\"arrowhead\":0,\"arrowwidth\":1},\"geo\":{\"bgcolor\":\"white\",\"landcolor\":\"#E5ECF6\",\"subunitcolor\":\"white\",\"showland\":true,\"showlakes\":true,\"lakecolor\":\"white\"},\"title\":{\"x\":0.05},\"mapbox\":{\"style\":\"light\"}}},\"xaxis\":{\"anchor\":\"y\",\"domain\":[0.0,1.0],\"title\":{\"text\":\"label\"}},\"yaxis\":{\"anchor\":\"x\",\"domain\":[0.0,1.0],\"title\":{\"text\":\"count\"}},\"legend\":{\"tracegroupgap\":0},\"margin\":{\"t\":60},\"barmode\":\"relative\"},                        {\"responsive\": true}                    ).then(function(){\n",
       "                            \n",
       "var gd = document.getElementById('f30bdb0a-ad2c-43b0-a9b6-f727ed8c2fae');\n",
       "var x = new MutationObserver(function (mutations, observer) {{\n",
       "        var display = window.getComputedStyle(gd).display;\n",
       "        if (!display || display === 'none') {{\n",
       "            console.log([gd, 'removed!']);\n",
       "            Plotly.purge(gd);\n",
       "            observer.disconnect();\n",
       "        }}\n",
       "}});\n",
       "\n",
       "// Listen for the removal of the full notebook cells\n",
       "var notebookContainer = gd.closest('#notebook-container');\n",
       "if (notebookContainer) {{\n",
       "    x.observe(notebookContainer, {childList: true});\n",
       "}}\n",
       "\n",
       "// Listen for the clearing of the current output cell\n",
       "var outputEl = gd.closest('.output');\n",
       "if (outputEl) {{\n",
       "    x.observe(outputEl, {childList: true});\n",
       "}}\n",
       "\n",
       "                        })                };                });            </script>        </div>"
      ]
     },
     "metadata": {},
     "output_type": "display_data"
    }
   ],
   "source": [
    "import plotly.express as px\n",
    "\n",
    "fig = px.histogram(news, x=\"label\")\n",
    "fig.show()"
   ]
  },
  {
   "cell_type": "markdown",
   "id": "f3e0e87a",
   "metadata": {},
   "source": [
    "Examine distribution or article types."
   ]
  },
  {
   "cell_type": "code",
   "execution_count": 352,
   "id": "6b0e1022",
   "metadata": {},
   "outputs": [
    {
     "data": {
      "application/vnd.plotly.v1+json": {
       "config": {
        "plotlyServerURL": "https://plot.ly"
       },
       "data": [
        {
         "alignmentgroup": "True",
         "bingroup": "x",
         "hovertemplate": "type=%{x}<br>count=%{y}<extra></extra>",
         "legendgroup": "",
         "marker": {
          "color": "#636efa",
          "pattern": {
           "shape": ""
          }
         },
         "name": "",
         "offsetgroup": "",
         "orientation": "v",
         "showlegend": false,
         "type": "histogram",
         "x": [
          "bias",
          "bias",
          "bias",
          "bias",
          "bias",
          "bias",
          "bias",
          "bias",
          "bias",
          "bias",
          "bias",
          "bias",
          "bias",
          "bias",
          "bias",
          "bias",
          "bias",
          "bias",
          "bias",
          "bias",
          "bias",
          "bias",
          "bias",
          "conspiracy",
          "conspiracy",
          "conspiracy",
          "conspiracy",
          "conspiracy",
          "conspiracy",
          "conspiracy",
          "conspiracy",
          "conspiracy",
          "conspiracy",
          "conspiracy",
          "conspiracy",
          "conspiracy",
          "conspiracy",
          "conspiracy",
          "conspiracy",
          "conspiracy",
          "conspiracy",
          "conspiracy",
          "conspiracy",
          "conspiracy",
          "conspiracy",
          "conspiracy",
          "conspiracy",
          "fake",
          "fake",
          "bs",
          "bs",
          "bs",
          "bs",
          "bs",
          "bs",
          "bs",
          "bs",
          "bs",
          "bs",
          "bs",
          "bs",
          "bs",
          "bs",
          "bs",
          "bs",
          "bs",
          "bs",
          "bs",
          "bs",
          "bs",
          "bs",
          "bs",
          "bs",
          "bs",
          "bs",
          "bs",
          "bs",
          "bs",
          "bs",
          "bs",
          "bs",
          "bs",
          "bs",
          "bs",
          "bs",
          "bs",
          "bs",
          "bs",
          "bs",
          "bs",
          "bs",
          "bs",
          "bs",
          "bs",
          "bs",
          "bs",
          "bs",
          "bs",
          "bs",
          "bs",
          "bs",
          "bs",
          "bs",
          "bs",
          "bs",
          "bs",
          "bs",
          "bs",
          "bs",
          "bs",
          "bs",
          "bs",
          "bs",
          "bs",
          "bs",
          "bs",
          "bs",
          "bs",
          "bs",
          "bs",
          "bs",
          "bs",
          "bs",
          "bs",
          "bs",
          "bs",
          "bs",
          "bs",
          "bs",
          "bs",
          "bs",
          "bs",
          "bs",
          "bs",
          "bs",
          "bs",
          "conspiracy",
          "conspiracy",
          "conspiracy",
          "conspiracy",
          "conspiracy",
          "conspiracy",
          "conspiracy",
          "conspiracy",
          "conspiracy",
          "conspiracy",
          "conspiracy",
          "conspiracy",
          "bias",
          "bias",
          "bias",
          "bias",
          "bias",
          "bias",
          "bias",
          "bias",
          "bias",
          "bias",
          "bias",
          "bias",
          "bias",
          "bias",
          "bias",
          "bias",
          "bias",
          "bias",
          "bias",
          "bias",
          "fake",
          "fake",
          "fake",
          "fake",
          "fake",
          "fake",
          "fake",
          "fake",
          "fake",
          "fake",
          "fake",
          "bs",
          "bs",
          "bs",
          "bs",
          "bs",
          "bs",
          "bs",
          "bs",
          "bs",
          "bs",
          "bs",
          "bs",
          "bs",
          "bs",
          "bs",
          "bs",
          "bs",
          "bs",
          "bs",
          "bs",
          "bs",
          "bs",
          "bs",
          "bs",
          "bs",
          "bs",
          "bs",
          "bs",
          "bs",
          "bs",
          "bs",
          "bs",
          "bs",
          "bs",
          "bs",
          "bs",
          "bs",
          "bs",
          "bs",
          "bs",
          "bs",
          "bs",
          "bs",
          "bs",
          "bs",
          "bs",
          "bs",
          "bs",
          "bs",
          "bs",
          "bs",
          "bs",
          "bs",
          "bs",
          "bs",
          "bs",
          "bs",
          "bs",
          "bs",
          "bs",
          "bs",
          "bs",
          "bs",
          "bs",
          "bs",
          "bs",
          "bs",
          "bs",
          "bs",
          "bs",
          "bs",
          "bs",
          "bs",
          "bs",
          "bs",
          "bs",
          "bs",
          "bs",
          "bs",
          "bs",
          "bs",
          "bs",
          "bs",
          "bs",
          "bs",
          "bs",
          "bs",
          "bs",
          "bs",
          "bs",
          "bs",
          "bs",
          "bs",
          "bs",
          "bs",
          "bs",
          "bs",
          "bs",
          "bs",
          "bs",
          "bs",
          "bs",
          "bs",
          "bs",
          "bs",
          "bs",
          "bs",
          "bs",
          "bs",
          "bs",
          "bs",
          "bs",
          "bs",
          "bs",
          "bs",
          "bs",
          "bs",
          "bs",
          "bs",
          "bs",
          "bs",
          "bs",
          "bs",
          "bs",
          "bs",
          "bs",
          "bs",
          "bs",
          "bs",
          "bs",
          "bs",
          "bs",
          "bs",
          "bs",
          "bs",
          "bs",
          "bs",
          "bs",
          "bs",
          "bs",
          "bs",
          "bs",
          "bs",
          "bs",
          "bs",
          "bs",
          "bs",
          "bs",
          "bs",
          "bs",
          "conspiracy",
          "conspiracy",
          "conspiracy",
          "conspiracy",
          "conspiracy",
          "conspiracy",
          "conspiracy",
          "conspiracy",
          "conspiracy",
          "conspiracy",
          "conspiracy",
          "conspiracy",
          "conspiracy",
          "conspiracy",
          "conspiracy",
          "conspiracy",
          "conspiracy",
          "conspiracy",
          "conspiracy",
          "conspiracy",
          "conspiracy",
          "conspiracy",
          "conspiracy",
          "conspiracy",
          "conspiracy",
          "conspiracy",
          "conspiracy",
          "conspiracy",
          "conspiracy",
          "conspiracy",
          "conspiracy",
          "conspiracy",
          "conspiracy",
          "conspiracy",
          "conspiracy",
          "conspiracy",
          "conspiracy",
          "conspiracy",
          "conspiracy",
          "conspiracy",
          "conspiracy",
          "conspiracy",
          "conspiracy",
          "conspiracy",
          "conspiracy",
          "conspiracy",
          "conspiracy",
          "conspiracy",
          "conspiracy",
          "conspiracy",
          "conspiracy",
          "conspiracy",
          "conspiracy",
          "conspiracy",
          "conspiracy",
          "conspiracy",
          "conspiracy",
          "conspiracy",
          "conspiracy",
          "conspiracy",
          "conspiracy",
          "conspiracy",
          "conspiracy",
          "conspiracy",
          "conspiracy",
          "conspiracy",
          "conspiracy",
          "conspiracy",
          "conspiracy",
          "conspiracy",
          "conspiracy",
          "conspiracy",
          "conspiracy",
          "conspiracy",
          "conspiracy",
          "conspiracy",
          "conspiracy",
          "conspiracy",
          "conspiracy",
          "conspiracy",
          "conspiracy",
          "conspiracy",
          "conspiracy",
          "conspiracy",
          "conspiracy",
          "conspiracy",
          "conspiracy",
          "conspiracy",
          "conspiracy",
          "conspiracy",
          "conspiracy",
          "conspiracy",
          "conspiracy",
          "conspiracy",
          "conspiracy",
          "conspiracy",
          "bs",
          "satire",
          "satire",
          "satire",
          "satire",
          "satire",
          "satire",
          "satire",
          "satire",
          "satire",
          "satire",
          "satire",
          "satire",
          "satire",
          "satire",
          "satire",
          "satire",
          "satire",
          "satire",
          "satire",
          "satire",
          "satire",
          "satire",
          "satire",
          "satire",
          "satire",
          "satire",
          "satire",
          "satire",
          "satire",
          "satire",
          "satire",
          "satire",
          "satire",
          "satire",
          "satire",
          "satire",
          "satire",
          "satire",
          "satire",
          "satire",
          "satire",
          "satire",
          "satire",
          "satire",
          "satire",
          "satire",
          "satire",
          "satire",
          "satire",
          "satire",
          "satire",
          "satire",
          "satire",
          "satire",
          "satire",
          "satire",
          "satire",
          "satire",
          "satire",
          "satire",
          "satire",
          "satire",
          "satire",
          "satire",
          "satire",
          "satire",
          "satire",
          "satire",
          "satire",
          "satire",
          "satire",
          "satire",
          "satire",
          "satire",
          "satire",
          "satire",
          "satire",
          "satire",
          "satire",
          "satire",
          "satire",
          "satire",
          "satire",
          "satire",
          "satire",
          "satire",
          "satire",
          "satire",
          "satire",
          "satire",
          "satire",
          "satire",
          "satire",
          "satire",
          "satire",
          "satire",
          "satire",
          "satire",
          "bs",
          "bs",
          "bs",
          "bs",
          "bs",
          "bs",
          "bs",
          "bs",
          "bs",
          "bs",
          "bs",
          "bs",
          "bs",
          "bs",
          "bs",
          "bs",
          "bs",
          "bs",
          "bs",
          "bs",
          "bs",
          "bs",
          "bs",
          "bs",
          "bs",
          "bs",
          "bias",
          "bias",
          "bias",
          "bias",
          "bias",
          "bias",
          "bias",
          "bias",
          "bias",
          "bias",
          "bias",
          "bias",
          "bias",
          "bias",
          "bias",
          "bias",
          "bias",
          "bias",
          "bias",
          "bias",
          "bias",
          "bias",
          "bias",
          "bias",
          "bias",
          "bias",
          "bias",
          "bias",
          "bias",
          "bias",
          "bs",
          "bs",
          "bs",
          "bs",
          "bs",
          "bs",
          "bs",
          "bs",
          "hate",
          "hate",
          "hate",
          "hate",
          "hate",
          "hate",
          "hate",
          "hate",
          "hate",
          "hate",
          "hate",
          "hate",
          "hate",
          "hate",
          "hate",
          "hate",
          "hate",
          "hate",
          "hate",
          "hate",
          "hate",
          "hate",
          "hate",
          "hate",
          "hate",
          "hate",
          "hate",
          "hate",
          "hate",
          "hate",
          "hate",
          "hate",
          "bs",
          "bs",
          "bs",
          "junksci",
          "junksci",
          "bs",
          "bs",
          "bs",
          "bs",
          "bs",
          "bs",
          "bs",
          "bs",
          "bs",
          "bs",
          "bs",
          "bs",
          "bs",
          "bs",
          "bs",
          "bs",
          "bs",
          "bs",
          "bs",
          "bs",
          "bs",
          "bs",
          "bs",
          "bs",
          "bs",
          "bs",
          "bs",
          "bs",
          "bs",
          "bs",
          "bs",
          "bs",
          "bs",
          "bs",
          "bs",
          "bs",
          "bs",
          "bs",
          "bs",
          "bs",
          "bs",
          "bs",
          "bs",
          "bs",
          "bs",
          "bs",
          "bs",
          "bs",
          "bs",
          "bs",
          "bs",
          "bs",
          "bs",
          "bs",
          "bs",
          "bs",
          "bs",
          "bs",
          "bs",
          "bs",
          "bs",
          "bs",
          "bs",
          "bs",
          "bs",
          "bs",
          "bs",
          "bs",
          "bs",
          "bs",
          "bs",
          "bs",
          "bs",
          "bs",
          "bs",
          "bs",
          "bs",
          "bs",
          "bs",
          "bs",
          "bs",
          "bs",
          "bs",
          "bs",
          "bs",
          "bs",
          "bs",
          "bs",
          "hate",
          "hate",
          "hate",
          "hate",
          "hate",
          "hate",
          "hate",
          "hate",
          "hate",
          "hate",
          "hate",
          "hate",
          "hate",
          "hate",
          "hate",
          "hate",
          "hate",
          "hate",
          "hate",
          "hate",
          "hate",
          "hate",
          "hate",
          "hate",
          "hate",
          "hate",
          "hate",
          "hate",
          "hate",
          "hate",
          "hate",
          "hate",
          "hate",
          "hate",
          "hate",
          "hate",
          "hate",
          "hate",
          "hate",
          "hate",
          "hate",
          "hate",
          "hate",
          "hate",
          "hate",
          "hate",
          "hate",
          "hate",
          "hate",
          "hate",
          "hate",
          "hate",
          "hate",
          "hate",
          "hate",
          "hate",
          "hate",
          "hate",
          "hate",
          "hate",
          "hate",
          "hate",
          "hate",
          "hate",
          "hate",
          "hate",
          "hate",
          "hate",
          "hate",
          "hate",
          "hate",
          "hate",
          "hate",
          "hate",
          "hate",
          "hate",
          "hate",
          "hate",
          "hate",
          "hate",
          "hate",
          "hate",
          "hate",
          "hate",
          "hate",
          "hate",
          "hate",
          "hate",
          "hate",
          "hate",
          "hate",
          "hate",
          "hate",
          "hate",
          "hate",
          "hate",
          "hate",
          "hate",
          "hate",
          "hate",
          "bs",
          "bs",
          "bs",
          "bs",
          "bs",
          "conspiracy",
          "conspiracy",
          "conspiracy",
          "conspiracy",
          "conspiracy",
          "conspiracy",
          "conspiracy",
          "conspiracy",
          "conspiracy",
          "conspiracy",
          "conspiracy",
          "conspiracy",
          "conspiracy",
          "conspiracy",
          "conspiracy",
          "conspiracy",
          "conspiracy",
          "conspiracy",
          "conspiracy",
          "conspiracy",
          "conspiracy",
          "conspiracy",
          "conspiracy",
          "conspiracy",
          "conspiracy",
          "conspiracy",
          "conspiracy",
          "conspiracy",
          "conspiracy",
          "conspiracy",
          "conspiracy",
          "conspiracy",
          "conspiracy",
          "conspiracy",
          "conspiracy",
          "conspiracy",
          "conspiracy",
          "conspiracy",
          "conspiracy",
          "conspiracy",
          "conspiracy",
          "conspiracy",
          "conspiracy",
          "conspiracy",
          "conspiracy",
          "conspiracy",
          "conspiracy",
          "conspiracy",
          "conspiracy",
          "conspiracy",
          "conspiracy",
          "conspiracy",
          "conspiracy",
          "conspiracy",
          "conspiracy",
          "conspiracy",
          "conspiracy",
          "conspiracy",
          "conspiracy",
          "conspiracy",
          "conspiracy",
          "conspiracy",
          "conspiracy",
          "conspiracy",
          "conspiracy",
          "conspiracy",
          "conspiracy",
          "conspiracy",
          "conspiracy",
          "conspiracy",
          "conspiracy",
          "conspiracy",
          "conspiracy",
          "conspiracy",
          "conspiracy",
          "conspiracy",
          "conspiracy",
          "conspiracy",
          "conspiracy",
          "conspiracy",
          "conspiracy",
          "conspiracy",
          "conspiracy",
          "conspiracy",
          "conspiracy",
          "conspiracy",
          "conspiracy",
          "conspiracy",
          "conspiracy",
          "conspiracy",
          "conspiracy",
          "conspiracy",
          "conspiracy",
          "conspiracy",
          "conspiracy",
          "conspiracy",
          "conspiracy",
          "conspiracy",
          "conspiracy",
          "conspiracy",
          "conspiracy",
          "bs",
          "satire",
          "satire",
          "satire",
          "satire",
          "satire",
          "satire",
          "satire",
          "satire",
          "satire",
          "satire",
          "satire",
          "satire",
          "satire",
          "satire",
          "satire",
          "satire",
          "satire",
          "satire",
          "satire",
          "satire",
          "satire",
          "satire",
          "satire",
          "satire",
          "satire",
          "satire",
          "satire",
          "satire",
          "satire",
          "satire",
          "satire",
          "satire",
          "satire",
          "satire",
          "satire",
          "satire",
          "satire",
          "satire",
          "satire",
          "satire",
          "satire",
          "satire",
          "satire",
          "satire",
          "satire",
          "satire",
          "bs",
          "junksci",
          "junksci",
          "junksci",
          "junksci",
          "junksci",
          "junksci",
          "junksci",
          "junksci",
          "junksci",
          "junksci",
          "junksci",
          "junksci",
          "junksci",
          "junksci",
          "junksci",
          "junksci",
          "junksci",
          "junksci",
          "junksci",
          "junksci",
          "junksci",
          "junksci",
          "junksci",
          "junksci",
          "junksci",
          "junksci",
          "junksci",
          "junksci",
          "junksci",
          "junksci",
          "junksci",
          "junksci",
          "junksci",
          "junksci",
          "junksci",
          "junksci",
          "junksci",
          "junksci",
          "junksci",
          "junksci",
          "junksci",
          "junksci",
          "junksci",
          "junksci",
          "junksci",
          "junksci",
          "junksci",
          "junksci",
          "junksci",
          "junksci",
          "junksci",
          "junksci",
          "junksci",
          "junksci",
          "junksci",
          "junksci",
          "junksci",
          "junksci",
          "junksci",
          "junksci",
          "junksci",
          "junksci",
          "junksci",
          "junksci",
          "junksci",
          "junksci",
          "junksci",
          "junksci",
          "junksci",
          "junksci",
          "junksci",
          "junksci",
          "junksci",
          "junksci",
          "junksci",
          "junksci",
          "junksci",
          "junksci",
          "junksci",
          "junksci",
          "junksci",
          "junksci",
          "junksci",
          "junksci",
          "junksci",
          "junksci",
          "junksci",
          "junksci",
          "junksci",
          "junksci",
          "junksci",
          "junksci",
          "junksci",
          "junksci",
          "junksci",
          "junksci",
          "junksci",
          "junksci",
          "junksci",
          "junksci",
          "conspiracy",
          "conspiracy",
          "conspiracy",
          "conspiracy",
          "conspiracy",
          "bias",
          "bias",
          "bias",
          "bias",
          "bias",
          "bias",
          "bias",
          "bias",
          "bias",
          "bias",
          "bias",
          "bias",
          "bias",
          "bias",
          "bias",
          "bias",
          "bias",
          "bias",
          "bias",
          "bias",
          "bias",
          "bias",
          "bias",
          "bias",
          "bias",
          "bias",
          "bias",
          "bias",
          "bias",
          "bias",
          "bias",
          "bias",
          "bias",
          "bias",
          "bias",
          "bias",
          "bias",
          "bias",
          "bias",
          "bias",
          "bias",
          "bias",
          "bias",
          "bias",
          "bias",
          "bias",
          "bias",
          "bias",
          "bias",
          "bias",
          "bias",
          "bias",
          "bias",
          "bias",
          "bias",
          "bias",
          "bias",
          "bias",
          "bias",
          "bias",
          "bias",
          "bias",
          "bias",
          "bias",
          "bias",
          "bias",
          "bias",
          "bias",
          "bias",
          "bias",
          "bias",
          "bias",
          "bias",
          "bias",
          "bias",
          "bias",
          "bias",
          "bias",
          "bias",
          "bias",
          "bias",
          "bias",
          "bias",
          "bias",
          "bias",
          "bias",
          "bias",
          "bias",
          "bias",
          "bias",
          "bias",
          "bias",
          "bias",
          "bias",
          "bias",
          "bias",
          "bias",
          "bias",
          "bias",
          "bias",
          "state",
          "state",
          "state",
          "state",
          "state",
          "state",
          "state",
          "state",
          "state",
          "state",
          "state",
          "state",
          "state",
          "state",
          "state",
          "state",
          "state",
          "state",
          "state",
          "state",
          "state",
          "state",
          "state",
          "state",
          "state",
          "state",
          "state",
          "state",
          "state",
          "state",
          "state",
          "state",
          "state",
          "state",
          "state",
          "state",
          "state",
          "state",
          "state",
          "state",
          "state",
          "state",
          "state",
          "state",
          "state",
          "state",
          "state",
          "state",
          "state",
          "state",
          "state",
          "state",
          "state",
          "state",
          "state",
          "state",
          "state",
          "state",
          "state",
          "state",
          "state",
          "state",
          "state",
          "state",
          "state",
          "state",
          "state",
          "state",
          "state",
          "state",
          "state",
          "state",
          "state",
          "state",
          "state",
          "state",
          "state",
          "state",
          "state",
          "state",
          "state",
          "state",
          "state",
          "state",
          "state",
          "state",
          "state",
          "state",
          "state",
          "state",
          "state",
          "state",
          "state",
          "state",
          "state",
          "state",
          "state",
          "state",
          "state",
          "state",
          "conspiracy",
          "conspiracy",
          "conspiracy",
          "conspiracy",
          "conspiracy",
          "conspiracy",
          "conspiracy",
          "conspiracy",
          "conspiracy",
          "conspiracy",
          "conspiracy",
          "conspiracy",
          "conspiracy",
          "conspiracy",
          "conspiracy",
          "conspiracy",
          "conspiracy",
          "conspiracy",
          "conspiracy",
          "conspiracy",
          "conspiracy",
          "conspiracy",
          "conspiracy",
          "conspiracy",
          "conspiracy",
          "conspiracy",
          "conspiracy",
          "conspiracy",
          "conspiracy",
          "conspiracy",
          "conspiracy",
          "conspiracy",
          "conspiracy",
          "conspiracy",
          "conspiracy",
          "conspiracy",
          "conspiracy",
          "conspiracy",
          "conspiracy",
          "conspiracy",
          "conspiracy",
          "conspiracy",
          "conspiracy",
          "conspiracy",
          "conspiracy",
          "conspiracy",
          "conspiracy",
          "conspiracy",
          "conspiracy",
          "conspiracy",
          "conspiracy",
          "conspiracy",
          "conspiracy",
          "conspiracy",
          "conspiracy",
          "conspiracy",
          "conspiracy",
          "conspiracy",
          "conspiracy",
          "conspiracy",
          "conspiracy",
          "conspiracy",
          "conspiracy",
          "conspiracy",
          "conspiracy",
          "conspiracy",
          "conspiracy",
          "conspiracy",
          "conspiracy",
          "conspiracy",
          "conspiracy",
          "conspiracy",
          "conspiracy",
          "conspiracy",
          "conspiracy",
          "conspiracy",
          "conspiracy",
          "conspiracy",
          "conspiracy",
          "conspiracy",
          "conspiracy",
          "bias",
          "bs",
          "hate",
          "hate",
          "hate",
          "hate",
          "hate",
          "hate",
          "hate",
          "hate",
          "hate",
          "hate",
          "hate",
          "hate",
          "hate",
          "hate",
          "hate",
          "hate",
          "hate",
          "hate",
          "hate",
          "hate",
          "hate",
          "hate",
          "hate",
          "hate",
          "hate",
          "hate",
          "hate",
          "hate",
          "hate",
          "hate",
          "hate",
          "hate",
          "hate",
          "hate",
          "hate",
          "hate",
          "hate",
          "hate",
          "hate",
          "hate",
          "hate",
          "hate",
          "hate",
          "hate",
          "hate",
          "hate",
          "hate",
          "hate",
          "hate",
          "hate",
          "hate",
          "hate",
          "hate",
          "hate",
          "hate",
          "hate",
          "hate",
          "hate",
          "hate",
          "hate",
          "hate",
          "hate",
          "hate",
          "hate",
          "hate",
          "hate",
          "hate",
          "hate",
          "hate",
          "hate",
          "hate",
          "hate",
          "hate",
          "hate",
          "hate",
          "hate",
          "hate",
          "hate",
          "hate",
          "hate",
          "hate",
          "hate",
          "hate",
          "hate",
          "hate",
          "hate",
          "hate",
          "hate",
          "hate",
          "hate",
          "hate",
          "hate",
          "hate",
          "hate",
          "hate",
          "hate",
          "hate",
          "bs",
          "bs",
          "bs",
          "bs",
          "bs",
          "bs",
          "bs",
          "bs",
          "bs",
          "bs",
          "bs",
          "bs",
          "bs",
          "bs",
          "bs",
          "bs",
          "bs",
          "bs",
          "bs",
          "bs",
          "bs",
          "bs",
          "bs",
          "bs",
          "bs",
          "bs",
          "bs",
          "bs",
          "bs",
          "bs",
          "bias",
          "bias",
          "bias",
          "bias",
          "bias",
          "bias",
          "bias",
          "bias",
          "bias",
          "bias",
          "bias",
          "bias",
          "bias",
          "bias",
          "bias",
          "bias",
          "bias",
          "bias",
          "bias",
          "bias",
          "bias",
          "bias",
          "bias",
          "bias",
          "bias",
          "bias",
          "bias",
          "bias",
          "bias",
          "bias",
          "bias",
          "bias",
          "bias",
          "bias",
          "bias",
          "bias",
          "bias",
          "bias",
          "bias",
          "bias",
          "bias",
          "bias",
          "bias",
          "bias",
          "bias",
          "bias",
          "bs",
          "bs",
          "bs",
          "bs",
          "bs",
          "bs",
          "bs",
          "bs",
          "bs",
          "bs",
          "bs",
          "bs",
          "bias",
          "bias",
          "bias",
          "bias",
          "bias",
          "bias",
          "bias",
          "bias",
          "bias",
          "bias",
          "bias",
          "bias",
          "bias",
          "bias",
          "bias",
          "bias",
          "bias",
          "bias",
          "bias",
          "bias",
          "bias",
          "bias",
          "bias",
          "bias",
          "bias",
          "bias",
          "bias",
          "bias",
          "bias",
          "bias",
          "bias",
          "bias",
          "bias",
          "bias",
          "bias",
          "bias",
          "bias",
          "bias",
          "bias",
          "bias",
          "bias",
          "bias",
          "bias",
          "bias",
          "bias",
          "bias",
          "bias",
          "bias",
          "bias",
          "bias",
          "bias",
          "bias",
          "bias",
          "bias"
         ],
         "xaxis": "x",
         "yaxis": "y"
        }
       ],
       "layout": {
        "barmode": "relative",
        "legend": {
         "tracegroupgap": 0
        },
        "margin": {
         "t": 60
        },
        "template": {
         "data": {
          "bar": [
           {
            "error_x": {
             "color": "#2a3f5f"
            },
            "error_y": {
             "color": "#2a3f5f"
            },
            "marker": {
             "line": {
              "color": "#E5ECF6",
              "width": 0.5
             },
             "pattern": {
              "fillmode": "overlay",
              "size": 10,
              "solidity": 0.2
             }
            },
            "type": "bar"
           }
          ],
          "barpolar": [
           {
            "marker": {
             "line": {
              "color": "#E5ECF6",
              "width": 0.5
             },
             "pattern": {
              "fillmode": "overlay",
              "size": 10,
              "solidity": 0.2
             }
            },
            "type": "barpolar"
           }
          ],
          "carpet": [
           {
            "aaxis": {
             "endlinecolor": "#2a3f5f",
             "gridcolor": "white",
             "linecolor": "white",
             "minorgridcolor": "white",
             "startlinecolor": "#2a3f5f"
            },
            "baxis": {
             "endlinecolor": "#2a3f5f",
             "gridcolor": "white",
             "linecolor": "white",
             "minorgridcolor": "white",
             "startlinecolor": "#2a3f5f"
            },
            "type": "carpet"
           }
          ],
          "choropleth": [
           {
            "colorbar": {
             "outlinewidth": 0,
             "ticks": ""
            },
            "type": "choropleth"
           }
          ],
          "contour": [
           {
            "colorbar": {
             "outlinewidth": 0,
             "ticks": ""
            },
            "colorscale": [
             [
              0,
              "#0d0887"
             ],
             [
              0.1111111111111111,
              "#46039f"
             ],
             [
              0.2222222222222222,
              "#7201a8"
             ],
             [
              0.3333333333333333,
              "#9c179e"
             ],
             [
              0.4444444444444444,
              "#bd3786"
             ],
             [
              0.5555555555555556,
              "#d8576b"
             ],
             [
              0.6666666666666666,
              "#ed7953"
             ],
             [
              0.7777777777777778,
              "#fb9f3a"
             ],
             [
              0.8888888888888888,
              "#fdca26"
             ],
             [
              1,
              "#f0f921"
             ]
            ],
            "type": "contour"
           }
          ],
          "contourcarpet": [
           {
            "colorbar": {
             "outlinewidth": 0,
             "ticks": ""
            },
            "type": "contourcarpet"
           }
          ],
          "heatmap": [
           {
            "colorbar": {
             "outlinewidth": 0,
             "ticks": ""
            },
            "colorscale": [
             [
              0,
              "#0d0887"
             ],
             [
              0.1111111111111111,
              "#46039f"
             ],
             [
              0.2222222222222222,
              "#7201a8"
             ],
             [
              0.3333333333333333,
              "#9c179e"
             ],
             [
              0.4444444444444444,
              "#bd3786"
             ],
             [
              0.5555555555555556,
              "#d8576b"
             ],
             [
              0.6666666666666666,
              "#ed7953"
             ],
             [
              0.7777777777777778,
              "#fb9f3a"
             ],
             [
              0.8888888888888888,
              "#fdca26"
             ],
             [
              1,
              "#f0f921"
             ]
            ],
            "type": "heatmap"
           }
          ],
          "heatmapgl": [
           {
            "colorbar": {
             "outlinewidth": 0,
             "ticks": ""
            },
            "colorscale": [
             [
              0,
              "#0d0887"
             ],
             [
              0.1111111111111111,
              "#46039f"
             ],
             [
              0.2222222222222222,
              "#7201a8"
             ],
             [
              0.3333333333333333,
              "#9c179e"
             ],
             [
              0.4444444444444444,
              "#bd3786"
             ],
             [
              0.5555555555555556,
              "#d8576b"
             ],
             [
              0.6666666666666666,
              "#ed7953"
             ],
             [
              0.7777777777777778,
              "#fb9f3a"
             ],
             [
              0.8888888888888888,
              "#fdca26"
             ],
             [
              1,
              "#f0f921"
             ]
            ],
            "type": "heatmapgl"
           }
          ],
          "histogram": [
           {
            "marker": {
             "pattern": {
              "fillmode": "overlay",
              "size": 10,
              "solidity": 0.2
             }
            },
            "type": "histogram"
           }
          ],
          "histogram2d": [
           {
            "colorbar": {
             "outlinewidth": 0,
             "ticks": ""
            },
            "colorscale": [
             [
              0,
              "#0d0887"
             ],
             [
              0.1111111111111111,
              "#46039f"
             ],
             [
              0.2222222222222222,
              "#7201a8"
             ],
             [
              0.3333333333333333,
              "#9c179e"
             ],
             [
              0.4444444444444444,
              "#bd3786"
             ],
             [
              0.5555555555555556,
              "#d8576b"
             ],
             [
              0.6666666666666666,
              "#ed7953"
             ],
             [
              0.7777777777777778,
              "#fb9f3a"
             ],
             [
              0.8888888888888888,
              "#fdca26"
             ],
             [
              1,
              "#f0f921"
             ]
            ],
            "type": "histogram2d"
           }
          ],
          "histogram2dcontour": [
           {
            "colorbar": {
             "outlinewidth": 0,
             "ticks": ""
            },
            "colorscale": [
             [
              0,
              "#0d0887"
             ],
             [
              0.1111111111111111,
              "#46039f"
             ],
             [
              0.2222222222222222,
              "#7201a8"
             ],
             [
              0.3333333333333333,
              "#9c179e"
             ],
             [
              0.4444444444444444,
              "#bd3786"
             ],
             [
              0.5555555555555556,
              "#d8576b"
             ],
             [
              0.6666666666666666,
              "#ed7953"
             ],
             [
              0.7777777777777778,
              "#fb9f3a"
             ],
             [
              0.8888888888888888,
              "#fdca26"
             ],
             [
              1,
              "#f0f921"
             ]
            ],
            "type": "histogram2dcontour"
           }
          ],
          "mesh3d": [
           {
            "colorbar": {
             "outlinewidth": 0,
             "ticks": ""
            },
            "type": "mesh3d"
           }
          ],
          "parcoords": [
           {
            "line": {
             "colorbar": {
              "outlinewidth": 0,
              "ticks": ""
             }
            },
            "type": "parcoords"
           }
          ],
          "pie": [
           {
            "automargin": true,
            "type": "pie"
           }
          ],
          "scatter": [
           {
            "fillpattern": {
             "fillmode": "overlay",
             "size": 10,
             "solidity": 0.2
            },
            "type": "scatter"
           }
          ],
          "scatter3d": [
           {
            "line": {
             "colorbar": {
              "outlinewidth": 0,
              "ticks": ""
             }
            },
            "marker": {
             "colorbar": {
              "outlinewidth": 0,
              "ticks": ""
             }
            },
            "type": "scatter3d"
           }
          ],
          "scattercarpet": [
           {
            "marker": {
             "colorbar": {
              "outlinewidth": 0,
              "ticks": ""
             }
            },
            "type": "scattercarpet"
           }
          ],
          "scattergeo": [
           {
            "marker": {
             "colorbar": {
              "outlinewidth": 0,
              "ticks": ""
             }
            },
            "type": "scattergeo"
           }
          ],
          "scattergl": [
           {
            "marker": {
             "colorbar": {
              "outlinewidth": 0,
              "ticks": ""
             }
            },
            "type": "scattergl"
           }
          ],
          "scattermapbox": [
           {
            "marker": {
             "colorbar": {
              "outlinewidth": 0,
              "ticks": ""
             }
            },
            "type": "scattermapbox"
           }
          ],
          "scatterpolar": [
           {
            "marker": {
             "colorbar": {
              "outlinewidth": 0,
              "ticks": ""
             }
            },
            "type": "scatterpolar"
           }
          ],
          "scatterpolargl": [
           {
            "marker": {
             "colorbar": {
              "outlinewidth": 0,
              "ticks": ""
             }
            },
            "type": "scatterpolargl"
           }
          ],
          "scatterternary": [
           {
            "marker": {
             "colorbar": {
              "outlinewidth": 0,
              "ticks": ""
             }
            },
            "type": "scatterternary"
           }
          ],
          "surface": [
           {
            "colorbar": {
             "outlinewidth": 0,
             "ticks": ""
            },
            "colorscale": [
             [
              0,
              "#0d0887"
             ],
             [
              0.1111111111111111,
              "#46039f"
             ],
             [
              0.2222222222222222,
              "#7201a8"
             ],
             [
              0.3333333333333333,
              "#9c179e"
             ],
             [
              0.4444444444444444,
              "#bd3786"
             ],
             [
              0.5555555555555556,
              "#d8576b"
             ],
             [
              0.6666666666666666,
              "#ed7953"
             ],
             [
              0.7777777777777778,
              "#fb9f3a"
             ],
             [
              0.8888888888888888,
              "#fdca26"
             ],
             [
              1,
              "#f0f921"
             ]
            ],
            "type": "surface"
           }
          ],
          "table": [
           {
            "cells": {
             "fill": {
              "color": "#EBF0F8"
             },
             "line": {
              "color": "white"
             }
            },
            "header": {
             "fill": {
              "color": "#C8D4E3"
             },
             "line": {
              "color": "white"
             }
            },
            "type": "table"
           }
          ]
         },
         "layout": {
          "annotationdefaults": {
           "arrowcolor": "#2a3f5f",
           "arrowhead": 0,
           "arrowwidth": 1
          },
          "autotypenumbers": "strict",
          "coloraxis": {
           "colorbar": {
            "outlinewidth": 0,
            "ticks": ""
           }
          },
          "colorscale": {
           "diverging": [
            [
             0,
             "#8e0152"
            ],
            [
             0.1,
             "#c51b7d"
            ],
            [
             0.2,
             "#de77ae"
            ],
            [
             0.3,
             "#f1b6da"
            ],
            [
             0.4,
             "#fde0ef"
            ],
            [
             0.5,
             "#f7f7f7"
            ],
            [
             0.6,
             "#e6f5d0"
            ],
            [
             0.7,
             "#b8e186"
            ],
            [
             0.8,
             "#7fbc41"
            ],
            [
             0.9,
             "#4d9221"
            ],
            [
             1,
             "#276419"
            ]
           ],
           "sequential": [
            [
             0,
             "#0d0887"
            ],
            [
             0.1111111111111111,
             "#46039f"
            ],
            [
             0.2222222222222222,
             "#7201a8"
            ],
            [
             0.3333333333333333,
             "#9c179e"
            ],
            [
             0.4444444444444444,
             "#bd3786"
            ],
            [
             0.5555555555555556,
             "#d8576b"
            ],
            [
             0.6666666666666666,
             "#ed7953"
            ],
            [
             0.7777777777777778,
             "#fb9f3a"
            ],
            [
             0.8888888888888888,
             "#fdca26"
            ],
            [
             1,
             "#f0f921"
            ]
           ],
           "sequentialminus": [
            [
             0,
             "#0d0887"
            ],
            [
             0.1111111111111111,
             "#46039f"
            ],
            [
             0.2222222222222222,
             "#7201a8"
            ],
            [
             0.3333333333333333,
             "#9c179e"
            ],
            [
             0.4444444444444444,
             "#bd3786"
            ],
            [
             0.5555555555555556,
             "#d8576b"
            ],
            [
             0.6666666666666666,
             "#ed7953"
            ],
            [
             0.7777777777777778,
             "#fb9f3a"
            ],
            [
             0.8888888888888888,
             "#fdca26"
            ],
            [
             1,
             "#f0f921"
            ]
           ]
          },
          "colorway": [
           "#636efa",
           "#EF553B",
           "#00cc96",
           "#ab63fa",
           "#FFA15A",
           "#19d3f3",
           "#FF6692",
           "#B6E880",
           "#FF97FF",
           "#FECB52"
          ],
          "font": {
           "color": "#2a3f5f"
          },
          "geo": {
           "bgcolor": "white",
           "lakecolor": "white",
           "landcolor": "#E5ECF6",
           "showlakes": true,
           "showland": true,
           "subunitcolor": "white"
          },
          "hoverlabel": {
           "align": "left"
          },
          "hovermode": "closest",
          "mapbox": {
           "style": "light"
          },
          "paper_bgcolor": "white",
          "plot_bgcolor": "#E5ECF6",
          "polar": {
           "angularaxis": {
            "gridcolor": "white",
            "linecolor": "white",
            "ticks": ""
           },
           "bgcolor": "#E5ECF6",
           "radialaxis": {
            "gridcolor": "white",
            "linecolor": "white",
            "ticks": ""
           }
          },
          "scene": {
           "xaxis": {
            "backgroundcolor": "#E5ECF6",
            "gridcolor": "white",
            "gridwidth": 2,
            "linecolor": "white",
            "showbackground": true,
            "ticks": "",
            "zerolinecolor": "white"
           },
           "yaxis": {
            "backgroundcolor": "#E5ECF6",
            "gridcolor": "white",
            "gridwidth": 2,
            "linecolor": "white",
            "showbackground": true,
            "ticks": "",
            "zerolinecolor": "white"
           },
           "zaxis": {
            "backgroundcolor": "#E5ECF6",
            "gridcolor": "white",
            "gridwidth": 2,
            "linecolor": "white",
            "showbackground": true,
            "ticks": "",
            "zerolinecolor": "white"
           }
          },
          "shapedefaults": {
           "line": {
            "color": "#2a3f5f"
           }
          },
          "ternary": {
           "aaxis": {
            "gridcolor": "white",
            "linecolor": "white",
            "ticks": ""
           },
           "baxis": {
            "gridcolor": "white",
            "linecolor": "white",
            "ticks": ""
           },
           "bgcolor": "#E5ECF6",
           "caxis": {
            "gridcolor": "white",
            "linecolor": "white",
            "ticks": ""
           }
          },
          "title": {
           "x": 0.05
          },
          "xaxis": {
           "automargin": true,
           "gridcolor": "white",
           "linecolor": "white",
           "ticks": "",
           "title": {
            "standoff": 15
           },
           "zerolinecolor": "white",
           "zerolinewidth": 2
          },
          "yaxis": {
           "automargin": true,
           "gridcolor": "white",
           "linecolor": "white",
           "ticks": "",
           "title": {
            "standoff": 15
           },
           "zerolinecolor": "white",
           "zerolinewidth": 2
          }
         }
        },
        "xaxis": {
         "anchor": "y",
         "domain": [
          0,
          1
         ],
         "title": {
          "text": "type"
         }
        },
        "yaxis": {
         "anchor": "x",
         "domain": [
          0,
          1
         ],
         "title": {
          "text": "count"
         }
        }
       }
      },
      "text/html": [
       "<div>                            <div id=\"09816bc3-0a5f-466a-b022-7067a3ba0937\" class=\"plotly-graph-div\" style=\"height:525px; width:100%;\"></div>            <script type=\"text/javascript\">                require([\"plotly\"], function(Plotly) {                    window.PLOTLYENV=window.PLOTLYENV || {};                                    if (document.getElementById(\"09816bc3-0a5f-466a-b022-7067a3ba0937\")) {                    Plotly.newPlot(                        \"09816bc3-0a5f-466a-b022-7067a3ba0937\",                        [{\"alignmentgroup\":\"True\",\"bingroup\":\"x\",\"hovertemplate\":\"type=%{x}<br>count=%{y}<extra></extra>\",\"legendgroup\":\"\",\"marker\":{\"color\":\"#636efa\",\"pattern\":{\"shape\":\"\"}},\"name\":\"\",\"offsetgroup\":\"\",\"orientation\":\"v\",\"showlegend\":false,\"x\":[\"bias\",\"bias\",\"bias\",\"bias\",\"bias\",\"bias\",\"bias\",\"bias\",\"bias\",\"bias\",\"bias\",\"bias\",\"bias\",\"bias\",\"bias\",\"bias\",\"bias\",\"bias\",\"bias\",\"bias\",\"bias\",\"bias\",\"bias\",\"conspiracy\",\"conspiracy\",\"conspiracy\",\"conspiracy\",\"conspiracy\",\"conspiracy\",\"conspiracy\",\"conspiracy\",\"conspiracy\",\"conspiracy\",\"conspiracy\",\"conspiracy\",\"conspiracy\",\"conspiracy\",\"conspiracy\",\"conspiracy\",\"conspiracy\",\"conspiracy\",\"conspiracy\",\"conspiracy\",\"conspiracy\",\"conspiracy\",\"conspiracy\",\"conspiracy\",\"fake\",\"fake\",\"bs\",\"bs\",\"bs\",\"bs\",\"bs\",\"bs\",\"bs\",\"bs\",\"bs\",\"bs\",\"bs\",\"bs\",\"bs\",\"bs\",\"bs\",\"bs\",\"bs\",\"bs\",\"bs\",\"bs\",\"bs\",\"bs\",\"bs\",\"bs\",\"bs\",\"bs\",\"bs\",\"bs\",\"bs\",\"bs\",\"bs\",\"bs\",\"bs\",\"bs\",\"bs\",\"bs\",\"bs\",\"bs\",\"bs\",\"bs\",\"bs\",\"bs\",\"bs\",\"bs\",\"bs\",\"bs\",\"bs\",\"bs\",\"bs\",\"bs\",\"bs\",\"bs\",\"bs\",\"bs\",\"bs\",\"bs\",\"bs\",\"bs\",\"bs\",\"bs\",\"bs\",\"bs\",\"bs\",\"bs\",\"bs\",\"bs\",\"bs\",\"bs\",\"bs\",\"bs\",\"bs\",\"bs\",\"bs\",\"bs\",\"bs\",\"bs\",\"bs\",\"bs\",\"bs\",\"bs\",\"bs\",\"bs\",\"bs\",\"bs\",\"bs\",\"bs\",\"bs\",\"conspiracy\",\"conspiracy\",\"conspiracy\",\"conspiracy\",\"conspiracy\",\"conspiracy\",\"conspiracy\",\"conspiracy\",\"conspiracy\",\"conspiracy\",\"conspiracy\",\"conspiracy\",\"bias\",\"bias\",\"bias\",\"bias\",\"bias\",\"bias\",\"bias\",\"bias\",\"bias\",\"bias\",\"bias\",\"bias\",\"bias\",\"bias\",\"bias\",\"bias\",\"bias\",\"bias\",\"bias\",\"bias\",\"fake\",\"fake\",\"fake\",\"fake\",\"fake\",\"fake\",\"fake\",\"fake\",\"fake\",\"fake\",\"fake\",\"bs\",\"bs\",\"bs\",\"bs\",\"bs\",\"bs\",\"bs\",\"bs\",\"bs\",\"bs\",\"bs\",\"bs\",\"bs\",\"bs\",\"bs\",\"bs\",\"bs\",\"bs\",\"bs\",\"bs\",\"bs\",\"bs\",\"bs\",\"bs\",\"bs\",\"bs\",\"bs\",\"bs\",\"bs\",\"bs\",\"bs\",\"bs\",\"bs\",\"bs\",\"bs\",\"bs\",\"bs\",\"bs\",\"bs\",\"bs\",\"bs\",\"bs\",\"bs\",\"bs\",\"bs\",\"bs\",\"bs\",\"bs\",\"bs\",\"bs\",\"bs\",\"bs\",\"bs\",\"bs\",\"bs\",\"bs\",\"bs\",\"bs\",\"bs\",\"bs\",\"bs\",\"bs\",\"bs\",\"bs\",\"bs\",\"bs\",\"bs\",\"bs\",\"bs\",\"bs\",\"bs\",\"bs\",\"bs\",\"bs\",\"bs\",\"bs\",\"bs\",\"bs\",\"bs\",\"bs\",\"bs\",\"bs\",\"bs\",\"bs\",\"bs\",\"bs\",\"bs\",\"bs\",\"bs\",\"bs\",\"bs\",\"bs\",\"bs\",\"bs\",\"bs\",\"bs\",\"bs\",\"bs\",\"bs\",\"bs\",\"bs\",\"bs\",\"bs\",\"bs\",\"bs\",\"bs\",\"bs\",\"bs\",\"bs\",\"bs\",\"bs\",\"bs\",\"bs\",\"bs\",\"bs\",\"bs\",\"bs\",\"bs\",\"bs\",\"bs\",\"bs\",\"bs\",\"bs\",\"bs\",\"bs\",\"bs\",\"bs\",\"bs\",\"bs\",\"bs\",\"bs\",\"bs\",\"bs\",\"bs\",\"bs\",\"bs\",\"bs\",\"bs\",\"bs\",\"bs\",\"bs\",\"bs\",\"bs\",\"bs\",\"bs\",\"bs\",\"bs\",\"bs\",\"bs\",\"bs\",\"conspiracy\",\"conspiracy\",\"conspiracy\",\"conspiracy\",\"conspiracy\",\"conspiracy\",\"conspiracy\",\"conspiracy\",\"conspiracy\",\"conspiracy\",\"conspiracy\",\"conspiracy\",\"conspiracy\",\"conspiracy\",\"conspiracy\",\"conspiracy\",\"conspiracy\",\"conspiracy\",\"conspiracy\",\"conspiracy\",\"conspiracy\",\"conspiracy\",\"conspiracy\",\"conspiracy\",\"conspiracy\",\"conspiracy\",\"conspiracy\",\"conspiracy\",\"conspiracy\",\"conspiracy\",\"conspiracy\",\"conspiracy\",\"conspiracy\",\"conspiracy\",\"conspiracy\",\"conspiracy\",\"conspiracy\",\"conspiracy\",\"conspiracy\",\"conspiracy\",\"conspiracy\",\"conspiracy\",\"conspiracy\",\"conspiracy\",\"conspiracy\",\"conspiracy\",\"conspiracy\",\"conspiracy\",\"conspiracy\",\"conspiracy\",\"conspiracy\",\"conspiracy\",\"conspiracy\",\"conspiracy\",\"conspiracy\",\"conspiracy\",\"conspiracy\",\"conspiracy\",\"conspiracy\",\"conspiracy\",\"conspiracy\",\"conspiracy\",\"conspiracy\",\"conspiracy\",\"conspiracy\",\"conspiracy\",\"conspiracy\",\"conspiracy\",\"conspiracy\",\"conspiracy\",\"conspiracy\",\"conspiracy\",\"conspiracy\",\"conspiracy\",\"conspiracy\",\"conspiracy\",\"conspiracy\",\"conspiracy\",\"conspiracy\",\"conspiracy\",\"conspiracy\",\"conspiracy\",\"conspiracy\",\"conspiracy\",\"conspiracy\",\"conspiracy\",\"conspiracy\",\"conspiracy\",\"conspiracy\",\"conspiracy\",\"conspiracy\",\"conspiracy\",\"conspiracy\",\"conspiracy\",\"conspiracy\",\"conspiracy\",\"bs\",\"satire\",\"satire\",\"satire\",\"satire\",\"satire\",\"satire\",\"satire\",\"satire\",\"satire\",\"satire\",\"satire\",\"satire\",\"satire\",\"satire\",\"satire\",\"satire\",\"satire\",\"satire\",\"satire\",\"satire\",\"satire\",\"satire\",\"satire\",\"satire\",\"satire\",\"satire\",\"satire\",\"satire\",\"satire\",\"satire\",\"satire\",\"satire\",\"satire\",\"satire\",\"satire\",\"satire\",\"satire\",\"satire\",\"satire\",\"satire\",\"satire\",\"satire\",\"satire\",\"satire\",\"satire\",\"satire\",\"satire\",\"satire\",\"satire\",\"satire\",\"satire\",\"satire\",\"satire\",\"satire\",\"satire\",\"satire\",\"satire\",\"satire\",\"satire\",\"satire\",\"satire\",\"satire\",\"satire\",\"satire\",\"satire\",\"satire\",\"satire\",\"satire\",\"satire\",\"satire\",\"satire\",\"satire\",\"satire\",\"satire\",\"satire\",\"satire\",\"satire\",\"satire\",\"satire\",\"satire\",\"satire\",\"satire\",\"satire\",\"satire\",\"satire\",\"satire\",\"satire\",\"satire\",\"satire\",\"satire\",\"satire\",\"satire\",\"satire\",\"satire\",\"satire\",\"satire\",\"satire\",\"satire\",\"bs\",\"bs\",\"bs\",\"bs\",\"bs\",\"bs\",\"bs\",\"bs\",\"bs\",\"bs\",\"bs\",\"bs\",\"bs\",\"bs\",\"bs\",\"bs\",\"bs\",\"bs\",\"bs\",\"bs\",\"bs\",\"bs\",\"bs\",\"bs\",\"bs\",\"bs\",\"bias\",\"bias\",\"bias\",\"bias\",\"bias\",\"bias\",\"bias\",\"bias\",\"bias\",\"bias\",\"bias\",\"bias\",\"bias\",\"bias\",\"bias\",\"bias\",\"bias\",\"bias\",\"bias\",\"bias\",\"bias\",\"bias\",\"bias\",\"bias\",\"bias\",\"bias\",\"bias\",\"bias\",\"bias\",\"bias\",\"bs\",\"bs\",\"bs\",\"bs\",\"bs\",\"bs\",\"bs\",\"bs\",\"hate\",\"hate\",\"hate\",\"hate\",\"hate\",\"hate\",\"hate\",\"hate\",\"hate\",\"hate\",\"hate\",\"hate\",\"hate\",\"hate\",\"hate\",\"hate\",\"hate\",\"hate\",\"hate\",\"hate\",\"hate\",\"hate\",\"hate\",\"hate\",\"hate\",\"hate\",\"hate\",\"hate\",\"hate\",\"hate\",\"hate\",\"hate\",\"bs\",\"bs\",\"bs\",\"junksci\",\"junksci\",\"bs\",\"bs\",\"bs\",\"bs\",\"bs\",\"bs\",\"bs\",\"bs\",\"bs\",\"bs\",\"bs\",\"bs\",\"bs\",\"bs\",\"bs\",\"bs\",\"bs\",\"bs\",\"bs\",\"bs\",\"bs\",\"bs\",\"bs\",\"bs\",\"bs\",\"bs\",\"bs\",\"bs\",\"bs\",\"bs\",\"bs\",\"bs\",\"bs\",\"bs\",\"bs\",\"bs\",\"bs\",\"bs\",\"bs\",\"bs\",\"bs\",\"bs\",\"bs\",\"bs\",\"bs\",\"bs\",\"bs\",\"bs\",\"bs\",\"bs\",\"bs\",\"bs\",\"bs\",\"bs\",\"bs\",\"bs\",\"bs\",\"bs\",\"bs\",\"bs\",\"bs\",\"bs\",\"bs\",\"bs\",\"bs\",\"bs\",\"bs\",\"bs\",\"bs\",\"bs\",\"bs\",\"bs\",\"bs\",\"bs\",\"bs\",\"bs\",\"bs\",\"bs\",\"bs\",\"bs\",\"bs\",\"bs\",\"bs\",\"bs\",\"bs\",\"bs\",\"bs\",\"bs\",\"hate\",\"hate\",\"hate\",\"hate\",\"hate\",\"hate\",\"hate\",\"hate\",\"hate\",\"hate\",\"hate\",\"hate\",\"hate\",\"hate\",\"hate\",\"hate\",\"hate\",\"hate\",\"hate\",\"hate\",\"hate\",\"hate\",\"hate\",\"hate\",\"hate\",\"hate\",\"hate\",\"hate\",\"hate\",\"hate\",\"hate\",\"hate\",\"hate\",\"hate\",\"hate\",\"hate\",\"hate\",\"hate\",\"hate\",\"hate\",\"hate\",\"hate\",\"hate\",\"hate\",\"hate\",\"hate\",\"hate\",\"hate\",\"hate\",\"hate\",\"hate\",\"hate\",\"hate\",\"hate\",\"hate\",\"hate\",\"hate\",\"hate\",\"hate\",\"hate\",\"hate\",\"hate\",\"hate\",\"hate\",\"hate\",\"hate\",\"hate\",\"hate\",\"hate\",\"hate\",\"hate\",\"hate\",\"hate\",\"hate\",\"hate\",\"hate\",\"hate\",\"hate\",\"hate\",\"hate\",\"hate\",\"hate\",\"hate\",\"hate\",\"hate\",\"hate\",\"hate\",\"hate\",\"hate\",\"hate\",\"hate\",\"hate\",\"hate\",\"hate\",\"hate\",\"hate\",\"hate\",\"hate\",\"hate\",\"hate\",\"bs\",\"bs\",\"bs\",\"bs\",\"bs\",\"conspiracy\",\"conspiracy\",\"conspiracy\",\"conspiracy\",\"conspiracy\",\"conspiracy\",\"conspiracy\",\"conspiracy\",\"conspiracy\",\"conspiracy\",\"conspiracy\",\"conspiracy\",\"conspiracy\",\"conspiracy\",\"conspiracy\",\"conspiracy\",\"conspiracy\",\"conspiracy\",\"conspiracy\",\"conspiracy\",\"conspiracy\",\"conspiracy\",\"conspiracy\",\"conspiracy\",\"conspiracy\",\"conspiracy\",\"conspiracy\",\"conspiracy\",\"conspiracy\",\"conspiracy\",\"conspiracy\",\"conspiracy\",\"conspiracy\",\"conspiracy\",\"conspiracy\",\"conspiracy\",\"conspiracy\",\"conspiracy\",\"conspiracy\",\"conspiracy\",\"conspiracy\",\"conspiracy\",\"conspiracy\",\"conspiracy\",\"conspiracy\",\"conspiracy\",\"conspiracy\",\"conspiracy\",\"conspiracy\",\"conspiracy\",\"conspiracy\",\"conspiracy\",\"conspiracy\",\"conspiracy\",\"conspiracy\",\"conspiracy\",\"conspiracy\",\"conspiracy\",\"conspiracy\",\"conspiracy\",\"conspiracy\",\"conspiracy\",\"conspiracy\",\"conspiracy\",\"conspiracy\",\"conspiracy\",\"conspiracy\",\"conspiracy\",\"conspiracy\",\"conspiracy\",\"conspiracy\",\"conspiracy\",\"conspiracy\",\"conspiracy\",\"conspiracy\",\"conspiracy\",\"conspiracy\",\"conspiracy\",\"conspiracy\",\"conspiracy\",\"conspiracy\",\"conspiracy\",\"conspiracy\",\"conspiracy\",\"conspiracy\",\"conspiracy\",\"conspiracy\",\"conspiracy\",\"conspiracy\",\"conspiracy\",\"conspiracy\",\"conspiracy\",\"conspiracy\",\"conspiracy\",\"conspiracy\",\"conspiracy\",\"conspiracy\",\"conspiracy\",\"conspiracy\",\"conspiracy\",\"conspiracy\",\"bs\",\"satire\",\"satire\",\"satire\",\"satire\",\"satire\",\"satire\",\"satire\",\"satire\",\"satire\",\"satire\",\"satire\",\"satire\",\"satire\",\"satire\",\"satire\",\"satire\",\"satire\",\"satire\",\"satire\",\"satire\",\"satire\",\"satire\",\"satire\",\"satire\",\"satire\",\"satire\",\"satire\",\"satire\",\"satire\",\"satire\",\"satire\",\"satire\",\"satire\",\"satire\",\"satire\",\"satire\",\"satire\",\"satire\",\"satire\",\"satire\",\"satire\",\"satire\",\"satire\",\"satire\",\"satire\",\"satire\",\"bs\",\"junksci\",\"junksci\",\"junksci\",\"junksci\",\"junksci\",\"junksci\",\"junksci\",\"junksci\",\"junksci\",\"junksci\",\"junksci\",\"junksci\",\"junksci\",\"junksci\",\"junksci\",\"junksci\",\"junksci\",\"junksci\",\"junksci\",\"junksci\",\"junksci\",\"junksci\",\"junksci\",\"junksci\",\"junksci\",\"junksci\",\"junksci\",\"junksci\",\"junksci\",\"junksci\",\"junksci\",\"junksci\",\"junksci\",\"junksci\",\"junksci\",\"junksci\",\"junksci\",\"junksci\",\"junksci\",\"junksci\",\"junksci\",\"junksci\",\"junksci\",\"junksci\",\"junksci\",\"junksci\",\"junksci\",\"junksci\",\"junksci\",\"junksci\",\"junksci\",\"junksci\",\"junksci\",\"junksci\",\"junksci\",\"junksci\",\"junksci\",\"junksci\",\"junksci\",\"junksci\",\"junksci\",\"junksci\",\"junksci\",\"junksci\",\"junksci\",\"junksci\",\"junksci\",\"junksci\",\"junksci\",\"junksci\",\"junksci\",\"junksci\",\"junksci\",\"junksci\",\"junksci\",\"junksci\",\"junksci\",\"junksci\",\"junksci\",\"junksci\",\"junksci\",\"junksci\",\"junksci\",\"junksci\",\"junksci\",\"junksci\",\"junksci\",\"junksci\",\"junksci\",\"junksci\",\"junksci\",\"junksci\",\"junksci\",\"junksci\",\"junksci\",\"junksci\",\"junksci\",\"junksci\",\"junksci\",\"junksci\",\"conspiracy\",\"conspiracy\",\"conspiracy\",\"conspiracy\",\"conspiracy\",\"bias\",\"bias\",\"bias\",\"bias\",\"bias\",\"bias\",\"bias\",\"bias\",\"bias\",\"bias\",\"bias\",\"bias\",\"bias\",\"bias\",\"bias\",\"bias\",\"bias\",\"bias\",\"bias\",\"bias\",\"bias\",\"bias\",\"bias\",\"bias\",\"bias\",\"bias\",\"bias\",\"bias\",\"bias\",\"bias\",\"bias\",\"bias\",\"bias\",\"bias\",\"bias\",\"bias\",\"bias\",\"bias\",\"bias\",\"bias\",\"bias\",\"bias\",\"bias\",\"bias\",\"bias\",\"bias\",\"bias\",\"bias\",\"bias\",\"bias\",\"bias\",\"bias\",\"bias\",\"bias\",\"bias\",\"bias\",\"bias\",\"bias\",\"bias\",\"bias\",\"bias\",\"bias\",\"bias\",\"bias\",\"bias\",\"bias\",\"bias\",\"bias\",\"bias\",\"bias\",\"bias\",\"bias\",\"bias\",\"bias\",\"bias\",\"bias\",\"bias\",\"bias\",\"bias\",\"bias\",\"bias\",\"bias\",\"bias\",\"bias\",\"bias\",\"bias\",\"bias\",\"bias\",\"bias\",\"bias\",\"bias\",\"bias\",\"bias\",\"bias\",\"bias\",\"bias\",\"bias\",\"bias\",\"bias\",\"bias\",\"state\",\"state\",\"state\",\"state\",\"state\",\"state\",\"state\",\"state\",\"state\",\"state\",\"state\",\"state\",\"state\",\"state\",\"state\",\"state\",\"state\",\"state\",\"state\",\"state\",\"state\",\"state\",\"state\",\"state\",\"state\",\"state\",\"state\",\"state\",\"state\",\"state\",\"state\",\"state\",\"state\",\"state\",\"state\",\"state\",\"state\",\"state\",\"state\",\"state\",\"state\",\"state\",\"state\",\"state\",\"state\",\"state\",\"state\",\"state\",\"state\",\"state\",\"state\",\"state\",\"state\",\"state\",\"state\",\"state\",\"state\",\"state\",\"state\",\"state\",\"state\",\"state\",\"state\",\"state\",\"state\",\"state\",\"state\",\"state\",\"state\",\"state\",\"state\",\"state\",\"state\",\"state\",\"state\",\"state\",\"state\",\"state\",\"state\",\"state\",\"state\",\"state\",\"state\",\"state\",\"state\",\"state\",\"state\",\"state\",\"state\",\"state\",\"state\",\"state\",\"state\",\"state\",\"state\",\"state\",\"state\",\"state\",\"state\",\"state\",\"conspiracy\",\"conspiracy\",\"conspiracy\",\"conspiracy\",\"conspiracy\",\"conspiracy\",\"conspiracy\",\"conspiracy\",\"conspiracy\",\"conspiracy\",\"conspiracy\",\"conspiracy\",\"conspiracy\",\"conspiracy\",\"conspiracy\",\"conspiracy\",\"conspiracy\",\"conspiracy\",\"conspiracy\",\"conspiracy\",\"conspiracy\",\"conspiracy\",\"conspiracy\",\"conspiracy\",\"conspiracy\",\"conspiracy\",\"conspiracy\",\"conspiracy\",\"conspiracy\",\"conspiracy\",\"conspiracy\",\"conspiracy\",\"conspiracy\",\"conspiracy\",\"conspiracy\",\"conspiracy\",\"conspiracy\",\"conspiracy\",\"conspiracy\",\"conspiracy\",\"conspiracy\",\"conspiracy\",\"conspiracy\",\"conspiracy\",\"conspiracy\",\"conspiracy\",\"conspiracy\",\"conspiracy\",\"conspiracy\",\"conspiracy\",\"conspiracy\",\"conspiracy\",\"conspiracy\",\"conspiracy\",\"conspiracy\",\"conspiracy\",\"conspiracy\",\"conspiracy\",\"conspiracy\",\"conspiracy\",\"conspiracy\",\"conspiracy\",\"conspiracy\",\"conspiracy\",\"conspiracy\",\"conspiracy\",\"conspiracy\",\"conspiracy\",\"conspiracy\",\"conspiracy\",\"conspiracy\",\"conspiracy\",\"conspiracy\",\"conspiracy\",\"conspiracy\",\"conspiracy\",\"conspiracy\",\"conspiracy\",\"conspiracy\",\"conspiracy\",\"conspiracy\",\"bias\",\"bs\",\"hate\",\"hate\",\"hate\",\"hate\",\"hate\",\"hate\",\"hate\",\"hate\",\"hate\",\"hate\",\"hate\",\"hate\",\"hate\",\"hate\",\"hate\",\"hate\",\"hate\",\"hate\",\"hate\",\"hate\",\"hate\",\"hate\",\"hate\",\"hate\",\"hate\",\"hate\",\"hate\",\"hate\",\"hate\",\"hate\",\"hate\",\"hate\",\"hate\",\"hate\",\"hate\",\"hate\",\"hate\",\"hate\",\"hate\",\"hate\",\"hate\",\"hate\",\"hate\",\"hate\",\"hate\",\"hate\",\"hate\",\"hate\",\"hate\",\"hate\",\"hate\",\"hate\",\"hate\",\"hate\",\"hate\",\"hate\",\"hate\",\"hate\",\"hate\",\"hate\",\"hate\",\"hate\",\"hate\",\"hate\",\"hate\",\"hate\",\"hate\",\"hate\",\"hate\",\"hate\",\"hate\",\"hate\",\"hate\",\"hate\",\"hate\",\"hate\",\"hate\",\"hate\",\"hate\",\"hate\",\"hate\",\"hate\",\"hate\",\"hate\",\"hate\",\"hate\",\"hate\",\"hate\",\"hate\",\"hate\",\"hate\",\"hate\",\"hate\",\"hate\",\"hate\",\"hate\",\"hate\",\"bs\",\"bs\",\"bs\",\"bs\",\"bs\",\"bs\",\"bs\",\"bs\",\"bs\",\"bs\",\"bs\",\"bs\",\"bs\",\"bs\",\"bs\",\"bs\",\"bs\",\"bs\",\"bs\",\"bs\",\"bs\",\"bs\",\"bs\",\"bs\",\"bs\",\"bs\",\"bs\",\"bs\",\"bs\",\"bs\",\"bias\",\"bias\",\"bias\",\"bias\",\"bias\",\"bias\",\"bias\",\"bias\",\"bias\",\"bias\",\"bias\",\"bias\",\"bias\",\"bias\",\"bias\",\"bias\",\"bias\",\"bias\",\"bias\",\"bias\",\"bias\",\"bias\",\"bias\",\"bias\",\"bias\",\"bias\",\"bias\",\"bias\",\"bias\",\"bias\",\"bias\",\"bias\",\"bias\",\"bias\",\"bias\",\"bias\",\"bias\",\"bias\",\"bias\",\"bias\",\"bias\",\"bias\",\"bias\",\"bias\",\"bias\",\"bias\",\"bs\",\"bs\",\"bs\",\"bs\",\"bs\",\"bs\",\"bs\",\"bs\",\"bs\",\"bs\",\"bs\",\"bs\",\"bias\",\"bias\",\"bias\",\"bias\",\"bias\",\"bias\",\"bias\",\"bias\",\"bias\",\"bias\",\"bias\",\"bias\",\"bias\",\"bias\",\"bias\",\"bias\",\"bias\",\"bias\",\"bias\",\"bias\",\"bias\",\"bias\",\"bias\",\"bias\",\"bias\",\"bias\",\"bias\",\"bias\",\"bias\",\"bias\",\"bias\",\"bias\",\"bias\",\"bias\",\"bias\",\"bias\",\"bias\",\"bias\",\"bias\",\"bias\",\"bias\",\"bias\",\"bias\",\"bias\",\"bias\",\"bias\",\"bias\",\"bias\",\"bias\",\"bias\",\"bias\",\"bias\",\"bias\",\"bias\"],\"xaxis\":\"x\",\"yaxis\":\"y\",\"type\":\"histogram\"}],                        {\"template\":{\"data\":{\"histogram2dcontour\":[{\"type\":\"histogram2dcontour\",\"colorbar\":{\"outlinewidth\":0,\"ticks\":\"\"},\"colorscale\":[[0.0,\"#0d0887\"],[0.1111111111111111,\"#46039f\"],[0.2222222222222222,\"#7201a8\"],[0.3333333333333333,\"#9c179e\"],[0.4444444444444444,\"#bd3786\"],[0.5555555555555556,\"#d8576b\"],[0.6666666666666666,\"#ed7953\"],[0.7777777777777778,\"#fb9f3a\"],[0.8888888888888888,\"#fdca26\"],[1.0,\"#f0f921\"]]}],\"choropleth\":[{\"type\":\"choropleth\",\"colorbar\":{\"outlinewidth\":0,\"ticks\":\"\"}}],\"histogram2d\":[{\"type\":\"histogram2d\",\"colorbar\":{\"outlinewidth\":0,\"ticks\":\"\"},\"colorscale\":[[0.0,\"#0d0887\"],[0.1111111111111111,\"#46039f\"],[0.2222222222222222,\"#7201a8\"],[0.3333333333333333,\"#9c179e\"],[0.4444444444444444,\"#bd3786\"],[0.5555555555555556,\"#d8576b\"],[0.6666666666666666,\"#ed7953\"],[0.7777777777777778,\"#fb9f3a\"],[0.8888888888888888,\"#fdca26\"],[1.0,\"#f0f921\"]]}],\"heatmap\":[{\"type\":\"heatmap\",\"colorbar\":{\"outlinewidth\":0,\"ticks\":\"\"},\"colorscale\":[[0.0,\"#0d0887\"],[0.1111111111111111,\"#46039f\"],[0.2222222222222222,\"#7201a8\"],[0.3333333333333333,\"#9c179e\"],[0.4444444444444444,\"#bd3786\"],[0.5555555555555556,\"#d8576b\"],[0.6666666666666666,\"#ed7953\"],[0.7777777777777778,\"#fb9f3a\"],[0.8888888888888888,\"#fdca26\"],[1.0,\"#f0f921\"]]}],\"heatmapgl\":[{\"type\":\"heatmapgl\",\"colorbar\":{\"outlinewidth\":0,\"ticks\":\"\"},\"colorscale\":[[0.0,\"#0d0887\"],[0.1111111111111111,\"#46039f\"],[0.2222222222222222,\"#7201a8\"],[0.3333333333333333,\"#9c179e\"],[0.4444444444444444,\"#bd3786\"],[0.5555555555555556,\"#d8576b\"],[0.6666666666666666,\"#ed7953\"],[0.7777777777777778,\"#fb9f3a\"],[0.8888888888888888,\"#fdca26\"],[1.0,\"#f0f921\"]]}],\"contourcarpet\":[{\"type\":\"contourcarpet\",\"colorbar\":{\"outlinewidth\":0,\"ticks\":\"\"}}],\"contour\":[{\"type\":\"contour\",\"colorbar\":{\"outlinewidth\":0,\"ticks\":\"\"},\"colorscale\":[[0.0,\"#0d0887\"],[0.1111111111111111,\"#46039f\"],[0.2222222222222222,\"#7201a8\"],[0.3333333333333333,\"#9c179e\"],[0.4444444444444444,\"#bd3786\"],[0.5555555555555556,\"#d8576b\"],[0.6666666666666666,\"#ed7953\"],[0.7777777777777778,\"#fb9f3a\"],[0.8888888888888888,\"#fdca26\"],[1.0,\"#f0f921\"]]}],\"surface\":[{\"type\":\"surface\",\"colorbar\":{\"outlinewidth\":0,\"ticks\":\"\"},\"colorscale\":[[0.0,\"#0d0887\"],[0.1111111111111111,\"#46039f\"],[0.2222222222222222,\"#7201a8\"],[0.3333333333333333,\"#9c179e\"],[0.4444444444444444,\"#bd3786\"],[0.5555555555555556,\"#d8576b\"],[0.6666666666666666,\"#ed7953\"],[0.7777777777777778,\"#fb9f3a\"],[0.8888888888888888,\"#fdca26\"],[1.0,\"#f0f921\"]]}],\"mesh3d\":[{\"type\":\"mesh3d\",\"colorbar\":{\"outlinewidth\":0,\"ticks\":\"\"}}],\"scatter\":[{\"fillpattern\":{\"fillmode\":\"overlay\",\"size\":10,\"solidity\":0.2},\"type\":\"scatter\"}],\"parcoords\":[{\"type\":\"parcoords\",\"line\":{\"colorbar\":{\"outlinewidth\":0,\"ticks\":\"\"}}}],\"scatterpolargl\":[{\"type\":\"scatterpolargl\",\"marker\":{\"colorbar\":{\"outlinewidth\":0,\"ticks\":\"\"}}}],\"bar\":[{\"error_x\":{\"color\":\"#2a3f5f\"},\"error_y\":{\"color\":\"#2a3f5f\"},\"marker\":{\"line\":{\"color\":\"#E5ECF6\",\"width\":0.5},\"pattern\":{\"fillmode\":\"overlay\",\"size\":10,\"solidity\":0.2}},\"type\":\"bar\"}],\"scattergeo\":[{\"type\":\"scattergeo\",\"marker\":{\"colorbar\":{\"outlinewidth\":0,\"ticks\":\"\"}}}],\"scatterpolar\":[{\"type\":\"scatterpolar\",\"marker\":{\"colorbar\":{\"outlinewidth\":0,\"ticks\":\"\"}}}],\"histogram\":[{\"marker\":{\"pattern\":{\"fillmode\":\"overlay\",\"size\":10,\"solidity\":0.2}},\"type\":\"histogram\"}],\"scattergl\":[{\"type\":\"scattergl\",\"marker\":{\"colorbar\":{\"outlinewidth\":0,\"ticks\":\"\"}}}],\"scatter3d\":[{\"type\":\"scatter3d\",\"line\":{\"colorbar\":{\"outlinewidth\":0,\"ticks\":\"\"}},\"marker\":{\"colorbar\":{\"outlinewidth\":0,\"ticks\":\"\"}}}],\"scattermapbox\":[{\"type\":\"scattermapbox\",\"marker\":{\"colorbar\":{\"outlinewidth\":0,\"ticks\":\"\"}}}],\"scatterternary\":[{\"type\":\"scatterternary\",\"marker\":{\"colorbar\":{\"outlinewidth\":0,\"ticks\":\"\"}}}],\"scattercarpet\":[{\"type\":\"scattercarpet\",\"marker\":{\"colorbar\":{\"outlinewidth\":0,\"ticks\":\"\"}}}],\"carpet\":[{\"aaxis\":{\"endlinecolor\":\"#2a3f5f\",\"gridcolor\":\"white\",\"linecolor\":\"white\",\"minorgridcolor\":\"white\",\"startlinecolor\":\"#2a3f5f\"},\"baxis\":{\"endlinecolor\":\"#2a3f5f\",\"gridcolor\":\"white\",\"linecolor\":\"white\",\"minorgridcolor\":\"white\",\"startlinecolor\":\"#2a3f5f\"},\"type\":\"carpet\"}],\"table\":[{\"cells\":{\"fill\":{\"color\":\"#EBF0F8\"},\"line\":{\"color\":\"white\"}},\"header\":{\"fill\":{\"color\":\"#C8D4E3\"},\"line\":{\"color\":\"white\"}},\"type\":\"table\"}],\"barpolar\":[{\"marker\":{\"line\":{\"color\":\"#E5ECF6\",\"width\":0.5},\"pattern\":{\"fillmode\":\"overlay\",\"size\":10,\"solidity\":0.2}},\"type\":\"barpolar\"}],\"pie\":[{\"automargin\":true,\"type\":\"pie\"}]},\"layout\":{\"autotypenumbers\":\"strict\",\"colorway\":[\"#636efa\",\"#EF553B\",\"#00cc96\",\"#ab63fa\",\"#FFA15A\",\"#19d3f3\",\"#FF6692\",\"#B6E880\",\"#FF97FF\",\"#FECB52\"],\"font\":{\"color\":\"#2a3f5f\"},\"hovermode\":\"closest\",\"hoverlabel\":{\"align\":\"left\"},\"paper_bgcolor\":\"white\",\"plot_bgcolor\":\"#E5ECF6\",\"polar\":{\"bgcolor\":\"#E5ECF6\",\"angularaxis\":{\"gridcolor\":\"white\",\"linecolor\":\"white\",\"ticks\":\"\"},\"radialaxis\":{\"gridcolor\":\"white\",\"linecolor\":\"white\",\"ticks\":\"\"}},\"ternary\":{\"bgcolor\":\"#E5ECF6\",\"aaxis\":{\"gridcolor\":\"white\",\"linecolor\":\"white\",\"ticks\":\"\"},\"baxis\":{\"gridcolor\":\"white\",\"linecolor\":\"white\",\"ticks\":\"\"},\"caxis\":{\"gridcolor\":\"white\",\"linecolor\":\"white\",\"ticks\":\"\"}},\"coloraxis\":{\"colorbar\":{\"outlinewidth\":0,\"ticks\":\"\"}},\"colorscale\":{\"sequential\":[[0.0,\"#0d0887\"],[0.1111111111111111,\"#46039f\"],[0.2222222222222222,\"#7201a8\"],[0.3333333333333333,\"#9c179e\"],[0.4444444444444444,\"#bd3786\"],[0.5555555555555556,\"#d8576b\"],[0.6666666666666666,\"#ed7953\"],[0.7777777777777778,\"#fb9f3a\"],[0.8888888888888888,\"#fdca26\"],[1.0,\"#f0f921\"]],\"sequentialminus\":[[0.0,\"#0d0887\"],[0.1111111111111111,\"#46039f\"],[0.2222222222222222,\"#7201a8\"],[0.3333333333333333,\"#9c179e\"],[0.4444444444444444,\"#bd3786\"],[0.5555555555555556,\"#d8576b\"],[0.6666666666666666,\"#ed7953\"],[0.7777777777777778,\"#fb9f3a\"],[0.8888888888888888,\"#fdca26\"],[1.0,\"#f0f921\"]],\"diverging\":[[0,\"#8e0152\"],[0.1,\"#c51b7d\"],[0.2,\"#de77ae\"],[0.3,\"#f1b6da\"],[0.4,\"#fde0ef\"],[0.5,\"#f7f7f7\"],[0.6,\"#e6f5d0\"],[0.7,\"#b8e186\"],[0.8,\"#7fbc41\"],[0.9,\"#4d9221\"],[1,\"#276419\"]]},\"xaxis\":{\"gridcolor\":\"white\",\"linecolor\":\"white\",\"ticks\":\"\",\"title\":{\"standoff\":15},\"zerolinecolor\":\"white\",\"automargin\":true,\"zerolinewidth\":2},\"yaxis\":{\"gridcolor\":\"white\",\"linecolor\":\"white\",\"ticks\":\"\",\"title\":{\"standoff\":15},\"zerolinecolor\":\"white\",\"automargin\":true,\"zerolinewidth\":2},\"scene\":{\"xaxis\":{\"backgroundcolor\":\"#E5ECF6\",\"gridcolor\":\"white\",\"linecolor\":\"white\",\"showbackground\":true,\"ticks\":\"\",\"zerolinecolor\":\"white\",\"gridwidth\":2},\"yaxis\":{\"backgroundcolor\":\"#E5ECF6\",\"gridcolor\":\"white\",\"linecolor\":\"white\",\"showbackground\":true,\"ticks\":\"\",\"zerolinecolor\":\"white\",\"gridwidth\":2},\"zaxis\":{\"backgroundcolor\":\"#E5ECF6\",\"gridcolor\":\"white\",\"linecolor\":\"white\",\"showbackground\":true,\"ticks\":\"\",\"zerolinecolor\":\"white\",\"gridwidth\":2}},\"shapedefaults\":{\"line\":{\"color\":\"#2a3f5f\"}},\"annotationdefaults\":{\"arrowcolor\":\"#2a3f5f\",\"arrowhead\":0,\"arrowwidth\":1},\"geo\":{\"bgcolor\":\"white\",\"landcolor\":\"#E5ECF6\",\"subunitcolor\":\"white\",\"showland\":true,\"showlakes\":true,\"lakecolor\":\"white\"},\"title\":{\"x\":0.05},\"mapbox\":{\"style\":\"light\"}}},\"xaxis\":{\"anchor\":\"y\",\"domain\":[0.0,1.0],\"title\":{\"text\":\"type\"}},\"yaxis\":{\"anchor\":\"x\",\"domain\":[0.0,1.0],\"title\":{\"text\":\"count\"}},\"legend\":{\"tracegroupgap\":0},\"margin\":{\"t\":60},\"barmode\":\"relative\"},                        {\"responsive\": true}                    ).then(function(){\n",
       "                            \n",
       "var gd = document.getElementById('09816bc3-0a5f-466a-b022-7067a3ba0937');\n",
       "var x = new MutationObserver(function (mutations, observer) {{\n",
       "        var display = window.getComputedStyle(gd).display;\n",
       "        if (!display || display === 'none') {{\n",
       "            console.log([gd, 'removed!']);\n",
       "            Plotly.purge(gd);\n",
       "            observer.disconnect();\n",
       "        }}\n",
       "}});\n",
       "\n",
       "// Listen for the removal of the full notebook cells\n",
       "var notebookContainer = gd.closest('#notebook-container');\n",
       "if (notebookContainer) {{\n",
       "    x.observe(notebookContainer, {childList: true});\n",
       "}}\n",
       "\n",
       "// Listen for the clearing of the current output cell\n",
       "var outputEl = gd.closest('.output');\n",
       "if (outputEl) {{\n",
       "    x.observe(outputEl, {childList: true});\n",
       "}}\n",
       "\n",
       "                        })                };                });            </script>        </div>"
      ]
     },
     "metadata": {},
     "output_type": "display_data"
    }
   ],
   "source": [
    "fig = px.histogram(news, x=\"type\")\n",
    "fig.show()"
   ]
  },
  {
   "cell_type": "markdown",
   "id": "8ada91fa",
   "metadata": {},
   "source": [
    "Evaluate distribution of article lengths."
   ]
  },
  {
   "cell_type": "code",
   "execution_count": 353,
   "id": "02495176",
   "metadata": {},
   "outputs": [
    {
     "data": {
      "application/vnd.plotly.v1+json": {
       "config": {
        "plotlyServerURL": "https://plot.ly"
       },
       "data": [
        {
         "alignmentgroup": "True",
         "bingroup": "x",
         "hovertemplate": "length=%{x}<br>count=%{y}<extra></extra>",
         "legendgroup": "",
         "marker": {
          "color": "#636efa",
          "pattern": {
           "shape": ""
          }
         },
         "name": "",
         "offsetgroup": "",
         "orientation": "v",
         "showlegend": false,
         "type": "histogram",
         "x": [
          545,
          1779,
          1392,
          2139,
          1221,
          5843,
          2581,
          1361,
          833,
          3994,
          4506,
          2602,
          3180,
          1567,
          3077,
          1035,
          547,
          2781,
          2875,
          1714,
          685,
          1039,
          786,
          3548,
          6961,
          7157,
          29585,
          20171,
          3366,
          2973,
          845,
          1430,
          2628,
          580,
          942,
          1059,
          1201,
          11654,
          3074,
          1825,
          1167,
          10948,
          2360,
          3527,
          16513,
          7037,
          4438,
          5238,
          28498,
          926,
          647,
          698,
          698,
          647,
          698,
          25974,
          2281,
          702,
          1385,
          2281,
          2281,
          2281,
          1611,
          27316,
          1261,
          860,
          1866,
          23194,
          1893,
          1584,
          757,
          8062,
          1062,
          3129,
          716,
          646,
          757,
          757,
          6711,
          905,
          2528,
          2611,
          1486,
          1371,
          2443,
          4762,
          661,
          3685,
          6729,
          800,
          2669,
          866,
          2772,
          878,
          1894,
          2543,
          7167,
          1368,
          2065,
          3009,
          2815,
          1616,
          1504,
          1796,
          5174,
          519,
          1621,
          2720,
          1845,
          1081,
          1091,
          883,
          609,
          2711,
          2052,
          572,
          1292,
          860,
          6798,
          1869,
          2452,
          5277,
          2629,
          1993,
          1348,
          1354,
          1328,
          1288,
          1056,
          1857,
          1300,
          1820,
          941,
          1561,
          3976,
          2042,
          3482,
          2008,
          6962,
          9975,
          1403,
          14483,
          13977,
          4099,
          3697,
          3254,
          3972,
          3400,
          1273,
          2427,
          2233,
          2893,
          3529,
          2496,
          1581,
          6077,
          1829,
          2659,
          1970,
          2090,
          3212,
          3161,
          2520,
          1842,
          2571,
          3015,
          1359,
          2684,
          957,
          1854,
          1277,
          1148,
          1853,
          1422,
          883,
          964,
          1814,
          1842,
          1334,
          8408,
          1803,
          8907,
          2533,
          1968,
          14564,
          2601,
          2842,
          2925,
          2080,
          5080,
          1965,
          2197,
          15309,
          25304,
          2422,
          1504,
          8763,
          6217,
          3032,
          2217,
          711,
          8511,
          5829,
          4240,
          4529,
          5541,
          9252,
          555,
          26020,
          2051,
          2708,
          7687,
          3697,
          8655,
          6178,
          2515,
          2355,
          4263,
          6972,
          7688,
          6499,
          1871,
          705,
          1717,
          6907,
          1655,
          9148,
          14573,
          2795,
          2388,
          10084,
          7401,
          1751,
          1540,
          1931,
          558,
          703,
          8430,
          657,
          1159,
          2671,
          2406,
          2819,
          9023,
          4347,
          1321,
          1069,
          1888,
          2628,
          2450,
          2060,
          2084,
          2926,
          12243,
          787,
          1856,
          2330,
          2690,
          2504,
          1909,
          780,
          2245,
          1667,
          1861,
          4880,
          1886,
          1389,
          3265,
          1519,
          1672,
          1372,
          2757,
          2294,
          3263,
          24343,
          4625,
          10244,
          782,
          1655,
          898,
          1645,
          1486,
          5255,
          8764,
          5523,
          776,
          4541,
          2170,
          1727,
          578,
          2415,
          936,
          1084,
          2569,
          2186,
          3030,
          3352,
          8787,
          7032,
          5032,
          5238,
          981,
          1865,
          4938,
          784,
          2543,
          745,
          794,
          2982,
          2313,
          3419,
          912,
          3782,
          4200,
          2643,
          4176,
          1470,
          8472,
          1994,
          2711,
          10280,
          3867,
          4619,
          3760,
          2194,
          692,
          2164,
          1429,
          1188,
          1501,
          1191,
          1320,
          3043,
          908,
          1714,
          1810,
          1645,
          1535,
          1002,
          2548,
          1542,
          1501,
          2878,
          1984,
          2373,
          3013,
          2965,
          3136,
          4095,
          1763,
          3207,
          2753,
          1762,
          884,
          907,
          1546,
          872,
          5187,
          4484,
          1809,
          4886,
          3150,
          2417,
          2995,
          3120,
          4139,
          1763,
          3207,
          2754,
          1762,
          884,
          1526,
          932,
          5187,
          4484,
          1809,
          4886,
          2254,
          3200,
          3740,
          1839,
          1829,
          2253,
          3719,
          2953,
          2430,
          970,
          2004,
          2056,
          1897,
          1227,
          2433,
          2334,
          4133,
          891,
          2234,
          969,
          1981,
          2056,
          1220,
          1635,
          4113,
          935,
          2234,
          1614,
          1904,
          3347,
          3290,
          2349,
          586,
          2997,
          969,
          3089,
          3099,
          555,
          3000,
          969,
          5003,
          5013,
          537,
          1162,
          791,
          1152,
          16615,
          882,
          4684,
          2642,
          2049,
          1481,
          3365,
          1638,
          14656,
          2770,
          639,
          2116,
          1199,
          1554,
          952,
          2413,
          1882,
          1680,
          1838,
          2185,
          804,
          2246,
          2713,
          2554,
          1640,
          2285,
          777,
          805,
          1948,
          2005,
          2781,
          2439,
          2108,
          1692,
          2635,
          1379,
          8140,
          1743,
          1221,
          1978,
          2990,
          2252,
          1122,
          2427,
          891,
          2158,
          2578,
          858,
          925,
          1926,
          2282,
          1863,
          2702,
          1991,
          2320,
          2497,
          1011,
          2210,
          1737,
          1782,
          536,
          2817,
          2157,
          2066,
          2716,
          1715,
          2254,
          2584,
          1416,
          1963,
          830,
          3801,
          1921,
          2015,
          970,
          2066,
          1946,
          2287,
          3040,
          731,
          4084,
          3354,
          2432,
          793,
          2107,
          2609,
          749,
          2337,
          1040,
          1582,
          3160,
          832,
          3429,
          3632,
          3491,
          1154,
          1982,
          2587,
          3367,
          1636,
          797,
          1489,
          773,
          5548,
          512,
          1037,
          571,
          592,
          6833,
          1050,
          2050,
          523,
          758,
          1182,
          744,
          537,
          577,
          581,
          643,
          690,
          1273,
          8840,
          3479,
          7228,
          12963,
          4147,
          11644,
          3320,
          2260,
          2943,
          2517,
          2500,
          2205,
          5149,
          3410,
          14099,
          1415,
          5990,
          2142,
          2030,
          8106,
          2312,
          4219,
          6851,
          7419,
          1010,
          6060,
          4811,
          2202,
          7424,
          1917,
          5086,
          2465,
          3004,
          2457,
          2818,
          3921,
          7747,
          25489,
          8939,
          6520,
          4761,
          1239,
          773,
          3813,
          1056,
          7799,
          1007,
          8066,
          1220,
          569,
          659,
          624,
          1073,
          892,
          948,
          3791,
          1847,
          623,
          786,
          1348,
          1370,
          1174,
          944,
          1203,
          1144,
          25005,
          1257,
          1394,
          1785,
          32827,
          1097,
          2871,
          994,
          1161,
          1044,
          571,
          603,
          532,
          1899,
          2032,
          3095,
          4004,
          2245,
          8355,
          2164,
          757,
          6027,
          8250,
          2957,
          2340,
          5791,
          2473,
          2918,
          3383,
          1413,
          4151,
          2335,
          5655,
          4317,
          3152,
          6600,
          3671,
          9225,
          1172,
          7853,
          8856,
          976,
          7816,
          7874,
          1163,
          6904,
          9254,
          7398,
          4762,
          7156,
          6740,
          8666,
          4595,
          1618,
          1660,
          1976,
          1018,
          1497,
          1367,
          1543,
          1688,
          1347,
          2051,
          1571,
          1421,
          826,
          1552,
          1743,
          554,
          8258,
          2247,
          2315,
          1866,
          1221,
          1873,
          814,
          1292,
          4011,
          2867,
          1343,
          2918,
          2870,
          1022,
          1577,
          1635,
          3460,
          1228,
          5511,
          20784,
          7649,
          6233,
          6627,
          961,
          4537,
          3053,
          4602,
          1837,
          1991,
          9268,
          1881,
          2679,
          8326,
          543,
          1858,
          1092,
          6291,
          16745,
          5481,
          6719,
          2771,
          6386,
          1363,
          1210,
          5309,
          2877,
          9558,
          2078,
          2483,
          10941,
          8766,
          6675,
          8892,
          7632,
          7585,
          10304,
          6687,
          5908,
          19103,
          5718,
          1559,
          1380,
          2504,
          4607,
          2213,
          1753,
          1574,
          1486,
          1936,
          1711,
          2469,
          918,
          2650,
          1323,
          1760,
          1336,
          19380,
          5348,
          6461,
          3717,
          4075,
          7697,
          1921,
          1250,
          1397,
          2092,
          1501,
          1525,
          7076,
          7101,
          7995,
          9038,
          3019,
          4298,
          2091,
          536,
          2113,
          2601,
          1909,
          1434,
          7130,
          8183,
          5349,
          7012,
          8348,
          7233,
          1021,
          1337,
          3987,
          816,
          3447,
          2179,
          5688,
          4910,
          8031,
          8915,
          1463,
          1038,
          2139,
          2771,
          5205,
          3771,
          1874,
          5222,
          7384,
          4241,
          6856,
          5983,
          4836,
          6723,
          5152,
          1865,
          1428,
          1682,
          5612,
          1446,
          7009,
          1478,
          1459,
          8240,
          881,
          614,
          1255,
          2668,
          6597,
          10896,
          1148,
          1109,
          3674,
          2396,
          1538,
          1418,
          884,
          4273,
          1290,
          1837,
          1592,
          9173,
          731,
          7255,
          3928,
          1634,
          1070,
          655,
          2164,
          2255,
          4145,
          770,
          3143,
          1337,
          2203,
          1933,
          2323,
          4046,
          1183,
          835,
          8909,
          4179,
          4457,
          4062,
          4065,
          4090,
          1005,
          556,
          2595,
          1184,
          1088,
          1343,
          2830,
          2010,
          686,
          2306,
          628,
          2443,
          839,
          941,
          681,
          1050,
          5519,
          1337,
          612,
          2427,
          1074,
          881,
          1876,
          2611,
          6028,
          1770,
          1654,
          1734,
          3167,
          1779,
          1585,
          4260,
          2058,
          1093,
          667,
          4047,
          4150,
          657,
          4226,
          4098,
          4057,
          4066,
          675,
          4012,
          2511,
          512,
          3744,
          4041,
          4073,
          4083,
          727,
          10579,
          14865,
          1644,
          4209,
          3291,
          1497,
          4230,
          4290,
          3045,
          3702,
          4147,
          4451,
          4605,
          5536,
          4393,
          3841,
          3936,
          4284,
          4301,
          4126,
          3876,
          3967,
          4851,
          3011,
          2621,
          3284,
          5926,
          5394,
          4785,
          2873,
          5665,
          3587,
          3619,
          4301,
          3994,
          3842,
          4259,
          5499,
          3998,
          3856,
          1606,
          4634,
          3981,
          2994,
          2382,
          7149,
          4475,
          4320,
          9197,
          2977,
          3150,
          9225,
          3547,
          3934,
          3553,
          3720,
          31686,
          3953,
          4080,
          3934,
          4039,
          3920,
          4242,
          3853,
          3924,
          7596,
          10560,
          4367,
          7322,
          4000,
          3179,
          3123,
          2301,
          4027,
          4341,
          2796,
          5203,
          2314,
          4844,
          4901,
          4225,
          4109,
          4097,
          3675,
          3681,
          5120,
          3831,
          3854,
          4151,
          3492,
          4861,
          1620,
          3391,
          2443,
          7453,
          4148,
          3830,
          2215,
          6443,
          4956,
          8256,
          3326,
          4457,
          10102,
          3968,
          4262,
          3965,
          4290,
          3641,
          3519,
          2889,
          2828,
          2768,
          2944,
          1706,
          1738,
          1342,
          2476,
          2666,
          1199,
          1643,
          2376,
          1475,
          3376,
          6298,
          2205,
          2035,
          3170,
          2420,
          1903,
          2331,
          1851,
          1882,
          2609,
          1181,
          2985,
          1824,
          1085,
          1957,
          1760,
          3248,
          1943,
          2063,
          2107,
          1703,
          1724,
          2018,
          2031,
          3752,
          1718,
          3981,
          1929,
          1382,
          1709,
          3420,
          1987,
          1903,
          1421,
          4202,
          5450,
          3915,
          4650,
          2446,
          7635,
          2065,
          2949,
          1554,
          6961,
          2750,
          6088,
          2962,
          4557,
          5005,
          2104,
          3920,
          2180,
          2056,
          4847,
          1383,
          1848,
          3305,
          3102,
          3267,
          4730,
          2014,
          7398,
          2409,
          2751,
          8232,
          3758,
          3093,
          3410,
          1919,
          2415,
          2254,
          1612,
          1357,
          3950,
          2849,
          2716,
          4214,
          7406,
          4263,
          1940,
          5623,
          2964,
          1286,
          1404,
          1676,
          2267,
          2122,
          2336,
          3107,
          1618,
          2786,
          529,
          2024,
          2608,
          3596,
          546,
          2569,
          2252,
          2452,
          1642,
          3337,
          2212,
          2437,
          1954,
          2619,
          2034,
          2613,
          1801,
          2510,
          1531,
          4575,
          2761,
          2111,
          1766,
          2021,
          1282,
          2116,
          1795,
          2383,
          2889,
          2313,
          2143,
          1136,
          2284,
          2742,
          742,
          2573,
          970,
          3282,
          709,
          2566,
          994,
          2002,
          1917,
          1005,
          1994,
          2278,
          2769,
          515,
          3471,
          1731,
          771,
          877,
          831,
          2523,
          1990,
          3358,
          1096,
          2215,
          1948,
          1736,
          2084,
          1893,
          2779,
          730,
          2130,
          546,
          751,
          573,
          3490,
          1769,
          2375,
          917,
          2423,
          694,
          2626,
          2138,
          2135,
          1814,
          1523,
          2512,
          2916,
          2487,
          680,
          4961,
          815,
          2638,
          2044,
          584,
          1978,
          2174,
          533,
          2345,
          611,
          3573,
          669,
          2238,
          1017,
          1256,
          5343,
          3007,
          2957,
          2090,
          2558,
          1617,
          1778,
          1991,
          946,
          1877,
          2256,
          1715,
          2063,
          2770,
          5064,
          802,
          8565,
          502,
          512,
          8434,
          833,
          842,
          802,
          825,
          1301,
          670,
          1046,
          3692,
          4029,
          1110,
          836,
          1641,
          1787,
          636,
          1788,
          1450,
          2461,
          4179,
          1231,
          1889,
          763,
          3939,
          7884,
          1066,
          732,
          591,
          7015,
          1374,
          737,
          2538,
          2100,
          3406,
          8080,
          8680,
          1255,
          2940,
          2173,
          5467,
          1163,
          875,
          4157,
          2157,
          702,
          552,
          2996,
          818,
          1052,
          3845,
          1231,
          1382,
          3597,
          821,
          645,
          794,
          589,
          2120,
          1839,
          1906,
          744,
          2082,
          9962,
          583,
          3668,
          2831,
          592,
          10222,
          544,
          6913,
          11820,
          2697,
          3069,
          10695,
          7988,
          9213,
          8100,
          7033,
          6364,
          4510,
          19833,
          6461,
          10347,
          4811,
          7487,
          805,
          4949,
          5949,
          7009,
          6525,
          8997,
          7330,
          6096,
          5415,
          11522,
          8521,
          11892,
          7727,
          5135,
          6392,
          7730,
          11262,
          9206,
          9620,
          1540,
          11446,
          1671,
          6445,
          4221,
          2033,
          7197,
          5802,
          6693,
          5676,
          4797,
          6059,
          4886,
          6944,
          7968,
          2288,
          7879,
          7494,
          16943,
          6928,
          10011,
          7425,
          9223,
          17179,
          6202,
          9572,
          6767,
          704,
          6696,
          8732,
          9204,
          7054,
          2626,
          9366,
          10532,
          14507,
          8087,
          4742,
          6398,
          6870,
          3048,
          11342,
          11325,
          12794,
          6753,
          14131,
          7072,
          886,
          5335,
          6264,
          8499,
          14354,
          9029,
          5939,
          9558,
          4962,
          7117,
          7646,
          7473,
          5343,
          15190,
          4112,
          2746,
          10994,
          899,
          885,
          6086,
          1570,
          10821,
          2654,
          1459,
          5360,
          793,
          6371,
          1738,
          1633,
          3619,
          2318,
          8065,
          9029,
          7133,
          8446,
          20161,
          32656,
          6183,
          6066,
          8238,
          26248,
          23529,
          4374,
          8770,
          4922,
          4879,
          4110,
          6692,
          10417,
          4306,
          14535,
          7371,
          27243,
          20909,
          4376,
          27003,
          2920,
          1896,
          3646,
          1217,
          27605,
          2156,
          4665,
          967,
          5973,
          4030,
          2959,
          3782,
          3541,
          4234,
          2067,
          9584,
          6131,
          678,
          2210,
          5598,
          2453,
          2672,
          2776,
          2801,
          3727,
          1148,
          2967,
          2546,
          1300,
          7482,
          2909,
          748,
          2923,
          516,
          882,
          914,
          978,
          571,
          4981,
          3516,
          22669,
          3652,
          4423,
          4833,
          23408,
          554,
          610,
          4573,
          4600,
          2444,
          773,
          605,
          6323,
          773,
          813,
          600,
          816,
          6333,
          606,
          572,
          3523,
          7360,
          7350,
          3523,
          771,
          771,
          573,
          914,
          861,
          862,
          914,
          8450,
          8451,
          736,
          737,
          927,
          5794,
          6448,
          5678,
          5422,
          4929,
          6846,
          7223,
          5365,
          1041,
          1326,
          6872,
          5837,
          6458,
          5695,
          5480,
          4973,
          6863,
          7315,
          5429,
          1039,
          6868,
          11616,
          583,
          1195,
          1206,
          11588,
          598,
          827,
          7896,
          3837,
          7936,
          3845,
          837,
          2452,
          5448,
          12259,
          5462,
          12251,
          2464,
          4737,
          8212,
          861,
          941,
          862,
          940,
          4729,
          8211,
          670,
          696,
          960,
          840,
          665,
          740,
          854,
          683,
          955,
          765,
          1243,
          863,
          724,
          901,
          841,
          925,
          750,
          760,
          577,
          1008,
          831,
          3275
         ],
         "xaxis": "x",
         "yaxis": "y"
        }
       ],
       "layout": {
        "barmode": "relative",
        "legend": {
         "tracegroupgap": 0
        },
        "margin": {
         "t": 60
        },
        "template": {
         "data": {
          "bar": [
           {
            "error_x": {
             "color": "#2a3f5f"
            },
            "error_y": {
             "color": "#2a3f5f"
            },
            "marker": {
             "line": {
              "color": "#E5ECF6",
              "width": 0.5
             },
             "pattern": {
              "fillmode": "overlay",
              "size": 10,
              "solidity": 0.2
             }
            },
            "type": "bar"
           }
          ],
          "barpolar": [
           {
            "marker": {
             "line": {
              "color": "#E5ECF6",
              "width": 0.5
             },
             "pattern": {
              "fillmode": "overlay",
              "size": 10,
              "solidity": 0.2
             }
            },
            "type": "barpolar"
           }
          ],
          "carpet": [
           {
            "aaxis": {
             "endlinecolor": "#2a3f5f",
             "gridcolor": "white",
             "linecolor": "white",
             "minorgridcolor": "white",
             "startlinecolor": "#2a3f5f"
            },
            "baxis": {
             "endlinecolor": "#2a3f5f",
             "gridcolor": "white",
             "linecolor": "white",
             "minorgridcolor": "white",
             "startlinecolor": "#2a3f5f"
            },
            "type": "carpet"
           }
          ],
          "choropleth": [
           {
            "colorbar": {
             "outlinewidth": 0,
             "ticks": ""
            },
            "type": "choropleth"
           }
          ],
          "contour": [
           {
            "colorbar": {
             "outlinewidth": 0,
             "ticks": ""
            },
            "colorscale": [
             [
              0,
              "#0d0887"
             ],
             [
              0.1111111111111111,
              "#46039f"
             ],
             [
              0.2222222222222222,
              "#7201a8"
             ],
             [
              0.3333333333333333,
              "#9c179e"
             ],
             [
              0.4444444444444444,
              "#bd3786"
             ],
             [
              0.5555555555555556,
              "#d8576b"
             ],
             [
              0.6666666666666666,
              "#ed7953"
             ],
             [
              0.7777777777777778,
              "#fb9f3a"
             ],
             [
              0.8888888888888888,
              "#fdca26"
             ],
             [
              1,
              "#f0f921"
             ]
            ],
            "type": "contour"
           }
          ],
          "contourcarpet": [
           {
            "colorbar": {
             "outlinewidth": 0,
             "ticks": ""
            },
            "type": "contourcarpet"
           }
          ],
          "heatmap": [
           {
            "colorbar": {
             "outlinewidth": 0,
             "ticks": ""
            },
            "colorscale": [
             [
              0,
              "#0d0887"
             ],
             [
              0.1111111111111111,
              "#46039f"
             ],
             [
              0.2222222222222222,
              "#7201a8"
             ],
             [
              0.3333333333333333,
              "#9c179e"
             ],
             [
              0.4444444444444444,
              "#bd3786"
             ],
             [
              0.5555555555555556,
              "#d8576b"
             ],
             [
              0.6666666666666666,
              "#ed7953"
             ],
             [
              0.7777777777777778,
              "#fb9f3a"
             ],
             [
              0.8888888888888888,
              "#fdca26"
             ],
             [
              1,
              "#f0f921"
             ]
            ],
            "type": "heatmap"
           }
          ],
          "heatmapgl": [
           {
            "colorbar": {
             "outlinewidth": 0,
             "ticks": ""
            },
            "colorscale": [
             [
              0,
              "#0d0887"
             ],
             [
              0.1111111111111111,
              "#46039f"
             ],
             [
              0.2222222222222222,
              "#7201a8"
             ],
             [
              0.3333333333333333,
              "#9c179e"
             ],
             [
              0.4444444444444444,
              "#bd3786"
             ],
             [
              0.5555555555555556,
              "#d8576b"
             ],
             [
              0.6666666666666666,
              "#ed7953"
             ],
             [
              0.7777777777777778,
              "#fb9f3a"
             ],
             [
              0.8888888888888888,
              "#fdca26"
             ],
             [
              1,
              "#f0f921"
             ]
            ],
            "type": "heatmapgl"
           }
          ],
          "histogram": [
           {
            "marker": {
             "pattern": {
              "fillmode": "overlay",
              "size": 10,
              "solidity": 0.2
             }
            },
            "type": "histogram"
           }
          ],
          "histogram2d": [
           {
            "colorbar": {
             "outlinewidth": 0,
             "ticks": ""
            },
            "colorscale": [
             [
              0,
              "#0d0887"
             ],
             [
              0.1111111111111111,
              "#46039f"
             ],
             [
              0.2222222222222222,
              "#7201a8"
             ],
             [
              0.3333333333333333,
              "#9c179e"
             ],
             [
              0.4444444444444444,
              "#bd3786"
             ],
             [
              0.5555555555555556,
              "#d8576b"
             ],
             [
              0.6666666666666666,
              "#ed7953"
             ],
             [
              0.7777777777777778,
              "#fb9f3a"
             ],
             [
              0.8888888888888888,
              "#fdca26"
             ],
             [
              1,
              "#f0f921"
             ]
            ],
            "type": "histogram2d"
           }
          ],
          "histogram2dcontour": [
           {
            "colorbar": {
             "outlinewidth": 0,
             "ticks": ""
            },
            "colorscale": [
             [
              0,
              "#0d0887"
             ],
             [
              0.1111111111111111,
              "#46039f"
             ],
             [
              0.2222222222222222,
              "#7201a8"
             ],
             [
              0.3333333333333333,
              "#9c179e"
             ],
             [
              0.4444444444444444,
              "#bd3786"
             ],
             [
              0.5555555555555556,
              "#d8576b"
             ],
             [
              0.6666666666666666,
              "#ed7953"
             ],
             [
              0.7777777777777778,
              "#fb9f3a"
             ],
             [
              0.8888888888888888,
              "#fdca26"
             ],
             [
              1,
              "#f0f921"
             ]
            ],
            "type": "histogram2dcontour"
           }
          ],
          "mesh3d": [
           {
            "colorbar": {
             "outlinewidth": 0,
             "ticks": ""
            },
            "type": "mesh3d"
           }
          ],
          "parcoords": [
           {
            "line": {
             "colorbar": {
              "outlinewidth": 0,
              "ticks": ""
             }
            },
            "type": "parcoords"
           }
          ],
          "pie": [
           {
            "automargin": true,
            "type": "pie"
           }
          ],
          "scatter": [
           {
            "fillpattern": {
             "fillmode": "overlay",
             "size": 10,
             "solidity": 0.2
            },
            "type": "scatter"
           }
          ],
          "scatter3d": [
           {
            "line": {
             "colorbar": {
              "outlinewidth": 0,
              "ticks": ""
             }
            },
            "marker": {
             "colorbar": {
              "outlinewidth": 0,
              "ticks": ""
             }
            },
            "type": "scatter3d"
           }
          ],
          "scattercarpet": [
           {
            "marker": {
             "colorbar": {
              "outlinewidth": 0,
              "ticks": ""
             }
            },
            "type": "scattercarpet"
           }
          ],
          "scattergeo": [
           {
            "marker": {
             "colorbar": {
              "outlinewidth": 0,
              "ticks": ""
             }
            },
            "type": "scattergeo"
           }
          ],
          "scattergl": [
           {
            "marker": {
             "colorbar": {
              "outlinewidth": 0,
              "ticks": ""
             }
            },
            "type": "scattergl"
           }
          ],
          "scattermapbox": [
           {
            "marker": {
             "colorbar": {
              "outlinewidth": 0,
              "ticks": ""
             }
            },
            "type": "scattermapbox"
           }
          ],
          "scatterpolar": [
           {
            "marker": {
             "colorbar": {
              "outlinewidth": 0,
              "ticks": ""
             }
            },
            "type": "scatterpolar"
           }
          ],
          "scatterpolargl": [
           {
            "marker": {
             "colorbar": {
              "outlinewidth": 0,
              "ticks": ""
             }
            },
            "type": "scatterpolargl"
           }
          ],
          "scatterternary": [
           {
            "marker": {
             "colorbar": {
              "outlinewidth": 0,
              "ticks": ""
             }
            },
            "type": "scatterternary"
           }
          ],
          "surface": [
           {
            "colorbar": {
             "outlinewidth": 0,
             "ticks": ""
            },
            "colorscale": [
             [
              0,
              "#0d0887"
             ],
             [
              0.1111111111111111,
              "#46039f"
             ],
             [
              0.2222222222222222,
              "#7201a8"
             ],
             [
              0.3333333333333333,
              "#9c179e"
             ],
             [
              0.4444444444444444,
              "#bd3786"
             ],
             [
              0.5555555555555556,
              "#d8576b"
             ],
             [
              0.6666666666666666,
              "#ed7953"
             ],
             [
              0.7777777777777778,
              "#fb9f3a"
             ],
             [
              0.8888888888888888,
              "#fdca26"
             ],
             [
              1,
              "#f0f921"
             ]
            ],
            "type": "surface"
           }
          ],
          "table": [
           {
            "cells": {
             "fill": {
              "color": "#EBF0F8"
             },
             "line": {
              "color": "white"
             }
            },
            "header": {
             "fill": {
              "color": "#C8D4E3"
             },
             "line": {
              "color": "white"
             }
            },
            "type": "table"
           }
          ]
         },
         "layout": {
          "annotationdefaults": {
           "arrowcolor": "#2a3f5f",
           "arrowhead": 0,
           "arrowwidth": 1
          },
          "autotypenumbers": "strict",
          "coloraxis": {
           "colorbar": {
            "outlinewidth": 0,
            "ticks": ""
           }
          },
          "colorscale": {
           "diverging": [
            [
             0,
             "#8e0152"
            ],
            [
             0.1,
             "#c51b7d"
            ],
            [
             0.2,
             "#de77ae"
            ],
            [
             0.3,
             "#f1b6da"
            ],
            [
             0.4,
             "#fde0ef"
            ],
            [
             0.5,
             "#f7f7f7"
            ],
            [
             0.6,
             "#e6f5d0"
            ],
            [
             0.7,
             "#b8e186"
            ],
            [
             0.8,
             "#7fbc41"
            ],
            [
             0.9,
             "#4d9221"
            ],
            [
             1,
             "#276419"
            ]
           ],
           "sequential": [
            [
             0,
             "#0d0887"
            ],
            [
             0.1111111111111111,
             "#46039f"
            ],
            [
             0.2222222222222222,
             "#7201a8"
            ],
            [
             0.3333333333333333,
             "#9c179e"
            ],
            [
             0.4444444444444444,
             "#bd3786"
            ],
            [
             0.5555555555555556,
             "#d8576b"
            ],
            [
             0.6666666666666666,
             "#ed7953"
            ],
            [
             0.7777777777777778,
             "#fb9f3a"
            ],
            [
             0.8888888888888888,
             "#fdca26"
            ],
            [
             1,
             "#f0f921"
            ]
           ],
           "sequentialminus": [
            [
             0,
             "#0d0887"
            ],
            [
             0.1111111111111111,
             "#46039f"
            ],
            [
             0.2222222222222222,
             "#7201a8"
            ],
            [
             0.3333333333333333,
             "#9c179e"
            ],
            [
             0.4444444444444444,
             "#bd3786"
            ],
            [
             0.5555555555555556,
             "#d8576b"
            ],
            [
             0.6666666666666666,
             "#ed7953"
            ],
            [
             0.7777777777777778,
             "#fb9f3a"
            ],
            [
             0.8888888888888888,
             "#fdca26"
            ],
            [
             1,
             "#f0f921"
            ]
           ]
          },
          "colorway": [
           "#636efa",
           "#EF553B",
           "#00cc96",
           "#ab63fa",
           "#FFA15A",
           "#19d3f3",
           "#FF6692",
           "#B6E880",
           "#FF97FF",
           "#FECB52"
          ],
          "font": {
           "color": "#2a3f5f"
          },
          "geo": {
           "bgcolor": "white",
           "lakecolor": "white",
           "landcolor": "#E5ECF6",
           "showlakes": true,
           "showland": true,
           "subunitcolor": "white"
          },
          "hoverlabel": {
           "align": "left"
          },
          "hovermode": "closest",
          "mapbox": {
           "style": "light"
          },
          "paper_bgcolor": "white",
          "plot_bgcolor": "#E5ECF6",
          "polar": {
           "angularaxis": {
            "gridcolor": "white",
            "linecolor": "white",
            "ticks": ""
           },
           "bgcolor": "#E5ECF6",
           "radialaxis": {
            "gridcolor": "white",
            "linecolor": "white",
            "ticks": ""
           }
          },
          "scene": {
           "xaxis": {
            "backgroundcolor": "#E5ECF6",
            "gridcolor": "white",
            "gridwidth": 2,
            "linecolor": "white",
            "showbackground": true,
            "ticks": "",
            "zerolinecolor": "white"
           },
           "yaxis": {
            "backgroundcolor": "#E5ECF6",
            "gridcolor": "white",
            "gridwidth": 2,
            "linecolor": "white",
            "showbackground": true,
            "ticks": "",
            "zerolinecolor": "white"
           },
           "zaxis": {
            "backgroundcolor": "#E5ECF6",
            "gridcolor": "white",
            "gridwidth": 2,
            "linecolor": "white",
            "showbackground": true,
            "ticks": "",
            "zerolinecolor": "white"
           }
          },
          "shapedefaults": {
           "line": {
            "color": "#2a3f5f"
           }
          },
          "ternary": {
           "aaxis": {
            "gridcolor": "white",
            "linecolor": "white",
            "ticks": ""
           },
           "baxis": {
            "gridcolor": "white",
            "linecolor": "white",
            "ticks": ""
           },
           "bgcolor": "#E5ECF6",
           "caxis": {
            "gridcolor": "white",
            "linecolor": "white",
            "ticks": ""
           }
          },
          "title": {
           "x": 0.05
          },
          "xaxis": {
           "automargin": true,
           "gridcolor": "white",
           "linecolor": "white",
           "ticks": "",
           "title": {
            "standoff": 15
           },
           "zerolinecolor": "white",
           "zerolinewidth": 2
          },
          "yaxis": {
           "automargin": true,
           "gridcolor": "white",
           "linecolor": "white",
           "ticks": "",
           "title": {
            "standoff": 15
           },
           "zerolinecolor": "white",
           "zerolinewidth": 2
          }
         }
        },
        "xaxis": {
         "anchor": "y",
         "domain": [
          0,
          1
         ],
         "title": {
          "text": "length"
         }
        },
        "yaxis": {
         "anchor": "x",
         "domain": [
          0,
          1
         ],
         "title": {
          "text": "count"
         }
        }
       }
      },
      "text/html": [
       "<div>                            <div id=\"d52d7b1f-f74e-421a-8dea-61e575ced0cc\" class=\"plotly-graph-div\" style=\"height:525px; width:100%;\"></div>            <script type=\"text/javascript\">                require([\"plotly\"], function(Plotly) {                    window.PLOTLYENV=window.PLOTLYENV || {};                                    if (document.getElementById(\"d52d7b1f-f74e-421a-8dea-61e575ced0cc\")) {                    Plotly.newPlot(                        \"d52d7b1f-f74e-421a-8dea-61e575ced0cc\",                        [{\"alignmentgroup\":\"True\",\"bingroup\":\"x\",\"hovertemplate\":\"length=%{x}<br>count=%{y}<extra></extra>\",\"legendgroup\":\"\",\"marker\":{\"color\":\"#636efa\",\"pattern\":{\"shape\":\"\"}},\"name\":\"\",\"offsetgroup\":\"\",\"orientation\":\"v\",\"showlegend\":false,\"x\":[545,1779,1392,2139,1221,5843,2581,1361,833,3994,4506,2602,3180,1567,3077,1035,547,2781,2875,1714,685,1039,786,3548,6961,7157,29585,20171,3366,2973,845,1430,2628,580,942,1059,1201,11654,3074,1825,1167,10948,2360,3527,16513,7037,4438,5238,28498,926,647,698,698,647,698,25974,2281,702,1385,2281,2281,2281,1611,27316,1261,860,1866,23194,1893,1584,757,8062,1062,3129,716,646,757,757,6711,905,2528,2611,1486,1371,2443,4762,661,3685,6729,800,2669,866,2772,878,1894,2543,7167,1368,2065,3009,2815,1616,1504,1796,5174,519,1621,2720,1845,1081,1091,883,609,2711,2052,572,1292,860,6798,1869,2452,5277,2629,1993,1348,1354,1328,1288,1056,1857,1300,1820,941,1561,3976,2042,3482,2008,6962,9975,1403,14483,13977,4099,3697,3254,3972,3400,1273,2427,2233,2893,3529,2496,1581,6077,1829,2659,1970,2090,3212,3161,2520,1842,2571,3015,1359,2684,957,1854,1277,1148,1853,1422,883,964,1814,1842,1334,8408,1803,8907,2533,1968,14564,2601,2842,2925,2080,5080,1965,2197,15309,25304,2422,1504,8763,6217,3032,2217,711,8511,5829,4240,4529,5541,9252,555,26020,2051,2708,7687,3697,8655,6178,2515,2355,4263,6972,7688,6499,1871,705,1717,6907,1655,9148,14573,2795,2388,10084,7401,1751,1540,1931,558,703,8430,657,1159,2671,2406,2819,9023,4347,1321,1069,1888,2628,2450,2060,2084,2926,12243,787,1856,2330,2690,2504,1909,780,2245,1667,1861,4880,1886,1389,3265,1519,1672,1372,2757,2294,3263,24343,4625,10244,782,1655,898,1645,1486,5255,8764,5523,776,4541,2170,1727,578,2415,936,1084,2569,2186,3030,3352,8787,7032,5032,5238,981,1865,4938,784,2543,745,794,2982,2313,3419,912,3782,4200,2643,4176,1470,8472,1994,2711,10280,3867,4619,3760,2194,692,2164,1429,1188,1501,1191,1320,3043,908,1714,1810,1645,1535,1002,2548,1542,1501,2878,1984,2373,3013,2965,3136,4095,1763,3207,2753,1762,884,907,1546,872,5187,4484,1809,4886,3150,2417,2995,3120,4139,1763,3207,2754,1762,884,1526,932,5187,4484,1809,4886,2254,3200,3740,1839,1829,2253,3719,2953,2430,970,2004,2056,1897,1227,2433,2334,4133,891,2234,969,1981,2056,1220,1635,4113,935,2234,1614,1904,3347,3290,2349,586,2997,969,3089,3099,555,3000,969,5003,5013,537,1162,791,1152,16615,882,4684,2642,2049,1481,3365,1638,14656,2770,639,2116,1199,1554,952,2413,1882,1680,1838,2185,804,2246,2713,2554,1640,2285,777,805,1948,2005,2781,2439,2108,1692,2635,1379,8140,1743,1221,1978,2990,2252,1122,2427,891,2158,2578,858,925,1926,2282,1863,2702,1991,2320,2497,1011,2210,1737,1782,536,2817,2157,2066,2716,1715,2254,2584,1416,1963,830,3801,1921,2015,970,2066,1946,2287,3040,731,4084,3354,2432,793,2107,2609,749,2337,1040,1582,3160,832,3429,3632,3491,1154,1982,2587,3367,1636,797,1489,773,5548,512,1037,571,592,6833,1050,2050,523,758,1182,744,537,577,581,643,690,1273,8840,3479,7228,12963,4147,11644,3320,2260,2943,2517,2500,2205,5149,3410,14099,1415,5990,2142,2030,8106,2312,4219,6851,7419,1010,6060,4811,2202,7424,1917,5086,2465,3004,2457,2818,3921,7747,25489,8939,6520,4761,1239,773,3813,1056,7799,1007,8066,1220,569,659,624,1073,892,948,3791,1847,623,786,1348,1370,1174,944,1203,1144,25005,1257,1394,1785,32827,1097,2871,994,1161,1044,571,603,532,1899,2032,3095,4004,2245,8355,2164,757,6027,8250,2957,2340,5791,2473,2918,3383,1413,4151,2335,5655,4317,3152,6600,3671,9225,1172,7853,8856,976,7816,7874,1163,6904,9254,7398,4762,7156,6740,8666,4595,1618,1660,1976,1018,1497,1367,1543,1688,1347,2051,1571,1421,826,1552,1743,554,8258,2247,2315,1866,1221,1873,814,1292,4011,2867,1343,2918,2870,1022,1577,1635,3460,1228,5511,20784,7649,6233,6627,961,4537,3053,4602,1837,1991,9268,1881,2679,8326,543,1858,1092,6291,16745,5481,6719,2771,6386,1363,1210,5309,2877,9558,2078,2483,10941,8766,6675,8892,7632,7585,10304,6687,5908,19103,5718,1559,1380,2504,4607,2213,1753,1574,1486,1936,1711,2469,918,2650,1323,1760,1336,19380,5348,6461,3717,4075,7697,1921,1250,1397,2092,1501,1525,7076,7101,7995,9038,3019,4298,2091,536,2113,2601,1909,1434,7130,8183,5349,7012,8348,7233,1021,1337,3987,816,3447,2179,5688,4910,8031,8915,1463,1038,2139,2771,5205,3771,1874,5222,7384,4241,6856,5983,4836,6723,5152,1865,1428,1682,5612,1446,7009,1478,1459,8240,881,614,1255,2668,6597,10896,1148,1109,3674,2396,1538,1418,884,4273,1290,1837,1592,9173,731,7255,3928,1634,1070,655,2164,2255,4145,770,3143,1337,2203,1933,2323,4046,1183,835,8909,4179,4457,4062,4065,4090,1005,556,2595,1184,1088,1343,2830,2010,686,2306,628,2443,839,941,681,1050,5519,1337,612,2427,1074,881,1876,2611,6028,1770,1654,1734,3167,1779,1585,4260,2058,1093,667,4047,4150,657,4226,4098,4057,4066,675,4012,2511,512,3744,4041,4073,4083,727,10579,14865,1644,4209,3291,1497,4230,4290,3045,3702,4147,4451,4605,5536,4393,3841,3936,4284,4301,4126,3876,3967,4851,3011,2621,3284,5926,5394,4785,2873,5665,3587,3619,4301,3994,3842,4259,5499,3998,3856,1606,4634,3981,2994,2382,7149,4475,4320,9197,2977,3150,9225,3547,3934,3553,3720,31686,3953,4080,3934,4039,3920,4242,3853,3924,7596,10560,4367,7322,4000,3179,3123,2301,4027,4341,2796,5203,2314,4844,4901,4225,4109,4097,3675,3681,5120,3831,3854,4151,3492,4861,1620,3391,2443,7453,4148,3830,2215,6443,4956,8256,3326,4457,10102,3968,4262,3965,4290,3641,3519,2889,2828,2768,2944,1706,1738,1342,2476,2666,1199,1643,2376,1475,3376,6298,2205,2035,3170,2420,1903,2331,1851,1882,2609,1181,2985,1824,1085,1957,1760,3248,1943,2063,2107,1703,1724,2018,2031,3752,1718,3981,1929,1382,1709,3420,1987,1903,1421,4202,5450,3915,4650,2446,7635,2065,2949,1554,6961,2750,6088,2962,4557,5005,2104,3920,2180,2056,4847,1383,1848,3305,3102,3267,4730,2014,7398,2409,2751,8232,3758,3093,3410,1919,2415,2254,1612,1357,3950,2849,2716,4214,7406,4263,1940,5623,2964,1286,1404,1676,2267,2122,2336,3107,1618,2786,529,2024,2608,3596,546,2569,2252,2452,1642,3337,2212,2437,1954,2619,2034,2613,1801,2510,1531,4575,2761,2111,1766,2021,1282,2116,1795,2383,2889,2313,2143,1136,2284,2742,742,2573,970,3282,709,2566,994,2002,1917,1005,1994,2278,2769,515,3471,1731,771,877,831,2523,1990,3358,1096,2215,1948,1736,2084,1893,2779,730,2130,546,751,573,3490,1769,2375,917,2423,694,2626,2138,2135,1814,1523,2512,2916,2487,680,4961,815,2638,2044,584,1978,2174,533,2345,611,3573,669,2238,1017,1256,5343,3007,2957,2090,2558,1617,1778,1991,946,1877,2256,1715,2063,2770,5064,802,8565,502,512,8434,833,842,802,825,1301,670,1046,3692,4029,1110,836,1641,1787,636,1788,1450,2461,4179,1231,1889,763,3939,7884,1066,732,591,7015,1374,737,2538,2100,3406,8080,8680,1255,2940,2173,5467,1163,875,4157,2157,702,552,2996,818,1052,3845,1231,1382,3597,821,645,794,589,2120,1839,1906,744,2082,9962,583,3668,2831,592,10222,544,6913,11820,2697,3069,10695,7988,9213,8100,7033,6364,4510,19833,6461,10347,4811,7487,805,4949,5949,7009,6525,8997,7330,6096,5415,11522,8521,11892,7727,5135,6392,7730,11262,9206,9620,1540,11446,1671,6445,4221,2033,7197,5802,6693,5676,4797,6059,4886,6944,7968,2288,7879,7494,16943,6928,10011,7425,9223,17179,6202,9572,6767,704,6696,8732,9204,7054,2626,9366,10532,14507,8087,4742,6398,6870,3048,11342,11325,12794,6753,14131,7072,886,5335,6264,8499,14354,9029,5939,9558,4962,7117,7646,7473,5343,15190,4112,2746,10994,899,885,6086,1570,10821,2654,1459,5360,793,6371,1738,1633,3619,2318,8065,9029,7133,8446,20161,32656,6183,6066,8238,26248,23529,4374,8770,4922,4879,4110,6692,10417,4306,14535,7371,27243,20909,4376,27003,2920,1896,3646,1217,27605,2156,4665,967,5973,4030,2959,3782,3541,4234,2067,9584,6131,678,2210,5598,2453,2672,2776,2801,3727,1148,2967,2546,1300,7482,2909,748,2923,516,882,914,978,571,4981,3516,22669,3652,4423,4833,23408,554,610,4573,4600,2444,773,605,6323,773,813,600,816,6333,606,572,3523,7360,7350,3523,771,771,573,914,861,862,914,8450,8451,736,737,927,5794,6448,5678,5422,4929,6846,7223,5365,1041,1326,6872,5837,6458,5695,5480,4973,6863,7315,5429,1039,6868,11616,583,1195,1206,11588,598,827,7896,3837,7936,3845,837,2452,5448,12259,5462,12251,2464,4737,8212,861,941,862,940,4729,8211,670,696,960,840,665,740,854,683,955,765,1243,863,724,901,841,925,750,760,577,1008,831,3275],\"xaxis\":\"x\",\"yaxis\":\"y\",\"type\":\"histogram\"}],                        {\"template\":{\"data\":{\"histogram2dcontour\":[{\"type\":\"histogram2dcontour\",\"colorbar\":{\"outlinewidth\":0,\"ticks\":\"\"},\"colorscale\":[[0.0,\"#0d0887\"],[0.1111111111111111,\"#46039f\"],[0.2222222222222222,\"#7201a8\"],[0.3333333333333333,\"#9c179e\"],[0.4444444444444444,\"#bd3786\"],[0.5555555555555556,\"#d8576b\"],[0.6666666666666666,\"#ed7953\"],[0.7777777777777778,\"#fb9f3a\"],[0.8888888888888888,\"#fdca26\"],[1.0,\"#f0f921\"]]}],\"choropleth\":[{\"type\":\"choropleth\",\"colorbar\":{\"outlinewidth\":0,\"ticks\":\"\"}}],\"histogram2d\":[{\"type\":\"histogram2d\",\"colorbar\":{\"outlinewidth\":0,\"ticks\":\"\"},\"colorscale\":[[0.0,\"#0d0887\"],[0.1111111111111111,\"#46039f\"],[0.2222222222222222,\"#7201a8\"],[0.3333333333333333,\"#9c179e\"],[0.4444444444444444,\"#bd3786\"],[0.5555555555555556,\"#d8576b\"],[0.6666666666666666,\"#ed7953\"],[0.7777777777777778,\"#fb9f3a\"],[0.8888888888888888,\"#fdca26\"],[1.0,\"#f0f921\"]]}],\"heatmap\":[{\"type\":\"heatmap\",\"colorbar\":{\"outlinewidth\":0,\"ticks\":\"\"},\"colorscale\":[[0.0,\"#0d0887\"],[0.1111111111111111,\"#46039f\"],[0.2222222222222222,\"#7201a8\"],[0.3333333333333333,\"#9c179e\"],[0.4444444444444444,\"#bd3786\"],[0.5555555555555556,\"#d8576b\"],[0.6666666666666666,\"#ed7953\"],[0.7777777777777778,\"#fb9f3a\"],[0.8888888888888888,\"#fdca26\"],[1.0,\"#f0f921\"]]}],\"heatmapgl\":[{\"type\":\"heatmapgl\",\"colorbar\":{\"outlinewidth\":0,\"ticks\":\"\"},\"colorscale\":[[0.0,\"#0d0887\"],[0.1111111111111111,\"#46039f\"],[0.2222222222222222,\"#7201a8\"],[0.3333333333333333,\"#9c179e\"],[0.4444444444444444,\"#bd3786\"],[0.5555555555555556,\"#d8576b\"],[0.6666666666666666,\"#ed7953\"],[0.7777777777777778,\"#fb9f3a\"],[0.8888888888888888,\"#fdca26\"],[1.0,\"#f0f921\"]]}],\"contourcarpet\":[{\"type\":\"contourcarpet\",\"colorbar\":{\"outlinewidth\":0,\"ticks\":\"\"}}],\"contour\":[{\"type\":\"contour\",\"colorbar\":{\"outlinewidth\":0,\"ticks\":\"\"},\"colorscale\":[[0.0,\"#0d0887\"],[0.1111111111111111,\"#46039f\"],[0.2222222222222222,\"#7201a8\"],[0.3333333333333333,\"#9c179e\"],[0.4444444444444444,\"#bd3786\"],[0.5555555555555556,\"#d8576b\"],[0.6666666666666666,\"#ed7953\"],[0.7777777777777778,\"#fb9f3a\"],[0.8888888888888888,\"#fdca26\"],[1.0,\"#f0f921\"]]}],\"surface\":[{\"type\":\"surface\",\"colorbar\":{\"outlinewidth\":0,\"ticks\":\"\"},\"colorscale\":[[0.0,\"#0d0887\"],[0.1111111111111111,\"#46039f\"],[0.2222222222222222,\"#7201a8\"],[0.3333333333333333,\"#9c179e\"],[0.4444444444444444,\"#bd3786\"],[0.5555555555555556,\"#d8576b\"],[0.6666666666666666,\"#ed7953\"],[0.7777777777777778,\"#fb9f3a\"],[0.8888888888888888,\"#fdca26\"],[1.0,\"#f0f921\"]]}],\"mesh3d\":[{\"type\":\"mesh3d\",\"colorbar\":{\"outlinewidth\":0,\"ticks\":\"\"}}],\"scatter\":[{\"fillpattern\":{\"fillmode\":\"overlay\",\"size\":10,\"solidity\":0.2},\"type\":\"scatter\"}],\"parcoords\":[{\"type\":\"parcoords\",\"line\":{\"colorbar\":{\"outlinewidth\":0,\"ticks\":\"\"}}}],\"scatterpolargl\":[{\"type\":\"scatterpolargl\",\"marker\":{\"colorbar\":{\"outlinewidth\":0,\"ticks\":\"\"}}}],\"bar\":[{\"error_x\":{\"color\":\"#2a3f5f\"},\"error_y\":{\"color\":\"#2a3f5f\"},\"marker\":{\"line\":{\"color\":\"#E5ECF6\",\"width\":0.5},\"pattern\":{\"fillmode\":\"overlay\",\"size\":10,\"solidity\":0.2}},\"type\":\"bar\"}],\"scattergeo\":[{\"type\":\"scattergeo\",\"marker\":{\"colorbar\":{\"outlinewidth\":0,\"ticks\":\"\"}}}],\"scatterpolar\":[{\"type\":\"scatterpolar\",\"marker\":{\"colorbar\":{\"outlinewidth\":0,\"ticks\":\"\"}}}],\"histogram\":[{\"marker\":{\"pattern\":{\"fillmode\":\"overlay\",\"size\":10,\"solidity\":0.2}},\"type\":\"histogram\"}],\"scattergl\":[{\"type\":\"scattergl\",\"marker\":{\"colorbar\":{\"outlinewidth\":0,\"ticks\":\"\"}}}],\"scatter3d\":[{\"type\":\"scatter3d\",\"line\":{\"colorbar\":{\"outlinewidth\":0,\"ticks\":\"\"}},\"marker\":{\"colorbar\":{\"outlinewidth\":0,\"ticks\":\"\"}}}],\"scattermapbox\":[{\"type\":\"scattermapbox\",\"marker\":{\"colorbar\":{\"outlinewidth\":0,\"ticks\":\"\"}}}],\"scatterternary\":[{\"type\":\"scatterternary\",\"marker\":{\"colorbar\":{\"outlinewidth\":0,\"ticks\":\"\"}}}],\"scattercarpet\":[{\"type\":\"scattercarpet\",\"marker\":{\"colorbar\":{\"outlinewidth\":0,\"ticks\":\"\"}}}],\"carpet\":[{\"aaxis\":{\"endlinecolor\":\"#2a3f5f\",\"gridcolor\":\"white\",\"linecolor\":\"white\",\"minorgridcolor\":\"white\",\"startlinecolor\":\"#2a3f5f\"},\"baxis\":{\"endlinecolor\":\"#2a3f5f\",\"gridcolor\":\"white\",\"linecolor\":\"white\",\"minorgridcolor\":\"white\",\"startlinecolor\":\"#2a3f5f\"},\"type\":\"carpet\"}],\"table\":[{\"cells\":{\"fill\":{\"color\":\"#EBF0F8\"},\"line\":{\"color\":\"white\"}},\"header\":{\"fill\":{\"color\":\"#C8D4E3\"},\"line\":{\"color\":\"white\"}},\"type\":\"table\"}],\"barpolar\":[{\"marker\":{\"line\":{\"color\":\"#E5ECF6\",\"width\":0.5},\"pattern\":{\"fillmode\":\"overlay\",\"size\":10,\"solidity\":0.2}},\"type\":\"barpolar\"}],\"pie\":[{\"automargin\":true,\"type\":\"pie\"}]},\"layout\":{\"autotypenumbers\":\"strict\",\"colorway\":[\"#636efa\",\"#EF553B\",\"#00cc96\",\"#ab63fa\",\"#FFA15A\",\"#19d3f3\",\"#FF6692\",\"#B6E880\",\"#FF97FF\",\"#FECB52\"],\"font\":{\"color\":\"#2a3f5f\"},\"hovermode\":\"closest\",\"hoverlabel\":{\"align\":\"left\"},\"paper_bgcolor\":\"white\",\"plot_bgcolor\":\"#E5ECF6\",\"polar\":{\"bgcolor\":\"#E5ECF6\",\"angularaxis\":{\"gridcolor\":\"white\",\"linecolor\":\"white\",\"ticks\":\"\"},\"radialaxis\":{\"gridcolor\":\"white\",\"linecolor\":\"white\",\"ticks\":\"\"}},\"ternary\":{\"bgcolor\":\"#E5ECF6\",\"aaxis\":{\"gridcolor\":\"white\",\"linecolor\":\"white\",\"ticks\":\"\"},\"baxis\":{\"gridcolor\":\"white\",\"linecolor\":\"white\",\"ticks\":\"\"},\"caxis\":{\"gridcolor\":\"white\",\"linecolor\":\"white\",\"ticks\":\"\"}},\"coloraxis\":{\"colorbar\":{\"outlinewidth\":0,\"ticks\":\"\"}},\"colorscale\":{\"sequential\":[[0.0,\"#0d0887\"],[0.1111111111111111,\"#46039f\"],[0.2222222222222222,\"#7201a8\"],[0.3333333333333333,\"#9c179e\"],[0.4444444444444444,\"#bd3786\"],[0.5555555555555556,\"#d8576b\"],[0.6666666666666666,\"#ed7953\"],[0.7777777777777778,\"#fb9f3a\"],[0.8888888888888888,\"#fdca26\"],[1.0,\"#f0f921\"]],\"sequentialminus\":[[0.0,\"#0d0887\"],[0.1111111111111111,\"#46039f\"],[0.2222222222222222,\"#7201a8\"],[0.3333333333333333,\"#9c179e\"],[0.4444444444444444,\"#bd3786\"],[0.5555555555555556,\"#d8576b\"],[0.6666666666666666,\"#ed7953\"],[0.7777777777777778,\"#fb9f3a\"],[0.8888888888888888,\"#fdca26\"],[1.0,\"#f0f921\"]],\"diverging\":[[0,\"#8e0152\"],[0.1,\"#c51b7d\"],[0.2,\"#de77ae\"],[0.3,\"#f1b6da\"],[0.4,\"#fde0ef\"],[0.5,\"#f7f7f7\"],[0.6,\"#e6f5d0\"],[0.7,\"#b8e186\"],[0.8,\"#7fbc41\"],[0.9,\"#4d9221\"],[1,\"#276419\"]]},\"xaxis\":{\"gridcolor\":\"white\",\"linecolor\":\"white\",\"ticks\":\"\",\"title\":{\"standoff\":15},\"zerolinecolor\":\"white\",\"automargin\":true,\"zerolinewidth\":2},\"yaxis\":{\"gridcolor\":\"white\",\"linecolor\":\"white\",\"ticks\":\"\",\"title\":{\"standoff\":15},\"zerolinecolor\":\"white\",\"automargin\":true,\"zerolinewidth\":2},\"scene\":{\"xaxis\":{\"backgroundcolor\":\"#E5ECF6\",\"gridcolor\":\"white\",\"linecolor\":\"white\",\"showbackground\":true,\"ticks\":\"\",\"zerolinecolor\":\"white\",\"gridwidth\":2},\"yaxis\":{\"backgroundcolor\":\"#E5ECF6\",\"gridcolor\":\"white\",\"linecolor\":\"white\",\"showbackground\":true,\"ticks\":\"\",\"zerolinecolor\":\"white\",\"gridwidth\":2},\"zaxis\":{\"backgroundcolor\":\"#E5ECF6\",\"gridcolor\":\"white\",\"linecolor\":\"white\",\"showbackground\":true,\"ticks\":\"\",\"zerolinecolor\":\"white\",\"gridwidth\":2}},\"shapedefaults\":{\"line\":{\"color\":\"#2a3f5f\"}},\"annotationdefaults\":{\"arrowcolor\":\"#2a3f5f\",\"arrowhead\":0,\"arrowwidth\":1},\"geo\":{\"bgcolor\":\"white\",\"landcolor\":\"#E5ECF6\",\"subunitcolor\":\"white\",\"showland\":true,\"showlakes\":true,\"lakecolor\":\"white\"},\"title\":{\"x\":0.05},\"mapbox\":{\"style\":\"light\"}}},\"xaxis\":{\"anchor\":\"y\",\"domain\":[0.0,1.0],\"title\":{\"text\":\"length\"}},\"yaxis\":{\"anchor\":\"x\",\"domain\":[0.0,1.0],\"title\":{\"text\":\"count\"}},\"legend\":{\"tracegroupgap\":0},\"margin\":{\"t\":60},\"barmode\":\"relative\"},                        {\"responsive\": true}                    ).then(function(){\n",
       "                            \n",
       "var gd = document.getElementById('d52d7b1f-f74e-421a-8dea-61e575ced0cc');\n",
       "var x = new MutationObserver(function (mutations, observer) {{\n",
       "        var display = window.getComputedStyle(gd).display;\n",
       "        if (!display || display === 'none') {{\n",
       "            console.log([gd, 'removed!']);\n",
       "            Plotly.purge(gd);\n",
       "            observer.disconnect();\n",
       "        }}\n",
       "}});\n",
       "\n",
       "// Listen for the removal of the full notebook cells\n",
       "var notebookContainer = gd.closest('#notebook-container');\n",
       "if (notebookContainer) {{\n",
       "    x.observe(notebookContainer, {childList: true});\n",
       "}}\n",
       "\n",
       "// Listen for the clearing of the current output cell\n",
       "var outputEl = gd.closest('.output');\n",
       "if (outputEl) {{\n",
       "    x.observe(outputEl, {childList: true});\n",
       "}}\n",
       "\n",
       "                        })                };                });            </script>        </div>"
      ]
     },
     "metadata": {},
     "output_type": "display_data"
    }
   ],
   "source": [
    "fig = px.histogram(news, x=\"length\")\n",
    "fig.show()"
   ]
  },
  {
   "cell_type": "code",
   "execution_count": 354,
   "id": "76b1135d",
   "metadata": {},
   "outputs": [
    {
     "data": {
      "application/vnd.plotly.v1+json": {
       "config": {
        "plotlyServerURL": "https://plot.ly"
       },
       "data": [
        {
         "alignmentgroup": "True",
         "bingroup": "x",
         "hovertemplate": "label=Real<br>length=%{x}<br>count=%{y}<extra></extra>",
         "legendgroup": "Real",
         "marker": {
          "color": "#636efa",
          "pattern": {
           "shape": ""
          }
         },
         "name": "Real",
         "offsetgroup": "Real",
         "orientation": "v",
         "showlegend": true,
         "type": "histogram",
         "x": [
          545,
          1779,
          1392,
          2139,
          1221,
          5843,
          2581,
          1361,
          833,
          3994,
          4506,
          2602,
          3180,
          1567,
          3077,
          1035,
          547,
          2781,
          2875,
          1714,
          685,
          1039,
          786,
          1273,
          2427,
          2233,
          2893,
          3529,
          2496,
          1581,
          6077,
          1829,
          2659,
          1970,
          2090,
          3212,
          3161,
          2520,
          1842,
          2571,
          3015,
          1359,
          2684,
          3320,
          2260,
          2943,
          2517,
          2500,
          2205,
          5149,
          3410,
          14099,
          1415,
          5990,
          2142,
          2030,
          8106,
          2312,
          4219,
          6851,
          7419,
          1010,
          6060,
          4811,
          2202,
          7424,
          1917,
          5086,
          2465,
          3004,
          2457,
          2818,
          3921,
          1056,
          7799,
          1007,
          8066,
          1220,
          569,
          659,
          624,
          1073,
          892,
          948,
          3791,
          1847,
          623,
          786,
          1348,
          1370,
          1174,
          944,
          1203,
          1144,
          25005,
          1257,
          1394,
          1785,
          32827,
          1097,
          2871,
          994,
          1161,
          1044,
          571,
          1092,
          6291,
          16745,
          5481,
          6719,
          2771,
          6386,
          1363,
          1210,
          5309,
          2877,
          9558,
          2078,
          2483,
          10941,
          8766,
          6675,
          8892,
          7632,
          7585,
          10304,
          6687,
          5908,
          19103,
          5718,
          1559,
          1380,
          2504,
          4607,
          2213,
          1753,
          1574,
          1486,
          1936,
          1711,
          2469,
          918,
          2650,
          1323,
          1760,
          1336,
          19380,
          5348,
          6461,
          3717,
          4075,
          7697,
          1921,
          1250,
          1397,
          2092,
          1501,
          1525,
          7076,
          7101,
          7995,
          9038,
          3019,
          4298,
          2091,
          536,
          2113,
          2601,
          1909,
          1434,
          7130,
          8183,
          5349,
          7012,
          8348,
          7233,
          1021,
          1337,
          3987,
          816,
          3447,
          2179,
          5688,
          4910,
          8031,
          8915,
          1463,
          1038,
          2139,
          2771,
          5205,
          3771,
          1874,
          5222,
          7384,
          4241,
          6856,
          5983,
          4836,
          6723,
          5152,
          1865,
          1428,
          1682,
          5612,
          4650,
          2446,
          7635,
          2065,
          2949,
          1554,
          6961,
          2750,
          6088,
          2962,
          4557,
          5005,
          2104,
          3920,
          2180,
          2056,
          4847,
          1383,
          1848,
          3305,
          3102,
          3267,
          4730,
          2014,
          7398,
          2409,
          2751,
          8232,
          3758,
          3093,
          3410,
          1919,
          2415,
          2254,
          1612,
          1357,
          3950,
          2849,
          2716,
          4214,
          7406,
          4263,
          1940,
          5623,
          2964,
          1286,
          1404,
          1676,
          2267,
          2122,
          2336,
          3107,
          1618,
          2786,
          529,
          2024,
          2608,
          3596,
          546,
          2569,
          2252,
          2452,
          1642,
          3337,
          2212,
          2437,
          1954,
          2619,
          2034,
          2613,
          1801,
          2510,
          1531,
          4575,
          2761,
          2111,
          1766,
          2021,
          1282,
          2116,
          1795,
          2383,
          2889,
          2313,
          2143,
          1136,
          2284,
          2742,
          742,
          2573,
          970,
          3282,
          709,
          2566,
          994,
          2002,
          1917,
          1005,
          1994,
          2278,
          2769,
          515,
          3471,
          1731,
          771,
          877,
          831,
          2523,
          1990,
          3358,
          1096,
          2215,
          1948,
          1736,
          2084,
          1893,
          2779,
          730,
          2130,
          546,
          751,
          573,
          3490,
          1769,
          2375,
          917,
          2423,
          694,
          2626,
          2138,
          2135,
          1814,
          1523,
          2512,
          2916,
          2487,
          680,
          4961,
          815,
          2638,
          2044,
          584,
          1978,
          2174,
          533,
          2345,
          611,
          3573,
          669,
          2238,
          1017,
          1256,
          5343,
          3007,
          2957,
          2090,
          2558,
          1617,
          1778,
          1991,
          946,
          1877,
          2256,
          1715,
          2063,
          2770,
          5064,
          802,
          8565,
          502,
          512,
          8434,
          833,
          842,
          802,
          825,
          1301,
          670,
          1046,
          3692,
          4029,
          1110,
          836,
          1641,
          1787,
          636,
          1788,
          1450,
          2461,
          4179,
          1231,
          1889,
          763,
          3939,
          7884,
          1066,
          732,
          591,
          7015,
          1374,
          5802,
          5676,
          4797,
          6059,
          4886,
          6944,
          7968,
          2288,
          7879,
          7494,
          16943,
          6928,
          10011,
          7425,
          9223,
          17179,
          6202,
          9572,
          6767,
          704,
          6696,
          8732,
          9204,
          7054,
          2626,
          9366,
          10532,
          14507,
          8087,
          4742,
          6398,
          6870,
          3048,
          11342,
          11325,
          12794,
          6753,
          14131,
          7072,
          886,
          5335,
          6264,
          8499,
          14354,
          9029,
          5939,
          9558,
          4962,
          7117,
          7646,
          7473,
          5343,
          15190,
          4112,
          2746,
          10994,
          899,
          885,
          6086,
          1570,
          10821,
          2654,
          1459,
          5360,
          793,
          6371,
          1738,
          1633,
          3619,
          2318,
          8065,
          9029,
          7133,
          8446,
          20161,
          32656,
          6183,
          6066,
          8238,
          26248,
          23529,
          4374,
          8770,
          4922,
          4879,
          4110,
          6692,
          10417,
          4306,
          14535,
          7371,
          27243,
          20909,
          4376,
          27003,
          2920,
          1896,
          3646,
          516,
          882,
          914,
          978,
          571,
          4981,
          3516,
          22669,
          3652,
          4423,
          4833,
          23408,
          554,
          610,
          4573,
          4600,
          2444,
          773,
          605,
          6323,
          773,
          813,
          600,
          816,
          6333,
          606,
          572,
          3523,
          7360,
          7350,
          3523,
          771,
          771,
          573,
          914,
          861,
          862,
          914,
          8450,
          8451,
          736,
          737,
          927,
          5794,
          6448,
          5678,
          4973,
          6863,
          7315,
          5429,
          1039,
          6868,
          11616,
          583,
          1195,
          1206,
          11588,
          598,
          827,
          7896,
          3837,
          7936,
          3845,
          837,
          2452,
          5448,
          12259,
          5462,
          12251,
          2464,
          4737,
          8212,
          861,
          941,
          862,
          940,
          4729,
          8211,
          670,
          696,
          960,
          840,
          665,
          740,
          854,
          683,
          955,
          765,
          1243,
          863,
          724,
          901,
          841,
          925,
          750,
          760,
          577,
          1008,
          831,
          3275
         ],
         "xaxis": "x",
         "yaxis": "y"
        },
        {
         "alignmentgroup": "True",
         "bingroup": "x",
         "hovertemplate": "label=Fake<br>length=%{x}<br>count=%{y}<extra></extra>",
         "legendgroup": "Fake",
         "marker": {
          "color": "#EF553B",
          "pattern": {
           "shape": ""
          }
         },
         "name": "Fake",
         "offsetgroup": "Fake",
         "orientation": "v",
         "showlegend": true,
         "type": "histogram",
         "x": [
          3548,
          6961,
          7157,
          29585,
          20171,
          3366,
          2973,
          845,
          1430,
          2628,
          580,
          942,
          1059,
          1201,
          11654,
          3074,
          1825,
          1167,
          10948,
          2360,
          3527,
          16513,
          7037,
          4438,
          5238,
          28498,
          926,
          647,
          698,
          698,
          647,
          698,
          25974,
          2281,
          702,
          1385,
          2281,
          2281,
          2281,
          1611,
          27316,
          1261,
          860,
          1866,
          23194,
          1893,
          1584,
          757,
          8062,
          1062,
          3129,
          716,
          646,
          757,
          757,
          6711,
          905,
          2528,
          2611,
          1486,
          1371,
          2443,
          4762,
          661,
          3685,
          6729,
          800,
          2669,
          866,
          2772,
          878,
          1894,
          2543,
          7167,
          1368,
          2065,
          3009,
          2815,
          1616,
          1504,
          1796,
          5174,
          519,
          1621,
          2720,
          1845,
          1081,
          1091,
          883,
          609,
          2711,
          2052,
          572,
          1292,
          860,
          6798,
          1869,
          2452,
          5277,
          2629,
          1993,
          1348,
          1354,
          1328,
          1288,
          1056,
          1857,
          1300,
          1820,
          941,
          1561,
          3976,
          2042,
          3482,
          2008,
          6962,
          9975,
          1403,
          14483,
          13977,
          4099,
          3697,
          3254,
          3972,
          3400,
          957,
          1854,
          1277,
          1148,
          1853,
          1422,
          883,
          964,
          1814,
          1842,
          1334,
          8408,
          1803,
          8907,
          2533,
          1968,
          14564,
          2601,
          2842,
          2925,
          2080,
          5080,
          1965,
          2197,
          15309,
          25304,
          2422,
          1504,
          8763,
          6217,
          3032,
          2217,
          711,
          8511,
          5829,
          4240,
          4529,
          5541,
          9252,
          555,
          26020,
          2051,
          2708,
          7687,
          3697,
          8655,
          6178,
          2515,
          2355,
          4263,
          6972,
          7688,
          6499,
          1871,
          705,
          1717,
          6907,
          1655,
          9148,
          14573,
          2795,
          2388,
          10084,
          7401,
          1751,
          1540,
          1931,
          558,
          703,
          8430,
          657,
          1159,
          2671,
          2406,
          2819,
          9023,
          4347,
          1321,
          1069,
          1888,
          2628,
          2450,
          2060,
          2084,
          2926,
          12243,
          787,
          1856,
          2330,
          2690,
          2504,
          1909,
          780,
          2245,
          1667,
          1861,
          4880,
          1886,
          1389,
          3265,
          1519,
          1672,
          1372,
          2757,
          2294,
          3263,
          24343,
          4625,
          10244,
          782,
          1655,
          898,
          1645,
          1486,
          5255,
          8764,
          5523,
          776,
          4541,
          2170,
          1727,
          578,
          2415,
          936,
          1084,
          2569,
          2186,
          3030,
          3352,
          8787,
          7032,
          5032,
          5238,
          981,
          1865,
          4938,
          784,
          2543,
          745,
          794,
          2982,
          2313,
          3419,
          912,
          3782,
          4200,
          2643,
          4176,
          1470,
          8472,
          1994,
          2711,
          10280,
          3867,
          4619,
          3760,
          2194,
          692,
          2164,
          1429,
          1188,
          1501,
          1191,
          1320,
          3043,
          908,
          1714,
          1810,
          1645,
          1535,
          1002,
          2548,
          1542,
          1501,
          2878,
          1984,
          2373,
          3013,
          2965,
          3136,
          4095,
          1763,
          3207,
          2753,
          1762,
          884,
          907,
          1546,
          872,
          5187,
          4484,
          1809,
          4886,
          3150,
          2417,
          2995,
          3120,
          4139,
          1763,
          3207,
          2754,
          1762,
          884,
          1526,
          932,
          5187,
          4484,
          1809,
          4886,
          2254,
          3200,
          3740,
          1839,
          1829,
          2253,
          3719,
          2953,
          2430,
          970,
          2004,
          2056,
          1897,
          1227,
          2433,
          2334,
          4133,
          891,
          2234,
          969,
          1981,
          2056,
          1220,
          1635,
          4113,
          935,
          2234,
          1614,
          1904,
          3347,
          3290,
          2349,
          586,
          2997,
          969,
          3089,
          3099,
          555,
          3000,
          969,
          5003,
          5013,
          537,
          1162,
          791,
          1152,
          16615,
          882,
          4684,
          2642,
          2049,
          1481,
          3365,
          1638,
          14656,
          2770,
          639,
          2116,
          1199,
          1554,
          952,
          2413,
          1882,
          1680,
          1838,
          2185,
          804,
          2246,
          2713,
          2554,
          1640,
          2285,
          777,
          805,
          1948,
          2005,
          2781,
          2439,
          2108,
          1692,
          2635,
          1379,
          8140,
          1743,
          1221,
          1978,
          2990,
          2252,
          1122,
          2427,
          891,
          2158,
          2578,
          858,
          925,
          1926,
          2282,
          1863,
          2702,
          1991,
          2320,
          2497,
          1011,
          2210,
          1737,
          1782,
          536,
          2817,
          2157,
          2066,
          2716,
          1715,
          2254,
          2584,
          1416,
          1963,
          830,
          3801,
          1921,
          2015,
          970,
          2066,
          1946,
          2287,
          3040,
          731,
          4084,
          3354,
          2432,
          793,
          2107,
          2609,
          749,
          2337,
          1040,
          1582,
          3160,
          832,
          3429,
          3632,
          3491,
          1154,
          1982,
          2587,
          3367,
          1636,
          797,
          1489,
          773,
          5548,
          512,
          1037,
          571,
          592,
          6833,
          1050,
          2050,
          523,
          758,
          1182,
          744,
          537,
          577,
          581,
          643,
          690,
          1273,
          8840,
          3479,
          7228,
          12963,
          4147,
          11644,
          7747,
          25489,
          8939,
          6520,
          4761,
          1239,
          773,
          3813,
          603,
          532,
          1899,
          2032,
          3095,
          4004,
          2245,
          8355,
          2164,
          757,
          6027,
          8250,
          2957,
          2340,
          5791,
          2473,
          2918,
          3383,
          1413,
          4151,
          2335,
          5655,
          4317,
          3152,
          6600,
          3671,
          9225,
          1172,
          7853,
          8856,
          976,
          7816,
          7874,
          1163,
          6904,
          9254,
          7398,
          4762,
          7156,
          6740,
          8666,
          4595,
          1618,
          1660,
          1976,
          1018,
          1497,
          1367,
          1543,
          1688,
          1347,
          2051,
          1571,
          1421,
          826,
          1552,
          1743,
          554,
          8258,
          2247,
          2315,
          1866,
          1221,
          1873,
          814,
          1292,
          4011,
          2867,
          1343,
          2918,
          2870,
          1022,
          1577,
          1635,
          3460,
          1228,
          5511,
          20784,
          7649,
          6233,
          6627,
          961,
          4537,
          3053,
          4602,
          1837,
          1991,
          9268,
          1881,
          2679,
          8326,
          543,
          1858,
          1446,
          7009,
          1478,
          1459,
          8240,
          881,
          614,
          1255,
          2668,
          6597,
          10896,
          1148,
          1109,
          3674,
          2396,
          1538,
          1418,
          884,
          4273,
          1290,
          1837,
          1592,
          9173,
          731,
          7255,
          3928,
          1634,
          1070,
          655,
          2164,
          2255,
          4145,
          770,
          3143,
          1337,
          2203,
          1933,
          2323,
          4046,
          1183,
          835,
          8909,
          4179,
          4457,
          4062,
          4065,
          4090,
          1005,
          556,
          2595,
          1184,
          1088,
          1343,
          2830,
          2010,
          686,
          2306,
          628,
          2443,
          839,
          941,
          681,
          1050,
          5519,
          1337,
          612,
          2427,
          1074,
          881,
          1876,
          2611,
          6028,
          1770,
          1654,
          1734,
          3167,
          1779,
          1585,
          4260,
          2058,
          1093,
          667,
          4047,
          4150,
          657,
          4226,
          4098,
          4057,
          4066,
          675,
          4012,
          2511,
          512,
          3744,
          4041,
          4073,
          4083,
          727,
          10579,
          14865,
          1644,
          4209,
          3291,
          1497,
          4230,
          4290,
          3045,
          3702,
          4147,
          4451,
          4605,
          5536,
          4393,
          3841,
          3936,
          4284,
          4301,
          4126,
          3876,
          3967,
          4851,
          3011,
          2621,
          3284,
          5926,
          5394,
          4785,
          2873,
          5665,
          3587,
          3619,
          4301,
          3994,
          3842,
          4259,
          5499,
          3998,
          3856,
          1606,
          4634,
          3981,
          2994,
          2382,
          7149,
          4475,
          4320,
          9197,
          2977,
          3150,
          9225,
          3547,
          3934,
          3553,
          3720,
          31686,
          3953,
          4080,
          3934,
          4039,
          3920,
          4242,
          3853,
          3924,
          7596,
          10560,
          4367,
          7322,
          4000,
          3179,
          3123,
          2301,
          4027,
          4341,
          2796,
          5203,
          2314,
          4844,
          4901,
          4225,
          4109,
          4097,
          3675,
          3681,
          5120,
          3831,
          3854,
          4151,
          3492,
          4861,
          1620,
          3391,
          2443,
          7453,
          4148,
          3830,
          2215,
          6443,
          4956,
          8256,
          3326,
          4457,
          10102,
          3968,
          4262,
          3965,
          4290,
          3641,
          3519,
          2889,
          2828,
          2768,
          2944,
          1706,
          1738,
          1342,
          2476,
          2666,
          1199,
          1643,
          2376,
          1475,
          3376,
          6298,
          2205,
          2035,
          3170,
          2420,
          1903,
          2331,
          1851,
          1882,
          2609,
          1181,
          2985,
          1824,
          1085,
          1957,
          1760,
          3248,
          1943,
          2063,
          2107,
          1703,
          1724,
          2018,
          2031,
          3752,
          1718,
          3981,
          1929,
          1382,
          1709,
          3420,
          1987,
          1903,
          1421,
          4202,
          5450,
          3915,
          737,
          2538,
          2100,
          3406,
          8080,
          8680,
          1255,
          2940,
          2173,
          5467,
          1163,
          875,
          4157,
          2157,
          702,
          552,
          2996,
          818,
          1052,
          3845,
          1231,
          1382,
          3597,
          821,
          645,
          794,
          589,
          2120,
          1839,
          1906,
          744,
          2082,
          9962,
          583,
          3668,
          2831,
          592,
          10222,
          544,
          6913,
          11820,
          2697,
          3069,
          10695,
          7988,
          9213,
          8100,
          7033,
          6364,
          4510,
          19833,
          6461,
          10347,
          4811,
          7487,
          805,
          4949,
          5949,
          7009,
          6525,
          8997,
          7330,
          6096,
          5415,
          11522,
          8521,
          11892,
          7727,
          5135,
          6392,
          7730,
          11262,
          9206,
          9620,
          1540,
          11446,
          1671,
          6445,
          4221,
          2033,
          7197,
          6693,
          1217,
          27605,
          2156,
          4665,
          967,
          5973,
          4030,
          2959,
          3782,
          3541,
          4234,
          2067,
          9584,
          6131,
          678,
          2210,
          5598,
          2453,
          2672,
          2776,
          2801,
          3727,
          1148,
          2967,
          2546,
          1300,
          7482,
          2909,
          748,
          2923,
          5422,
          4929,
          6846,
          7223,
          5365,
          1041,
          1326,
          6872,
          5837,
          6458,
          5695,
          5480
         ],
         "xaxis": "x",
         "yaxis": "y"
        }
       ],
       "layout": {
        "barmode": "relative",
        "legend": {
         "title": {
          "text": "label"
         },
         "tracegroupgap": 0
        },
        "margin": {
         "t": 60
        },
        "template": {
         "data": {
          "bar": [
           {
            "error_x": {
             "color": "#2a3f5f"
            },
            "error_y": {
             "color": "#2a3f5f"
            },
            "marker": {
             "line": {
              "color": "#E5ECF6",
              "width": 0.5
             },
             "pattern": {
              "fillmode": "overlay",
              "size": 10,
              "solidity": 0.2
             }
            },
            "type": "bar"
           }
          ],
          "barpolar": [
           {
            "marker": {
             "line": {
              "color": "#E5ECF6",
              "width": 0.5
             },
             "pattern": {
              "fillmode": "overlay",
              "size": 10,
              "solidity": 0.2
             }
            },
            "type": "barpolar"
           }
          ],
          "carpet": [
           {
            "aaxis": {
             "endlinecolor": "#2a3f5f",
             "gridcolor": "white",
             "linecolor": "white",
             "minorgridcolor": "white",
             "startlinecolor": "#2a3f5f"
            },
            "baxis": {
             "endlinecolor": "#2a3f5f",
             "gridcolor": "white",
             "linecolor": "white",
             "minorgridcolor": "white",
             "startlinecolor": "#2a3f5f"
            },
            "type": "carpet"
           }
          ],
          "choropleth": [
           {
            "colorbar": {
             "outlinewidth": 0,
             "ticks": ""
            },
            "type": "choropleth"
           }
          ],
          "contour": [
           {
            "colorbar": {
             "outlinewidth": 0,
             "ticks": ""
            },
            "colorscale": [
             [
              0,
              "#0d0887"
             ],
             [
              0.1111111111111111,
              "#46039f"
             ],
             [
              0.2222222222222222,
              "#7201a8"
             ],
             [
              0.3333333333333333,
              "#9c179e"
             ],
             [
              0.4444444444444444,
              "#bd3786"
             ],
             [
              0.5555555555555556,
              "#d8576b"
             ],
             [
              0.6666666666666666,
              "#ed7953"
             ],
             [
              0.7777777777777778,
              "#fb9f3a"
             ],
             [
              0.8888888888888888,
              "#fdca26"
             ],
             [
              1,
              "#f0f921"
             ]
            ],
            "type": "contour"
           }
          ],
          "contourcarpet": [
           {
            "colorbar": {
             "outlinewidth": 0,
             "ticks": ""
            },
            "type": "contourcarpet"
           }
          ],
          "heatmap": [
           {
            "colorbar": {
             "outlinewidth": 0,
             "ticks": ""
            },
            "colorscale": [
             [
              0,
              "#0d0887"
             ],
             [
              0.1111111111111111,
              "#46039f"
             ],
             [
              0.2222222222222222,
              "#7201a8"
             ],
             [
              0.3333333333333333,
              "#9c179e"
             ],
             [
              0.4444444444444444,
              "#bd3786"
             ],
             [
              0.5555555555555556,
              "#d8576b"
             ],
             [
              0.6666666666666666,
              "#ed7953"
             ],
             [
              0.7777777777777778,
              "#fb9f3a"
             ],
             [
              0.8888888888888888,
              "#fdca26"
             ],
             [
              1,
              "#f0f921"
             ]
            ],
            "type": "heatmap"
           }
          ],
          "heatmapgl": [
           {
            "colorbar": {
             "outlinewidth": 0,
             "ticks": ""
            },
            "colorscale": [
             [
              0,
              "#0d0887"
             ],
             [
              0.1111111111111111,
              "#46039f"
             ],
             [
              0.2222222222222222,
              "#7201a8"
             ],
             [
              0.3333333333333333,
              "#9c179e"
             ],
             [
              0.4444444444444444,
              "#bd3786"
             ],
             [
              0.5555555555555556,
              "#d8576b"
             ],
             [
              0.6666666666666666,
              "#ed7953"
             ],
             [
              0.7777777777777778,
              "#fb9f3a"
             ],
             [
              0.8888888888888888,
              "#fdca26"
             ],
             [
              1,
              "#f0f921"
             ]
            ],
            "type": "heatmapgl"
           }
          ],
          "histogram": [
           {
            "marker": {
             "pattern": {
              "fillmode": "overlay",
              "size": 10,
              "solidity": 0.2
             }
            },
            "type": "histogram"
           }
          ],
          "histogram2d": [
           {
            "colorbar": {
             "outlinewidth": 0,
             "ticks": ""
            },
            "colorscale": [
             [
              0,
              "#0d0887"
             ],
             [
              0.1111111111111111,
              "#46039f"
             ],
             [
              0.2222222222222222,
              "#7201a8"
             ],
             [
              0.3333333333333333,
              "#9c179e"
             ],
             [
              0.4444444444444444,
              "#bd3786"
             ],
             [
              0.5555555555555556,
              "#d8576b"
             ],
             [
              0.6666666666666666,
              "#ed7953"
             ],
             [
              0.7777777777777778,
              "#fb9f3a"
             ],
             [
              0.8888888888888888,
              "#fdca26"
             ],
             [
              1,
              "#f0f921"
             ]
            ],
            "type": "histogram2d"
           }
          ],
          "histogram2dcontour": [
           {
            "colorbar": {
             "outlinewidth": 0,
             "ticks": ""
            },
            "colorscale": [
             [
              0,
              "#0d0887"
             ],
             [
              0.1111111111111111,
              "#46039f"
             ],
             [
              0.2222222222222222,
              "#7201a8"
             ],
             [
              0.3333333333333333,
              "#9c179e"
             ],
             [
              0.4444444444444444,
              "#bd3786"
             ],
             [
              0.5555555555555556,
              "#d8576b"
             ],
             [
              0.6666666666666666,
              "#ed7953"
             ],
             [
              0.7777777777777778,
              "#fb9f3a"
             ],
             [
              0.8888888888888888,
              "#fdca26"
             ],
             [
              1,
              "#f0f921"
             ]
            ],
            "type": "histogram2dcontour"
           }
          ],
          "mesh3d": [
           {
            "colorbar": {
             "outlinewidth": 0,
             "ticks": ""
            },
            "type": "mesh3d"
           }
          ],
          "parcoords": [
           {
            "line": {
             "colorbar": {
              "outlinewidth": 0,
              "ticks": ""
             }
            },
            "type": "parcoords"
           }
          ],
          "pie": [
           {
            "automargin": true,
            "type": "pie"
           }
          ],
          "scatter": [
           {
            "fillpattern": {
             "fillmode": "overlay",
             "size": 10,
             "solidity": 0.2
            },
            "type": "scatter"
           }
          ],
          "scatter3d": [
           {
            "line": {
             "colorbar": {
              "outlinewidth": 0,
              "ticks": ""
             }
            },
            "marker": {
             "colorbar": {
              "outlinewidth": 0,
              "ticks": ""
             }
            },
            "type": "scatter3d"
           }
          ],
          "scattercarpet": [
           {
            "marker": {
             "colorbar": {
              "outlinewidth": 0,
              "ticks": ""
             }
            },
            "type": "scattercarpet"
           }
          ],
          "scattergeo": [
           {
            "marker": {
             "colorbar": {
              "outlinewidth": 0,
              "ticks": ""
             }
            },
            "type": "scattergeo"
           }
          ],
          "scattergl": [
           {
            "marker": {
             "colorbar": {
              "outlinewidth": 0,
              "ticks": ""
             }
            },
            "type": "scattergl"
           }
          ],
          "scattermapbox": [
           {
            "marker": {
             "colorbar": {
              "outlinewidth": 0,
              "ticks": ""
             }
            },
            "type": "scattermapbox"
           }
          ],
          "scatterpolar": [
           {
            "marker": {
             "colorbar": {
              "outlinewidth": 0,
              "ticks": ""
             }
            },
            "type": "scatterpolar"
           }
          ],
          "scatterpolargl": [
           {
            "marker": {
             "colorbar": {
              "outlinewidth": 0,
              "ticks": ""
             }
            },
            "type": "scatterpolargl"
           }
          ],
          "scatterternary": [
           {
            "marker": {
             "colorbar": {
              "outlinewidth": 0,
              "ticks": ""
             }
            },
            "type": "scatterternary"
           }
          ],
          "surface": [
           {
            "colorbar": {
             "outlinewidth": 0,
             "ticks": ""
            },
            "colorscale": [
             [
              0,
              "#0d0887"
             ],
             [
              0.1111111111111111,
              "#46039f"
             ],
             [
              0.2222222222222222,
              "#7201a8"
             ],
             [
              0.3333333333333333,
              "#9c179e"
             ],
             [
              0.4444444444444444,
              "#bd3786"
             ],
             [
              0.5555555555555556,
              "#d8576b"
             ],
             [
              0.6666666666666666,
              "#ed7953"
             ],
             [
              0.7777777777777778,
              "#fb9f3a"
             ],
             [
              0.8888888888888888,
              "#fdca26"
             ],
             [
              1,
              "#f0f921"
             ]
            ],
            "type": "surface"
           }
          ],
          "table": [
           {
            "cells": {
             "fill": {
              "color": "#EBF0F8"
             },
             "line": {
              "color": "white"
             }
            },
            "header": {
             "fill": {
              "color": "#C8D4E3"
             },
             "line": {
              "color": "white"
             }
            },
            "type": "table"
           }
          ]
         },
         "layout": {
          "annotationdefaults": {
           "arrowcolor": "#2a3f5f",
           "arrowhead": 0,
           "arrowwidth": 1
          },
          "autotypenumbers": "strict",
          "coloraxis": {
           "colorbar": {
            "outlinewidth": 0,
            "ticks": ""
           }
          },
          "colorscale": {
           "diverging": [
            [
             0,
             "#8e0152"
            ],
            [
             0.1,
             "#c51b7d"
            ],
            [
             0.2,
             "#de77ae"
            ],
            [
             0.3,
             "#f1b6da"
            ],
            [
             0.4,
             "#fde0ef"
            ],
            [
             0.5,
             "#f7f7f7"
            ],
            [
             0.6,
             "#e6f5d0"
            ],
            [
             0.7,
             "#b8e186"
            ],
            [
             0.8,
             "#7fbc41"
            ],
            [
             0.9,
             "#4d9221"
            ],
            [
             1,
             "#276419"
            ]
           ],
           "sequential": [
            [
             0,
             "#0d0887"
            ],
            [
             0.1111111111111111,
             "#46039f"
            ],
            [
             0.2222222222222222,
             "#7201a8"
            ],
            [
             0.3333333333333333,
             "#9c179e"
            ],
            [
             0.4444444444444444,
             "#bd3786"
            ],
            [
             0.5555555555555556,
             "#d8576b"
            ],
            [
             0.6666666666666666,
             "#ed7953"
            ],
            [
             0.7777777777777778,
             "#fb9f3a"
            ],
            [
             0.8888888888888888,
             "#fdca26"
            ],
            [
             1,
             "#f0f921"
            ]
           ],
           "sequentialminus": [
            [
             0,
             "#0d0887"
            ],
            [
             0.1111111111111111,
             "#46039f"
            ],
            [
             0.2222222222222222,
             "#7201a8"
            ],
            [
             0.3333333333333333,
             "#9c179e"
            ],
            [
             0.4444444444444444,
             "#bd3786"
            ],
            [
             0.5555555555555556,
             "#d8576b"
            ],
            [
             0.6666666666666666,
             "#ed7953"
            ],
            [
             0.7777777777777778,
             "#fb9f3a"
            ],
            [
             0.8888888888888888,
             "#fdca26"
            ],
            [
             1,
             "#f0f921"
            ]
           ]
          },
          "colorway": [
           "#636efa",
           "#EF553B",
           "#00cc96",
           "#ab63fa",
           "#FFA15A",
           "#19d3f3",
           "#FF6692",
           "#B6E880",
           "#FF97FF",
           "#FECB52"
          ],
          "font": {
           "color": "#2a3f5f"
          },
          "geo": {
           "bgcolor": "white",
           "lakecolor": "white",
           "landcolor": "#E5ECF6",
           "showlakes": true,
           "showland": true,
           "subunitcolor": "white"
          },
          "hoverlabel": {
           "align": "left"
          },
          "hovermode": "closest",
          "mapbox": {
           "style": "light"
          },
          "paper_bgcolor": "white",
          "plot_bgcolor": "#E5ECF6",
          "polar": {
           "angularaxis": {
            "gridcolor": "white",
            "linecolor": "white",
            "ticks": ""
           },
           "bgcolor": "#E5ECF6",
           "radialaxis": {
            "gridcolor": "white",
            "linecolor": "white",
            "ticks": ""
           }
          },
          "scene": {
           "xaxis": {
            "backgroundcolor": "#E5ECF6",
            "gridcolor": "white",
            "gridwidth": 2,
            "linecolor": "white",
            "showbackground": true,
            "ticks": "",
            "zerolinecolor": "white"
           },
           "yaxis": {
            "backgroundcolor": "#E5ECF6",
            "gridcolor": "white",
            "gridwidth": 2,
            "linecolor": "white",
            "showbackground": true,
            "ticks": "",
            "zerolinecolor": "white"
           },
           "zaxis": {
            "backgroundcolor": "#E5ECF6",
            "gridcolor": "white",
            "gridwidth": 2,
            "linecolor": "white",
            "showbackground": true,
            "ticks": "",
            "zerolinecolor": "white"
           }
          },
          "shapedefaults": {
           "line": {
            "color": "#2a3f5f"
           }
          },
          "ternary": {
           "aaxis": {
            "gridcolor": "white",
            "linecolor": "white",
            "ticks": ""
           },
           "baxis": {
            "gridcolor": "white",
            "linecolor": "white",
            "ticks": ""
           },
           "bgcolor": "#E5ECF6",
           "caxis": {
            "gridcolor": "white",
            "linecolor": "white",
            "ticks": ""
           }
          },
          "title": {
           "x": 0.05
          },
          "xaxis": {
           "automargin": true,
           "gridcolor": "white",
           "linecolor": "white",
           "ticks": "",
           "title": {
            "standoff": 15
           },
           "zerolinecolor": "white",
           "zerolinewidth": 2
          },
          "yaxis": {
           "automargin": true,
           "gridcolor": "white",
           "linecolor": "white",
           "ticks": "",
           "title": {
            "standoff": 15
           },
           "zerolinecolor": "white",
           "zerolinewidth": 2
          }
         }
        },
        "xaxis": {
         "anchor": "y",
         "domain": [
          0,
          1
         ],
         "title": {
          "text": "length"
         }
        },
        "yaxis": {
         "anchor": "x",
         "domain": [
          0,
          1
         ],
         "title": {
          "text": "count"
         }
        }
       }
      },
      "text/html": [
       "<div>                            <div id=\"92ce3abd-11a6-417c-90d2-a4a1d8be88cf\" class=\"plotly-graph-div\" style=\"height:525px; width:100%;\"></div>            <script type=\"text/javascript\">                require([\"plotly\"], function(Plotly) {                    window.PLOTLYENV=window.PLOTLYENV || {};                                    if (document.getElementById(\"92ce3abd-11a6-417c-90d2-a4a1d8be88cf\")) {                    Plotly.newPlot(                        \"92ce3abd-11a6-417c-90d2-a4a1d8be88cf\",                        [{\"alignmentgroup\":\"True\",\"bingroup\":\"x\",\"hovertemplate\":\"label=Real<br>length=%{x}<br>count=%{y}<extra></extra>\",\"legendgroup\":\"Real\",\"marker\":{\"color\":\"#636efa\",\"pattern\":{\"shape\":\"\"}},\"name\":\"Real\",\"offsetgroup\":\"Real\",\"orientation\":\"v\",\"showlegend\":true,\"x\":[545,1779,1392,2139,1221,5843,2581,1361,833,3994,4506,2602,3180,1567,3077,1035,547,2781,2875,1714,685,1039,786,1273,2427,2233,2893,3529,2496,1581,6077,1829,2659,1970,2090,3212,3161,2520,1842,2571,3015,1359,2684,3320,2260,2943,2517,2500,2205,5149,3410,14099,1415,5990,2142,2030,8106,2312,4219,6851,7419,1010,6060,4811,2202,7424,1917,5086,2465,3004,2457,2818,3921,1056,7799,1007,8066,1220,569,659,624,1073,892,948,3791,1847,623,786,1348,1370,1174,944,1203,1144,25005,1257,1394,1785,32827,1097,2871,994,1161,1044,571,1092,6291,16745,5481,6719,2771,6386,1363,1210,5309,2877,9558,2078,2483,10941,8766,6675,8892,7632,7585,10304,6687,5908,19103,5718,1559,1380,2504,4607,2213,1753,1574,1486,1936,1711,2469,918,2650,1323,1760,1336,19380,5348,6461,3717,4075,7697,1921,1250,1397,2092,1501,1525,7076,7101,7995,9038,3019,4298,2091,536,2113,2601,1909,1434,7130,8183,5349,7012,8348,7233,1021,1337,3987,816,3447,2179,5688,4910,8031,8915,1463,1038,2139,2771,5205,3771,1874,5222,7384,4241,6856,5983,4836,6723,5152,1865,1428,1682,5612,4650,2446,7635,2065,2949,1554,6961,2750,6088,2962,4557,5005,2104,3920,2180,2056,4847,1383,1848,3305,3102,3267,4730,2014,7398,2409,2751,8232,3758,3093,3410,1919,2415,2254,1612,1357,3950,2849,2716,4214,7406,4263,1940,5623,2964,1286,1404,1676,2267,2122,2336,3107,1618,2786,529,2024,2608,3596,546,2569,2252,2452,1642,3337,2212,2437,1954,2619,2034,2613,1801,2510,1531,4575,2761,2111,1766,2021,1282,2116,1795,2383,2889,2313,2143,1136,2284,2742,742,2573,970,3282,709,2566,994,2002,1917,1005,1994,2278,2769,515,3471,1731,771,877,831,2523,1990,3358,1096,2215,1948,1736,2084,1893,2779,730,2130,546,751,573,3490,1769,2375,917,2423,694,2626,2138,2135,1814,1523,2512,2916,2487,680,4961,815,2638,2044,584,1978,2174,533,2345,611,3573,669,2238,1017,1256,5343,3007,2957,2090,2558,1617,1778,1991,946,1877,2256,1715,2063,2770,5064,802,8565,502,512,8434,833,842,802,825,1301,670,1046,3692,4029,1110,836,1641,1787,636,1788,1450,2461,4179,1231,1889,763,3939,7884,1066,732,591,7015,1374,5802,5676,4797,6059,4886,6944,7968,2288,7879,7494,16943,6928,10011,7425,9223,17179,6202,9572,6767,704,6696,8732,9204,7054,2626,9366,10532,14507,8087,4742,6398,6870,3048,11342,11325,12794,6753,14131,7072,886,5335,6264,8499,14354,9029,5939,9558,4962,7117,7646,7473,5343,15190,4112,2746,10994,899,885,6086,1570,10821,2654,1459,5360,793,6371,1738,1633,3619,2318,8065,9029,7133,8446,20161,32656,6183,6066,8238,26248,23529,4374,8770,4922,4879,4110,6692,10417,4306,14535,7371,27243,20909,4376,27003,2920,1896,3646,516,882,914,978,571,4981,3516,22669,3652,4423,4833,23408,554,610,4573,4600,2444,773,605,6323,773,813,600,816,6333,606,572,3523,7360,7350,3523,771,771,573,914,861,862,914,8450,8451,736,737,927,5794,6448,5678,4973,6863,7315,5429,1039,6868,11616,583,1195,1206,11588,598,827,7896,3837,7936,3845,837,2452,5448,12259,5462,12251,2464,4737,8212,861,941,862,940,4729,8211,670,696,960,840,665,740,854,683,955,765,1243,863,724,901,841,925,750,760,577,1008,831,3275],\"xaxis\":\"x\",\"yaxis\":\"y\",\"type\":\"histogram\"},{\"alignmentgroup\":\"True\",\"bingroup\":\"x\",\"hovertemplate\":\"label=Fake<br>length=%{x}<br>count=%{y}<extra></extra>\",\"legendgroup\":\"Fake\",\"marker\":{\"color\":\"#EF553B\",\"pattern\":{\"shape\":\"\"}},\"name\":\"Fake\",\"offsetgroup\":\"Fake\",\"orientation\":\"v\",\"showlegend\":true,\"x\":[3548,6961,7157,29585,20171,3366,2973,845,1430,2628,580,942,1059,1201,11654,3074,1825,1167,10948,2360,3527,16513,7037,4438,5238,28498,926,647,698,698,647,698,25974,2281,702,1385,2281,2281,2281,1611,27316,1261,860,1866,23194,1893,1584,757,8062,1062,3129,716,646,757,757,6711,905,2528,2611,1486,1371,2443,4762,661,3685,6729,800,2669,866,2772,878,1894,2543,7167,1368,2065,3009,2815,1616,1504,1796,5174,519,1621,2720,1845,1081,1091,883,609,2711,2052,572,1292,860,6798,1869,2452,5277,2629,1993,1348,1354,1328,1288,1056,1857,1300,1820,941,1561,3976,2042,3482,2008,6962,9975,1403,14483,13977,4099,3697,3254,3972,3400,957,1854,1277,1148,1853,1422,883,964,1814,1842,1334,8408,1803,8907,2533,1968,14564,2601,2842,2925,2080,5080,1965,2197,15309,25304,2422,1504,8763,6217,3032,2217,711,8511,5829,4240,4529,5541,9252,555,26020,2051,2708,7687,3697,8655,6178,2515,2355,4263,6972,7688,6499,1871,705,1717,6907,1655,9148,14573,2795,2388,10084,7401,1751,1540,1931,558,703,8430,657,1159,2671,2406,2819,9023,4347,1321,1069,1888,2628,2450,2060,2084,2926,12243,787,1856,2330,2690,2504,1909,780,2245,1667,1861,4880,1886,1389,3265,1519,1672,1372,2757,2294,3263,24343,4625,10244,782,1655,898,1645,1486,5255,8764,5523,776,4541,2170,1727,578,2415,936,1084,2569,2186,3030,3352,8787,7032,5032,5238,981,1865,4938,784,2543,745,794,2982,2313,3419,912,3782,4200,2643,4176,1470,8472,1994,2711,10280,3867,4619,3760,2194,692,2164,1429,1188,1501,1191,1320,3043,908,1714,1810,1645,1535,1002,2548,1542,1501,2878,1984,2373,3013,2965,3136,4095,1763,3207,2753,1762,884,907,1546,872,5187,4484,1809,4886,3150,2417,2995,3120,4139,1763,3207,2754,1762,884,1526,932,5187,4484,1809,4886,2254,3200,3740,1839,1829,2253,3719,2953,2430,970,2004,2056,1897,1227,2433,2334,4133,891,2234,969,1981,2056,1220,1635,4113,935,2234,1614,1904,3347,3290,2349,586,2997,969,3089,3099,555,3000,969,5003,5013,537,1162,791,1152,16615,882,4684,2642,2049,1481,3365,1638,14656,2770,639,2116,1199,1554,952,2413,1882,1680,1838,2185,804,2246,2713,2554,1640,2285,777,805,1948,2005,2781,2439,2108,1692,2635,1379,8140,1743,1221,1978,2990,2252,1122,2427,891,2158,2578,858,925,1926,2282,1863,2702,1991,2320,2497,1011,2210,1737,1782,536,2817,2157,2066,2716,1715,2254,2584,1416,1963,830,3801,1921,2015,970,2066,1946,2287,3040,731,4084,3354,2432,793,2107,2609,749,2337,1040,1582,3160,832,3429,3632,3491,1154,1982,2587,3367,1636,797,1489,773,5548,512,1037,571,592,6833,1050,2050,523,758,1182,744,537,577,581,643,690,1273,8840,3479,7228,12963,4147,11644,7747,25489,8939,6520,4761,1239,773,3813,603,532,1899,2032,3095,4004,2245,8355,2164,757,6027,8250,2957,2340,5791,2473,2918,3383,1413,4151,2335,5655,4317,3152,6600,3671,9225,1172,7853,8856,976,7816,7874,1163,6904,9254,7398,4762,7156,6740,8666,4595,1618,1660,1976,1018,1497,1367,1543,1688,1347,2051,1571,1421,826,1552,1743,554,8258,2247,2315,1866,1221,1873,814,1292,4011,2867,1343,2918,2870,1022,1577,1635,3460,1228,5511,20784,7649,6233,6627,961,4537,3053,4602,1837,1991,9268,1881,2679,8326,543,1858,1446,7009,1478,1459,8240,881,614,1255,2668,6597,10896,1148,1109,3674,2396,1538,1418,884,4273,1290,1837,1592,9173,731,7255,3928,1634,1070,655,2164,2255,4145,770,3143,1337,2203,1933,2323,4046,1183,835,8909,4179,4457,4062,4065,4090,1005,556,2595,1184,1088,1343,2830,2010,686,2306,628,2443,839,941,681,1050,5519,1337,612,2427,1074,881,1876,2611,6028,1770,1654,1734,3167,1779,1585,4260,2058,1093,667,4047,4150,657,4226,4098,4057,4066,675,4012,2511,512,3744,4041,4073,4083,727,10579,14865,1644,4209,3291,1497,4230,4290,3045,3702,4147,4451,4605,5536,4393,3841,3936,4284,4301,4126,3876,3967,4851,3011,2621,3284,5926,5394,4785,2873,5665,3587,3619,4301,3994,3842,4259,5499,3998,3856,1606,4634,3981,2994,2382,7149,4475,4320,9197,2977,3150,9225,3547,3934,3553,3720,31686,3953,4080,3934,4039,3920,4242,3853,3924,7596,10560,4367,7322,4000,3179,3123,2301,4027,4341,2796,5203,2314,4844,4901,4225,4109,4097,3675,3681,5120,3831,3854,4151,3492,4861,1620,3391,2443,7453,4148,3830,2215,6443,4956,8256,3326,4457,10102,3968,4262,3965,4290,3641,3519,2889,2828,2768,2944,1706,1738,1342,2476,2666,1199,1643,2376,1475,3376,6298,2205,2035,3170,2420,1903,2331,1851,1882,2609,1181,2985,1824,1085,1957,1760,3248,1943,2063,2107,1703,1724,2018,2031,3752,1718,3981,1929,1382,1709,3420,1987,1903,1421,4202,5450,3915,737,2538,2100,3406,8080,8680,1255,2940,2173,5467,1163,875,4157,2157,702,552,2996,818,1052,3845,1231,1382,3597,821,645,794,589,2120,1839,1906,744,2082,9962,583,3668,2831,592,10222,544,6913,11820,2697,3069,10695,7988,9213,8100,7033,6364,4510,19833,6461,10347,4811,7487,805,4949,5949,7009,6525,8997,7330,6096,5415,11522,8521,11892,7727,5135,6392,7730,11262,9206,9620,1540,11446,1671,6445,4221,2033,7197,6693,1217,27605,2156,4665,967,5973,4030,2959,3782,3541,4234,2067,9584,6131,678,2210,5598,2453,2672,2776,2801,3727,1148,2967,2546,1300,7482,2909,748,2923,5422,4929,6846,7223,5365,1041,1326,6872,5837,6458,5695,5480],\"xaxis\":\"x\",\"yaxis\":\"y\",\"type\":\"histogram\"}],                        {\"template\":{\"data\":{\"histogram2dcontour\":[{\"type\":\"histogram2dcontour\",\"colorbar\":{\"outlinewidth\":0,\"ticks\":\"\"},\"colorscale\":[[0.0,\"#0d0887\"],[0.1111111111111111,\"#46039f\"],[0.2222222222222222,\"#7201a8\"],[0.3333333333333333,\"#9c179e\"],[0.4444444444444444,\"#bd3786\"],[0.5555555555555556,\"#d8576b\"],[0.6666666666666666,\"#ed7953\"],[0.7777777777777778,\"#fb9f3a\"],[0.8888888888888888,\"#fdca26\"],[1.0,\"#f0f921\"]]}],\"choropleth\":[{\"type\":\"choropleth\",\"colorbar\":{\"outlinewidth\":0,\"ticks\":\"\"}}],\"histogram2d\":[{\"type\":\"histogram2d\",\"colorbar\":{\"outlinewidth\":0,\"ticks\":\"\"},\"colorscale\":[[0.0,\"#0d0887\"],[0.1111111111111111,\"#46039f\"],[0.2222222222222222,\"#7201a8\"],[0.3333333333333333,\"#9c179e\"],[0.4444444444444444,\"#bd3786\"],[0.5555555555555556,\"#d8576b\"],[0.6666666666666666,\"#ed7953\"],[0.7777777777777778,\"#fb9f3a\"],[0.8888888888888888,\"#fdca26\"],[1.0,\"#f0f921\"]]}],\"heatmap\":[{\"type\":\"heatmap\",\"colorbar\":{\"outlinewidth\":0,\"ticks\":\"\"},\"colorscale\":[[0.0,\"#0d0887\"],[0.1111111111111111,\"#46039f\"],[0.2222222222222222,\"#7201a8\"],[0.3333333333333333,\"#9c179e\"],[0.4444444444444444,\"#bd3786\"],[0.5555555555555556,\"#d8576b\"],[0.6666666666666666,\"#ed7953\"],[0.7777777777777778,\"#fb9f3a\"],[0.8888888888888888,\"#fdca26\"],[1.0,\"#f0f921\"]]}],\"heatmapgl\":[{\"type\":\"heatmapgl\",\"colorbar\":{\"outlinewidth\":0,\"ticks\":\"\"},\"colorscale\":[[0.0,\"#0d0887\"],[0.1111111111111111,\"#46039f\"],[0.2222222222222222,\"#7201a8\"],[0.3333333333333333,\"#9c179e\"],[0.4444444444444444,\"#bd3786\"],[0.5555555555555556,\"#d8576b\"],[0.6666666666666666,\"#ed7953\"],[0.7777777777777778,\"#fb9f3a\"],[0.8888888888888888,\"#fdca26\"],[1.0,\"#f0f921\"]]}],\"contourcarpet\":[{\"type\":\"contourcarpet\",\"colorbar\":{\"outlinewidth\":0,\"ticks\":\"\"}}],\"contour\":[{\"type\":\"contour\",\"colorbar\":{\"outlinewidth\":0,\"ticks\":\"\"},\"colorscale\":[[0.0,\"#0d0887\"],[0.1111111111111111,\"#46039f\"],[0.2222222222222222,\"#7201a8\"],[0.3333333333333333,\"#9c179e\"],[0.4444444444444444,\"#bd3786\"],[0.5555555555555556,\"#d8576b\"],[0.6666666666666666,\"#ed7953\"],[0.7777777777777778,\"#fb9f3a\"],[0.8888888888888888,\"#fdca26\"],[1.0,\"#f0f921\"]]}],\"surface\":[{\"type\":\"surface\",\"colorbar\":{\"outlinewidth\":0,\"ticks\":\"\"},\"colorscale\":[[0.0,\"#0d0887\"],[0.1111111111111111,\"#46039f\"],[0.2222222222222222,\"#7201a8\"],[0.3333333333333333,\"#9c179e\"],[0.4444444444444444,\"#bd3786\"],[0.5555555555555556,\"#d8576b\"],[0.6666666666666666,\"#ed7953\"],[0.7777777777777778,\"#fb9f3a\"],[0.8888888888888888,\"#fdca26\"],[1.0,\"#f0f921\"]]}],\"mesh3d\":[{\"type\":\"mesh3d\",\"colorbar\":{\"outlinewidth\":0,\"ticks\":\"\"}}],\"scatter\":[{\"fillpattern\":{\"fillmode\":\"overlay\",\"size\":10,\"solidity\":0.2},\"type\":\"scatter\"}],\"parcoords\":[{\"type\":\"parcoords\",\"line\":{\"colorbar\":{\"outlinewidth\":0,\"ticks\":\"\"}}}],\"scatterpolargl\":[{\"type\":\"scatterpolargl\",\"marker\":{\"colorbar\":{\"outlinewidth\":0,\"ticks\":\"\"}}}],\"bar\":[{\"error_x\":{\"color\":\"#2a3f5f\"},\"error_y\":{\"color\":\"#2a3f5f\"},\"marker\":{\"line\":{\"color\":\"#E5ECF6\",\"width\":0.5},\"pattern\":{\"fillmode\":\"overlay\",\"size\":10,\"solidity\":0.2}},\"type\":\"bar\"}],\"scattergeo\":[{\"type\":\"scattergeo\",\"marker\":{\"colorbar\":{\"outlinewidth\":0,\"ticks\":\"\"}}}],\"scatterpolar\":[{\"type\":\"scatterpolar\",\"marker\":{\"colorbar\":{\"outlinewidth\":0,\"ticks\":\"\"}}}],\"histogram\":[{\"marker\":{\"pattern\":{\"fillmode\":\"overlay\",\"size\":10,\"solidity\":0.2}},\"type\":\"histogram\"}],\"scattergl\":[{\"type\":\"scattergl\",\"marker\":{\"colorbar\":{\"outlinewidth\":0,\"ticks\":\"\"}}}],\"scatter3d\":[{\"type\":\"scatter3d\",\"line\":{\"colorbar\":{\"outlinewidth\":0,\"ticks\":\"\"}},\"marker\":{\"colorbar\":{\"outlinewidth\":0,\"ticks\":\"\"}}}],\"scattermapbox\":[{\"type\":\"scattermapbox\",\"marker\":{\"colorbar\":{\"outlinewidth\":0,\"ticks\":\"\"}}}],\"scatterternary\":[{\"type\":\"scatterternary\",\"marker\":{\"colorbar\":{\"outlinewidth\":0,\"ticks\":\"\"}}}],\"scattercarpet\":[{\"type\":\"scattercarpet\",\"marker\":{\"colorbar\":{\"outlinewidth\":0,\"ticks\":\"\"}}}],\"carpet\":[{\"aaxis\":{\"endlinecolor\":\"#2a3f5f\",\"gridcolor\":\"white\",\"linecolor\":\"white\",\"minorgridcolor\":\"white\",\"startlinecolor\":\"#2a3f5f\"},\"baxis\":{\"endlinecolor\":\"#2a3f5f\",\"gridcolor\":\"white\",\"linecolor\":\"white\",\"minorgridcolor\":\"white\",\"startlinecolor\":\"#2a3f5f\"},\"type\":\"carpet\"}],\"table\":[{\"cells\":{\"fill\":{\"color\":\"#EBF0F8\"},\"line\":{\"color\":\"white\"}},\"header\":{\"fill\":{\"color\":\"#C8D4E3\"},\"line\":{\"color\":\"white\"}},\"type\":\"table\"}],\"barpolar\":[{\"marker\":{\"line\":{\"color\":\"#E5ECF6\",\"width\":0.5},\"pattern\":{\"fillmode\":\"overlay\",\"size\":10,\"solidity\":0.2}},\"type\":\"barpolar\"}],\"pie\":[{\"automargin\":true,\"type\":\"pie\"}]},\"layout\":{\"autotypenumbers\":\"strict\",\"colorway\":[\"#636efa\",\"#EF553B\",\"#00cc96\",\"#ab63fa\",\"#FFA15A\",\"#19d3f3\",\"#FF6692\",\"#B6E880\",\"#FF97FF\",\"#FECB52\"],\"font\":{\"color\":\"#2a3f5f\"},\"hovermode\":\"closest\",\"hoverlabel\":{\"align\":\"left\"},\"paper_bgcolor\":\"white\",\"plot_bgcolor\":\"#E5ECF6\",\"polar\":{\"bgcolor\":\"#E5ECF6\",\"angularaxis\":{\"gridcolor\":\"white\",\"linecolor\":\"white\",\"ticks\":\"\"},\"radialaxis\":{\"gridcolor\":\"white\",\"linecolor\":\"white\",\"ticks\":\"\"}},\"ternary\":{\"bgcolor\":\"#E5ECF6\",\"aaxis\":{\"gridcolor\":\"white\",\"linecolor\":\"white\",\"ticks\":\"\"},\"baxis\":{\"gridcolor\":\"white\",\"linecolor\":\"white\",\"ticks\":\"\"},\"caxis\":{\"gridcolor\":\"white\",\"linecolor\":\"white\",\"ticks\":\"\"}},\"coloraxis\":{\"colorbar\":{\"outlinewidth\":0,\"ticks\":\"\"}},\"colorscale\":{\"sequential\":[[0.0,\"#0d0887\"],[0.1111111111111111,\"#46039f\"],[0.2222222222222222,\"#7201a8\"],[0.3333333333333333,\"#9c179e\"],[0.4444444444444444,\"#bd3786\"],[0.5555555555555556,\"#d8576b\"],[0.6666666666666666,\"#ed7953\"],[0.7777777777777778,\"#fb9f3a\"],[0.8888888888888888,\"#fdca26\"],[1.0,\"#f0f921\"]],\"sequentialminus\":[[0.0,\"#0d0887\"],[0.1111111111111111,\"#46039f\"],[0.2222222222222222,\"#7201a8\"],[0.3333333333333333,\"#9c179e\"],[0.4444444444444444,\"#bd3786\"],[0.5555555555555556,\"#d8576b\"],[0.6666666666666666,\"#ed7953\"],[0.7777777777777778,\"#fb9f3a\"],[0.8888888888888888,\"#fdca26\"],[1.0,\"#f0f921\"]],\"diverging\":[[0,\"#8e0152\"],[0.1,\"#c51b7d\"],[0.2,\"#de77ae\"],[0.3,\"#f1b6da\"],[0.4,\"#fde0ef\"],[0.5,\"#f7f7f7\"],[0.6,\"#e6f5d0\"],[0.7,\"#b8e186\"],[0.8,\"#7fbc41\"],[0.9,\"#4d9221\"],[1,\"#276419\"]]},\"xaxis\":{\"gridcolor\":\"white\",\"linecolor\":\"white\",\"ticks\":\"\",\"title\":{\"standoff\":15},\"zerolinecolor\":\"white\",\"automargin\":true,\"zerolinewidth\":2},\"yaxis\":{\"gridcolor\":\"white\",\"linecolor\":\"white\",\"ticks\":\"\",\"title\":{\"standoff\":15},\"zerolinecolor\":\"white\",\"automargin\":true,\"zerolinewidth\":2},\"scene\":{\"xaxis\":{\"backgroundcolor\":\"#E5ECF6\",\"gridcolor\":\"white\",\"linecolor\":\"white\",\"showbackground\":true,\"ticks\":\"\",\"zerolinecolor\":\"white\",\"gridwidth\":2},\"yaxis\":{\"backgroundcolor\":\"#E5ECF6\",\"gridcolor\":\"white\",\"linecolor\":\"white\",\"showbackground\":true,\"ticks\":\"\",\"zerolinecolor\":\"white\",\"gridwidth\":2},\"zaxis\":{\"backgroundcolor\":\"#E5ECF6\",\"gridcolor\":\"white\",\"linecolor\":\"white\",\"showbackground\":true,\"ticks\":\"\",\"zerolinecolor\":\"white\",\"gridwidth\":2}},\"shapedefaults\":{\"line\":{\"color\":\"#2a3f5f\"}},\"annotationdefaults\":{\"arrowcolor\":\"#2a3f5f\",\"arrowhead\":0,\"arrowwidth\":1},\"geo\":{\"bgcolor\":\"white\",\"landcolor\":\"#E5ECF6\",\"subunitcolor\":\"white\",\"showland\":true,\"showlakes\":true,\"lakecolor\":\"white\"},\"title\":{\"x\":0.05},\"mapbox\":{\"style\":\"light\"}}},\"xaxis\":{\"anchor\":\"y\",\"domain\":[0.0,1.0],\"title\":{\"text\":\"length\"}},\"yaxis\":{\"anchor\":\"x\",\"domain\":[0.0,1.0],\"title\":{\"text\":\"count\"}},\"legend\":{\"title\":{\"text\":\"label\"},\"tracegroupgap\":0},\"margin\":{\"t\":60},\"barmode\":\"relative\"},                        {\"responsive\": true}                    ).then(function(){\n",
       "                            \n",
       "var gd = document.getElementById('92ce3abd-11a6-417c-90d2-a4a1d8be88cf');\n",
       "var x = new MutationObserver(function (mutations, observer) {{\n",
       "        var display = window.getComputedStyle(gd).display;\n",
       "        if (!display || display === 'none') {{\n",
       "            console.log([gd, 'removed!']);\n",
       "            Plotly.purge(gd);\n",
       "            observer.disconnect();\n",
       "        }}\n",
       "}});\n",
       "\n",
       "// Listen for the removal of the full notebook cells\n",
       "var notebookContainer = gd.closest('#notebook-container');\n",
       "if (notebookContainer) {{\n",
       "    x.observe(notebookContainer, {childList: true});\n",
       "}}\n",
       "\n",
       "// Listen for the clearing of the current output cell\n",
       "var outputEl = gd.closest('.output');\n",
       "if (outputEl) {{\n",
       "    x.observe(outputEl, {childList: true});\n",
       "}}\n",
       "\n",
       "                        })                };                });            </script>        </div>"
      ]
     },
     "metadata": {},
     "output_type": "display_data"
    }
   ],
   "source": [
    "fig = px.histogram(news, x=\"length\", color=\"label\")\n",
    "fig.show()"
   ]
  },
  {
   "cell_type": "code",
   "execution_count": 355,
   "id": "370a4280",
   "metadata": {},
   "outputs": [
    {
     "data": {
      "text/plain": [
       "0    muslims busted they stole millions in govt ben...\n",
       "1    re why did attorney general loretta lynch plea...\n",
       "2    breaking weiner cooperating with fbi on hillar...\n",
       "4    fantastic trumps  point plan to reform healthc...\n",
       "5    hillary goes absolutely berserk on protester a...\n",
       "Name: title_processed, dtype: object"
      ]
     },
     "execution_count": 355,
     "metadata": {},
     "output_type": "execute_result"
    }
   ],
   "source": [
    "# Load the regular expression library\n",
    "import re\n",
    "# Remove punctuation\n",
    "news['title_processed'] = \\\n",
    "news['title'].map(lambda x: re.sub('[,\\.!?]', '', x))\n",
    "# Convert text to lowercase\n",
    "news['title_processed'] = \\\n",
    "news['title_processed'].map(lambda x: x.lower())\n",
    "# Print out the first rows of news\n",
    "news['title_processed'].head()"
   ]
  },
  {
   "cell_type": "code",
   "execution_count": 356,
   "id": "28c202ab",
   "metadata": {},
   "outputs": [
    {
     "data": {
      "image/png": "[encoded data removed]",
      "text/plain": [
       "<PIL.Image.Image image mode=RGB size=400x200>"
      ]
     },
     "execution_count": 356,
     "metadata": {},
     "output_type": "execute_result"
    }
   ],
   "source": [
    "# Import the wordcloud library\n",
    "from wordcloud import WordCloud\n",
    "# Join the different processed titles together.\n",
    "long_string = ','.join(list(news['title_processed'].values))\n",
    "# Create a WordCloud object\n",
    "wordcloud = WordCloud(background_color=\"white\", max_words=5000, contour_width=3, contour_color='steelblue')\n",
    "# Generate a word cloud\n",
    "wordcloud.generate(long_string)\n",
    "# Visualize the word cloud\n",
    "wordcloud.to_image()"
   ]
  },
  {
   "cell_type": "code",
   "execution_count": 357,
   "id": "a22dbd1e",
   "metadata": {},
   "outputs": [
    {
     "name": "stdout",
     "output_type": "stream",
     "text": [
      "['muslims', 'busted', 'stole', 'millions', 'govt', 'benefits']\n"
     ]
    },
    {
     "name": "stderr",
     "output_type": "stream",
     "text": [
      "[nltk_data] Downloading package stopwords to\n",
      "[nltk_data]     C:\\Users\\nicol\\AppData\\Roaming\\nltk_data...\n",
      "[nltk_data]   Package stopwords is already up-to-date!\n"
     ]
    }
   ],
   "source": [
    "#Prepare for LDA analysis\n",
    "import gensim\n",
    "from gensim.utils import simple_preprocess\n",
    "import nltk\n",
    "nltk.download('stopwords')\n",
    "from nltk.corpus import stopwords\n",
    "\n",
    "stop_words = stopwords.words('english')\n",
    "stop_words.extend(['from', 'subject', 're', 'edu', 'use'])\n",
    "def sent_to_words(sentences):\n",
    "    for sentence in sentences:\n",
    "        # deacc=True removes punctuations\n",
    "        yield(gensim.utils.simple_preprocess(str(sentence), deacc=True))\n",
    "def remove_stopwords(texts):\n",
    "    return [[word for word in simple_preprocess(str(doc)) \n",
    "             if word not in stop_words] for doc in texts]\n",
    "data = news.title_processed.values.tolist()\n",
    "data_words = list(sent_to_words(data))\n",
    "# remove stop words\n",
    "data_words = remove_stopwords(data_words)\n",
    "print(data_words[:1][0][:30])"
   ]
  },
  {
   "cell_type": "code",
   "execution_count": 358,
   "id": "31f6d46b",
   "metadata": {},
   "outputs": [
    {
     "name": "stdout",
     "output_type": "stream",
     "text": [
      "[(0, 1), (1, 1), (2, 1), (3, 1), (4, 1), (5, 1)]\n"
     ]
    }
   ],
   "source": [
    "import gensim.corpora as corpora\n",
    "# Create Dictionary\n",
    "id2word = corpora.Dictionary(data_words)\n",
    "# Create Corpus\n",
    "texts = data_words\n",
    "# Term Document Frequency\n",
    "corpus = [id2word.doc2bow(text) for text in texts]\n",
    "# View\n",
    "print(corpus[:1][0][:30])"
   ]
  },
  {
   "cell_type": "code",
   "execution_count": 359,
   "id": "565cb376",
   "metadata": {},
   "outputs": [],
   "source": [
    "#LDA\n",
    "from pprint import pprint\n",
    "# number of topics\n",
    "num_topics = 4\n",
    "# Build LDA model\n",
    "lda_model = gensim.models.LdaMulticore(corpus=corpus,\n",
    "                                       id2word=id2word,\n",
    "                                       num_topics=num_topics)"
   ]
  },
  {
   "cell_type": "code",
   "execution_count": 360,
   "id": "e73cb4f5",
   "metadata": {},
   "outputs": [
    {
     "name": "stdout",
     "output_type": "stream",
     "text": [
      "[(0,\n",
      "  '0.021*\"trump\" + 0.017*\"clinton\" + 0.006*\"donald\" + 0.004*\"video\" + '\n",
      "  '0.004*\"hillary\" + 0.004*\"life\" + 0.004*\"us\" + 0.004*\"duke\" + 0.004*\"obama\" '\n",
      "  '+ 0.004*\"campaign\"'),\n",
      " (1,\n",
      "  '0.019*\"title\" + 0.011*\"clinton\" + 0.010*\"hillary\" + 0.006*\"election\" + '\n",
      "  '0.005*\"fbi\" + 0.005*\"trump\" + 0.004*\"new\" + 0.004*\"us\" + 0.004*\"email\" + '\n",
      "  '0.004*\"comey\"'),\n",
      " (2,\n",
      "  '0.014*\"trump\" + 0.008*\"election\" + 0.007*\"us\" + 0.007*\"le\" + 0.006*\"gorafi\" '\n",
      "  '+ 0.006*\"donald\" + 0.004*\"hillarys\" + 0.004*\"new\" + 0.003*\"isis\" + '\n",
      "  '0.003*\"news\"'),\n",
      " (3,\n",
      "  '0.027*\"hillary\" + 0.015*\"trump\" + 0.009*\"title\" + 0.008*\"clinton\" + '\n",
      "  '0.006*\"fbi\" + 0.005*\"obama\" + 0.005*\"le\" + 0.005*\"video\" + 0.004*\"gorafi\" + '\n",
      "  '0.004*\"clintons\"')]\n"
     ]
    }
   ],
   "source": [
    "# Print the Keyword in the 10 topics\n",
    "pprint(lda_model.print_topics())\n",
    "doc_lda = lda_model[corpus]"
   ]
  },
  {
   "cell_type": "code",
   "execution_count": 361,
   "id": "cd829c8f",
   "metadata": {},
   "outputs": [
    {
     "data": {
      "image/png": "[encoded data removed]",
      "text/plain": [
       "<Figure size 1000x1000 with 4 Axes>"
      ]
     },
     "metadata": {},
     "output_type": "display_data"
    }
   ],
   "source": [
    "# Visualize the topics\n",
    "# 1. Wordcloud of Top N words in each topic\n",
    "from matplotlib import pyplot as plt\n",
    "from wordcloud import STOPWORDS\n",
    "import matplotlib.colors as mcolors\n",
    "\n",
    "cols = [color for name, color in mcolors.TABLEAU_COLORS.items()]  # more colors: 'mcolors.XKCD_COLORS'\n",
    "\n",
    "cloud = WordCloud(stopwords=stop_words,\n",
    "                  background_color='white',\n",
    "                  width=2500,\n",
    "                  height=1800,\n",
    "                  max_words=10,\n",
    "                  colormap='tab10',\n",
    "                  color_func=lambda *args, **kwargs: cols[i],\n",
    "                  prefer_horizontal=1.0)\n",
    "\n",
    "topics = lda_model.show_topics(formatted=False)\n",
    "\n",
    "fig, axes = plt.subplots(2, 2, figsize=(10,10), sharex=True, sharey=True)\n",
    "\n",
    "for i, ax in enumerate(axes.flatten()):\n",
    "    fig.add_subplot(ax)\n",
    "    topic_words = dict(topics[i][1])\n",
    "    cloud.generate_from_frequencies(topic_words, max_font_size=300)\n",
    "    plt.gca().imshow(cloud)\n",
    "    plt.gca().set_title('Topic ' + str(i), fontdict=dict(size=16))\n",
    "    plt.gca().axis('off')\n",
    "\n",
    "\n",
    "plt.subplots_adjust(wspace=0, hspace=0)\n",
    "plt.axis('off')\n",
    "plt.margins(x=0, y=0)\n",
    "plt.tight_layout()\n",
    "plt.show()"
   ]
  },
  {
   "cell_type": "code",
   "execution_count": 362,
   "id": "15819d44",
   "metadata": {},
   "outputs": [],
   "source": [
    "og_news = og_news.sample(10)"
   ]
  },
  {
   "cell_type": "code",
   "execution_count": 363,
   "id": "ccf0f647",
   "metadata": {},
   "outputs": [],
   "source": [
    "text_list = list(og_news['text'])\n",
    "\n",
    "with open(\"sample_articles.txt\", 'w') as f:\n",
    "    for line in text_list:\n",
    "        f.write(f\"NEXT ARTICLE:\\n\\n{line}\\n\\n\\n\")"
   ]
  },
  {
   "cell_type": "code",
   "execution_count": null,
   "id": "ec9e65ff",
   "metadata": {},
   "outputs": [],
   "source": []
  }
 ],
 "metadata": {
  "kernelspec": {
   "display_name": "Python 3 (ipykernel)",
   "language": "python",
   "name": "python3"
  },
  "language_info": {
   "codemirror_mode": {
    "name": "ipython",
    "version": 3
   },
   "file_extension": ".py",
   "mimetype": "text/x-python",
   "name": "python",
   "nbconvert_exporter": "python",
   "pygments_lexer": "ipython3",
   "version": "3.9.13"
  }
 },
 "nbformat": 4,
 "nbformat_minor": 5
}
